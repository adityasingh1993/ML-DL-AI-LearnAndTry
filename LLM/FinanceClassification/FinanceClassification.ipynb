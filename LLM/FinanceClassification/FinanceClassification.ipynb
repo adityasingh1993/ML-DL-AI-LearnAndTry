{
 "cells": [
  {
   "cell_type": "markdown",
   "metadata": {
    "colab_type": "text",
    "id": "view-in-github"
   },
   "source": [
    "<a href=\"https://colab.research.google.com/github/adityasingh1993/ML-DL-AI-LearnAndTry/blob/main/LLM/FinanceClassification.ipynb\" target=\"_parent\"><img src=\"https://colab.research.google.com/assets/colab-badge.svg\" alt=\"Open In Colab\"/></a>"
   ]
  },
  {
   "cell_type": "code",
   "execution_count": null,
   "metadata": {
    "colab": {
     "base_uri": "https://localhost:8080/"
    },
    "id": "IiVwQne2NxEb",
    "outputId": "bf2d67b7-ec00-4805-ac25-7bdf65c704c9"
   },
   "outputs": [],
   "source": [
    "!ls"
   ]
  },
  {
   "cell_type": "code",
   "execution_count": null,
   "metadata": {
    "colab": {
     "base_uri": "https://localhost:8080/"
    },
    "id": "8u_BgS7VNkDv",
    "outputId": "2a44a177-f501-48d0-ff6d-8251488b387e"
   },
   "outputs": [],
   "source": [
    "!unzip Financial-QA-10k.csv.zip"
   ]
  },
  {
   "cell_type": "code",
   "execution_count": 1,
   "metadata": {
    "id": "P0B9Ial5N0kQ"
   },
   "outputs": [],
   "source": [
    "import pandas as pd\n",
    "import numpy as np\n",
    "import string\n",
    "import matplotlib.pyplot as plt\n",
    "import seaborn as sns\n",
    "import nltk\n",
    "from nltk.corpus import stopwords\n",
    "from nltk.stem import PorterStemmer\n",
    "from nltk.stem import WordNetLemmatizer\n",
    "from sklearn.model_selection import train_test_split\n",
    "from sklearn.preprocessing import OneHotEncoder, LabelEncoder\n",
    "from sklearn.metrics import confusion_matrix, accuracy_score, f1_score, precision_score, recall_score\n",
    "from sklearn.preprocessing import StandardScaler\n",
    "import spacy\n",
    "from spacy.lang.en import stop_words\n",
    "\n",
    "\n",
    "# nltk.download('all')"
   ]
  },
  {
   "cell_type": "code",
   "execution_count": 2,
   "metadata": {
    "id": "aOrY_b-qx9j1"
   },
   "outputs": [],
   "source": [
    "all_stop_word=stop_words.STOP_WORDS"
   ]
  },
  {
   "cell_type": "code",
   "execution_count": 3,
   "metadata": {
    "colab": {
     "base_uri": "https://localhost:8080/"
    },
    "id": "kd7n76z8NhOX",
    "outputId": "32e3541d-4e9e-4467-a200-11b0c409a9ac"
   },
   "outputs": [
    {
     "data": {
      "text/plain": [
       "False"
      ]
     },
     "execution_count": 3,
     "metadata": {},
     "output_type": "execute_result"
    }
   ],
   "source": [
    "\"be\" not in all_stop_word"
   ]
  },
  {
   "cell_type": "code",
   "execution_count": 4,
   "metadata": {
    "id": "1nZ0xcBEwFG1"
   },
   "outputs": [],
   "source": [
    "\n",
    "nlp = spacy.load(\"en_core_web_sm\")\n"
   ]
  },
  {
   "cell_type": "code",
   "execution_count": 5,
   "metadata": {
    "id": "t9BQ3MZ-wNzd"
   },
   "outputs": [],
   "source": [
    "txt=nlp(\"hi this is Aditya\")"
   ]
  },
  {
   "cell_type": "code",
   "execution_count": 6,
   "metadata": {
    "colab": {
     "base_uri": "https://localhost:8080/"
    },
    "id": "iJwSEGzhwHSV",
    "outputId": "26f3fc5e-d593-4125-ca34-fafc2193041f"
   },
   "outputs": [
    {
     "name": "stdout",
     "output_type": "stream",
     "text": [
      "hi hi\n",
      "Aditya Aditya\n"
     ]
    }
   ],
   "source": [
    "for ent in txt:\n",
    "  if ent.text not in list(all_stop_word):\n",
    "    print(ent, ent.lemma_)\n"
   ]
  },
  {
   "cell_type": "markdown",
   "metadata": {
    "id": "wLzTfOMkOOrH"
   },
   "source": [
    "### Load dataframe"
   ]
  },
  {
   "cell_type": "code",
   "execution_count": 83,
   "metadata": {
    "id": "PzrqMo_eOBze"
   },
   "outputs": [],
   "source": [
    "df=pd.read_csv(\"Financial-QA-10k.csv\")"
   ]
  },
  {
   "cell_type": "code",
   "execution_count": 84,
   "metadata": {
    "colab": {
     "base_uri": "https://localhost:8080/",
     "height": 147
    },
    "id": "kp4XW0vBOIgk",
    "outputId": "79a111c0-e3e6-47de-89bc-82ccf473b171"
   },
   "outputs": [
    {
     "data": {
      "text/html": [
       "<div>\n",
       "<style scoped>\n",
       "    .dataframe tbody tr th:only-of-type {\n",
       "        vertical-align: middle;\n",
       "    }\n",
       "\n",
       "    .dataframe tbody tr th {\n",
       "        vertical-align: top;\n",
       "    }\n",
       "\n",
       "    .dataframe thead th {\n",
       "        text-align: right;\n",
       "    }\n",
       "</style>\n",
       "<table border=\"1\" class=\"dataframe\">\n",
       "  <thead>\n",
       "    <tr style=\"text-align: right;\">\n",
       "      <th></th>\n",
       "      <th>question</th>\n",
       "      <th>answer</th>\n",
       "      <th>context</th>\n",
       "      <th>ticker</th>\n",
       "      <th>filing</th>\n",
       "    </tr>\n",
       "  </thead>\n",
       "  <tbody>\n",
       "    <tr>\n",
       "      <th>0</th>\n",
       "      <td>What area did NVIDIA initially focus on before...</td>\n",
       "      <td>NVIDIA initially focused on PC graphics.</td>\n",
       "      <td>Since our original focus on PC graphics, we ha...</td>\n",
       "      <td>NVDA</td>\n",
       "      <td>2023_10K</td>\n",
       "    </tr>\n",
       "    <tr>\n",
       "      <th>1</th>\n",
       "      <td>What are some of the recent applications of GP...</td>\n",
       "      <td>Recent applications of GPU-powered deep learni...</td>\n",
       "      <td>Some of the most recent applications of GPU-po...</td>\n",
       "      <td>NVDA</td>\n",
       "      <td>2023_10K</td>\n",
       "    </tr>\n",
       "  </tbody>\n",
       "</table>\n",
       "</div>"
      ],
      "text/plain": [
       "                                            question  \\\n",
       "0  What area did NVIDIA initially focus on before...   \n",
       "1  What are some of the recent applications of GP...   \n",
       "\n",
       "                                              answer  \\\n",
       "0           NVIDIA initially focused on PC graphics.   \n",
       "1  Recent applications of GPU-powered deep learni...   \n",
       "\n",
       "                                             context ticker    filing  \n",
       "0  Since our original focus on PC graphics, we ha...   NVDA  2023_10K  \n",
       "1  Some of the most recent applications of GPU-po...   NVDA  2023_10K  "
      ]
     },
     "execution_count": 84,
     "metadata": {},
     "output_type": "execute_result"
    }
   ],
   "source": [
    "df.head(2)"
   ]
  },
  {
   "cell_type": "code",
   "execution_count": 85,
   "metadata": {
    "colab": {
     "base_uri": "https://localhost:8080/"
    },
    "id": "IL8TQqTrmQs-",
    "outputId": "de132fde-61a3-4791-8173-6fcb49ea763d"
   },
   "outputs": [
    {
     "name": "stdout",
     "output_type": "stream",
     "text": [
      "<class 'pandas.core.frame.DataFrame'>\n",
      "RangeIndex: 7000 entries, 0 to 6999\n",
      "Data columns (total 5 columns):\n",
      " #   Column    Non-Null Count  Dtype \n",
      "---  ------    --------------  ----- \n",
      " 0   question  6998 non-null   object\n",
      " 1   answer    6998 non-null   object\n",
      " 2   context   6999 non-null   object\n",
      " 3   ticker    7000 non-null   object\n",
      " 4   filing    7000 non-null   object\n",
      "dtypes: object(5)\n",
      "memory usage: 273.6+ KB\n"
     ]
    }
   ],
   "source": [
    "df.info()"
   ]
  },
  {
   "cell_type": "markdown",
   "metadata": {
    "id": "C_PU12eTOKLw"
   },
   "source": [
    "\n",
    "## Lets do some exploartaion"
   ]
  },
  {
   "cell_type": "markdown",
   "metadata": {
    "id": "E_GHjaE0PNMB"
   },
   "source": [
    "### check the length of each columns"
   ]
  },
  {
   "cell_type": "code",
   "execution_count": 86,
   "metadata": {
    "colab": {
     "base_uri": "https://localhost:8080/",
     "height": 447
    },
    "id": "-o7sqXC0PRzQ",
    "outputId": "95a43027-7e04-40ee-bf53-579b7f1e6572"
   },
   "outputs": [
    {
     "data": {
      "text/plain": [
       "<Axes: ylabel='Frequency'>"
      ]
     },
     "execution_count": 86,
     "metadata": {},
     "output_type": "execute_result"
    },
    {
     "data": {
      "image/png": "[encoded data removed]",
      "text/plain": [
       "<Figure size 640x480 with 1 Axes>"
      ]
     },
     "metadata": {},
     "output_type": "display_data"
    }
   ],
   "source": [
    "df[\"question\"].str.len().plot(kind='hist',bins=100)"
   ]
  },
  {
   "cell_type": "code",
   "execution_count": null,
   "metadata": {
    "id": "cGhPU3jfQlP5"
   },
   "outputs": [],
   "source": []
  },
  {
   "cell_type": "code",
   "execution_count": 87,
   "metadata": {
    "colab": {
     "base_uri": "https://localhost:8080/",
     "height": 466
    },
    "id": "0dtjy4JfPhdU",
    "outputId": "b70eaa34-75f4-4226-bab7-0bfa878f275a"
   },
   "outputs": [
    {
     "data": {
      "text/plain": [
       "Text(0.5, 0, 'length->')"
      ]
     },
     "execution_count": 87,
     "metadata": {},
     "output_type": "execute_result"
    },
    {
     "data": {
      "image/png": "[encoded data removed]",
      "text/plain": [
       "<Figure size 640x480 with 1 Axes>"
      ]
     },
     "metadata": {},
     "output_type": "display_data"
    }
   ],
   "source": [
    "df[\"answer\"].str.len().plot(kind='hist',bins=100)\n",
    "plt.ylabel(\"frequency->\")\n",
    "plt.xlabel(\"length->\")"
   ]
  },
  {
   "cell_type": "code",
   "execution_count": 89,
   "metadata": {
    "id": "hnmBD3TYV6sY"
   },
   "outputs": [],
   "source": [
    "df=df[df[\"context\"].str.len()>10]"
   ]
  },
  {
   "cell_type": "code",
   "execution_count": 90,
   "metadata": {
    "colab": {
     "base_uri": "https://localhost:8080/",
     "height": 447
    },
    "id": "ZyFAshtDQESo",
    "outputId": "80256ad4-e836-43d0-e382-3838edaf849c"
   },
   "outputs": [
    {
     "data": {
      "text/plain": [
       "(0.0, 1000.0)"
      ]
     },
     "execution_count": 90,
     "metadata": {},
     "output_type": "execute_result"
    },
    {
     "data": {
      "image/png": "[encoded data removed]",
      "text/plain": [
       "<Figure size 640x480 with 1 Axes>"
      ]
     },
     "metadata": {},
     "output_type": "display_data"
    }
   ],
   "source": [
    "df[\"context\"].str.len().plot(kind='hist',bins=100)\n",
    "plt.xlim((0,1000))"
   ]
  },
  {
   "cell_type": "code",
   "execution_count": 91,
   "metadata": {
    "colab": {
     "base_uri": "https://localhost:8080/",
     "height": 447
    },
    "id": "CcxoctbbRKH8",
    "outputId": "966fc165-6fb5-4b61-8b61-846d3111b6a9"
   },
   "outputs": [
    {
     "data": {
      "text/plain": [
       "<Axes: ylabel='Frequency'>"
      ]
     },
     "execution_count": 91,
     "metadata": {},
     "output_type": "execute_result"
    },
    {
     "data": {
      "image/png": "[encoded data removed]",
      "text/plain": [
       "<Figure size 640x480 with 1 Axes>"
      ]
     },
     "metadata": {},
     "output_type": "display_data"
    }
   ],
   "source": [
    "df[\"answer\"].str.len().plot(kind='hist',bins=100)\n",
    "df[\"question\"].str.len().plot(kind='hist',bins=100)"
   ]
  },
  {
   "cell_type": "code",
   "execution_count": 92,
   "metadata": {
    "colab": {
     "base_uri": "https://localhost:8080/"
    },
    "id": "ji5wRwQSV9YG",
    "outputId": "d8bfdd37-24b8-4dfb-facb-9f2e48bccb0b"
   },
   "outputs": [
    {
     "data": {
      "text/plain": [
       "Index(['question', 'answer', 'context', 'ticker', 'filing'], dtype='object')"
      ]
     },
     "execution_count": 92,
     "metadata": {},
     "output_type": "execute_result"
    }
   ],
   "source": [
    "df.columns"
   ]
  },
  {
   "cell_type": "code",
   "execution_count": 93,
   "metadata": {
    "colab": {
     "base_uri": "https://localhost:8080/",
     "height": 481
    },
    "id": "Pcs8fWAnWrgj",
    "outputId": "e4ae6129-0015-4ed7-ac2e-8c69e8d7c65b"
   },
   "outputs": [
    {
     "data": {
      "image/png": "[encoded data removed]",
      "text/plain": [
       "<Figure size 2000x1000 with 1 Axes>"
      ]
     },
     "metadata": {},
     "output_type": "display_data"
    }
   ],
   "source": [
    "plt.figure(figsize=(20,10))\n",
    "sns.countplot(data=df,x='ticker')\n",
    "plt.xticks(rotation=90)\n",
    "plt.show()"
   ]
  },
  {
   "cell_type": "code",
   "execution_count": 94,
   "metadata": {
    "colab": {
     "base_uri": "https://localhost:8080/",
     "height": 428
    },
    "id": "zgTTN3VPWx1U",
    "outputId": "c77ae9ad-51cd-460c-a487-26be682b9665"
   },
   "outputs": [
    {
     "data": {
      "text/plain": [
       "<Axes: ylabel='count'>"
      ]
     },
     "execution_count": 94,
     "metadata": {},
     "output_type": "execute_result"
    },
    {
     "data": {
      "image/png": "[encoded data removed]",
      "text/plain": [
       "<Figure size 640x480 with 1 Axes>"
      ]
     },
     "metadata": {},
     "output_type": "display_data"
    }
   ],
   "source": [
    "sns.boxplot(y=df[\"ticker\"].value_counts().reset_index()[\"count\"])"
   ]
  },
  {
   "cell_type": "code",
   "execution_count": null,
   "metadata": {
    "id": "7oytVMv5h7CU"
   },
   "outputs": [],
   "source": []
  },
  {
   "cell_type": "code",
   "execution_count": 95,
   "metadata": {
    "colab": {
     "base_uri": "https://localhost:8080/",
     "height": 35
    },
    "id": "aYAMGLi4bxFB",
    "outputId": "9933dbb0-8621-457a-b904-86ce6f1ef495"
   },
   "outputs": [
    {
     "data": {
      "text/plain": [
       "'What area did NVIDIA initially focus on before expanding to other computationally intensive fields'"
      ]
     },
     "execution_count": 95,
     "metadata": {},
     "output_type": "execute_result"
    }
   ],
   "source": [
    "df[\"question\"].iloc[0].translate(str.maketrans('','',string.punctuation))"
   ]
  },
  {
   "cell_type": "code",
   "execution_count": 96,
   "metadata": {
    "id": "kX70DwvAtWBy"
   },
   "outputs": [],
   "source": [
    "# stopwords('english').words"
   ]
  },
  {
   "cell_type": "code",
   "execution_count": 97,
   "metadata": {
    "id": "GpBTeBDbg_ge"
   },
   "outputs": [],
   "source": [
    "\n",
    "def remove_punctuation(text):\n",
    "  try:\n",
    "    text=text.translate(str.maketrans('','',string.punctuation)).lower()\n",
    "    txt=nlp(text)\n",
    "    res=[]\n",
    "    for ent in txt:\n",
    "      if ent.text not in list(all_stop_word):\n",
    "          res.append(ent.lemma_)\n",
    "    return \" \".join(res)\n",
    "  except:\n",
    "    print(f\"text: {text}\")\n",
    "    return ''\n"
   ]
  },
  {
   "cell_type": "code",
   "execution_count": 98,
   "metadata": {
    "colab": {
     "base_uri": "https://localhost:8080/"
    },
    "id": "YoABsrDOjQ1z",
    "outputId": "9b549002-8d1c-4663-b819-dfa503b6609d"
   },
   "outputs": [
    {
     "name": "stdout",
     "output_type": "stream",
     "text": [
      "text: nan\n"
     ]
    }
   ],
   "source": [
    "df[\"clean_context\"]=df[\"context\"].apply(lambda x:remove_punctuation(x))\n",
    "df[\"clean_answer\"]=df[\"answer\"].apply(lambda x:remove_punctuation(x))"
   ]
  },
  {
   "cell_type": "code",
   "execution_count": 99,
   "metadata": {},
   "outputs": [],
   "source": [
    "df=df[df[\"context\"].str.len()>10]"
   ]
  },
  {
   "cell_type": "code",
   "execution_count": 100,
   "metadata": {
    "id": "Lr68fZqajohh"
   },
   "outputs": [],
   "source": [
    "def check_common_words(answer,context):\n",
    "  try:\n",
    "    return (len(set(answer.split(' ')).intersection(set(context.split(' '))))/len(answer.split(' ')))*100\n",
    "  except Exception as ex:\n",
    "    print(f\"exeption: {ex}\")\n",
    "    return 100"
   ]
  },
  {
   "cell_type": "code",
   "execution_count": 101,
   "metadata": {
    "id": "lQNL2CYjkSTl"
   },
   "outputs": [],
   "source": [
    "df[\"answer_context_commonword\"]=df.apply(lambda x: check_common_words(x.clean_answer,x.clean_context),axis=1)"
   ]
  },
  {
   "cell_type": "code",
   "execution_count": 102,
   "metadata": {
    "colab": {
     "base_uri": "https://localhost:8080/",
     "height": 447
    },
    "id": "PLCnyh1Qkjlo",
    "outputId": "3bd484d7-c257-40ae-94d6-39bae2797a66"
   },
   "outputs": [
    {
     "data": {
      "text/plain": [
       "<Axes: ylabel='Frequency'>"
      ]
     },
     "execution_count": 102,
     "metadata": {},
     "output_type": "execute_result"
    },
    {
     "data": {
      "image/png": "[encoded data removed]",
      "text/plain": [
       "<Figure size 640x480 with 1 Axes>"
      ]
     },
     "metadata": {},
     "output_type": "display_data"
    }
   ],
   "source": [
    "df[\"answer_context_commonword\"].plot(kind='hist',bins=100)"
   ]
  },
  {
   "cell_type": "code",
   "execution_count": 27,
   "metadata": {},
   "outputs": [],
   "source": [
    "df=df[df[\"answer_context_commonword\"]>=50]"
   ]
  },
  {
   "cell_type": "code",
   "execution_count": 103,
   "metadata": {
    "colab": {
     "base_uri": "https://localhost:8080/",
     "height": 300
    },
    "id": "GzpjConOmayb",
    "outputId": "9b5d2ab2-f185-4025-d342-9708a134432d"
   },
   "outputs": [
    {
     "data": {
      "text/html": [
       "<div>\n",
       "<style scoped>\n",
       "    .dataframe tbody tr th:only-of-type {\n",
       "        vertical-align: middle;\n",
       "    }\n",
       "\n",
       "    .dataframe tbody tr th {\n",
       "        vertical-align: top;\n",
       "    }\n",
       "\n",
       "    .dataframe thead th {\n",
       "        text-align: right;\n",
       "    }\n",
       "</style>\n",
       "<table border=\"1\" class=\"dataframe\">\n",
       "  <thead>\n",
       "    <tr style=\"text-align: right;\">\n",
       "      <th></th>\n",
       "      <th>answer_context_commonword</th>\n",
       "    </tr>\n",
       "  </thead>\n",
       "  <tbody>\n",
       "    <tr>\n",
       "      <th>count</th>\n",
       "      <td>6998.000000</td>\n",
       "    </tr>\n",
       "    <tr>\n",
       "      <th>mean</th>\n",
       "      <td>82.145676</td>\n",
       "    </tr>\n",
       "    <tr>\n",
       "      <th>std</th>\n",
       "      <td>19.151391</td>\n",
       "    </tr>\n",
       "    <tr>\n",
       "      <th>min</th>\n",
       "      <td>0.000000</td>\n",
       "    </tr>\n",
       "    <tr>\n",
       "      <th>25%</th>\n",
       "      <td>71.428571</td>\n",
       "    </tr>\n",
       "    <tr>\n",
       "      <th>50%</th>\n",
       "      <td>85.714286</td>\n",
       "    </tr>\n",
       "    <tr>\n",
       "      <th>75%</th>\n",
       "      <td>100.000000</td>\n",
       "    </tr>\n",
       "    <tr>\n",
       "      <th>max</th>\n",
       "      <td>100.000000</td>\n",
       "    </tr>\n",
       "  </tbody>\n",
       "</table>\n",
       "</div>"
      ],
      "text/plain": [
       "       answer_context_commonword\n",
       "count                6998.000000\n",
       "mean                   82.145676\n",
       "std                    19.151391\n",
       "min                     0.000000\n",
       "25%                    71.428571\n",
       "50%                    85.714286\n",
       "75%                   100.000000\n",
       "max                   100.000000"
      ]
     },
     "execution_count": 103,
     "metadata": {},
     "output_type": "execute_result"
    }
   ],
   "source": [
    "df[[\"answer_context_commonword\"]].describe()"
   ]
  },
  {
   "cell_type": "code",
   "execution_count": 104,
   "metadata": {
    "id": "senPIKKGVgrA"
   },
   "outputs": [],
   "source": [
    "from scipy.stats import ttest_ind"
   ]
  },
  {
   "cell_type": "code",
   "execution_count": 105,
   "metadata": {
    "id": "gUkjeibmWNX_"
   },
   "outputs": [],
   "source": [
    "unique_ticker=list(df[\"ticker\"].unique())"
   ]
  },
  {
   "cell_type": "code",
   "execution_count": 106,
   "metadata": {
    "colab": {
     "base_uri": "https://localhost:8080/"
    },
    "id": "fgcaaoUrWNmd",
    "outputId": "76f47d49-34d7-4fb0-8972-b3f2ae7e6231"
   },
   "outputs": [
    {
     "name": "stdout",
     "output_type": "stream",
     "text": [
      "TtestResult(statistic=-1.4166499141595867, pvalue=0.15662983245843382, df=6996.0)\n",
      "TtestResult(statistic=4.03585923730203, pvalue=5.4982836205169435e-05, df=6996.0)\n",
      "TtestResult(statistic=-1.1962102772300247, pvalue=0.2316550501496936, df=6996.0)\n",
      "TtestResult(statistic=-8.010228024975182, pvalue=1.331263265684351e-15, df=6996.0)\n",
      "TtestResult(statistic=-2.983003247519079, pvalue=0.0028641987613213086, df=6996.0)\n",
      "TtestResult(statistic=-2.9555522122989855, pvalue=0.003131511039340195, df=6996.0)\n",
      "TtestResult(statistic=-2.1982812231045243, pvalue=0.027961706237108253, df=6996.0)\n",
      "TtestResult(statistic=-3.6294783307277436, pvalue=0.00028602155750641, df=6996.0)\n",
      "TtestResult(statistic=-1.5864750803789833, pvalue=0.11267677420692902, df=6996.0)\n",
      "TtestResult(statistic=-2.0863323290983655, pvalue=0.036984657996193084, df=6996.0)\n",
      "TtestResult(statistic=-5.5540646438212296, pvalue=2.8935495903587954e-08, df=6996.0)\n",
      "TtestResult(statistic=-4.8720455379918635, pvalue=1.128779321325134e-06, df=6996.0)\n",
      "TtestResult(statistic=-1.143606031674644, pvalue=0.2528261884141467, df=6996.0)\n",
      "TtestResult(statistic=-4.774477531600858, pvalue=1.8383791177507857e-06, df=6996.0)\n",
      "TtestResult(statistic=-4.52483252258358, pvalue=6.144193739272488e-06, df=6996.0)\n",
      "TtestResult(statistic=-3.1902686547258727, pvalue=0.0014276819014414654, df=6996.0)\n",
      "TtestResult(statistic=0.8147004704332793, pvalue=0.4152715153756782, df=6996.0)\n",
      "TtestResult(statistic=-0.5183694348217063, pvalue=0.6042169295659459, df=6996.0)\n",
      "TtestResult(statistic=2.3970051466331928, pvalue=0.016555764527814598, df=6996.0)\n",
      "TtestResult(statistic=1.33345762691204, pvalue=0.18242508618328002, df=6996.0)\n",
      "TtestResult(statistic=-1.873940853144417, pvalue=0.06098022533385003, df=6996.0)\n",
      "TtestResult(statistic=3.4283867869222466, pvalue=0.0006106810004709431, df=6996.0)\n",
      "TtestResult(statistic=1.2011040111199267, pvalue=0.2297515192192044, df=6996.0)\n",
      "TtestResult(statistic=-0.773088911260452, pvalue=0.4394958818462934, df=6996.0)\n",
      "TtestResult(statistic=1.6772662407097152, pvalue=0.09353510314213875, df=6996.0)\n",
      "TtestResult(statistic=4.111621597668526, pvalue=3.9738611974525984e-05, df=6996.0)\n",
      "TtestResult(statistic=4.115671719208417, pvalue=3.9048809529941226e-05, df=6996.0)\n",
      "TtestResult(statistic=0.983102292337795, pvalue=0.32559109274908316, df=6996.0)\n",
      "TtestResult(statistic=-0.8618472261889696, pvalue=0.38880113203365707, df=6996.0)\n",
      "TtestResult(statistic=1.8004511363010727, pvalue=0.07183248918272023, df=6996.0)\n",
      "TtestResult(statistic=4.693748181174774, pvalue=2.7334979327586606e-06, df=6996.0)\n",
      "TtestResult(statistic=2.7653696692425993, pvalue=0.005700737532502639, df=6996.0)\n",
      "TtestResult(statistic=-0.3184811610741865, pvalue=0.7501294894549999, df=6996.0)\n",
      "TtestResult(statistic=0.5340861592302634, pvalue=0.5932988950199405, df=6996.0)\n",
      "TtestResult(statistic=0.8359343301073463, pvalue=0.40322039681251554, df=6996.0)\n",
      "TtestResult(statistic=0.601477245916783, pvalue=0.5475416514998706, df=6996.0)\n",
      "TtestResult(statistic=1.9381219511112784, pvalue=0.05264852773917775, df=6996.0)\n",
      "TtestResult(statistic=2.6414008487840714, pvalue=0.008274757109996311, df=6996.0)\n",
      "TtestResult(statistic=0.10358712325267862, pvalue=0.9174999759999025, df=6996.0)\n",
      "TtestResult(statistic=-0.4096477003637318, pvalue=0.68207694223909, df=6996.0)\n",
      "TtestResult(statistic=-0.716786379359535, pvalue=0.47352984525911, df=6996.0)\n",
      "TtestResult(statistic=1.1429111742041242, pvalue=0.2531145822938528, df=6996.0)\n",
      "TtestResult(statistic=1.1969801817835928, pvalue=0.2313548377172437, df=6996.0)\n",
      "TtestResult(statistic=-0.9859776688104144, pvalue=0.3241781687309665, df=6996.0)\n",
      "TtestResult(statistic=0.9601559247771257, pvalue=0.3370099274123146, df=6996.0)\n",
      "TtestResult(statistic=0.5785941267467897, pvalue=0.5628816940693194, df=6996.0)\n",
      "TtestResult(statistic=0.854651835587862, pvalue=0.39277318701811115, df=6996.0)\n",
      "TtestResult(statistic=-0.4689529015346971, pvalue=0.6391179142728742, df=6996.0)\n",
      "TtestResult(statistic=1.4929324761542804, pvalue=0.13549995688478556, df=6996.0)\n",
      "TtestResult(statistic=-2.743880109747967, pvalue=0.006087247171553781, df=6996.0)\n",
      "TtestResult(statistic=-1.1681414834759973, pvalue=0.24278950560293389, df=6996.0)\n",
      "TtestResult(statistic=1.938502207993847, pvalue=0.05260215420603148, df=6996.0)\n",
      "TtestResult(statistic=8.597835803438931, pvalue=9.913278071841325e-18, df=6996.0)\n",
      "TtestResult(statistic=-1.6015821606294993, pvalue=0.10929318662944165, df=6996.0)\n",
      "TtestResult(statistic=-0.14607374548584948, pvalue=0.8838673806771824, df=6996.0)\n",
      "TtestResult(statistic=-1.9508135930741444, pvalue=0.051119092888988714, df=6996.0)\n",
      "TtestResult(statistic=-0.9338197135910931, pvalue=0.3504291266882652, df=6996.0)\n",
      "TtestResult(statistic=-1.0241492853731964, pvalue=0.30580017904404655, df=6996.0)\n",
      "TtestResult(statistic=-0.38236006209865114, pvalue=0.7022059243886507, df=6996.0)\n",
      "TtestResult(statistic=2.9530722350708984, pvalue=0.003156747649045434, df=6996.0)\n",
      "TtestResult(statistic=0.735205494757909, pvalue=0.4622389977384602, df=6996.0)\n",
      "TtestResult(statistic=-0.13924060565206614, pvalue=0.8892640302526413, df=6996.0)\n",
      "TtestResult(statistic=5.36789368739529, pvalue=8.222023325933697e-08, df=6996.0)\n",
      "TtestResult(statistic=-0.28912932342192843, pvalue=0.772490981574576, df=6996.0)\n",
      "TtestResult(statistic=-2.0932930126147107, pvalue=0.036358925204599976, df=6996.0)\n",
      "TtestResult(statistic=0.5602054143768574, pvalue=0.5753572717317803, df=6996.0)\n",
      "TtestResult(statistic=0.18310608256524302, pvalue=0.8547200892610365, df=6996.0)\n",
      "TtestResult(statistic=2.5332687450220712, pvalue=0.011322084725174122, df=6996.0)\n",
      "TtestResult(statistic=-1.2607165357836707, pvalue=0.2074530373673607, df=6996.0)\n"
     ]
    }
   ],
   "source": [
    "for tck in unique_ticker:\n",
    "  print(ttest_ind(df[df['ticker']==tck]['answer_context_commonword'],df[df['ticker']!=tck]['answer_context_commonword']))"
   ]
  },
  {
   "cell_type": "code",
   "execution_count": null,
   "metadata": {
    "id": "VBwARPTPWN2f"
   },
   "outputs": [],
   "source": [
    "\n"
   ]
  },
  {
   "cell_type": "markdown",
   "metadata": {
    "id": "5z0Y9NEWkqFh"
   },
   "source": [
    "### From the above figure, we can assume, most of the answers word has been captured in the context. Mean is 88%"
   ]
  },
  {
   "cell_type": "markdown",
   "metadata": {
    "id": "-1P50vc7m2me"
   },
   "source": [
    "### Further we can try checking the n-gram method, jsut like Rouge to check if answer lies in context or not"
   ]
  },
  {
   "cell_type": "markdown",
   "metadata": {
    "id": "Q1JV9vGmnw5s"
   },
   "source": [
    "## Now further we can do one more step of preprocessing of remove stopwords and contractions\n",
    "\n",
    "## Further we can go for modelling. For modelling we can take any of the following 3 ways\n",
    "<li> TFIDVectorizer and mlalgorithm like xgboost or Randomforest </li>\n",
    "<li> WordEmbeddings and LSTM </li>\n",
    "<li> Bert based Classification Model </li>\n"
   ]
  },
  {
   "cell_type": "markdown",
   "metadata": {
    "id": "D6bRpGLXo73r"
   },
   "source": [
    "## **TFIDFVectorizer and Machine learning**\n",
    "\n",
    "\n",
    "\n"
   ]
  },
  {
   "cell_type": "code",
   "execution_count": 107,
   "metadata": {
    "id": "gbZQTAAkpU-1"
   },
   "outputs": [],
   "source": [
    "from sklearn.feature_extraction.text import TfidfVectorizer\n",
    "import xgboost as xgb\n",
    "from sklearn.naive_bayes import GaussianNB,CategoricalNB"
   ]
  },
  {
   "cell_type": "code",
   "execution_count": 108,
   "metadata": {
    "id": "Na4a6KKxetYD"
   },
   "outputs": [],
   "source": [
    "X_train, X_test, Y_train, Y_test= train_test_split(df[\"clean_context\"]+df[\"clean_answer\"],df[\"ticker\"])"
   ]
  },
  {
   "cell_type": "code",
   "execution_count": 109,
   "metadata": {
    "id": "b3cth2G6fvBh"
   },
   "outputs": [],
   "source": [
    "oh=OneHotEncoder(sparse_output=False)\n",
    "\n",
    "Y_train1=oh.fit_transform(Y_train.iloc[:].values.reshape(-1,1))\n"
   ]
  },
  {
   "cell_type": "code",
   "execution_count": 110,
   "metadata": {
    "id": "gxjgtWx0h5rm"
   },
   "outputs": [
    {
     "name": "stderr",
     "output_type": "stream",
     "text": [
      "/home/sig9moid/anaconda3/envs/tf/lib/python3.9/site-packages/sklearn/preprocessing/_label.py:114: DataConversionWarning: A column-vector y was passed when a 1d array was expected. Please change the shape of y to (n_samples, ), for example using ravel().\n",
      "  y = column_or_1d(y, warn=True)\n"
     ]
    }
   ],
   "source": [
    "lc=LabelEncoder()\n",
    "Y_train2=lc.fit_transform(Y_train.iloc[:].values.reshape(-1,1))"
   ]
  },
  {
   "cell_type": "code",
   "execution_count": 111,
   "metadata": {
    "colab": {
     "base_uri": "https://localhost:8080/"
    },
    "id": "_m9g-SBehiRh",
    "outputId": "f392b8d7-91a2-42d3-e679-e5d3dd02c886"
   },
   "outputs": [
    {
     "data": {
      "text/plain": [
       "(5248, 69)"
      ]
     },
     "execution_count": 111,
     "metadata": {},
     "output_type": "execute_result"
    }
   ],
   "source": [
    "Y_train1.shape"
   ]
  },
  {
   "cell_type": "code",
   "execution_count": 49,
   "metadata": {
    "id": "65YG3XUqgPKn"
   },
   "outputs": [],
   "source": [
    "tfidf=TfidfVectorizer()\n"
   ]
  },
  {
   "cell_type": "code",
   "execution_count": 50,
   "metadata": {
    "id": "6Wz0LO1ngSxa"
   },
   "outputs": [
    {
     "ename": "AttributeError",
     "evalue": "'numpy.ndarray' object has no attribute 'lower'",
     "output_type": "error",
     "traceback": [
      "\u001b[0;31m---------------------------------------------------------------------------\u001b[0m",
      "\u001b[0;31mAttributeError\u001b[0m                            Traceback (most recent call last)",
      "Cell \u001b[0;32mIn[50], line 1\u001b[0m\n\u001b[0;32m----> 1\u001b[0m X_train_tfid\u001b[38;5;241m=\u001b[39m\u001b[43mtfidf\u001b[49m\u001b[38;5;241;43m.\u001b[39;49m\u001b[43mfit_transform\u001b[49m\u001b[43m(\u001b[49m\u001b[43mX_train\u001b[49m\u001b[43m)\u001b[49m\n",
      "File \u001b[0;32m~/anaconda3/envs/tf/lib/python3.9/site-packages/sklearn/feature_extraction/text.py:2126\u001b[0m, in \u001b[0;36mTfidfVectorizer.fit_transform\u001b[0;34m(self, raw_documents, y)\u001b[0m\n\u001b[1;32m   2119\u001b[0m \u001b[38;5;28mself\u001b[39m\u001b[38;5;241m.\u001b[39m_check_params()\n\u001b[1;32m   2120\u001b[0m \u001b[38;5;28mself\u001b[39m\u001b[38;5;241m.\u001b[39m_tfidf \u001b[38;5;241m=\u001b[39m TfidfTransformer(\n\u001b[1;32m   2121\u001b[0m     norm\u001b[38;5;241m=\u001b[39m\u001b[38;5;28mself\u001b[39m\u001b[38;5;241m.\u001b[39mnorm,\n\u001b[1;32m   2122\u001b[0m     use_idf\u001b[38;5;241m=\u001b[39m\u001b[38;5;28mself\u001b[39m\u001b[38;5;241m.\u001b[39muse_idf,\n\u001b[1;32m   2123\u001b[0m     smooth_idf\u001b[38;5;241m=\u001b[39m\u001b[38;5;28mself\u001b[39m\u001b[38;5;241m.\u001b[39msmooth_idf,\n\u001b[1;32m   2124\u001b[0m     sublinear_tf\u001b[38;5;241m=\u001b[39m\u001b[38;5;28mself\u001b[39m\u001b[38;5;241m.\u001b[39msublinear_tf,\n\u001b[1;32m   2125\u001b[0m )\n\u001b[0;32m-> 2126\u001b[0m X \u001b[38;5;241m=\u001b[39m \u001b[38;5;28;43msuper\u001b[39;49m\u001b[43m(\u001b[49m\u001b[43m)\u001b[49m\u001b[38;5;241;43m.\u001b[39;49m\u001b[43mfit_transform\u001b[49m\u001b[43m(\u001b[49m\u001b[43mraw_documents\u001b[49m\u001b[43m)\u001b[49m\n\u001b[1;32m   2127\u001b[0m \u001b[38;5;28mself\u001b[39m\u001b[38;5;241m.\u001b[39m_tfidf\u001b[38;5;241m.\u001b[39mfit(X)\n\u001b[1;32m   2128\u001b[0m \u001b[38;5;66;03m# X is already a transformed view of raw_documents so\u001b[39;00m\n\u001b[1;32m   2129\u001b[0m \u001b[38;5;66;03m# we set copy to False\u001b[39;00m\n",
      "File \u001b[0;32m~/anaconda3/envs/tf/lib/python3.9/site-packages/sklearn/base.py:1151\u001b[0m, in \u001b[0;36m_fit_context.<locals>.decorator.<locals>.wrapper\u001b[0;34m(estimator, *args, **kwargs)\u001b[0m\n\u001b[1;32m   1144\u001b[0m     estimator\u001b[38;5;241m.\u001b[39m_validate_params()\n\u001b[1;32m   1146\u001b[0m \u001b[38;5;28;01mwith\u001b[39;00m config_context(\n\u001b[1;32m   1147\u001b[0m     skip_parameter_validation\u001b[38;5;241m=\u001b[39m(\n\u001b[1;32m   1148\u001b[0m         prefer_skip_nested_validation \u001b[38;5;129;01mor\u001b[39;00m global_skip_validation\n\u001b[1;32m   1149\u001b[0m     )\n\u001b[1;32m   1150\u001b[0m ):\n\u001b[0;32m-> 1151\u001b[0m     \u001b[38;5;28;01mreturn\u001b[39;00m \u001b[43mfit_method\u001b[49m\u001b[43m(\u001b[49m\u001b[43mestimator\u001b[49m\u001b[43m,\u001b[49m\u001b[43m \u001b[49m\u001b[38;5;241;43m*\u001b[39;49m\u001b[43margs\u001b[49m\u001b[43m,\u001b[49m\u001b[43m \u001b[49m\u001b[38;5;241;43m*\u001b[39;49m\u001b[38;5;241;43m*\u001b[39;49m\u001b[43mkwargs\u001b[49m\u001b[43m)\u001b[49m\n",
      "File \u001b[0;32m~/anaconda3/envs/tf/lib/python3.9/site-packages/sklearn/feature_extraction/text.py:1383\u001b[0m, in \u001b[0;36mCountVectorizer.fit_transform\u001b[0;34m(self, raw_documents, y)\u001b[0m\n\u001b[1;32m   1375\u001b[0m             warnings\u001b[38;5;241m.\u001b[39mwarn(\n\u001b[1;32m   1376\u001b[0m                 \u001b[38;5;124m\"\u001b[39m\u001b[38;5;124mUpper case characters found in\u001b[39m\u001b[38;5;124m\"\u001b[39m\n\u001b[1;32m   1377\u001b[0m                 \u001b[38;5;124m\"\u001b[39m\u001b[38;5;124m vocabulary while \u001b[39m\u001b[38;5;124m'\u001b[39m\u001b[38;5;124mlowercase\u001b[39m\u001b[38;5;124m'\u001b[39m\u001b[38;5;124m\"\u001b[39m\n\u001b[1;32m   1378\u001b[0m                 \u001b[38;5;124m\"\u001b[39m\u001b[38;5;124m is True. These entries will not\u001b[39m\u001b[38;5;124m\"\u001b[39m\n\u001b[1;32m   1379\u001b[0m                 \u001b[38;5;124m\"\u001b[39m\u001b[38;5;124m be matched with any documents\u001b[39m\u001b[38;5;124m\"\u001b[39m\n\u001b[1;32m   1380\u001b[0m             )\n\u001b[1;32m   1381\u001b[0m             \u001b[38;5;28;01mbreak\u001b[39;00m\n\u001b[0;32m-> 1383\u001b[0m vocabulary, X \u001b[38;5;241m=\u001b[39m \u001b[38;5;28;43mself\u001b[39;49m\u001b[38;5;241;43m.\u001b[39;49m\u001b[43m_count_vocab\u001b[49m\u001b[43m(\u001b[49m\u001b[43mraw_documents\u001b[49m\u001b[43m,\u001b[49m\u001b[43m \u001b[49m\u001b[38;5;28;43mself\u001b[39;49m\u001b[38;5;241;43m.\u001b[39;49m\u001b[43mfixed_vocabulary_\u001b[49m\u001b[43m)\u001b[49m\n\u001b[1;32m   1385\u001b[0m \u001b[38;5;28;01mif\u001b[39;00m \u001b[38;5;28mself\u001b[39m\u001b[38;5;241m.\u001b[39mbinary:\n\u001b[1;32m   1386\u001b[0m     X\u001b[38;5;241m.\u001b[39mdata\u001b[38;5;241m.\u001b[39mfill(\u001b[38;5;241m1\u001b[39m)\n",
      "File \u001b[0;32m~/anaconda3/envs/tf/lib/python3.9/site-packages/sklearn/feature_extraction/text.py:1270\u001b[0m, in \u001b[0;36mCountVectorizer._count_vocab\u001b[0;34m(self, raw_documents, fixed_vocab)\u001b[0m\n\u001b[1;32m   1268\u001b[0m \u001b[38;5;28;01mfor\u001b[39;00m doc \u001b[38;5;129;01min\u001b[39;00m raw_documents:\n\u001b[1;32m   1269\u001b[0m     feature_counter \u001b[38;5;241m=\u001b[39m {}\n\u001b[0;32m-> 1270\u001b[0m     \u001b[38;5;28;01mfor\u001b[39;00m feature \u001b[38;5;129;01min\u001b[39;00m \u001b[43manalyze\u001b[49m\u001b[43m(\u001b[49m\u001b[43mdoc\u001b[49m\u001b[43m)\u001b[49m:\n\u001b[1;32m   1271\u001b[0m         \u001b[38;5;28;01mtry\u001b[39;00m:\n\u001b[1;32m   1272\u001b[0m             feature_idx \u001b[38;5;241m=\u001b[39m vocabulary[feature]\n",
      "File \u001b[0;32m~/anaconda3/envs/tf/lib/python3.9/site-packages/sklearn/feature_extraction/text.py:110\u001b[0m, in \u001b[0;36m_analyze\u001b[0;34m(doc, analyzer, tokenizer, ngrams, preprocessor, decoder, stop_words)\u001b[0m\n\u001b[1;32m    108\u001b[0m \u001b[38;5;28;01melse\u001b[39;00m:\n\u001b[1;32m    109\u001b[0m     \u001b[38;5;28;01mif\u001b[39;00m preprocessor \u001b[38;5;129;01mis\u001b[39;00m \u001b[38;5;129;01mnot\u001b[39;00m \u001b[38;5;28;01mNone\u001b[39;00m:\n\u001b[0;32m--> 110\u001b[0m         doc \u001b[38;5;241m=\u001b[39m \u001b[43mpreprocessor\u001b[49m\u001b[43m(\u001b[49m\u001b[43mdoc\u001b[49m\u001b[43m)\u001b[49m\n\u001b[1;32m    111\u001b[0m     \u001b[38;5;28;01mif\u001b[39;00m tokenizer \u001b[38;5;129;01mis\u001b[39;00m \u001b[38;5;129;01mnot\u001b[39;00m \u001b[38;5;28;01mNone\u001b[39;00m:\n\u001b[1;32m    112\u001b[0m         doc \u001b[38;5;241m=\u001b[39m tokenizer(doc)\n",
      "File \u001b[0;32m~/anaconda3/envs/tf/lib/python3.9/site-packages/sklearn/feature_extraction/text.py:68\u001b[0m, in \u001b[0;36m_preprocess\u001b[0;34m(doc, accent_function, lower)\u001b[0m\n\u001b[1;32m     49\u001b[0m \u001b[38;5;250m\u001b[39m\u001b[38;5;124;03m\"\"\"Chain together an optional series of text preprocessing steps to\u001b[39;00m\n\u001b[1;32m     50\u001b[0m \u001b[38;5;124;03mapply to a document.\u001b[39;00m\n\u001b[1;32m     51\u001b[0m \n\u001b[0;32m   (...)\u001b[0m\n\u001b[1;32m     65\u001b[0m \u001b[38;5;124;03m    preprocessed string\u001b[39;00m\n\u001b[1;32m     66\u001b[0m \u001b[38;5;124;03m\"\"\"\u001b[39;00m\n\u001b[1;32m     67\u001b[0m \u001b[38;5;28;01mif\u001b[39;00m lower:\n\u001b[0;32m---> 68\u001b[0m     doc \u001b[38;5;241m=\u001b[39m \u001b[43mdoc\u001b[49m\u001b[38;5;241;43m.\u001b[39;49m\u001b[43mlower\u001b[49m()\n\u001b[1;32m     69\u001b[0m \u001b[38;5;28;01mif\u001b[39;00m accent_function \u001b[38;5;129;01mis\u001b[39;00m \u001b[38;5;129;01mnot\u001b[39;00m \u001b[38;5;28;01mNone\u001b[39;00m:\n\u001b[1;32m     70\u001b[0m     doc \u001b[38;5;241m=\u001b[39m accent_function(doc)\n",
      "\u001b[0;31mAttributeError\u001b[0m: 'numpy.ndarray' object has no attribute 'lower'"
     ]
    }
   ],
   "source": [
    "X_train_tfid=tfidf.fit_transform(X_train)"
   ]
  },
  {
   "cell_type": "code",
   "execution_count": null,
   "metadata": {
    "id": "j1OYwPhSgZ37"
   },
   "outputs": [],
   "source": [
    "model1=xgb.XGBClassifier(n_estimator=200,n_estimators=200,max_depth=100,)\n",
    "model2=xgb.XGBClassifier(n_estimator=200,n_estimators=200,max_depth=100,)"
   ]
  },
  {
   "cell_type": "code",
   "execution_count": null,
   "metadata": {
    "id": "d55wpY_Tjzr-"
   },
   "outputs": [],
   "source": [
    "model3=GaussianNB()\n",
    "model4=CategoricalNB()"
   ]
  },
  {
   "cell_type": "code",
   "execution_count": null,
   "metadata": {
    "colab": {
     "base_uri": "https://localhost:8080/",
     "height": 80
    },
    "id": "EzOOiyYDj3sP",
    "outputId": "ccaba266-bef9-46ed-ebf0-1e63960f6cef"
   },
   "outputs": [],
   "source": [
    "model3.fit(X_train_tfid.toarray(),Y_train2)"
   ]
  },
  {
   "cell_type": "code",
   "execution_count": null,
   "metadata": {
    "colab": {
     "base_uri": "https://localhost:8080/",
     "height": 80
    },
    "id": "ntxD6W2Kky_R",
    "outputId": "67cd1207-0ce7-44e3-fd9f-6c8e3fa2a2e0"
   },
   "outputs": [],
   "source": []
  },
  {
   "cell_type": "code",
   "execution_count": null,
   "metadata": {
    "id": "KSa90WgCmYbg"
   },
   "outputs": [],
   "source": []
  },
  {
   "cell_type": "code",
   "execution_count": null,
   "metadata": {
    "colab": {
     "base_uri": "https://localhost:8080/",
     "height": 343
    },
    "id": "Tvct3uRbj5dj",
    "outputId": "f0392f4e-0388-45eb-bf78-254f897fec46"
   },
   "outputs": [],
   "source": [
    "model1.fit(X_train_tfid,Y_train1)"
   ]
  },
  {
   "cell_type": "code",
   "execution_count": null,
   "metadata": {
    "colab": {
     "base_uri": "https://localhost:8080/",
     "height": 343
    },
    "id": "rEDEfzfRhsED",
    "outputId": "265bf0da-2b18-4702-c818-04b2c549bd51"
   },
   "outputs": [],
   "source": [
    "model2.fit(X_train_tfid,Y_train2)"
   ]
  },
  {
   "cell_type": "code",
   "execution_count": null,
   "metadata": {
    "colab": {
     "base_uri": "https://localhost:8080/",
     "height": 343
    },
    "id": "epVcYftIhJH_",
    "outputId": "db31d856-cbf7-4be6-d107-699557cbe482"
   },
   "outputs": [],
   "source": []
  },
  {
   "cell_type": "code",
   "execution_count": null,
   "metadata": {
    "id": "5qyhwBtUg4p-"
   },
   "outputs": [],
   "source": [
    "y_pred1=model1.predict(tfidf.transform(X_test))\n",
    "y_pred2=model2.predict(tfidf.transform(X_test))"
   ]
  },
  {
   "cell_type": "code",
   "execution_count": null,
   "metadata": {
    "id": "-PbENMWCkKSh"
   },
   "outputs": [],
   "source": []
  },
  {
   "cell_type": "code",
   "execution_count": null,
   "metadata": {
    "id": "STfblM_4k3hH"
   },
   "outputs": [],
   "source": []
  },
  {
   "cell_type": "code",
   "execution_count": null,
   "metadata": {
    "id": "PmdOmTgthEZa"
   },
   "outputs": [],
   "source": [
    "accuracy_score(oh.transform(Y_test.iloc[:].values.reshape(-1,1)), y_pred1)"
   ]
  },
  {
   "cell_type": "code",
   "execution_count": null,
   "metadata": {
    "colab": {
     "base_uri": "https://localhost:8080/"
    },
    "id": "q_MkwFS7iKJb",
    "outputId": "bf531184-9b07-44b1-ed1f-8cbc150a280d"
   },
   "outputs": [],
   "source": [
    "accuracy_score(lc.transform(Y_test), y_pred2)"
   ]
  },
  {
   "cell_type": "code",
   "execution_count": null,
   "metadata": {
    "colab": {
     "base_uri": "https://localhost:8080/"
    },
    "id": "R1N6AFypjOVR",
    "outputId": "0db118c7-8be3-4563-da85-fac537cb205d"
   },
   "outputs": [],
   "source": [
    "# accuracy_score(lc.transform(Y_test), y_pred3)"
   ]
  },
  {
   "cell_type": "code",
   "execution_count": null,
   "metadata": {
    "id": "qegcb7FEkhVA"
   },
   "outputs": [],
   "source": []
  },
  {
   "cell_type": "markdown",
   "metadata": {
    "id": "ZlHDr6Eqk_FY"
   },
   "source": [
    "# LSTM Based Model\n"
   ]
  },
  {
   "cell_type": "code",
   "execution_count": null,
   "metadata": {
    "colab": {
     "base_uri": "https://localhost:8080/"
    },
    "id": "RZJiAv_W9V2d",
    "outputId": "75e9472e-63c4-4ed7-dd81-68051c10d699"
   },
   "outputs": [],
   "source": [
    "df.columns"
   ]
  },
  {
   "cell_type": "code",
   "execution_count": 112,
   "metadata": {
    "id": "rCvAEOpN2ggE"
   },
   "outputs": [],
   "source": [
    "df[\"combined_context_answer\"]=df[\"clean_context\"]+\" \"+df[\"clean_answer\"]"
   ]
  },
  {
   "cell_type": "code",
   "execution_count": 113,
   "metadata": {
    "id": "teAC7j4u9OF1"
   },
   "outputs": [],
   "source": [
    "def wordandidx(alltexts):\n",
    "  wordidx={}\n",
    "  idxword={}\n",
    "  idx=1\n",
    "  for text in alltexts:\n",
    "    words=text.split(\" \")\n",
    "    for word in words:\n",
    "      if word not in wordidx:\n",
    "        wordidx[word]=idx\n",
    "        idx=idx+1\n",
    "  idxword={v:i for i,v in wordidx.items()}\n",
    "  return wordidx,idxword"
   ]
  },
  {
   "cell_type": "code",
   "execution_count": 114,
   "metadata": {
    "id": "Lsi07bYm-iEF"
   },
   "outputs": [],
   "source": [
    "word2idx,idx2word=wordandidx(list(df[\"combined_context_answer\"]))"
   ]
  },
  {
   "cell_type": "code",
   "execution_count": 115,
   "metadata": {
    "colab": {
     "base_uri": "https://localhost:8080/"
    },
    "id": "WgPk3QJ--ujh",
    "outputId": "411c19c3-d2b8-4efd-c40e-5b9fc449d44e"
   },
   "outputs": [
    {
     "data": {
      "text/plain": [
       "11255"
      ]
     },
     "execution_count": 115,
     "metadata": {},
     "output_type": "execute_result"
    }
   ],
   "source": [
    "word2idx['25x']"
   ]
  },
  {
   "cell_type": "code",
   "execution_count": null,
   "metadata": {
    "id": "ITasv53SBRx7"
   },
   "outputs": [],
   "source": []
  },
  {
   "cell_type": "code",
   "execution_count": 116,
   "metadata": {
    "id": "8eZWcGdB-6GW"
   },
   "outputs": [],
   "source": [
    "def texttolist(alltext,word2idx):\n",
    "  listres=[]\n",
    "  for text in alltext:\n",
    "    tempres=[]\n",
    "    words=text.split(\" \")\n",
    "    for word in words:\n",
    "      tempres.append(word2idx[word])\n",
    "    listres.append(tempres)\n",
    "  return listres"
   ]
  },
  {
   "cell_type": "code",
   "execution_count": 117,
   "metadata": {
    "id": "CvpAns8C--JS"
   },
   "outputs": [],
   "source": [
    "text_to_index=texttolist(list(df[\"combined_context_answer\"]),word2idx)"
   ]
  },
  {
   "cell_type": "code",
   "execution_count": null,
   "metadata": {
    "id": "gZFE21MDAt1E"
   },
   "outputs": [],
   "source": []
  },
  {
   "cell_type": "code",
   "execution_count": 118,
   "metadata": {
    "id": "4w5Jd6MqA-YZ"
   },
   "outputs": [],
   "source": [
    "import tensorflow as tf\n",
    "from tensorflow.keras.preprocessing.sequence import pad_sequences\n",
    "\n"
   ]
  },
  {
   "cell_type": "code",
   "execution_count": 119,
   "metadata": {
    "id": "ftKRMchvFiZh"
   },
   "outputs": [],
   "source": []
  },
  {
   "cell_type": "code",
   "execution_count": 120,
   "metadata": {
    "id": "rJ28Z1OjGU6R"
   },
   "outputs": [],
   "source": [
    "Y=oh.fit_transform(df[\"ticker\"].iloc[:].values.reshape(-1,1))"
   ]
  },
  {
   "cell_type": "code",
   "execution_count": 121,
   "metadata": {},
   "outputs": [],
   "source": [
    "st=StandardScaler()\n",
    "X=padded_text_seq#st.fit_transform(np.array(padded_text_seq))"
   ]
  },
  {
   "cell_type": "code",
   "execution_count": 122,
   "metadata": {
    "id": "i2uZjglvF5Mj"
   },
   "outputs": [],
   "source": []
  },
  {
   "cell_type": "code",
   "execution_count": 148,
   "metadata": {
    "id": "Ga30SrChF-Xf"
   },
   "outputs": [],
   "source": [
    "from tensorflow.keras import Input\n",
    "from tensorflow.keras.layers import LSTM, Embedding, Dense, ReLU, Bidirectional,BatchNormalization, LayerNormalization\n",
    "from tensorflow.keras import Model\n",
    "from tensorflow.keras.optimizers import AdamW\n",
    "from tensorflow.keras.regularizers import L1L2\n",
    "from tensorflow.keras.preprocessing.text import Tokenizer"
   ]
  },
  {
   "cell_type": "code",
   "execution_count": 130,
   "metadata": {},
   "outputs": [],
   "source": [
    "vocab_size=len(word2idx)"
   ]
  },
  {
   "cell_type": "code",
   "execution_count": 173,
   "metadata": {},
   "outputs": [],
   "source": [
    "tokenizer = Tokenizer(num_words=10000, oov_token='<OOV>')\n",
    "tokenizer.fit_on_texts(df['combined_context_answer'])\n",
    "text_to_index=tokenizer.texts_to_sequences(list(df[\"combined_context_answer\"]))"
   ]
  },
  {
   "cell_type": "code",
   "execution_count": 188,
   "metadata": {},
   "outputs": [],
   "source": [
    "padded_text_seq=pad_sequences(text_to_index, maxlen=50, padding='post',truncating='post')"
   ]
  },
  {
   "cell_type": "code",
   "execution_count": 189,
   "metadata": {},
   "outputs": [
    {
     "data": {
      "text/plain": [
       "array([1551,  162,  916, 1448,  420,  290, 1169,    1,    1, 1378,  729,\n",
       "       1337,  162,  916, 1448,    0,    0,    0,    0,    0,    0,    0,\n",
       "          0,    0,    0,    0,    0,    0,    0,    0,    0,    0,    0,\n",
       "          0,    0,    0,    0,    0,    0,    0,    0,    0,    0,    0,\n",
       "          0,    0,    0,    0,    0,    0], dtype=int32)"
      ]
     },
     "execution_count": 189,
     "metadata": {},
     "output_type": "execute_result"
    }
   ],
   "source": [
    "padded_text_seq[0]"
   ]
  },
  {
   "cell_type": "code",
   "execution_count": 190,
   "metadata": {},
   "outputs": [],
   "source": [
    "X_train,X_test, Y_train, Y_test=train_test_split(X,Y)"
   ]
  },
  {
   "cell_type": "code",
   "execution_count": 201,
   "metadata": {
    "colab": {
     "base_uri": "https://localhost:8080/"
    },
    "id": "nwYSUEGsGzou",
    "outputId": "f27562f9-63f1-496c-b1b1-be90d31f23a0"
   },
   "outputs": [],
   "source": [
    "input =Input(shape=(None,), name=\"Input\")\n",
    "emdeddinglayer=Embedding(len(word2idx),128)(input)\n",
    "lstm=LSTM(units=64,return_sequences=False)(emdeddinglayer)\n",
    "# lstm2=Bidirectional(LSTM(units=64))(lstm)\n",
    "\n",
    "norm=LayerNormalization()(lstm)\n",
    "dense1=Dense(128, activation='relu')(norm)\n",
    "# # norm2=BatchNormalization()(dense1)\n",
    "# dense2=Dense(100, activation='relu')(dense1)\n",
    "dense3=Dense(69,activation='softmax')(dense1)"
   ]
  },
  {
   "cell_type": "code",
   "execution_count": 202,
   "metadata": {
    "id": "OXttO3p2IMqp"
   },
   "outputs": [],
   "source": [
    "model=Model(inputs=input,outputs=dense3)"
   ]
  },
  {
   "cell_type": "code",
   "execution_count": 203,
   "metadata": {
    "colab": {
     "base_uri": "https://localhost:8080/",
     "height": 289
    },
    "id": "8QMB5eNGPOnn",
    "outputId": "11be0e25-1222-4cae-f6fd-17b89f9e25ca"
   },
   "outputs": [
    {
     "name": "stdout",
     "output_type": "stream",
     "text": [
      "Model: \"model_11\"\n",
      "_________________________________________________________________\n",
      " Layer (type)                Output Shape              Param #   \n",
      "=================================================================\n",
      " Input (InputLayer)          [(None, None)]            0         \n",
      "                                                                 \n",
      " embedding_13 (Embedding)    (None, None, 128)         1440640   \n",
      "                                                                 \n",
      " lstm_12 (LSTM)              (None, 64)                49408     \n",
      "                                                                 \n",
      " layer_normalization_3 (Lay  (None, 64)                128       \n",
      " erNormalization)                                                \n",
      "                                                                 \n",
      " dense_17 (Dense)            (None, 128)               8320      \n",
      "                                                                 \n",
      " dense_18 (Dense)            (None, 69)                8901      \n",
      "                                                                 \n",
      "=================================================================\n",
      "Total params: 1507397 (5.75 MB)\n",
      "Trainable params: 1507397 (5.75 MB)\n",
      "Non-trainable params: 0 (0.00 Byte)\n",
      "_________________________________________________________________\n"
     ]
    }
   ],
   "source": [
    "model.summary()"
   ]
  },
  {
   "cell_type": "code",
   "execution_count": 204,
   "metadata": {
    "id": "h7LZepNuQG2z"
   },
   "outputs": [],
   "source": [
    "model.compile(optimizer=AdamW(learning_rate=0.0001),loss='categorical_focal_crossentropy',metrics=['acc'])"
   ]
  },
  {
   "cell_type": "code",
   "execution_count": 205,
   "metadata": {
    "colab": {
     "base_uri": "https://localhost:8080/",
     "height": 1000
    },
    "id": "4lp_QmP2QRMc",
    "outputId": "0d80ccc5-83db-4714-84b6-28c260303ce2"
   },
   "outputs": [
    {
     "name": "stdout",
     "output_type": "stream",
     "text": [
      "Epoch 1/20\n",
      "328/328 [==============================] - 18s 48ms/step - loss: 1.0315 - acc: 0.0309 - val_loss: 1.0307 - val_acc: 0.0223\n",
      "Epoch 2/20\n",
      "328/328 [==============================] - 5s 16ms/step - loss: 1.0274 - acc: 0.0337 - val_loss: 1.0295 - val_acc: 0.0223\n",
      "Epoch 3/20\n",
      "328/328 [==============================] - 5s 15ms/step - loss: 1.0257 - acc: 0.0375 - val_loss: 1.0307 - val_acc: 0.0223\n",
      "Epoch 4/20\n",
      "328/328 [==============================] - 4s 11ms/step - loss: 1.0239 - acc: 0.0410 - val_loss: 1.0305 - val_acc: 0.0223\n",
      "Epoch 5/20\n",
      "328/328 [==============================] - 4s 11ms/step - loss: 1.0214 - acc: 0.0423 - val_loss: 1.0306 - val_acc: 0.0223\n",
      "Epoch 6/20\n",
      "328/328 [==============================] - 4s 11ms/step - loss: 1.0194 - acc: 0.0415 - val_loss: 1.0299 - val_acc: 0.0229\n",
      "Epoch 7/20\n",
      "328/328 [==============================] - 3s 10ms/step - loss: 1.0176 - acc: 0.0429 - val_loss: 1.0307 - val_acc: 0.0229\n",
      "Epoch 8/20\n",
      "328/328 [==============================] - 3s 10ms/step - loss: 1.0159 - acc: 0.0436 - val_loss: 1.0302 - val_acc: 0.0229\n",
      "Epoch 9/20\n",
      "328/328 [==============================] - 4s 11ms/step - loss: 1.0136 - acc: 0.0455 - val_loss: 1.0298 - val_acc: 0.0229\n",
      "Epoch 10/20\n",
      "328/328 [==============================] - 3s 10ms/step - loss: 1.0113 - acc: 0.0459 - val_loss: 1.0287 - val_acc: 0.0286\n",
      "Epoch 11/20\n",
      "328/328 [==============================] - 3s 9ms/step - loss: 1.0083 - acc: 0.0469 - val_loss: 1.0246 - val_acc: 0.0257\n",
      "Epoch 12/20\n",
      "328/328 [==============================] - 3s 10ms/step - loss: 0.9978 - acc: 0.0513 - val_loss: 1.0140 - val_acc: 0.0337\n",
      "Epoch 13/20\n",
      "328/328 [==============================] - 3s 9ms/step - loss: 0.9695 - acc: 0.0585 - val_loss: 0.9954 - val_acc: 0.0331\n",
      "Epoch 14/20\n",
      "328/328 [==============================] - 3s 10ms/step - loss: 0.9275 - acc: 0.0612 - val_loss: 0.9761 - val_acc: 0.0389\n",
      "Epoch 15/20\n",
      "328/328 [==============================] - 3s 10ms/step - loss: 0.8848 - acc: 0.0732 - val_loss: 0.9689 - val_acc: 0.0497\n",
      "Epoch 16/20\n",
      "328/328 [==============================] - 5s 17ms/step - loss: 0.8456 - acc: 0.0852 - val_loss: 0.9656 - val_acc: 0.0451\n",
      "Epoch 17/20\n",
      "328/328 [==============================] - 7s 21ms/step - loss: 0.8139 - acc: 0.0884 - val_loss: 0.9768 - val_acc: 0.0514\n",
      "Epoch 18/20\n",
      "328/328 [==============================] - 7s 21ms/step - loss: 0.7868 - acc: 0.0962 - val_loss: 1.0015 - val_acc: 0.0503\n",
      "Epoch 19/20\n",
      "328/328 [==============================] - 7s 22ms/step - loss: 0.7562 - acc: 0.1096 - val_loss: 0.9976 - val_acc: 0.0514\n",
      "Epoch 20/20\n",
      "328/328 [==============================] - 4s 13ms/step - loss: 0.7378 - acc: 0.1168 - val_loss: 1.0282 - val_acc: 0.0526\n"
     ]
    }
   ],
   "source": [
    "history=model.fit(X_train,Y_train,epochs=20, batch_size=16, validation_data=[X_test,Y_test])"
   ]
  },
  {
   "cell_type": "code",
   "execution_count": 197,
   "metadata": {
    "colab": {
     "base_uri": "https://localhost:8080/"
    },
    "id": "sc106ZT2QYwX",
    "outputId": "5d03dc93-36ee-46fe-e317-7639ca4732d1"
   },
   "outputs": [
    {
     "data": {
      "text/plain": [
       "dict_keys(['loss', 'acc', 'val_loss', 'val_acc'])"
      ]
     },
     "execution_count": 197,
     "metadata": {},
     "output_type": "execute_result"
    }
   ],
   "source": [
    "history.history.keys()"
   ]
  },
  {
   "cell_type": "code",
   "execution_count": 198,
   "metadata": {
    "colab": {
     "base_uri": "https://localhost:8080/"
    },
    "id": "23CfbccHQ59s",
    "outputId": "461d084a-d96a-4b21-a328-1a329f837552"
   },
   "outputs": [
    {
     "data": {
      "text/plain": [
       "(5248, 100)"
      ]
     },
     "execution_count": 198,
     "metadata": {},
     "output_type": "execute_result"
    }
   ],
   "source": [
    "X_train.shape"
   ]
  },
  {
   "cell_type": "code",
   "execution_count": 199,
   "metadata": {
    "id": "cYqinkzUQ_7v"
   },
   "outputs": [
    {
     "data": {
      "text/plain": [
       "[<matplotlib.lines.Line2D at 0x7b179a4ee4c0>]"
      ]
     },
     "execution_count": 199,
     "metadata": {},
     "output_type": "execute_result"
    },
    {
     "data": {
      "image/png": "[encoded data removed]",
      "text/plain": [
       "<Figure size 640x480 with 1 Axes>"
      ]
     },
     "metadata": {},
     "output_type": "display_data"
    }
   ],
   "source": [
    "plt.plot(history.history[\"loss\"])\n",
    "plt.plot(history.history[\"val_loss\"])"
   ]
  },
  {
   "cell_type": "code",
   "execution_count": 200,
   "metadata": {},
   "outputs": [
    {
     "data": {
      "text/plain": [
       "[<matplotlib.lines.Line2D at 0x7b17900f7e20>]"
      ]
     },
     "execution_count": 200,
     "metadata": {},
     "output_type": "execute_result"
    },
    {
     "data": {
      "image/png": "[encoded data removed]",
      "text/plain": [
       "<Figure size 640x480 with 1 Axes>"
      ]
     },
     "metadata": {},
     "output_type": "display_data"
    }
   ],
   "source": [
    "plt.plot(history.history[\"acc\"])\n",
    "plt.plot(history.history[\"val_acc\"])"
   ]
  },
  {
   "cell_type": "code",
   "execution_count": null,
   "metadata": {},
   "outputs": [],
   "source": []
  }
 ],
 "metadata": {
  "accelerator": "GPU",
  "colab": {
   "gpuType": "T4",
   "include_colab_link": true,
   "provenance": []
  },
  "kernelspec": {
   "display_name": "Python 3 (ipykernel)",
   "language": "python",
   "name": "python3"
  },
  "language_info": {
   "codemirror_mode": {
    "name": "ipython",
    "version": 3
   },
   "file_extension": ".py",
   "mimetype": "text/x-python",
   "name": "python",
   "nbconvert_exporter": "python",
   "pygments_lexer": "ipython3",
   "version": "3.9.0"
  }
 },
 "nbformat": 4,
 "nbformat_minor": 1
}
