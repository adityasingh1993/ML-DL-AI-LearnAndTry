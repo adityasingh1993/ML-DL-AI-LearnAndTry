{
 "cells": [
  {
   "cell_type": "code",
   "execution_count": 3,
   "id": "15c5e0cd",
   "metadata": {},
   "outputs": [],
   "source": [
    "import pandas as pd\n",
    "import numpy as np\n",
    "import string\n",
    "import matplotlib.pyplot as plt\n",
    "import seaborn as sns\n",
    "import nltk\n",
    "from nltk.corpus import stopwords\n",
    "from nltk.stem import PorterStemmer\n",
    "from nltk.stem import WordNetLemmatizer\n",
    "from sklearn.model_selection import train_test_split\n",
    "from sklearn.preprocessing import OneHotEncoder, LabelEncoder\n",
    "\n",
    "from sklearn.metrics import confusion_matrix, accuracy_score, f1_score, precision_score, recall_score\n",
    "from sklearn.preprocessing import StandardScaler\n",
    "import spacy\n",
    "from spacy.lang.en import stop_words\n",
    "import mlflow"
   ]
  },
  {
   "cell_type": "code",
   "execution_count": 4,
   "id": "076e7b4a",
   "metadata": {},
   "outputs": [
    {
     "data": {
      "text/plain": [
       "<Experiment: artifact_location='mlflow-artifacts:/263768786006771851', creation_time=1730568757421, experiment_id='263768786006771851', last_update_time=1730568757421, lifecycle_stage='active', name='/financelstm', tags={}>"
      ]
     },
     "execution_count": 4,
     "metadata": {},
     "output_type": "execute_result"
    }
   ],
   "source": [
    "mlflow.set_tracking_uri(\"http://127.0.0.1:8080/\")\n",
    "mlflow.set_experiment(\"/financelstm\")"
   ]
  },
  {
   "cell_type": "code",
   "execution_count": 21,
   "id": "a814faa2",
   "metadata": {},
   "outputs": [],
   "source": [
    "from transformers import AutoTokenizer, TFBertForTokenClassification"
   ]
  },
  {
   "cell_type": "markdown",
   "id": "e1dd18d4",
   "metadata": {},
   "source": []
  },
  {
   "cell_type": "code",
   "execution_count": 29,
   "id": "78500098",
   "metadata": {},
   "outputs": [],
   "source": [
    "model_name='bert-base-uncased'"
   ]
  },
  {
   "cell_type": "code",
   "execution_count": 30,
   "id": "35353f69",
   "metadata": {},
   "outputs": [
    {
     "data": {
      "application/vnd.jupyter.widget-view+json": {
       "model_id": "c41f169a9448412b89891c8024a88132",
       "version_major": 2,
       "version_minor": 0
      },
      "text/plain": [
       "tokenizer_config.json:   0%|          | 0.00/48.0 [00:00<?, ?B/s]"
      ]
     },
     "metadata": {},
     "output_type": "display_data"
    },
    {
     "data": {
      "application/vnd.jupyter.widget-view+json": {
       "model_id": "97077dcca00941fa973bdbfa75bbd72c",
       "version_major": 2,
       "version_minor": 0
      },
      "text/plain": [
       "config.json:   0%|          | 0.00/570 [00:00<?, ?B/s]"
      ]
     },
     "metadata": {},
     "output_type": "display_data"
    },
    {
     "data": {
      "application/vnd.jupyter.widget-view+json": {
       "model_id": "33ad43bedd5a4ef2972c62120de12135",
       "version_major": 2,
       "version_minor": 0
      },
      "text/plain": [
       "vocab.txt:   0%|          | 0.00/232k [00:00<?, ?B/s]"
      ]
     },
     "metadata": {},
     "output_type": "display_data"
    },
    {
     "data": {
      "application/vnd.jupyter.widget-view+json": {
       "model_id": "5bb053d8ea894acaa3ff5fdb32bb616b",
       "version_major": 2,
       "version_minor": 0
      },
      "text/plain": [
       "tokenizer.json:   0%|          | 0.00/466k [00:00<?, ?B/s]"
      ]
     },
     "metadata": {},
     "output_type": "display_data"
    }
   ],
   "source": [
    "tokenizer=AutoTokenizer.from_pretrained(model_name,do_lower=True)"
   ]
  },
  {
   "cell_type": "code",
   "execution_count": 31,
   "id": "4d7eb738",
   "metadata": {},
   "outputs": [],
   "source": [
    "df=pd.read_csv(\"Financial-QA-10k.csv\")"
   ]
  },
  {
   "cell_type": "code",
   "execution_count": 32,
   "id": "964c977a",
   "metadata": {},
   "outputs": [
    {
     "data": {
      "text/plain": [
       "'Since our original focus on PC graphics, we have expanded to several other large and important computationally intensive fields.'"
      ]
     },
     "execution_count": 32,
     "metadata": {},
     "output_type": "execute_result"
    }
   ],
   "source": [
    "df[\"context\"].iloc[0]"
   ]
  },
  {
   "cell_type": "code",
   "execution_count": 35,
   "id": "b31eb558",
   "metadata": {},
   "outputs": [],
   "source": [
    "token_text=tokenizer.tokenize(df[\"context\"].iloc[0].lower())"
   ]
  },
  {
   "cell_type": "code",
   "execution_count": 41,
   "id": "9e786630",
   "metadata": {},
   "outputs": [
    {
     "data": {
      "text/plain": [
       "[2144,\n",
       " 2256,\n",
       " 2434,\n",
       " 3579,\n",
       " 2006,\n",
       " 7473,\n",
       " 8389,\n",
       " 1010,\n",
       " 2057,\n",
       " 2031,\n",
       " 4423,\n",
       " 2000,\n",
       " 2195,\n",
       " 2060,\n",
       " 2312,\n",
       " 1998,\n",
       " 2590,\n",
       " 15078,\n",
       " 2135,\n",
       " 11806,\n",
       " 4249,\n",
       " 1012]"
      ]
     },
     "execution_count": 41,
     "metadata": {},
     "output_type": "execute_result"
    }
   ],
   "source": [
    "tokenizer.convert_tokens_to_ids(tuple(token_text))"
   ]
  },
  {
   "cell_type": "code",
   "execution_count": null,
   "id": "49bd82a0",
   "metadata": {},
   "outputs": [],
   "source": []
  }
 ],
 "metadata": {
  "kernelspec": {
   "display_name": "tf",
   "language": "python",
   "name": "tf"
  },
  "language_info": {
   "codemirror_mode": {
    "name": "ipython",
    "version": 3
   },
   "file_extension": ".py",
   "mimetype": "text/x-python",
   "name": "python",
   "nbconvert_exporter": "python",
   "pygments_lexer": "ipython3",
   "version": "3.9.0"
  }
 },
 "nbformat": 4,
 "nbformat_minor": 5
}
