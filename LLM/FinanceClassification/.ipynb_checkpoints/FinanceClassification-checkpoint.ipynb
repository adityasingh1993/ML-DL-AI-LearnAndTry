{
 "cells": [
  {
   "cell_type": "markdown",
   "metadata": {
    "colab_type": "text",
    "id": "view-in-github"
   },
   "source": [
    "<a href=\"https://colab.research.google.com/github/adityasingh1993/ML-DL-AI-LearnAndTry/blob/main/LLM/FinanceClassification.ipynb\" target=\"_parent\"><img src=\"https://colab.research.google.com/assets/colab-badge.svg\" alt=\"Open In Colab\"/></a>"
   ]
  },
  {
   "cell_type": "code",
   "execution_count": null,
   "metadata": {
    "colab": {
     "base_uri": "https://localhost:8080/"
    },
    "id": "IiVwQne2NxEb",
    "outputId": "bf2d67b7-ec00-4805-ac25-7bdf65c704c9"
   },
   "outputs": [],
   "source": [
    "!ls"
   ]
  },
  {
   "cell_type": "code",
   "execution_count": null,
   "metadata": {
    "colab": {
     "base_uri": "https://localhost:8080/"
    },
    "id": "8u_BgS7VNkDv",
    "outputId": "2a44a177-f501-48d0-ff6d-8251488b387e"
   },
   "outputs": [],
   "source": [
    "!unzip Financial-QA-10k.csv.zip"
   ]
  },
  {
   "cell_type": "code",
   "execution_count": 1,
   "metadata": {
    "id": "P0B9Ial5N0kQ"
   },
   "outputs": [],
   "source": [
    "import pandas as pd\n",
    "import numpy as np\n",
    "import string\n",
    "import matplotlib.pyplot as plt\n",
    "import seaborn as sns\n",
    "import nltk\n",
    "from nltk.corpus import stopwords\n",
    "from nltk.stem import PorterStemmer\n",
    "from nltk.stem import WordNetLemmatizer\n",
    "from sklearn.model_selection import train_test_split\n",
    "from sklearn.preprocessing import OneHotEncoder, LabelEncoder\n",
    "from sklearn.metrics import confusion_matrix, accuracy_score, f1_score, precision_score, recall_score\n",
    "from sklearn.preprocessing import StandardScaler\n",
    "import spacy\n",
    "from spacy.lang.en import stop_words\n",
    "\n",
    "\n",
    "# nltk.download('all')"
   ]
  },
  {
   "cell_type": "code",
   "execution_count": 2,
   "metadata": {
    "id": "aOrY_b-qx9j1"
   },
   "outputs": [],
   "source": [
    "all_stop_word=stop_words.STOP_WORDS"
   ]
  },
  {
   "cell_type": "code",
   "execution_count": 3,
   "metadata": {
    "colab": {
     "base_uri": "https://localhost:8080/"
    },
    "id": "kd7n76z8NhOX",
    "outputId": "32e3541d-4e9e-4467-a200-11b0c409a9ac"
   },
   "outputs": [
    {
     "data": {
      "text/plain": [
       "False"
      ]
     },
     "execution_count": 3,
     "metadata": {},
     "output_type": "execute_result"
    }
   ],
   "source": [
    "\"be\" not in all_stop_word"
   ]
  },
  {
   "cell_type": "code",
   "execution_count": 4,
   "metadata": {
    "id": "1nZ0xcBEwFG1"
   },
   "outputs": [],
   "source": [
    "\n",
    "nlp = spacy.load(\"en_core_web_sm\")\n"
   ]
  },
  {
   "cell_type": "code",
   "execution_count": 5,
   "metadata": {
    "id": "t9BQ3MZ-wNzd"
   },
   "outputs": [],
   "source": [
    "txt=nlp(\"hi this is Aditya\")"
   ]
  },
  {
   "cell_type": "code",
   "execution_count": 6,
   "metadata": {
    "colab": {
     "base_uri": "https://localhost:8080/"
    },
    "id": "iJwSEGzhwHSV",
    "outputId": "26f3fc5e-d593-4125-ca34-fafc2193041f"
   },
   "outputs": [
    {
     "name": "stdout",
     "output_type": "stream",
     "text": [
      "hi hi\n",
      "Aditya Aditya\n"
     ]
    }
   ],
   "source": [
    "for ent in txt:\n",
    "  if ent.text not in list(all_stop_word):\n",
    "    print(ent, ent.lemma_)\n"
   ]
  },
  {
   "cell_type": "markdown",
   "metadata": {
    "id": "wLzTfOMkOOrH"
   },
   "source": [
    "### Load dataframe"
   ]
  },
  {
   "cell_type": "code",
   "execution_count": 10,
   "metadata": {
    "id": "PzrqMo_eOBze"
   },
   "outputs": [],
   "source": [
    "df=pd.read_csv(\"Financial-QA-10k.csv\")"
   ]
  },
  {
   "cell_type": "code",
   "execution_count": 11,
   "metadata": {
    "colab": {
     "base_uri": "https://localhost:8080/",
     "height": 147
    },
    "id": "kp4XW0vBOIgk",
    "outputId": "79a111c0-e3e6-47de-89bc-82ccf473b171"
   },
   "outputs": [
    {
     "data": {
      "text/html": [
       "<div>\n",
       "<style scoped>\n",
       "    .dataframe tbody tr th:only-of-type {\n",
       "        vertical-align: middle;\n",
       "    }\n",
       "\n",
       "    .dataframe tbody tr th {\n",
       "        vertical-align: top;\n",
       "    }\n",
       "\n",
       "    .dataframe thead th {\n",
       "        text-align: right;\n",
       "    }\n",
       "</style>\n",
       "<table border=\"1\" class=\"dataframe\">\n",
       "  <thead>\n",
       "    <tr style=\"text-align: right;\">\n",
       "      <th></th>\n",
       "      <th>question</th>\n",
       "      <th>answer</th>\n",
       "      <th>context</th>\n",
       "      <th>ticker</th>\n",
       "      <th>filing</th>\n",
       "    </tr>\n",
       "  </thead>\n",
       "  <tbody>\n",
       "    <tr>\n",
       "      <th>0</th>\n",
       "      <td>What area did NVIDIA initially focus on before...</td>\n",
       "      <td>NVIDIA initially focused on PC graphics.</td>\n",
       "      <td>Since our original focus on PC graphics, we ha...</td>\n",
       "      <td>NVDA</td>\n",
       "      <td>2023_10K</td>\n",
       "    </tr>\n",
       "    <tr>\n",
       "      <th>1</th>\n",
       "      <td>What are some of the recent applications of GP...</td>\n",
       "      <td>Recent applications of GPU-powered deep learni...</td>\n",
       "      <td>Some of the most recent applications of GPU-po...</td>\n",
       "      <td>NVDA</td>\n",
       "      <td>2023_10K</td>\n",
       "    </tr>\n",
       "  </tbody>\n",
       "</table>\n",
       "</div>"
      ],
      "text/plain": [
       "                                            question  \\\n",
       "0  What area did NVIDIA initially focus on before...   \n",
       "1  What are some of the recent applications of GP...   \n",
       "\n",
       "                                              answer  \\\n",
       "0           NVIDIA initially focused on PC graphics.   \n",
       "1  Recent applications of GPU-powered deep learni...   \n",
       "\n",
       "                                             context ticker    filing  \n",
       "0  Since our original focus on PC graphics, we ha...   NVDA  2023_10K  \n",
       "1  Some of the most recent applications of GPU-po...   NVDA  2023_10K  "
      ]
     },
     "execution_count": 11,
     "metadata": {},
     "output_type": "execute_result"
    }
   ],
   "source": [
    "df.head(2)"
   ]
  },
  {
   "cell_type": "code",
   "execution_count": 12,
   "metadata": {
    "colab": {
     "base_uri": "https://localhost:8080/"
    },
    "id": "IL8TQqTrmQs-",
    "outputId": "de132fde-61a3-4791-8173-6fcb49ea763d"
   },
   "outputs": [
    {
     "name": "stdout",
     "output_type": "stream",
     "text": [
      "<class 'pandas.core.frame.DataFrame'>\n",
      "RangeIndex: 7000 entries, 0 to 6999\n",
      "Data columns (total 5 columns):\n",
      " #   Column    Non-Null Count  Dtype \n",
      "---  ------    --------------  ----- \n",
      " 0   question  6998 non-null   object\n",
      " 1   answer    6998 non-null   object\n",
      " 2   context   6999 non-null   object\n",
      " 3   ticker    7000 non-null   object\n",
      " 4   filing    7000 non-null   object\n",
      "dtypes: object(5)\n",
      "memory usage: 273.6+ KB\n"
     ]
    }
   ],
   "source": [
    "df.info()"
   ]
  },
  {
   "cell_type": "markdown",
   "metadata": {
    "id": "C_PU12eTOKLw"
   },
   "source": [
    "\n",
    "## Lets do some exploartaion"
   ]
  },
  {
   "cell_type": "markdown",
   "metadata": {
    "id": "E_GHjaE0PNMB"
   },
   "source": [
    "### check the length of each columns"
   ]
  },
  {
   "cell_type": "code",
   "execution_count": 13,
   "metadata": {
    "colab": {
     "base_uri": "https://localhost:8080/",
     "height": 447
    },
    "id": "-o7sqXC0PRzQ",
    "outputId": "95a43027-7e04-40ee-bf53-579b7f1e6572"
   },
   "outputs": [
    {
     "data": {
      "text/plain": [
       "<Axes: ylabel='Frequency'>"
      ]
     },
     "execution_count": 13,
     "metadata": {},
     "output_type": "execute_result"
    },
    {
     "data": {
      "image/png": "[encoded data removed]",
      "text/plain": [
       "<Figure size 640x480 with 1 Axes>"
      ]
     },
     "metadata": {},
     "output_type": "display_data"
    }
   ],
   "source": [
    "df[\"question\"].str.len().plot(kind='hist',bins=100)"
   ]
  },
  {
   "cell_type": "code",
   "execution_count": null,
   "metadata": {
    "id": "cGhPU3jfQlP5"
   },
   "outputs": [],
   "source": []
  },
  {
   "cell_type": "code",
   "execution_count": 14,
   "metadata": {
    "colab": {
     "base_uri": "https://localhost:8080/",
     "height": 466
    },
    "id": "0dtjy4JfPhdU",
    "outputId": "b70eaa34-75f4-4226-bab7-0bfa878f275a"
   },
   "outputs": [
    {
     "data": {
      "text/plain": [
       "Text(0.5, 0, 'length->')"
      ]
     },
     "execution_count": 14,
     "metadata": {},
     "output_type": "execute_result"
    },
    {
     "data": {
      "image/png": "[encoded data removed]",
      "text/plain": [
       "<Figure size 640x480 with 1 Axes>"
      ]
     },
     "metadata": {},
     "output_type": "display_data"
    }
   ],
   "source": [
    "df[\"answer\"].str.len().plot(kind='hist',bins=100)\n",
    "plt.ylabel(\"frequency->\")\n",
    "plt.xlabel(\"length->\")"
   ]
  },
  {
   "cell_type": "code",
   "execution_count": null,
   "metadata": {
    "id": "hnmBD3TYV6sY"
   },
   "outputs": [],
   "source": []
  },
  {
   "cell_type": "code",
   "execution_count": 15,
   "metadata": {
    "colab": {
     "base_uri": "https://localhost:8080/",
     "height": 447
    },
    "id": "ZyFAshtDQESo",
    "outputId": "80256ad4-e836-43d0-e382-3838edaf849c"
   },
   "outputs": [
    {
     "data": {
      "text/plain": [
       "(0.0, 1000.0)"
      ]
     },
     "execution_count": 15,
     "metadata": {},
     "output_type": "execute_result"
    },
    {
     "data": {
      "image/png": "[encoded data removed]",
      "text/plain": [
       "<Figure size 640x480 with 1 Axes>"
      ]
     },
     "metadata": {},
     "output_type": "display_data"
    }
   ],
   "source": [
    "df[\"context\"].str.len().plot(kind='hist',bins=100)\n",
    "plt.xlim((0,1000))"
   ]
  },
  {
   "cell_type": "code",
   "execution_count": 16,
   "metadata": {
    "colab": {
     "base_uri": "https://localhost:8080/",
     "height": 447
    },
    "id": "CcxoctbbRKH8",
    "outputId": "966fc165-6fb5-4b61-8b61-846d3111b6a9"
   },
   "outputs": [
    {
     "data": {
      "text/plain": [
       "<Axes: ylabel='Frequency'>"
      ]
     },
     "execution_count": 16,
     "metadata": {},
     "output_type": "execute_result"
    },
    {
     "data": {
      "image/png": "[encoded data removed]",
      "text/plain": [
       "<Figure size 640x480 with 1 Axes>"
      ]
     },
     "metadata": {},
     "output_type": "display_data"
    }
   ],
   "source": [
    "df[\"answer\"].str.len().plot(kind='hist',bins=100)\n",
    "df[\"question\"].str.len().plot(kind='hist',bins=100)"
   ]
  },
  {
   "cell_type": "code",
   "execution_count": 17,
   "metadata": {
    "colab": {
     "base_uri": "https://localhost:8080/"
    },
    "id": "ji5wRwQSV9YG",
    "outputId": "d8bfdd37-24b8-4dfb-facb-9f2e48bccb0b"
   },
   "outputs": [
    {
     "data": {
      "text/plain": [
       "Index(['question', 'answer', 'context', 'ticker', 'filing'], dtype='object')"
      ]
     },
     "execution_count": 17,
     "metadata": {},
     "output_type": "execute_result"
    }
   ],
   "source": [
    "df.columns"
   ]
  },
  {
   "cell_type": "code",
   "execution_count": 18,
   "metadata": {
    "colab": {
     "base_uri": "https://localhost:8080/",
     "height": 481
    },
    "id": "Pcs8fWAnWrgj",
    "outputId": "e4ae6129-0015-4ed7-ac2e-8c69e8d7c65b"
   },
   "outputs": [
    {
     "data": {
      "image/png": "[encoded data removed]",
      "text/plain": [
       "<Figure size 2000x1000 with 1 Axes>"
      ]
     },
     "metadata": {},
     "output_type": "display_data"
    }
   ],
   "source": [
    "plt.figure(figsize=(20,10))\n",
    "sns.countplot(data=df,x='ticker')\n",
    "plt.xticks(rotation=90)\n",
    "plt.show()"
   ]
  },
  {
   "cell_type": "code",
   "execution_count": 19,
   "metadata": {
    "colab": {
     "base_uri": "https://localhost:8080/",
     "height": 428
    },
    "id": "zgTTN3VPWx1U",
    "outputId": "c77ae9ad-51cd-460c-a487-26be682b9665"
   },
   "outputs": [
    {
     "data": {
      "text/plain": [
       "<Axes: ylabel='count'>"
      ]
     },
     "execution_count": 19,
     "metadata": {},
     "output_type": "execute_result"
    },
    {
     "data": {
      "image/png": "[encoded data removed]",
      "text/plain": [
       "<Figure size 640x480 with 1 Axes>"
      ]
     },
     "metadata": {},
     "output_type": "display_data"
    }
   ],
   "source": [
    "sns.boxplot(y=df[\"ticker\"].value_counts().reset_index()[\"count\"])"
   ]
  },
  {
   "cell_type": "code",
   "execution_count": null,
   "metadata": {
    "id": "7oytVMv5h7CU"
   },
   "outputs": [],
   "source": []
  },
  {
   "cell_type": "code",
   "execution_count": 20,
   "metadata": {
    "colab": {
     "base_uri": "https://localhost:8080/",
     "height": 35
    },
    "id": "aYAMGLi4bxFB",
    "outputId": "9933dbb0-8621-457a-b904-86ce6f1ef495"
   },
   "outputs": [
    {
     "data": {
      "text/plain": [
       "'What area did NVIDIA initially focus on before expanding to other computationally intensive fields'"
      ]
     },
     "execution_count": 20,
     "metadata": {},
     "output_type": "execute_result"
    }
   ],
   "source": [
    "df[\"question\"].iloc[0].translate(str.maketrans('','',string.punctuation))"
   ]
  },
  {
   "cell_type": "code",
   "execution_count": 21,
   "metadata": {
    "id": "kX70DwvAtWBy"
   },
   "outputs": [],
   "source": [
    "# stopwords('english').words"
   ]
  },
  {
   "cell_type": "code",
   "execution_count": 22,
   "metadata": {
    "id": "GpBTeBDbg_ge"
   },
   "outputs": [],
   "source": [
    "\n",
    "def remove_punctuation(text):\n",
    "  try:\n",
    "    text=text.translate(str.maketrans('','',string.punctuation)).lower()\n",
    "    txt=nlp(text)\n",
    "    res=[]\n",
    "    for ent in txt:\n",
    "      if ent.text not in list(all_stop_word):\n",
    "          res.append(ent.lemma_)\n",
    "    return \" \".join(res)\n",
    "  except:\n",
    "    print(f\"text: {text}\")\n",
    "    return ''\n"
   ]
  },
  {
   "cell_type": "code",
   "execution_count": 23,
   "metadata": {
    "colab": {
     "base_uri": "https://localhost:8080/"
    },
    "id": "YoABsrDOjQ1z",
    "outputId": "9b549002-8d1c-4663-b819-dfa503b6609d"
   },
   "outputs": [
    {
     "name": "stdout",
     "output_type": "stream",
     "text": [
      "text: nan\n",
      "text: nan\n",
      "text: nan\n"
     ]
    }
   ],
   "source": [
    "df[\"clean_context\"]=df[\"context\"].apply(lambda x:remove_punctuation(x))\n",
    "df[\"clean_answer\"]=df[\"answer\"].apply(lambda x:remove_punctuation(x))"
   ]
  },
  {
   "cell_type": "code",
   "execution_count": 24,
   "metadata": {
    "id": "Lr68fZqajohh"
   },
   "outputs": [],
   "source": [
    "def check_common_words(answer,context):\n",
    "  try:\n",
    "    return (len(set(answer.split(' ')).intersection(set(context.split(' '))))/len(answer.split(' ')))*100\n",
    "  except Exception as ex:\n",
    "    print(f\"exeption: {ex}\")\n",
    "    return 100"
   ]
  },
  {
   "cell_type": "code",
   "execution_count": 25,
   "metadata": {
    "id": "lQNL2CYjkSTl"
   },
   "outputs": [],
   "source": [
    "df[\"answer_context_commonword\"]=df.apply(lambda x: check_common_words(x.clean_answer,x.clean_context),axis=1)"
   ]
  },
  {
   "cell_type": "code",
   "execution_count": 26,
   "metadata": {
    "colab": {
     "base_uri": "https://localhost:8080/",
     "height": 447
    },
    "id": "PLCnyh1Qkjlo",
    "outputId": "3bd484d7-c257-40ae-94d6-39bae2797a66"
   },
   "outputs": [
    {
     "data": {
      "text/plain": [
       "<Axes: ylabel='Frequency'>"
      ]
     },
     "execution_count": 26,
     "metadata": {},
     "output_type": "execute_result"
    },
    {
     "data": {
      "image/png": "[encoded data removed]",
      "text/plain": [
       "<Figure size 640x480 with 1 Axes>"
      ]
     },
     "metadata": {},
     "output_type": "display_data"
    }
   ],
   "source": [
    "df[\"answer_context_commonword\"].plot(kind='hist',bins=100)"
   ]
  },
  {
   "cell_type": "code",
   "execution_count": 27,
   "metadata": {},
   "outputs": [],
   "source": [
    "df=df[df[\"answer_context_commonword\"]>=50]"
   ]
  },
  {
   "cell_type": "code",
   "execution_count": 28,
   "metadata": {
    "colab": {
     "base_uri": "https://localhost:8080/",
     "height": 300
    },
    "id": "GzpjConOmayb",
    "outputId": "9b5d2ab2-f185-4025-d342-9708a134432d"
   },
   "outputs": [
    {
     "data": {
      "text/html": [
       "<div>\n",
       "<style scoped>\n",
       "    .dataframe tbody tr th:only-of-type {\n",
       "        vertical-align: middle;\n",
       "    }\n",
       "\n",
       "    .dataframe tbody tr th {\n",
       "        vertical-align: top;\n",
       "    }\n",
       "\n",
       "    .dataframe thead th {\n",
       "        text-align: right;\n",
       "    }\n",
       "</style>\n",
       "<table border=\"1\" class=\"dataframe\">\n",
       "  <thead>\n",
       "    <tr style=\"text-align: right;\">\n",
       "      <th></th>\n",
       "      <th>answer_context_commonword</th>\n",
       "    </tr>\n",
       "  </thead>\n",
       "  <tbody>\n",
       "    <tr>\n",
       "      <th>count</th>\n",
       "      <td>6590.000000</td>\n",
       "    </tr>\n",
       "    <tr>\n",
       "      <th>mean</th>\n",
       "      <td>85.176119</td>\n",
       "    </tr>\n",
       "    <tr>\n",
       "      <th>std</th>\n",
       "      <td>14.853436</td>\n",
       "    </tr>\n",
       "    <tr>\n",
       "      <th>min</th>\n",
       "      <td>50.000000</td>\n",
       "    </tr>\n",
       "    <tr>\n",
       "      <th>25%</th>\n",
       "      <td>75.000000</td>\n",
       "    </tr>\n",
       "    <tr>\n",
       "      <th>50%</th>\n",
       "      <td>87.500000</td>\n",
       "    </tr>\n",
       "    <tr>\n",
       "      <th>75%</th>\n",
       "      <td>100.000000</td>\n",
       "    </tr>\n",
       "    <tr>\n",
       "      <th>max</th>\n",
       "      <td>100.000000</td>\n",
       "    </tr>\n",
       "  </tbody>\n",
       "</table>\n",
       "</div>"
      ],
      "text/plain": [
       "       answer_context_commonword\n",
       "count                6590.000000\n",
       "mean                   85.176119\n",
       "std                    14.853436\n",
       "min                    50.000000\n",
       "25%                    75.000000\n",
       "50%                    87.500000\n",
       "75%                   100.000000\n",
       "max                   100.000000"
      ]
     },
     "execution_count": 28,
     "metadata": {},
     "output_type": "execute_result"
    }
   ],
   "source": [
    "df[[\"answer_context_commonword\"]].describe()"
   ]
  },
  {
   "cell_type": "code",
   "execution_count": 29,
   "metadata": {
    "id": "senPIKKGVgrA"
   },
   "outputs": [],
   "source": [
    "from scipy.stats import ttest_ind"
   ]
  },
  {
   "cell_type": "code",
   "execution_count": 30,
   "metadata": {
    "id": "gUkjeibmWNX_"
   },
   "outputs": [],
   "source": [
    "unique_ticker=list(df[\"ticker\"].unique())"
   ]
  },
  {
   "cell_type": "code",
   "execution_count": 31,
   "metadata": {
    "colab": {
     "base_uri": "https://localhost:8080/"
    },
    "id": "fgcaaoUrWNmd",
    "outputId": "76f47d49-34d7-4fb0-8972-b3f2ae7e6231"
   },
   "outputs": [
    {
     "name": "stdout",
     "output_type": "stream",
     "text": [
      "TtestResult(statistic=-1.833035669339, pvalue=0.06684236672808988, df=6588.0)\n",
      "TtestResult(statistic=3.146559326193496, pvalue=0.0016594000117952244, df=6588.0)\n",
      "TtestResult(statistic=-1.972443558088956, pvalue=0.048600747314849105, df=6588.0)\n",
      "TtestResult(statistic=-6.310773723540465, pvalue=2.956773204522977e-10, df=6588.0)\n",
      "TtestResult(statistic=-3.2252590105620893, pvalue=0.0012647317433602564, df=6588.0)\n",
      "TtestResult(statistic=-2.153785866355332, pvalue=0.03129313237191166, df=6588.0)\n",
      "TtestResult(statistic=-2.9534744241084736, pvalue=0.0031532904948935567, df=6588.0)\n",
      "TtestResult(statistic=-3.8966195289786683, pvalue=9.851139170279439e-05, df=6588.0)\n",
      "TtestResult(statistic=-1.3884671482259554, pvalue=0.16504178433290542, df=6588.0)\n",
      "TtestResult(statistic=-3.1725112497889505, pvalue=0.0015182091986651089, df=6588.0)\n",
      "TtestResult(statistic=-5.661535647609798, pvalue=1.563434669158981e-08, df=6588.0)\n",
      "TtestResult(statistic=-5.778037994398927, pvalue=7.902782342240178e-09, df=6588.0)\n",
      "TtestResult(statistic=-2.0969232641523448, pvalue=0.03603839656305799, df=6588.0)\n",
      "TtestResult(statistic=-4.540827874217491, pvalue=5.7030692447458315e-06, df=6588.0)\n",
      "TtestResult(statistic=-5.0507108077937435, pvalue=4.520049395027011e-07, df=6588.0)\n",
      "TtestResult(statistic=-3.820688689155976, pvalue=0.00013430374504399585, df=6588.0)\n",
      "TtestResult(statistic=0.9068110523455336, pvalue=0.3645398898163068, df=6588.0)\n",
      "TtestResult(statistic=-0.12661332058478186, pvalue=0.8992503173718636, df=6588.0)\n",
      "TtestResult(statistic=2.4901763259807397, pvalue=0.012792429055139446, df=6588.0)\n",
      "TtestResult(statistic=1.733454778220165, pvalue=0.08306165593897413, df=6588.0)\n",
      "TtestResult(statistic=-1.8142240476582794, pvalue=0.06968870717298767, df=6588.0)\n",
      "TtestResult(statistic=2.69460941070631, pvalue=0.0070649920314265965, df=6588.0)\n",
      "TtestResult(statistic=0.5908195774555985, pvalue=0.5546615837515301, df=6588.0)\n",
      "TtestResult(statistic=-0.30793800034400737, pvalue=0.7581392447150481, df=6588.0)\n",
      "TtestResult(statistic=2.329686441039421, pvalue=0.019852791320336537, df=6588.0)\n",
      "TtestResult(statistic=3.569081155998411, pvalue=0.00036078533423433484, df=6588.0)\n",
      "TtestResult(statistic=3.781415086674071, pvalue=0.00015731897176368554, df=6588.0)\n",
      "TtestResult(statistic=2.970177709729002, pvalue=0.002987011495071811, df=6588.0)\n",
      "TtestResult(statistic=-1.3297387092572155, pvalue=0.1836504138400036, df=6588.0)\n",
      "TtestResult(statistic=2.3105008298328107, pvalue=0.020891181649702426, df=6588.0)\n",
      "TtestResult(statistic=3.9941951803029094, pvalue=6.562103161267515e-05, df=6588.0)\n",
      "TtestResult(statistic=2.2299238512104904, pvalue=0.025786062873880758, df=6588.0)\n",
      "TtestResult(statistic=-1.898635417605669, pvalue=0.05765608203371064, df=6588.0)\n",
      "TtestResult(statistic=0.4819867093204568, pvalue=0.6298313990350428, df=6588.0)\n",
      "TtestResult(statistic=0.1990119215710891, pvalue=0.8422595604305273, df=6588.0)\n",
      "TtestResult(statistic=1.233901370186758, pvalue=0.21728367516791802, df=6588.0)\n",
      "TtestResult(statistic=1.8164189172726928, pvalue=0.06935156154823387, df=6588.0)\n",
      "TtestResult(statistic=3.982862292785607, pvalue=6.88234808060673e-05, df=6588.0)\n",
      "TtestResult(statistic=0.04106010824688536, pvalue=0.9672492210123662, df=6588.0)\n",
      "TtestResult(statistic=0.16778110928747236, pvalue=0.8667606343926562, df=6588.0)\n",
      "TtestResult(statistic=-0.6043886117690018, pvalue=0.545606118367723, df=6588.0)\n",
      "TtestResult(statistic=0.13040063348284492, pvalue=0.8962534467538574, df=6588.0)\n",
      "TtestResult(statistic=0.48451601974792924, pvalue=0.6280358055355543, df=6588.0)\n",
      "TtestResult(statistic=-0.7378426252036568, pvalue=0.4606363674230709, df=6588.0)\n",
      "TtestResult(statistic=1.6291075647820705, pvalue=0.10333806129658088, df=6588.0)\n",
      "TtestResult(statistic=1.1497743997407326, pvalue=0.25027853833851343, df=6588.0)\n",
      "TtestResult(statistic=2.2301504171543494, pvalue=0.02577101503053859, df=6588.0)\n",
      "TtestResult(statistic=-0.5382036549422561, pvalue=0.5904546389315605, df=6588.0)\n",
      "TtestResult(statistic=0.770118543406112, pvalue=0.4412571907655417, df=6588.0)\n",
      "TtestResult(statistic=-1.610114182626917, pvalue=0.10742084081783, df=6588.0)\n",
      "TtestResult(statistic=-2.3020254830613824, pvalue=0.021364773106193575, df=6588.0)\n",
      "TtestResult(statistic=2.1740472821986, pvalue=0.029737066220251542, df=6588.0)\n",
      "TtestResult(statistic=9.03215738832475, pvalue=2.1755979808658766e-19, df=6588.0)\n",
      "TtestResult(statistic=-1.42150706534786, pvalue=0.1552167357336537, df=6588.0)\n",
      "TtestResult(statistic=-1.0026289531365604, pvalue=0.31607674486835424, df=6588.0)\n",
      "TtestResult(statistic=-1.7538543483048987, pvalue=0.07950196315078453, df=6588.0)\n",
      "TtestResult(statistic=-1.0224772745146158, pvalue=0.306592606748484, df=6588.0)\n",
      "TtestResult(statistic=0.06828853677200633, pvalue=0.9455580215600918, df=6588.0)\n",
      "TtestResult(statistic=-1.2490173188875728, pvalue=0.21170311721917598, df=6588.0)\n",
      "TtestResult(statistic=2.6689878360123505, pvalue=0.0076266672477862466, df=6588.0)\n",
      "TtestResult(statistic=0.14577907953981004, pvalue=0.884100251527262, df=6588.0)\n",
      "TtestResult(statistic=-0.7718881249313444, pvalue=0.44020837785511024, df=6588.0)\n",
      "TtestResult(statistic=6.298825009238231, pvalue=3.19242118348776e-10, df=6588.0)\n",
      "TtestResult(statistic=-0.5016829514595565, pvalue=0.6159073231434724, df=6588.0)\n",
      "TtestResult(statistic=-1.5842734586761285, pvalue=0.11317950080755919, df=6588.0)\n",
      "TtestResult(statistic=0.44489584814566147, pvalue=0.6564096391410987, df=6588.0)\n",
      "TtestResult(statistic=1.5944857982901222, pvalue=0.11087523824917153, df=6588.0)\n",
      "TtestResult(statistic=2.6732036589588852, pvalue=0.007531580633422264, df=6588.0)\n",
      "TtestResult(statistic=-1.3526343049442544, pvalue=0.17621890915880994, df=6588.0)\n"
     ]
    }
   ],
   "source": [
    "for tck in unique_ticker:\n",
    "  print(ttest_ind(df[df['ticker']==tck]['answer_context_commonword'],df[df['ticker']!=tck]['answer_context_commonword']))"
   ]
  },
  {
   "cell_type": "code",
   "execution_count": null,
   "metadata": {
    "id": "VBwARPTPWN2f"
   },
   "outputs": [],
   "source": [
    "\n"
   ]
  },
  {
   "cell_type": "markdown",
   "metadata": {
    "id": "5z0Y9NEWkqFh"
   },
   "source": [
    "### From the above figure, we can assume, most of the answers word has been captured in the context. Mean is 88%"
   ]
  },
  {
   "cell_type": "markdown",
   "metadata": {
    "id": "-1P50vc7m2me"
   },
   "source": [
    "### Further we can try checking the n-gram method, jsut like Rouge to check if answer lies in context or not"
   ]
  },
  {
   "cell_type": "markdown",
   "metadata": {
    "id": "Q1JV9vGmnw5s"
   },
   "source": [
    "## Now further we can do one more step of preprocessing of remove stopwords and contractions\n",
    "\n",
    "## Further we can go for modelling. For modelling we can take any of the following 3 ways\n",
    "<li> TFIDVectorizer and mlalgorithm like xgboost or Randomforest </li>\n",
    "<li> WordEmbeddings and LSTM </li>\n",
    "<li> Bert based Classification Model </li>\n"
   ]
  },
  {
   "cell_type": "markdown",
   "metadata": {
    "id": "D6bRpGLXo73r"
   },
   "source": [
    "## **TFIDFVectorizer and Machine learning**\n",
    "\n",
    "\n",
    "\n"
   ]
  },
  {
   "cell_type": "code",
   "execution_count": 32,
   "metadata": {
    "id": "gbZQTAAkpU-1"
   },
   "outputs": [],
   "source": [
    "from sklearn.feature_extraction.text import TfidfVectorizer\n",
    "import xgboost as xgb\n",
    "from sklearn.naive_bayes import GaussianNB,CategoricalNB"
   ]
  },
  {
   "cell_type": "code",
   "execution_count": 33,
   "metadata": {
    "id": "Na4a6KKxetYD"
   },
   "outputs": [],
   "source": [
    "X_train, X_test, Y_train, Y_test= train_test_split(df[\"clean_context\"]+df[\"clean_answer\"],df[\"ticker\"])"
   ]
  },
  {
   "cell_type": "code",
   "execution_count": 34,
   "metadata": {
    "id": "b3cth2G6fvBh"
   },
   "outputs": [],
   "source": [
    "oh=OneHotEncoder(sparse_output=False)\n",
    "\n",
    "Y_train1=oh.fit_transform(Y_train.iloc[:].values.reshape(-1,1))\n"
   ]
  },
  {
   "cell_type": "code",
   "execution_count": 35,
   "metadata": {
    "id": "gxjgtWx0h5rm"
   },
   "outputs": [
    {
     "name": "stderr",
     "output_type": "stream",
     "text": [
      "/home/sig9moid/anaconda3/envs/tf/lib/python3.9/site-packages/sklearn/preprocessing/_label.py:114: DataConversionWarning: A column-vector y was passed when a 1d array was expected. Please change the shape of y to (n_samples, ), for example using ravel().\n",
      "  y = column_or_1d(y, warn=True)\n"
     ]
    }
   ],
   "source": [
    "lc=LabelEncoder()\n",
    "Y_train2=lc.fit_transform(Y_train.iloc[:].values.reshape(-1,1))"
   ]
  },
  {
   "cell_type": "code",
   "execution_count": 48,
   "metadata": {
    "colab": {
     "base_uri": "https://localhost:8080/"
    },
    "id": "_m9g-SBehiRh",
    "outputId": "f392b8d7-91a2-42d3-e679-e5d3dd02c886"
   },
   "outputs": [
    {
     "data": {
      "text/plain": [
       "(4942, 69)"
      ]
     },
     "execution_count": 48,
     "metadata": {},
     "output_type": "execute_result"
    }
   ],
   "source": [
    "Y_train1.shape"
   ]
  },
  {
   "cell_type": "code",
   "execution_count": 49,
   "metadata": {
    "id": "65YG3XUqgPKn"
   },
   "outputs": [],
   "source": [
    "tfidf=TfidfVectorizer()\n"
   ]
  },
  {
   "cell_type": "code",
   "execution_count": 50,
   "metadata": {
    "id": "6Wz0LO1ngSxa"
   },
   "outputs": [
    {
     "ename": "AttributeError",
     "evalue": "'numpy.ndarray' object has no attribute 'lower'",
     "output_type": "error",
     "traceback": [
      "\u001b[0;31m---------------------------------------------------------------------------\u001b[0m",
      "\u001b[0;31mAttributeError\u001b[0m                            Traceback (most recent call last)",
      "Cell \u001b[0;32mIn[50], line 1\u001b[0m\n\u001b[0;32m----> 1\u001b[0m X_train_tfid\u001b[38;5;241m=\u001b[39m\u001b[43mtfidf\u001b[49m\u001b[38;5;241;43m.\u001b[39;49m\u001b[43mfit_transform\u001b[49m\u001b[43m(\u001b[49m\u001b[43mX_train\u001b[49m\u001b[43m)\u001b[49m\n",
      "File \u001b[0;32m~/anaconda3/envs/tf/lib/python3.9/site-packages/sklearn/feature_extraction/text.py:2126\u001b[0m, in \u001b[0;36mTfidfVectorizer.fit_transform\u001b[0;34m(self, raw_documents, y)\u001b[0m\n\u001b[1;32m   2119\u001b[0m \u001b[38;5;28mself\u001b[39m\u001b[38;5;241m.\u001b[39m_check_params()\n\u001b[1;32m   2120\u001b[0m \u001b[38;5;28mself\u001b[39m\u001b[38;5;241m.\u001b[39m_tfidf \u001b[38;5;241m=\u001b[39m TfidfTransformer(\n\u001b[1;32m   2121\u001b[0m     norm\u001b[38;5;241m=\u001b[39m\u001b[38;5;28mself\u001b[39m\u001b[38;5;241m.\u001b[39mnorm,\n\u001b[1;32m   2122\u001b[0m     use_idf\u001b[38;5;241m=\u001b[39m\u001b[38;5;28mself\u001b[39m\u001b[38;5;241m.\u001b[39muse_idf,\n\u001b[1;32m   2123\u001b[0m     smooth_idf\u001b[38;5;241m=\u001b[39m\u001b[38;5;28mself\u001b[39m\u001b[38;5;241m.\u001b[39msmooth_idf,\n\u001b[1;32m   2124\u001b[0m     sublinear_tf\u001b[38;5;241m=\u001b[39m\u001b[38;5;28mself\u001b[39m\u001b[38;5;241m.\u001b[39msublinear_tf,\n\u001b[1;32m   2125\u001b[0m )\n\u001b[0;32m-> 2126\u001b[0m X \u001b[38;5;241m=\u001b[39m \u001b[38;5;28;43msuper\u001b[39;49m\u001b[43m(\u001b[49m\u001b[43m)\u001b[49m\u001b[38;5;241;43m.\u001b[39;49m\u001b[43mfit_transform\u001b[49m\u001b[43m(\u001b[49m\u001b[43mraw_documents\u001b[49m\u001b[43m)\u001b[49m\n\u001b[1;32m   2127\u001b[0m \u001b[38;5;28mself\u001b[39m\u001b[38;5;241m.\u001b[39m_tfidf\u001b[38;5;241m.\u001b[39mfit(X)\n\u001b[1;32m   2128\u001b[0m \u001b[38;5;66;03m# X is already a transformed view of raw_documents so\u001b[39;00m\n\u001b[1;32m   2129\u001b[0m \u001b[38;5;66;03m# we set copy to False\u001b[39;00m\n",
      "File \u001b[0;32m~/anaconda3/envs/tf/lib/python3.9/site-packages/sklearn/base.py:1151\u001b[0m, in \u001b[0;36m_fit_context.<locals>.decorator.<locals>.wrapper\u001b[0;34m(estimator, *args, **kwargs)\u001b[0m\n\u001b[1;32m   1144\u001b[0m     estimator\u001b[38;5;241m.\u001b[39m_validate_params()\n\u001b[1;32m   1146\u001b[0m \u001b[38;5;28;01mwith\u001b[39;00m config_context(\n\u001b[1;32m   1147\u001b[0m     skip_parameter_validation\u001b[38;5;241m=\u001b[39m(\n\u001b[1;32m   1148\u001b[0m         prefer_skip_nested_validation \u001b[38;5;129;01mor\u001b[39;00m global_skip_validation\n\u001b[1;32m   1149\u001b[0m     )\n\u001b[1;32m   1150\u001b[0m ):\n\u001b[0;32m-> 1151\u001b[0m     \u001b[38;5;28;01mreturn\u001b[39;00m \u001b[43mfit_method\u001b[49m\u001b[43m(\u001b[49m\u001b[43mestimator\u001b[49m\u001b[43m,\u001b[49m\u001b[43m \u001b[49m\u001b[38;5;241;43m*\u001b[39;49m\u001b[43margs\u001b[49m\u001b[43m,\u001b[49m\u001b[43m \u001b[49m\u001b[38;5;241;43m*\u001b[39;49m\u001b[38;5;241;43m*\u001b[39;49m\u001b[43mkwargs\u001b[49m\u001b[43m)\u001b[49m\n",
      "File \u001b[0;32m~/anaconda3/envs/tf/lib/python3.9/site-packages/sklearn/feature_extraction/text.py:1383\u001b[0m, in \u001b[0;36mCountVectorizer.fit_transform\u001b[0;34m(self, raw_documents, y)\u001b[0m\n\u001b[1;32m   1375\u001b[0m             warnings\u001b[38;5;241m.\u001b[39mwarn(\n\u001b[1;32m   1376\u001b[0m                 \u001b[38;5;124m\"\u001b[39m\u001b[38;5;124mUpper case characters found in\u001b[39m\u001b[38;5;124m\"\u001b[39m\n\u001b[1;32m   1377\u001b[0m                 \u001b[38;5;124m\"\u001b[39m\u001b[38;5;124m vocabulary while \u001b[39m\u001b[38;5;124m'\u001b[39m\u001b[38;5;124mlowercase\u001b[39m\u001b[38;5;124m'\u001b[39m\u001b[38;5;124m\"\u001b[39m\n\u001b[1;32m   1378\u001b[0m                 \u001b[38;5;124m\"\u001b[39m\u001b[38;5;124m is True. These entries will not\u001b[39m\u001b[38;5;124m\"\u001b[39m\n\u001b[1;32m   1379\u001b[0m                 \u001b[38;5;124m\"\u001b[39m\u001b[38;5;124m be matched with any documents\u001b[39m\u001b[38;5;124m\"\u001b[39m\n\u001b[1;32m   1380\u001b[0m             )\n\u001b[1;32m   1381\u001b[0m             \u001b[38;5;28;01mbreak\u001b[39;00m\n\u001b[0;32m-> 1383\u001b[0m vocabulary, X \u001b[38;5;241m=\u001b[39m \u001b[38;5;28;43mself\u001b[39;49m\u001b[38;5;241;43m.\u001b[39;49m\u001b[43m_count_vocab\u001b[49m\u001b[43m(\u001b[49m\u001b[43mraw_documents\u001b[49m\u001b[43m,\u001b[49m\u001b[43m \u001b[49m\u001b[38;5;28;43mself\u001b[39;49m\u001b[38;5;241;43m.\u001b[39;49m\u001b[43mfixed_vocabulary_\u001b[49m\u001b[43m)\u001b[49m\n\u001b[1;32m   1385\u001b[0m \u001b[38;5;28;01mif\u001b[39;00m \u001b[38;5;28mself\u001b[39m\u001b[38;5;241m.\u001b[39mbinary:\n\u001b[1;32m   1386\u001b[0m     X\u001b[38;5;241m.\u001b[39mdata\u001b[38;5;241m.\u001b[39mfill(\u001b[38;5;241m1\u001b[39m)\n",
      "File \u001b[0;32m~/anaconda3/envs/tf/lib/python3.9/site-packages/sklearn/feature_extraction/text.py:1270\u001b[0m, in \u001b[0;36mCountVectorizer._count_vocab\u001b[0;34m(self, raw_documents, fixed_vocab)\u001b[0m\n\u001b[1;32m   1268\u001b[0m \u001b[38;5;28;01mfor\u001b[39;00m doc \u001b[38;5;129;01min\u001b[39;00m raw_documents:\n\u001b[1;32m   1269\u001b[0m     feature_counter \u001b[38;5;241m=\u001b[39m {}\n\u001b[0;32m-> 1270\u001b[0m     \u001b[38;5;28;01mfor\u001b[39;00m feature \u001b[38;5;129;01min\u001b[39;00m \u001b[43manalyze\u001b[49m\u001b[43m(\u001b[49m\u001b[43mdoc\u001b[49m\u001b[43m)\u001b[49m:\n\u001b[1;32m   1271\u001b[0m         \u001b[38;5;28;01mtry\u001b[39;00m:\n\u001b[1;32m   1272\u001b[0m             feature_idx \u001b[38;5;241m=\u001b[39m vocabulary[feature]\n",
      "File \u001b[0;32m~/anaconda3/envs/tf/lib/python3.9/site-packages/sklearn/feature_extraction/text.py:110\u001b[0m, in \u001b[0;36m_analyze\u001b[0;34m(doc, analyzer, tokenizer, ngrams, preprocessor, decoder, stop_words)\u001b[0m\n\u001b[1;32m    108\u001b[0m \u001b[38;5;28;01melse\u001b[39;00m:\n\u001b[1;32m    109\u001b[0m     \u001b[38;5;28;01mif\u001b[39;00m preprocessor \u001b[38;5;129;01mis\u001b[39;00m \u001b[38;5;129;01mnot\u001b[39;00m \u001b[38;5;28;01mNone\u001b[39;00m:\n\u001b[0;32m--> 110\u001b[0m         doc \u001b[38;5;241m=\u001b[39m \u001b[43mpreprocessor\u001b[49m\u001b[43m(\u001b[49m\u001b[43mdoc\u001b[49m\u001b[43m)\u001b[49m\n\u001b[1;32m    111\u001b[0m     \u001b[38;5;28;01mif\u001b[39;00m tokenizer \u001b[38;5;129;01mis\u001b[39;00m \u001b[38;5;129;01mnot\u001b[39;00m \u001b[38;5;28;01mNone\u001b[39;00m:\n\u001b[1;32m    112\u001b[0m         doc \u001b[38;5;241m=\u001b[39m tokenizer(doc)\n",
      "File \u001b[0;32m~/anaconda3/envs/tf/lib/python3.9/site-packages/sklearn/feature_extraction/text.py:68\u001b[0m, in \u001b[0;36m_preprocess\u001b[0;34m(doc, accent_function, lower)\u001b[0m\n\u001b[1;32m     49\u001b[0m \u001b[38;5;250m\u001b[39m\u001b[38;5;124;03m\"\"\"Chain together an optional series of text preprocessing steps to\u001b[39;00m\n\u001b[1;32m     50\u001b[0m \u001b[38;5;124;03mapply to a document.\u001b[39;00m\n\u001b[1;32m     51\u001b[0m \n\u001b[0;32m   (...)\u001b[0m\n\u001b[1;32m     65\u001b[0m \u001b[38;5;124;03m    preprocessed string\u001b[39;00m\n\u001b[1;32m     66\u001b[0m \u001b[38;5;124;03m\"\"\"\u001b[39;00m\n\u001b[1;32m     67\u001b[0m \u001b[38;5;28;01mif\u001b[39;00m lower:\n\u001b[0;32m---> 68\u001b[0m     doc \u001b[38;5;241m=\u001b[39m \u001b[43mdoc\u001b[49m\u001b[38;5;241;43m.\u001b[39;49m\u001b[43mlower\u001b[49m()\n\u001b[1;32m     69\u001b[0m \u001b[38;5;28;01mif\u001b[39;00m accent_function \u001b[38;5;129;01mis\u001b[39;00m \u001b[38;5;129;01mnot\u001b[39;00m \u001b[38;5;28;01mNone\u001b[39;00m:\n\u001b[1;32m     70\u001b[0m     doc \u001b[38;5;241m=\u001b[39m accent_function(doc)\n",
      "\u001b[0;31mAttributeError\u001b[0m: 'numpy.ndarray' object has no attribute 'lower'"
     ]
    }
   ],
   "source": [
    "X_train_tfid=tfidf.fit_transform(X_train)"
   ]
  },
  {
   "cell_type": "code",
   "execution_count": null,
   "metadata": {
    "id": "j1OYwPhSgZ37"
   },
   "outputs": [],
   "source": [
    "model1=xgb.XGBClassifier(n_estimator=200,n_estimators=200,max_depth=100,)\n",
    "model2=xgb.XGBClassifier(n_estimator=200,n_estimators=200,max_depth=100,)"
   ]
  },
  {
   "cell_type": "code",
   "execution_count": null,
   "metadata": {
    "id": "d55wpY_Tjzr-"
   },
   "outputs": [],
   "source": [
    "model3=GaussianNB()\n",
    "model4=CategoricalNB()"
   ]
  },
  {
   "cell_type": "code",
   "execution_count": null,
   "metadata": {
    "colab": {
     "base_uri": "https://localhost:8080/",
     "height": 80
    },
    "id": "EzOOiyYDj3sP",
    "outputId": "ccaba266-bef9-46ed-ebf0-1e63960f6cef"
   },
   "outputs": [],
   "source": [
    "model3.fit(X_train_tfid.toarray(),Y_train2)"
   ]
  },
  {
   "cell_type": "code",
   "execution_count": null,
   "metadata": {
    "colab": {
     "base_uri": "https://localhost:8080/",
     "height": 80
    },
    "id": "ntxD6W2Kky_R",
    "outputId": "67cd1207-0ce7-44e3-fd9f-6c8e3fa2a2e0"
   },
   "outputs": [],
   "source": []
  },
  {
   "cell_type": "code",
   "execution_count": null,
   "metadata": {
    "id": "KSa90WgCmYbg"
   },
   "outputs": [],
   "source": []
  },
  {
   "cell_type": "code",
   "execution_count": null,
   "metadata": {
    "colab": {
     "base_uri": "https://localhost:8080/",
     "height": 343
    },
    "id": "Tvct3uRbj5dj",
    "outputId": "f0392f4e-0388-45eb-bf78-254f897fec46"
   },
   "outputs": [],
   "source": [
    "model1.fit(X_train_tfid,Y_train1)"
   ]
  },
  {
   "cell_type": "code",
   "execution_count": null,
   "metadata": {
    "colab": {
     "base_uri": "https://localhost:8080/",
     "height": 343
    },
    "id": "rEDEfzfRhsED",
    "outputId": "265bf0da-2b18-4702-c818-04b2c549bd51"
   },
   "outputs": [],
   "source": [
    "model2.fit(X_train_tfid,Y_train2)"
   ]
  },
  {
   "cell_type": "code",
   "execution_count": null,
   "metadata": {
    "colab": {
     "base_uri": "https://localhost:8080/",
     "height": 343
    },
    "id": "epVcYftIhJH_",
    "outputId": "db31d856-cbf7-4be6-d107-699557cbe482"
   },
   "outputs": [],
   "source": []
  },
  {
   "cell_type": "code",
   "execution_count": null,
   "metadata": {
    "id": "5qyhwBtUg4p-"
   },
   "outputs": [],
   "source": [
    "y_pred1=model1.predict(tfidf.transform(X_test))\n",
    "y_pred2=model2.predict(tfidf.transform(X_test))"
   ]
  },
  {
   "cell_type": "code",
   "execution_count": null,
   "metadata": {
    "id": "-PbENMWCkKSh"
   },
   "outputs": [],
   "source": []
  },
  {
   "cell_type": "code",
   "execution_count": null,
   "metadata": {
    "id": "STfblM_4k3hH"
   },
   "outputs": [],
   "source": []
  },
  {
   "cell_type": "code",
   "execution_count": null,
   "metadata": {
    "id": "PmdOmTgthEZa"
   },
   "outputs": [],
   "source": [
    "accuracy_score(oh.transform(Y_test.iloc[:].values.reshape(-1,1)), y_pred1)"
   ]
  },
  {
   "cell_type": "code",
   "execution_count": null,
   "metadata": {
    "colab": {
     "base_uri": "https://localhost:8080/"
    },
    "id": "q_MkwFS7iKJb",
    "outputId": "bf531184-9b07-44b1-ed1f-8cbc150a280d"
   },
   "outputs": [],
   "source": [
    "accuracy_score(lc.transform(Y_test), y_pred2)"
   ]
  },
  {
   "cell_type": "code",
   "execution_count": null,
   "metadata": {
    "colab": {
     "base_uri": "https://localhost:8080/"
    },
    "id": "R1N6AFypjOVR",
    "outputId": "0db118c7-8be3-4563-da85-fac537cb205d"
   },
   "outputs": [],
   "source": [
    "# accuracy_score(lc.transform(Y_test), y_pred3)"
   ]
  },
  {
   "cell_type": "code",
   "execution_count": null,
   "metadata": {
    "id": "qegcb7FEkhVA"
   },
   "outputs": [],
   "source": []
  },
  {
   "cell_type": "markdown",
   "metadata": {
    "id": "ZlHDr6Eqk_FY"
   },
   "source": [
    "# LSTM Based Model\n"
   ]
  },
  {
   "cell_type": "code",
   "execution_count": null,
   "metadata": {
    "colab": {
     "base_uri": "https://localhost:8080/"
    },
    "id": "RZJiAv_W9V2d",
    "outputId": "75e9472e-63c4-4ed7-dd81-68051c10d699"
   },
   "outputs": [],
   "source": [
    "df.columns"
   ]
  },
  {
   "cell_type": "code",
   "execution_count": 37,
   "metadata": {
    "id": "rCvAEOpN2ggE"
   },
   "outputs": [],
   "source": [
    "df[\"combined_context_answer\"]=df[\"clean_context\"]+\" \"+df[\"clean_answer\"]"
   ]
  },
  {
   "cell_type": "code",
   "execution_count": 38,
   "metadata": {
    "id": "teAC7j4u9OF1"
   },
   "outputs": [],
   "source": [
    "def wordandidx(alltexts):\n",
    "  wordidx={}\n",
    "  idxword={}\n",
    "  idx=1\n",
    "  for text in alltexts:\n",
    "    words=text.split(\" \")\n",
    "    for word in words:\n",
    "      if word not in wordidx:\n",
    "        wordidx[word]=idx\n",
    "        idx=idx+1\n",
    "  idxword={v:i for i,v in wordidx.items()}\n",
    "  return wordidx,idxword"
   ]
  },
  {
   "cell_type": "code",
   "execution_count": 39,
   "metadata": {
    "id": "Lsi07bYm-iEF"
   },
   "outputs": [],
   "source": [
    "word2idx,idx2word=wordandidx(list(df[\"combined_context_answer\"]))"
   ]
  },
  {
   "cell_type": "code",
   "execution_count": 40,
   "metadata": {
    "colab": {
     "base_uri": "https://localhost:8080/"
    },
    "id": "WgPk3QJ--ujh",
    "outputId": "411c19c3-d2b8-4efd-c40e-5b9fc449d44e"
   },
   "outputs": [
    {
     "data": {
      "text/plain": [
       "10648"
      ]
     },
     "execution_count": 40,
     "metadata": {},
     "output_type": "execute_result"
    }
   ],
   "source": [
    "word2idx['25x']"
   ]
  },
  {
   "cell_type": "code",
   "execution_count": null,
   "metadata": {
    "id": "ITasv53SBRx7"
   },
   "outputs": [],
   "source": []
  },
  {
   "cell_type": "code",
   "execution_count": 41,
   "metadata": {
    "id": "8eZWcGdB-6GW"
   },
   "outputs": [],
   "source": [
    "def texttolist(alltext,word2idx):\n",
    "  listres=[]\n",
    "  for text in alltext:\n",
    "    tempres=[]\n",
    "    words=text.split(\" \")\n",
    "    for word in words:\n",
    "      tempres.append(word2idx[word])\n",
    "    listres.append(tempres)\n",
    "  return listres"
   ]
  },
  {
   "cell_type": "code",
   "execution_count": 42,
   "metadata": {
    "id": "CvpAns8C--JS"
   },
   "outputs": [],
   "source": [
    "text_to_index=texttolist(list(df[\"combined_context_answer\"]),word2idx)"
   ]
  },
  {
   "cell_type": "code",
   "execution_count": null,
   "metadata": {
    "id": "gZFE21MDAt1E"
   },
   "outputs": [],
   "source": []
  },
  {
   "cell_type": "code",
   "execution_count": 43,
   "metadata": {
    "id": "4w5Jd6MqA-YZ"
   },
   "outputs": [
    {
     "name": "stderr",
     "output_type": "stream",
     "text": [
      "2024-11-01 21:29:52.411470: E external/local_xla/xla/stream_executor/cuda/cuda_dnn.cc:9261] Unable to register cuDNN factory: Attempting to register factory for plugin cuDNN when one has already been registered\n",
      "2024-11-01 21:29:52.411561: E external/local_xla/xla/stream_executor/cuda/cuda_fft.cc:607] Unable to register cuFFT factory: Attempting to register factory for plugin cuFFT when one has already been registered\n",
      "2024-11-01 21:29:52.413799: E external/local_xla/xla/stream_executor/cuda/cuda_blas.cc:1515] Unable to register cuBLAS factory: Attempting to register factory for plugin cuBLAS when one has already been registered\n",
      "2024-11-01 21:29:52.425024: I tensorflow/core/platform/cpu_feature_guard.cc:182] This TensorFlow binary is optimized to use available CPU instructions in performance-critical operations.\n",
      "To enable the following instructions: AVX2 FMA, in other operations, rebuild TensorFlow with the appropriate compiler flags.\n",
      "2024-11-01 21:29:58.739904: W tensorflow/compiler/tf2tensorrt/utils/py_utils.cc:38] TF-TRT Warning: Could not find TensorRT\n"
     ]
    }
   ],
   "source": [
    "import tensorflow as tf\n",
    "from tensorflow.keras.preprocessing.sequence import pad_sequences\n",
    "\n"
   ]
  },
  {
   "cell_type": "code",
   "execution_count": 44,
   "metadata": {
    "id": "ftKRMchvFiZh"
   },
   "outputs": [],
   "source": [
    "padded_text_seq=pad_sequences(text_to_index, maxlen=100, padding='post',truncating='post')"
   ]
  },
  {
   "cell_type": "code",
   "execution_count": 45,
   "metadata": {
    "id": "rJ28Z1OjGU6R"
   },
   "outputs": [],
   "source": [
    "Y=oh.fit_transform(df[\"ticker\"].iloc[:].values.reshape(-1,1))"
   ]
  },
  {
   "cell_type": "code",
   "execution_count": 46,
   "metadata": {},
   "outputs": [],
   "source": [
    "st=StandardScaler()\n",
    "X=padded_text_seq#st.fit_transform(np.array(padded_text_seq))"
   ]
  },
  {
   "cell_type": "code",
   "execution_count": 47,
   "metadata": {
    "id": "i2uZjglvF5Mj"
   },
   "outputs": [],
   "source": [
    "X_train,X_test, Y_train, Y_test=train_test_split(X,Y)"
   ]
  },
  {
   "cell_type": "code",
   "execution_count": 59,
   "metadata": {
    "id": "Ga30SrChF-Xf"
   },
   "outputs": [],
   "source": [
    "from tensorflow.keras import Input\n",
    "from tensorflow.keras.layers import LSTM, Embedding, Dense, ReLU, Bidirectional,BatchNormalization\n",
    "from tensorflow.keras import Model\n",
    "from tensorflow.keras.optimizers import AdamW\n",
    "from tensorflow.keras.regularizers import L1L2"
   ]
  },
  {
   "cell_type": "code",
   "execution_count": 67,
   "metadata": {
    "colab": {
     "base_uri": "https://localhost:8080/"
    },
    "id": "nwYSUEGsGzou",
    "outputId": "f27562f9-63f1-496c-b1b1-be90d31f23a0"
   },
   "outputs": [],
   "source": [
    "input =Input(shape=(None,), name=\"Input\")\n",
    "emdeddinglayer=Embedding(len(word2idx),128)(input)\n",
    "lstm=Bidirectional(LSTM(units=64,return_sequences=False, dropout=0.3,kernel_regularizer=L1L2(l1=0.01,l2=0.01)))(emdeddinglayer)\n",
    "# lstm2=Bidirectional(LSTM(units=64))(lstm)\n",
    "\n",
    "# norm=BatchNormalization()(lstm)\n",
    "# dense1=Dense(10, activation='relu',reg)(norm)\n",
    "# # norm2=BatchNormalization()(dense1)\n",
    "# dense2=Dense(100, activation='relu')(dense1)\n",
    "dense3=Dense(69,activation='softmax')(lstm)"
   ]
  },
  {
   "cell_type": "code",
   "execution_count": 68,
   "metadata": {
    "id": "OXttO3p2IMqp"
   },
   "outputs": [],
   "source": [
    "model=Model(inputs=input,outputs=dense3)"
   ]
  },
  {
   "cell_type": "code",
   "execution_count": 69,
   "metadata": {
    "colab": {
     "base_uri": "https://localhost:8080/",
     "height": 289
    },
    "id": "8QMB5eNGPOnn",
    "outputId": "11be0e25-1222-4cae-f6fd-17b89f9e25ca"
   },
   "outputs": [
    {
     "name": "stdout",
     "output_type": "stream",
     "text": [
      "Model: \"model_2\"\n",
      "_________________________________________________________________\n",
      " Layer (type)                Output Shape              Param #   \n",
      "=================================================================\n",
      " Input (InputLayer)          [(None, None)]            0         \n",
      "                                                                 \n",
      " embedding_3 (Embedding)     (None, None, 128)         1362944   \n",
      "                                                                 \n",
      " bidirectional_3 (Bidirecti  (None, 128)               98816     \n",
      " onal)                                                           \n",
      "                                                                 \n",
      " dense_4 (Dense)             (None, 69)                8901      \n",
      "                                                                 \n",
      "=================================================================\n",
      "Total params: 1470661 (5.61 MB)\n",
      "Trainable params: 1470661 (5.61 MB)\n",
      "Non-trainable params: 0 (0.00 Byte)\n",
      "_________________________________________________________________\n"
     ]
    }
   ],
   "source": [
    "model.summary()"
   ]
  },
  {
   "cell_type": "code",
   "execution_count": 70,
   "metadata": {
    "id": "h7LZepNuQG2z"
   },
   "outputs": [],
   "source": [
    "model.compile(optimizer=AdamW(learning_rate=0.0001),loss='categorical_focal_crossentropy',metrics=['acc'])"
   ]
  },
  {
   "cell_type": "code",
   "execution_count": null,
   "metadata": {
    "colab": {
     "base_uri": "https://localhost:8080/",
     "height": 1000
    },
    "id": "4lp_QmP2QRMc",
    "outputId": "0d80ccc5-83db-4714-84b6-28c260303ce2"
   },
   "outputs": [
    {
     "name": "stdout",
     "output_type": "stream",
     "text": [
      "Epoch 1/500\n",
      "78/78 [==============================] - 12s 109ms/step - loss: 1.0278 - acc: 0.0188 - val_loss: 1.0273 - val_acc: 0.0316\n",
      "Epoch 2/500\n",
      "78/78 [==============================] - 5s 59ms/step - loss: 1.0263 - acc: 0.0308 - val_loss: 1.0261 - val_acc: 0.0309\n",
      "Epoch 3/500\n",
      "78/78 [==============================] - 4s 54ms/step - loss: 1.0231 - acc: 0.0299 - val_loss: 1.0225 - val_acc: 0.0309\n",
      "Epoch 4/500\n",
      "78/78 [==============================] - 3s 40ms/step - loss: 1.0172 - acc: 0.0308 - val_loss: 1.0184 - val_acc: 0.0370\n",
      "Epoch 5/500\n",
      "78/78 [==============================] - 3s 42ms/step - loss: 1.0100 - acc: 0.0433 - val_loss: 1.0130 - val_acc: 0.0467\n",
      "Epoch 6/500\n",
      "78/78 [==============================] - 2s 31ms/step - loss: 1.0001 - acc: 0.0526 - val_loss: 1.0062 - val_acc: 0.0492\n",
      "Epoch 7/500\n",
      "78/78 [==============================] - 2s 29ms/step - loss: 0.9890 - acc: 0.0609 - val_loss: 0.9982 - val_acc: 0.0540\n",
      "Epoch 8/500\n",
      "78/78 [==============================] - 3s 41ms/step - loss: 0.9782 - acc: 0.0643 - val_loss: 0.9919 - val_acc: 0.0492\n",
      "Epoch 9/500\n",
      "78/78 [==============================] - 4s 48ms/step - loss: 0.9632 - acc: 0.0690 - val_loss: 0.9827 - val_acc: 0.0589\n",
      "Epoch 10/500\n",
      "78/78 [==============================] - 4s 49ms/step - loss: 0.9463 - acc: 0.0795 - val_loss: 0.9743 - val_acc: 0.0686\n",
      "Epoch 11/500\n",
      "78/78 [==============================] - 2s 32ms/step - loss: 0.9274 - acc: 0.0866 - val_loss: 0.9626 - val_acc: 0.0795\n",
      "Epoch 12/500\n",
      "78/78 [==============================] - 3s 37ms/step - loss: 0.9069 - acc: 0.1036 - val_loss: 0.9616 - val_acc: 0.0734\n",
      "Epoch 13/500\n",
      "78/78 [==============================] - 3s 44ms/step - loss: 0.8867 - acc: 0.1129 - val_loss: 0.9486 - val_acc: 0.0850\n",
      "Epoch 14/500\n",
      "78/78 [==============================] - 3s 35ms/step - loss: 0.8678 - acc: 0.1176 - val_loss: 0.9416 - val_acc: 0.0862\n",
      "Epoch 15/500\n",
      "78/78 [==============================] - 2s 32ms/step - loss: 0.8467 - acc: 0.1329 - val_loss: 0.9320 - val_acc: 0.0947\n",
      "Epoch 16/500\n",
      "78/78 [==============================] - 3s 38ms/step - loss: 0.8274 - acc: 0.1441 - val_loss: 0.9309 - val_acc: 0.0898\n",
      "Epoch 17/500\n",
      "78/78 [==============================] - 2s 30ms/step - loss: 0.8074 - acc: 0.1578 - val_loss: 0.9207 - val_acc: 0.1019\n",
      "Epoch 18/500\n",
      "78/78 [==============================] - 4s 48ms/step - loss: 0.7921 - acc: 0.1592 - val_loss: 0.9177 - val_acc: 0.1056\n",
      "Epoch 19/500\n",
      "78/78 [==============================] - 3s 38ms/step - loss: 0.7747 - acc: 0.1849 - val_loss: 0.9120 - val_acc: 0.1074\n",
      "Epoch 20/500\n",
      "78/78 [==============================] - 4s 49ms/step - loss: 0.7540 - acc: 0.2007 - val_loss: 0.9112 - val_acc: 0.1007\n",
      "Epoch 21/500\n",
      "78/78 [==============================] - 3s 44ms/step - loss: 0.7386 - acc: 0.2131 - val_loss: 0.9048 - val_acc: 0.1080\n",
      "Epoch 22/500\n",
      "78/78 [==============================] - 4s 47ms/step - loss: 0.7231 - acc: 0.2299 - val_loss: 0.9013 - val_acc: 0.1110\n",
      "Epoch 23/500\n",
      "78/78 [==============================] - 2s 27ms/step - loss: 0.7032 - acc: 0.2444 - val_loss: 0.8991 - val_acc: 0.1129\n",
      "Epoch 24/500\n",
      "78/78 [==============================] - 3s 33ms/step - loss: 0.6917 - acc: 0.2588 - val_loss: 0.8984 - val_acc: 0.1110\n",
      "Epoch 25/500\n",
      "78/78 [==============================] - 3s 35ms/step - loss: 0.6752 - acc: 0.2756 - val_loss: 0.8961 - val_acc: 0.1189\n",
      "Epoch 26/500\n",
      "78/78 [==============================] - 3s 33ms/step - loss: 0.6597 - acc: 0.2946 - val_loss: 0.8928 - val_acc: 0.1141\n",
      "Epoch 27/500\n",
      "78/78 [==============================] - 2s 27ms/step - loss: 0.6434 - acc: 0.3011 - val_loss: 0.9004 - val_acc: 0.1177\n",
      "Epoch 28/500\n",
      "78/78 [==============================] - 2s 28ms/step - loss: 0.6325 - acc: 0.3096 - val_loss: 0.8970 - val_acc: 0.1226\n",
      "Epoch 29/500\n",
      "78/78 [==============================] - 2s 29ms/step - loss: 0.6172 - acc: 0.3312 - val_loss: 0.8944 - val_acc: 0.1317\n",
      "Epoch 30/500\n",
      "78/78 [==============================] - 2s 29ms/step - loss: 0.6075 - acc: 0.3414 - val_loss: 0.8923 - val_acc: 0.1274\n",
      "Epoch 31/500\n",
      "78/78 [==============================] - 2s 29ms/step - loss: 0.5949 - acc: 0.3559 - val_loss: 0.8917 - val_acc: 0.1268\n",
      "Epoch 32/500\n",
      "78/78 [==============================] - 3s 34ms/step - loss: 0.5779 - acc: 0.3863 - val_loss: 0.8875 - val_acc: 0.1365\n",
      "Epoch 33/500\n",
      "78/78 [==============================] - 2s 31ms/step - loss: 0.5683 - acc: 0.3820 - val_loss: 0.8817 - val_acc: 0.1402\n",
      "Epoch 34/500\n",
      "78/78 [==============================] - 2s 25ms/step - loss: 0.5542 - acc: 0.4041 - val_loss: 0.8851 - val_acc: 0.1468\n",
      "Epoch 35/500\n",
      "78/78 [==============================] - 2s 24ms/step - loss: 0.5440 - acc: 0.4122 - val_loss: 0.8840 - val_acc: 0.1462\n",
      "Epoch 36/500\n",
      "78/78 [==============================] - 2s 27ms/step - loss: 0.5323 - acc: 0.4255 - val_loss: 0.8885 - val_acc: 0.1462\n",
      "Epoch 37/500\n",
      "78/78 [==============================] - 2s 25ms/step - loss: 0.5209 - acc: 0.4427 - val_loss: 0.8938 - val_acc: 0.1420\n",
      "Epoch 38/500\n",
      "78/78 [==============================] - 3s 32ms/step - loss: 0.5119 - acc: 0.4462 - val_loss: 0.8882 - val_acc: 0.1620\n",
      "Epoch 39/500\n",
      "78/78 [==============================] - 2s 32ms/step - loss: 0.4997 - acc: 0.4626 - val_loss: 0.8871 - val_acc: 0.1475\n",
      "Epoch 40/500\n",
      "78/78 [==============================] - 3s 40ms/step - loss: 0.4916 - acc: 0.4794 - val_loss: 0.8860 - val_acc: 0.1572\n",
      "Epoch 41/500\n",
      "78/78 [==============================] - 3s 42ms/step - loss: 0.4748 - acc: 0.4830 - val_loss: 0.8826 - val_acc: 0.1602\n",
      "Epoch 42/500\n",
      "78/78 [==============================] - 3s 41ms/step - loss: 0.4668 - acc: 0.4982 - val_loss: 0.8896 - val_acc: 0.1608\n",
      "Epoch 43/500\n",
      "78/78 [==============================] - 5s 60ms/step - loss: 0.4541 - acc: 0.5099 - val_loss: 0.8846 - val_acc: 0.1717\n",
      "Epoch 44/500\n",
      "78/78 [==============================] - 2s 20ms/step - loss: 0.4458 - acc: 0.5162 - val_loss: 0.8943 - val_acc: 0.1687\n",
      "Epoch 45/500\n",
      "78/78 [==============================] - 3s 34ms/step - loss: 0.4343 - acc: 0.5320 - val_loss: 0.8888 - val_acc: 0.1748\n",
      "Epoch 46/500\n",
      "78/78 [==============================] - 2s 30ms/step - loss: 0.4235 - acc: 0.5391 - val_loss: 0.8797 - val_acc: 0.1693\n",
      "Epoch 47/500\n",
      "78/78 [==============================] - 1s 17ms/step - loss: 0.4154 - acc: 0.5421 - val_loss: 0.8905 - val_acc: 0.1729\n",
      "Epoch 48/500\n",
      "78/78 [==============================] - 2s 22ms/step - loss: 0.4074 - acc: 0.5585 - val_loss: 0.8964 - val_acc: 0.1754\n",
      "Epoch 49/500\n",
      "78/78 [==============================] - 2s 23ms/step - loss: 0.4006 - acc: 0.5637 - val_loss: 0.8980 - val_acc: 0.1796\n",
      "Epoch 50/500\n",
      "78/78 [==============================] - 2s 29ms/step - loss: 0.3920 - acc: 0.5730 - val_loss: 0.8953 - val_acc: 0.1693\n",
      "Epoch 51/500\n",
      "78/78 [==============================] - 2s 20ms/step - loss: 0.3782 - acc: 0.5822 - val_loss: 0.8923 - val_acc: 0.1778\n",
      "Epoch 52/500\n",
      "78/78 [==============================] - 1s 17ms/step - loss: 0.3696 - acc: 0.5967 - val_loss: 0.8944 - val_acc: 0.1808\n",
      "Epoch 53/500\n",
      "78/78 [==============================] - 1s 18ms/step - loss: 0.3631 - acc: 0.6066 - val_loss: 0.8951 - val_acc: 0.1839\n",
      "Epoch 54/500\n",
      "78/78 [==============================] - 1s 17ms/step - loss: 0.3585 - acc: 0.6074 - val_loss: 0.8962 - val_acc: 0.1857\n",
      "Epoch 55/500\n",
      "78/78 [==============================] - 1s 16ms/step - loss: 0.3489 - acc: 0.6178 - val_loss: 0.8892 - val_acc: 0.1887\n",
      "Epoch 56/500\n",
      "78/78 [==============================] - 2s 20ms/step - loss: 0.3377 - acc: 0.6317 - val_loss: 0.8880 - val_acc: 0.1869\n",
      "Epoch 57/500\n",
      "78/78 [==============================] - 1s 18ms/step - loss: 0.3334 - acc: 0.6311 - val_loss: 0.9004 - val_acc: 0.1893\n",
      "Epoch 58/500\n",
      "78/78 [==============================] - 1s 18ms/step - loss: 0.3238 - acc: 0.6475 - val_loss: 0.8923 - val_acc: 0.1833\n",
      "Epoch 59/500\n",
      "78/78 [==============================] - 2s 20ms/step - loss: 0.3214 - acc: 0.6437 - val_loss: 0.8918 - val_acc: 0.1911\n",
      "Epoch 60/500\n",
      "78/78 [==============================] - 3s 33ms/step - loss: 0.3120 - acc: 0.6554 - val_loss: 0.9034 - val_acc: 0.1875\n",
      "Epoch 61/500\n",
      "78/78 [==============================] - 4s 50ms/step - loss: 0.3125 - acc: 0.6497 - val_loss: 0.8986 - val_acc: 0.1942\n",
      "Epoch 62/500\n"
     ]
    },
    {
     "name": "stdout",
     "output_type": "stream",
     "text": [
      "78/78 [==============================] - 3s 41ms/step - loss: 0.3114 - acc: 0.6568 - val_loss: 0.9172 - val_acc: 0.1863\n",
      "Epoch 63/500\n",
      "78/78 [==============================] - 3s 44ms/step - loss: 0.2996 - acc: 0.6661 - val_loss: 0.8978 - val_acc: 0.1936\n",
      "Epoch 64/500\n",
      "78/78 [==============================] - 2s 25ms/step - loss: 0.2861 - acc: 0.6866 - val_loss: 0.9020 - val_acc: 0.2008\n",
      "Epoch 65/500\n",
      "78/78 [==============================] - 3s 34ms/step - loss: 0.2804 - acc: 0.6884 - val_loss: 0.8972 - val_acc: 0.2021\n",
      "Epoch 66/500\n",
      "78/78 [==============================] - 3s 38ms/step - loss: 0.2763 - acc: 0.6938 - val_loss: 0.9072 - val_acc: 0.1972\n",
      "Epoch 67/500\n",
      "78/78 [==============================] - 2s 23ms/step - loss: 0.2654 - acc: 0.7121 - val_loss: 0.8971 - val_acc: 0.2124\n",
      "Epoch 68/500\n",
      "78/78 [==============================] - 1s 18ms/step - loss: 0.2633 - acc: 0.7088 - val_loss: 0.9171 - val_acc: 0.1936\n",
      "Epoch 69/500\n",
      "78/78 [==============================] - 1s 17ms/step - loss: 0.2597 - acc: 0.7115 - val_loss: 0.9218 - val_acc: 0.1936\n",
      "Epoch 70/500\n",
      "78/78 [==============================] - 1s 18ms/step - loss: 0.2556 - acc: 0.7135 - val_loss: 0.9030 - val_acc: 0.2063\n",
      "Epoch 71/500\n",
      "78/78 [==============================] - 2s 24ms/step - loss: 0.2448 - acc: 0.7200 - val_loss: 0.9228 - val_acc: 0.1972\n",
      "Epoch 72/500\n",
      "78/78 [==============================] - 2s 27ms/step - loss: 0.2376 - acc: 0.7386 - val_loss: 0.9124 - val_acc: 0.2081\n",
      "Epoch 73/500\n",
      "78/78 [==============================] - 2s 20ms/step - loss: 0.2333 - acc: 0.7398 - val_loss: 0.9210 - val_acc: 0.2087\n",
      "Epoch 74/500\n",
      "78/78 [==============================] - 1s 18ms/step - loss: 0.2303 - acc: 0.7404 - val_loss: 0.9060 - val_acc: 0.2148\n",
      "Epoch 75/500\n",
      "78/78 [==============================] - 2s 26ms/step - loss: 0.2246 - acc: 0.7477 - val_loss: 0.9126 - val_acc: 0.2081\n",
      "Epoch 76/500\n",
      "78/78 [==============================] - 3s 44ms/step - loss: 0.2166 - acc: 0.7560 - val_loss: 0.9184 - val_acc: 0.2087\n",
      "Epoch 77/500\n",
      "78/78 [==============================] - 1s 18ms/step - loss: 0.2139 - acc: 0.7614 - val_loss: 0.9233 - val_acc: 0.2081\n",
      "Epoch 78/500\n",
      "78/78 [==============================] - 2s 20ms/step - loss: 0.2080 - acc: 0.7673 - val_loss: 0.9210 - val_acc: 0.2148\n",
      "Epoch 79/500\n",
      "78/78 [==============================] - 1s 18ms/step - loss: 0.2022 - acc: 0.7724 - val_loss: 0.9201 - val_acc: 0.2215\n",
      "Epoch 80/500\n",
      "78/78 [==============================] - 2s 20ms/step - loss: 0.1987 - acc: 0.7730 - val_loss: 0.9082 - val_acc: 0.2215\n",
      "Epoch 81/500\n",
      "78/78 [==============================] - 2s 19ms/step - loss: 0.1975 - acc: 0.7726 - val_loss: 0.9206 - val_acc: 0.2184\n",
      "Epoch 82/500\n",
      "78/78 [==============================] - 2s 22ms/step - loss: 0.1881 - acc: 0.7875 - val_loss: 0.9316 - val_acc: 0.2191\n",
      "Epoch 83/500\n",
      "78/78 [==============================] - 1s 16ms/step - loss: 0.1867 - acc: 0.7837 - val_loss: 0.9208 - val_acc: 0.2233\n",
      "Epoch 84/500\n",
      "78/78 [==============================] - 1s 18ms/step - loss: 0.1796 - acc: 0.7944 - val_loss: 0.9239 - val_acc: 0.2233\n",
      "78/78 [==============================] - 1s 18ms/step - loss: 0.1796 - acc: 0.7944 - val_loss: 0.9239 - val_acc: 0.2233\n",
      "Epoch 85/500\n",
      "78/78 [==============================] - 1s 14ms/step - loss: 0.1732 - acc: 0.7985 - val_loss: 0.9168 - val_acc: 0.2203\n",
      "Epoch 86/500\n",
      "78/78 [==============================] - 1s 18ms/step - loss: 0.1647 - acc: 0.8070 - val_loss: 0.9217 - val_acc: 0.2263\n",
      "Epoch 87/500\n",
      "78/78 [==============================] - 2s 23ms/step - loss: 0.1614 - acc: 0.8080 - val_loss: 0.9143 - val_acc: 0.2336\n",
      "Epoch 88/500\n",
      "78/78 [==============================] - 2s 20ms/step - loss: 0.1598 - acc: 0.8124 - val_loss: 0.9093 - val_acc: 0.2354\n",
      "Epoch 89/500\n",
      "78/78 [==============================] - 1s 18ms/step - loss: 0.1523 - acc: 0.8217 - val_loss: 0.9253 - val_acc: 0.2191\n",
      "Epoch 90/500\n",
      "78/78 [==============================] - 2s 21ms/step - loss: 0.1469 - acc: 0.8236 - val_loss: 0.9082 - val_acc: 0.2300\n",
      "Epoch 91/500\n",
      "78/78 [==============================] - 3s 40ms/step - loss: 0.1447 - acc: 0.8262 - val_loss: 0.9303 - val_acc: 0.2233\n",
      "Epoch 92/500\n",
      "78/78 [==============================] - 4s 46ms/step - loss: 0.1425 - acc: 0.8310 - val_loss: 0.9225 - val_acc: 0.2300\n",
      "Epoch 93/500\n",
      "78/78 [==============================] - 4s 54ms/step - loss: 0.1400 - acc: 0.8333 - val_loss: 0.9123 - val_acc: 0.2324\n",
      "Epoch 94/500\n",
      "78/78 [==============================] - 4s 55ms/step - loss: 0.1362 - acc: 0.8422 - val_loss: 0.9276 - val_acc: 0.2397\n",
      "Epoch 95/500\n",
      "78/78 [==============================] - 3s 41ms/step - loss: 0.1332 - acc: 0.8420 - val_loss: 0.9206 - val_acc: 0.2379\n",
      "Epoch 96/500\n",
      "78/78 [==============================] - 2s 30ms/step - loss: 0.1280 - acc: 0.8456 - val_loss: 0.9206 - val_acc: 0.2373\n",
      "Epoch 97/500\n",
      "78/78 [==============================] - 3s 32ms/step - loss: 0.1221 - acc: 0.8580 - val_loss: 0.9307 - val_acc: 0.2373\n",
      "Epoch 98/500\n",
      "78/78 [==============================] - 3s 33ms/step - loss: 0.1212 - acc: 0.8545 - val_loss: 0.9356 - val_acc: 0.2379\n",
      "Epoch 99/500\n",
      "78/78 [==============================] - 2s 30ms/step - loss: 0.1193 - acc: 0.8515 - val_loss: 0.9402 - val_acc: 0.2409\n",
      "Epoch 100/500\n",
      "78/78 [==============================] - 2s 30ms/step - loss: 0.1163 - acc: 0.8588 - val_loss: 0.9366 - val_acc: 0.2439\n",
      "Epoch 101/500\n",
      "78/78 [==============================] - 2s 29ms/step - loss: 0.1114 - acc: 0.8610 - val_loss: 0.9257 - val_acc: 0.2464\n",
      "Epoch 102/500\n",
      "78/78 [==============================] - 2s 31ms/step - loss: 0.1075 - acc: 0.8705 - val_loss: 0.9340 - val_acc: 0.2439\n",
      "Epoch 103/500\n",
      "78/78 [==============================] - 2s 29ms/step - loss: 0.1082 - acc: 0.8628 - val_loss: 0.9288 - val_acc: 0.2403\n",
      "Epoch 104/500\n",
      "78/78 [==============================] - 3s 33ms/step - loss: 0.1054 - acc: 0.8713 - val_loss: 0.9523 - val_acc: 0.2421\n",
      "Epoch 105/500\n",
      "78/78 [==============================] - 2s 20ms/step - loss: 0.1042 - acc: 0.8640 - val_loss: 0.9466 - val_acc: 0.2348\n",
      "Epoch 106/500\n",
      "78/78 [==============================] - 2s 24ms/step - loss: 0.0992 - acc: 0.8749 - val_loss: 0.9305 - val_acc: 0.2451\n",
      "Epoch 107/500\n",
      "78/78 [==============================] - 2s 26ms/step - loss: 0.0996 - acc: 0.8731 - val_loss: 0.9398 - val_acc: 0.2500\n",
      "Epoch 108/500\n",
      "78/78 [==============================] - 3s 34ms/step - loss: 0.0963 - acc: 0.8847 - val_loss: 0.9506 - val_acc: 0.2458\n",
      "Epoch 109/500\n",
      "78/78 [==============================] - 1s 17ms/step - loss: 0.0960 - acc: 0.8816 - val_loss: 0.9550 - val_acc: 0.2464\n",
      "Epoch 110/500\n",
      "78/78 [==============================] - 2s 24ms/step - loss: 0.0926 - acc: 0.8865 - val_loss: 0.9614 - val_acc: 0.2476\n",
      "Epoch 111/500\n",
      "78/78 [==============================] - 1s 18ms/step - loss: 0.0910 - acc: 0.8845 - val_loss: 0.9494 - val_acc: 0.2464\n",
      "Epoch 112/500\n",
      "78/78 [==============================] - 1s 19ms/step - loss: 0.0899 - acc: 0.8832 - val_loss: 0.9386 - val_acc: 0.2567\n",
      "Epoch 113/500\n",
      "78/78 [==============================] - 2s 27ms/step - loss: 0.0901 - acc: 0.8853 - val_loss: 0.9397 - val_acc: 0.2561\n",
      "Epoch 114/500\n",
      "78/78 [==============================] - 2s 29ms/step - loss: 0.0856 - acc: 0.8881 - val_loss: 0.9536 - val_acc: 0.2549\n",
      "Epoch 115/500\n",
      "78/78 [==============================] - 3s 36ms/step - loss: 0.0830 - acc: 0.8950 - val_loss: 0.9570 - val_acc: 0.2555\n",
      "Epoch 116/500\n",
      "78/78 [==============================] - 2s 29ms/step - loss: 0.0830 - acc: 0.8909 - val_loss: 0.9598 - val_acc: 0.2573\n",
      "Epoch 117/500\n",
      "78/78 [==============================] - 2s 22ms/step - loss: 0.0799 - acc: 0.8956 - val_loss: 0.9543 - val_acc: 0.2464\n",
      "Epoch 118/500\n",
      "78/78 [==============================] - 1s 16ms/step - loss: 0.0781 - acc: 0.8984 - val_loss: 0.9607 - val_acc: 0.2597\n",
      "Epoch 119/500\n",
      "78/78 [==============================] - 1s 17ms/step - loss: 0.0759 - acc: 0.8994 - val_loss: 0.9602 - val_acc: 0.2609\n",
      "Epoch 120/500\n",
      "78/78 [==============================] - 1s 18ms/step - loss: 0.0756 - acc: 0.9002 - val_loss: 0.9695 - val_acc: 0.2603\n",
      "Epoch 121/500\n",
      "78/78 [==============================] - 1s 16ms/step - loss: 0.0752 - acc: 0.9041 - val_loss: 0.9543 - val_acc: 0.2597\n",
      "Epoch 122/500\n"
     ]
    },
    {
     "name": "stdout",
     "output_type": "stream",
     "text": [
      "78/78 [==============================] - 1s 17ms/step - loss: 0.0711 - acc: 0.9096 - val_loss: 0.9568 - val_acc: 0.2597\n",
      "Epoch 123/500\n",
      "78/78 [==============================] - 1s 16ms/step - loss: 0.0706 - acc: 0.9037 - val_loss: 0.9536 - val_acc: 0.2694\n",
      "Epoch 124/500\n",
      "78/78 [==============================] - 1s 18ms/step - loss: 0.0710 - acc: 0.9039 - val_loss: 0.9693 - val_acc: 0.2646\n",
      "Epoch 125/500\n",
      "78/78 [==============================] - 1s 16ms/step - loss: 0.0686 - acc: 0.9110 - val_loss: 0.9614 - val_acc: 0.2664\n",
      "Epoch 126/500\n",
      "78/78 [==============================] - 1s 15ms/step - loss: 0.0673 - acc: 0.9142 - val_loss: 0.9666 - val_acc: 0.2670\n",
      "Epoch 127/500\n",
      "78/78 [==============================] - 1s 14ms/step - loss: 0.0719 - acc: 0.9051 - val_loss: 0.9756 - val_acc: 0.2488\n",
      "Epoch 128/500\n",
      "78/78 [==============================] - 1s 15ms/step - loss: 0.0666 - acc: 0.9098 - val_loss: 0.9630 - val_acc: 0.2664\n",
      "Epoch 129/500\n",
      "78/78 [==============================] - 1s 14ms/step - loss: 0.0625 - acc: 0.9154 - val_loss: 0.9671 - val_acc: 0.2688\n",
      "Epoch 130/500\n",
      "78/78 [==============================] - 1s 16ms/step - loss: 0.0637 - acc: 0.9195 - val_loss: 0.9677 - val_acc: 0.2700\n",
      "Epoch 131/500\n",
      "78/78 [==============================] - 1s 15ms/step - loss: 0.0634 - acc: 0.9154 - val_loss: 0.9726 - val_acc: 0.2561\n",
      "Epoch 132/500\n",
      "78/78 [==============================] - 1s 16ms/step - loss: 0.0629 - acc: 0.9176 - val_loss: 0.9700 - val_acc: 0.2627\n",
      "Epoch 133/500\n",
      "78/78 [==============================] - 1s 16ms/step - loss: 0.0579 - acc: 0.9247 - val_loss: 0.9752 - val_acc: 0.2609\n",
      "Epoch 134/500\n",
      "78/78 [==============================] - 1s 16ms/step - loss: 0.0615 - acc: 0.9164 - val_loss: 0.9848 - val_acc: 0.2627\n",
      "Epoch 135/500\n",
      "78/78 [==============================] - 1s 15ms/step - loss: 0.0600 - acc: 0.9195 - val_loss: 0.9897 - val_acc: 0.2621\n",
      "Epoch 136/500\n",
      "78/78 [==============================] - 1s 17ms/step - loss: 0.0584 - acc: 0.9231 - val_loss: 0.9789 - val_acc: 0.2694\n",
      "Epoch 137/500\n",
      "78/78 [==============================] - 1s 15ms/step - loss: 0.0587 - acc: 0.9201 - val_loss: 0.9746 - val_acc: 0.2658\n",
      "Epoch 138/500\n",
      "78/78 [==============================] - 1s 16ms/step - loss: 0.0600 - acc: 0.9191 - val_loss: 0.9780 - val_acc: 0.2731\n",
      "Epoch 139/500\n",
      "78/78 [==============================] - 1s 15ms/step - loss: 0.0547 - acc: 0.9278 - val_loss: 0.9688 - val_acc: 0.2840\n",
      "Epoch 140/500\n",
      "78/78 [==============================] - 1s 16ms/step - loss: 0.0525 - acc: 0.9310 - val_loss: 0.9718 - val_acc: 0.2791\n",
      "Epoch 141/500\n",
      "78/78 [==============================] - 1s 15ms/step - loss: 0.0512 - acc: 0.9334 - val_loss: 0.9825 - val_acc: 0.2755\n",
      "Epoch 142/500\n",
      "78/78 [==============================] - 1s 16ms/step - loss: 0.0507 - acc: 0.9328 - val_loss: 0.9908 - val_acc: 0.2779\n",
      "Epoch 143/500\n",
      "78/78 [==============================] - 1s 16ms/step - loss: 0.0521 - acc: 0.9296 - val_loss: 1.0010 - val_acc: 0.2749\n",
      "Epoch 144/500\n",
      "78/78 [==============================] - 1s 15ms/step - loss: 0.0735 - acc: 0.8897 - val_loss: 0.9859 - val_acc: 0.2761\n",
      "Epoch 145/500\n",
      "78/78 [==============================] - 1s 16ms/step - loss: 0.0490 - acc: 0.9336 - val_loss: 0.9860 - val_acc: 0.2743\n",
      "Epoch 146/500\n",
      "78/78 [==============================] - 1s 16ms/step - loss: 0.0465 - acc: 0.9377 - val_loss: 0.9822 - val_acc: 0.2816\n",
      "Epoch 147/500\n",
      "78/78 [==============================] - 1s 18ms/step - loss: 0.0467 - acc: 0.9361 - val_loss: 0.9923 - val_acc: 0.2761\n",
      "Epoch 148/500\n",
      "78/78 [==============================] - 1s 15ms/step - loss: 0.0455 - acc: 0.9393 - val_loss: 0.9966 - val_acc: 0.2767\n",
      "Epoch 149/500\n",
      "78/78 [==============================] - 1s 15ms/step - loss: 0.0446 - acc: 0.9405 - val_loss: 0.9933 - val_acc: 0.2749\n",
      "Epoch 150/500\n",
      "78/78 [==============================] - 1s 15ms/step - loss: 0.0448 - acc: 0.9357 - val_loss: 0.9924 - val_acc: 0.2749\n",
      "Epoch 151/500\n",
      "78/78 [==============================] - 1s 16ms/step - loss: 0.0436 - acc: 0.9397 - val_loss: 0.9960 - val_acc: 0.2773\n",
      "Epoch 152/500\n",
      "78/78 [==============================] - 1s 17ms/step - loss: 0.0440 - acc: 0.9381 - val_loss: 0.9808 - val_acc: 0.2797\n",
      "Epoch 153/500\n",
      "78/78 [==============================] - 1s 17ms/step - loss: 0.0415 - acc: 0.9437 - val_loss: 0.9956 - val_acc: 0.2712\n",
      "Epoch 154/500\n",
      "78/78 [==============================] - 1s 15ms/step - loss: 0.0415 - acc: 0.9403 - val_loss: 0.9907 - val_acc: 0.2749\n",
      "Epoch 155/500\n",
      "78/78 [==============================] - 1s 16ms/step - loss: 0.0503 - acc: 0.9292 - val_loss: 0.9878 - val_acc: 0.2779\n",
      "Epoch 156/500\n",
      "78/78 [==============================] - 1s 16ms/step - loss: 0.0463 - acc: 0.9383 - val_loss: 1.0176 - val_acc: 0.2682\n",
      "Epoch 157/500\n",
      "78/78 [==============================] - 1s 16ms/step - loss: 0.0437 - acc: 0.9403 - val_loss: 0.9947 - val_acc: 0.2731\n",
      "Epoch 158/500\n",
      "78/78 [==============================] - 2s 20ms/step - loss: 0.0400 - acc: 0.9439 - val_loss: 1.0059 - val_acc: 0.2773\n",
      "Epoch 159/500\n",
      "78/78 [==============================] - 1s 19ms/step - loss: 0.0433 - acc: 0.9375 - val_loss: 1.0127 - val_acc: 0.2803\n",
      "Epoch 160/500\n",
      "78/78 [==============================] - 1s 15ms/step - loss: 0.0413 - acc: 0.9393 - val_loss: 1.0017 - val_acc: 0.2749\n",
      "Epoch 161/500\n",
      "78/78 [==============================] - 1s 15ms/step - loss: 0.0388 - acc: 0.9456 - val_loss: 1.0047 - val_acc: 0.2803\n",
      "Epoch 162/500\n",
      "78/78 [==============================] - 1s 16ms/step - loss: 0.0375 - acc: 0.9484 - val_loss: 1.0151 - val_acc: 0.2840\n",
      "Epoch 163/500\n",
      "78/78 [==============================] - 1s 16ms/step - loss: 0.0358 - acc: 0.9490 - val_loss: 1.0053 - val_acc: 0.2834\n",
      "Epoch 164/500\n",
      "78/78 [==============================] - 1s 18ms/step - loss: 0.0352 - acc: 0.9500 - val_loss: 1.0030 - val_acc: 0.2785\n",
      "Epoch 165/500\n",
      "78/78 [==============================] - 1s 15ms/step - loss: 0.0349 - acc: 0.9488 - val_loss: 1.0112 - val_acc: 0.2816\n",
      "Epoch 166/500\n",
      "78/78 [==============================] - 2s 24ms/step - loss: 0.0339 - acc: 0.9522 - val_loss: 1.0114 - val_acc: 0.2688\n",
      "Epoch 167/500\n",
      "78/78 [==============================] - 2s 20ms/step - loss: 0.0354 - acc: 0.9480 - val_loss: 1.0353 - val_acc: 0.2767\n",
      "Epoch 168/500\n",
      "78/78 [==============================] - 1s 18ms/step - loss: 0.0343 - acc: 0.9480 - val_loss: 1.0234 - val_acc: 0.2718\n",
      "Epoch 169/500\n",
      "78/78 [==============================] - 1s 18ms/step - loss: 0.0312 - acc: 0.9557 - val_loss: 1.0038 - val_acc: 0.2846\n",
      "Epoch 170/500\n",
      "78/78 [==============================] - 2s 28ms/step - loss: 0.0333 - acc: 0.9531 - val_loss: 1.0147 - val_acc: 0.2712\n",
      "Epoch 171/500\n",
      "78/78 [==============================] - 2s 20ms/step - loss: 0.0315 - acc: 0.9559 - val_loss: 1.0332 - val_acc: 0.2737\n",
      "Epoch 172/500\n",
      "78/78 [==============================] - 2s 22ms/step - loss: 0.0325 - acc: 0.9541 - val_loss: 1.0299 - val_acc: 0.2785\n",
      "Epoch 173/500\n",
      "78/78 [==============================] - 3s 35ms/step - loss: 0.0313 - acc: 0.9539 - val_loss: 1.0273 - val_acc: 0.2779\n",
      "Epoch 174/500\n",
      "78/78 [==============================] - 2s 28ms/step - loss: 0.0297 - acc: 0.9569 - val_loss: 1.0220 - val_acc: 0.2840\n",
      "Epoch 175/500\n",
      "78/78 [==============================] - 2s 29ms/step - loss: 0.0303 - acc: 0.9581 - val_loss: 1.0268 - val_acc: 0.2749\n",
      "Epoch 176/500\n",
      "78/78 [==============================] - 2s 29ms/step - loss: 0.0314 - acc: 0.9543 - val_loss: 1.0304 - val_acc: 0.2749\n",
      "Epoch 177/500\n",
      "78/78 [==============================] - 2s 26ms/step - loss: 0.0296 - acc: 0.9573 - val_loss: 1.0271 - val_acc: 0.2816\n",
      "Epoch 178/500\n",
      "78/78 [==============================] - 2s 23ms/step - loss: 0.0283 - acc: 0.9622 - val_loss: 1.0179 - val_acc: 0.2858\n",
      "Epoch 179/500\n",
      "78/78 [==============================] - 2s 29ms/step - loss: 0.0284 - acc: 0.9595 - val_loss: 1.0214 - val_acc: 0.2797\n",
      "Epoch 180/500\n",
      "78/78 [==============================] - 2s 31ms/step - loss: 0.0280 - acc: 0.9616 - val_loss: 1.0254 - val_acc: 0.2791\n",
      "Epoch 181/500\n",
      "78/78 [==============================] - 2s 26ms/step - loss: 0.0263 - acc: 0.9644 - val_loss: 1.0526 - val_acc: 0.2797\n",
      "Epoch 182/500\n",
      "78/78 [==============================] - 2s 27ms/step - loss: 0.0268 - acc: 0.9624 - val_loss: 1.0289 - val_acc: 0.2894\n",
      "Epoch 183/500\n"
     ]
    },
    {
     "name": "stdout",
     "output_type": "stream",
     "text": [
      "78/78 [==============================] - 2s 24ms/step - loss: 0.0252 - acc: 0.9636 - val_loss: 1.0498 - val_acc: 0.2737\n",
      "Epoch 184/500\n",
      "78/78 [==============================] - 2s 23ms/step - loss: 0.0305 - acc: 0.9565 - val_loss: 1.0230 - val_acc: 0.2846\n",
      "Epoch 185/500\n",
      "78/78 [==============================] - 2s 27ms/step - loss: 0.0283 - acc: 0.9571 - val_loss: 1.0300 - val_acc: 0.2907\n",
      "Epoch 186/500\n",
      "78/78 [==============================] - 2s 27ms/step - loss: 0.0269 - acc: 0.9607 - val_loss: 1.0222 - val_acc: 0.2840\n",
      "Epoch 187/500\n",
      "78/78 [==============================] - 2s 29ms/step - loss: 0.0282 - acc: 0.9579 - val_loss: 1.0213 - val_acc: 0.2913\n",
      "Epoch 188/500\n",
      "78/78 [==============================] - 2s 31ms/step - loss: 0.0255 - acc: 0.9626 - val_loss: 1.0226 - val_acc: 0.2882\n",
      "Epoch 189/500\n",
      "78/78 [==============================] - 2s 29ms/step - loss: 0.0245 - acc: 0.9660 - val_loss: 1.0388 - val_acc: 0.2852\n",
      "Epoch 190/500\n",
      "78/78 [==============================] - 2s 27ms/step - loss: 0.0270 - acc: 0.9585 - val_loss: 1.0187 - val_acc: 0.2846\n",
      "Epoch 191/500\n",
      "78/78 [==============================] - 2s 24ms/step - loss: 0.0221 - acc: 0.9688 - val_loss: 1.0334 - val_acc: 0.2907\n",
      "Epoch 192/500\n",
      "78/78 [==============================] - 2s 27ms/step - loss: 0.0233 - acc: 0.9662 - val_loss: 1.0158 - val_acc: 0.2931\n",
      "Epoch 193/500\n",
      "78/78 [==============================] - 2s 30ms/step - loss: 0.0233 - acc: 0.9662 - val_loss: 1.0400 - val_acc: 0.2846\n",
      "Epoch 194/500\n",
      "78/78 [==============================] - 2s 29ms/step - loss: 0.0234 - acc: 0.9656 - val_loss: 1.0430 - val_acc: 0.2840\n",
      "Epoch 195/500\n",
      "78/78 [==============================] - 2s 31ms/step - loss: 0.0216 - acc: 0.9715 - val_loss: 1.0293 - val_acc: 0.2913\n",
      "Epoch 196/500\n",
      "78/78 [==============================] - 3s 38ms/step - loss: 0.0228 - acc: 0.9646 - val_loss: 1.0495 - val_acc: 0.2816\n",
      "Epoch 197/500\n",
      "78/78 [==============================] - 2s 27ms/step - loss: 0.0208 - acc: 0.9711 - val_loss: 1.0398 - val_acc: 0.2864\n",
      "Epoch 198/500\n",
      "78/78 [==============================] - 2s 26ms/step - loss: 0.0218 - acc: 0.9682 - val_loss: 1.0566 - val_acc: 0.2840\n",
      "Epoch 199/500\n",
      "78/78 [==============================] - 2s 27ms/step - loss: 0.0218 - acc: 0.9650 - val_loss: 1.0413 - val_acc: 0.2822\n",
      "Epoch 200/500\n",
      "78/78 [==============================] - 2s 24ms/step - loss: 0.0236 - acc: 0.9648 - val_loss: 1.0380 - val_acc: 0.2834\n",
      "Epoch 201/500\n",
      "78/78 [==============================] - 2s 28ms/step - loss: 0.0218 - acc: 0.9690 - val_loss: 1.0425 - val_acc: 0.2743\n",
      "Epoch 202/500\n",
      "78/78 [==============================] - 2s 25ms/step - loss: 0.0228 - acc: 0.9654 - val_loss: 1.0537 - val_acc: 0.2767\n",
      "Epoch 203/500\n",
      "78/78 [==============================] - 2s 26ms/step - loss: 0.0208 - acc: 0.9676 - val_loss: 1.0531 - val_acc: 0.2858\n",
      "Epoch 204/500\n",
      "78/78 [==============================] - 2s 26ms/step - loss: 0.0187 - acc: 0.9721 - val_loss: 1.0564 - val_acc: 0.2828\n",
      "Epoch 205/500\n",
      "78/78 [==============================] - 2s 24ms/step - loss: 0.0187 - acc: 0.9735 - val_loss: 1.0329 - val_acc: 0.2913\n",
      "Epoch 206/500\n",
      "78/78 [==============================] - 2s 24ms/step - loss: 0.0182 - acc: 0.9735 - val_loss: 1.0436 - val_acc: 0.2870\n",
      "Epoch 207/500\n",
      "78/78 [==============================] - 2s 23ms/step - loss: 0.0172 - acc: 0.9753 - val_loss: 1.0570 - val_acc: 0.2846\n",
      "Epoch 208/500\n",
      "78/78 [==============================] - 2s 31ms/step - loss: 0.0180 - acc: 0.9719 - val_loss: 1.0668 - val_acc: 0.2870\n",
      "Epoch 209/500\n",
      "78/78 [==============================] - 3s 33ms/step - loss: 0.0170 - acc: 0.9757 - val_loss: 1.0639 - val_acc: 0.2864\n",
      "Epoch 210/500\n",
      "78/78 [==============================] - 4s 48ms/step - loss: 0.0231 - acc: 0.9611 - val_loss: 1.0563 - val_acc: 0.2900\n",
      "Epoch 211/500\n",
      "78/78 [==============================] - 2s 27ms/step - loss: 0.0193 - acc: 0.9684 - val_loss: 1.0785 - val_acc: 0.2779\n",
      "Epoch 212/500\n",
      "78/78 [==============================] - 2s 24ms/step - loss: 0.0210 - acc: 0.9658 - val_loss: 1.0687 - val_acc: 0.2876\n",
      "Epoch 213/500\n",
      "78/78 [==============================] - 2s 23ms/step - loss: 0.0192 - acc: 0.9696 - val_loss: 1.0544 - val_acc: 0.2882\n",
      "Epoch 214/500\n",
      "78/78 [==============================] - 2s 25ms/step - loss: 0.0161 - acc: 0.9733 - val_loss: 1.0531 - val_acc: 0.2828\n",
      "Epoch 215/500\n",
      "78/78 [==============================] - 2s 31ms/step - loss: 0.0182 - acc: 0.9733 - val_loss: 1.0411 - val_acc: 0.2876\n",
      "Epoch 216/500\n",
      "78/78 [==============================] - 2s 30ms/step - loss: 0.0167 - acc: 0.9735 - val_loss: 1.0680 - val_acc: 0.2822\n",
      "Epoch 217/500\n",
      "78/78 [==============================] - 2s 26ms/step - loss: 0.0147 - acc: 0.9781 - val_loss: 1.0520 - val_acc: 0.2973\n",
      "Epoch 218/500\n",
      "78/78 [==============================] - 2s 26ms/step - loss: 0.0188 - acc: 0.9699 - val_loss: 1.0680 - val_acc: 0.2834\n",
      "Epoch 219/500\n",
      "78/78 [==============================] - 2s 26ms/step - loss: 0.0171 - acc: 0.9725 - val_loss: 1.0583 - val_acc: 0.2888\n",
      "Epoch 220/500\n",
      "78/78 [==============================] - 2s 30ms/step - loss: 0.0172 - acc: 0.9739 - val_loss: 1.0826 - val_acc: 0.2761\n",
      "Epoch 221/500\n",
      "78/78 [==============================] - 2s 30ms/step - loss: 0.0181 - acc: 0.9696 - val_loss: 1.0715 - val_acc: 0.2816\n",
      "Epoch 222/500\n",
      "78/78 [==============================] - 3s 34ms/step - loss: 0.0224 - acc: 0.9648 - val_loss: 1.0661 - val_acc: 0.2822\n",
      "Epoch 223/500\n",
      "78/78 [==============================] - 2s 29ms/step - loss: 0.0155 - acc: 0.9786 - val_loss: 1.0667 - val_acc: 0.2846\n",
      "Epoch 224/500\n",
      "78/78 [==============================] - 2s 26ms/step - loss: 0.0150 - acc: 0.9767 - val_loss: 1.0649 - val_acc: 0.2919\n",
      "Epoch 225/500\n",
      "78/78 [==============================] - 2s 24ms/step - loss: 0.0166 - acc: 0.9731 - val_loss: 1.0698 - val_acc: 0.2907\n",
      "Epoch 226/500\n",
      "78/78 [==============================] - 2s 24ms/step - loss: 0.0141 - acc: 0.9794 - val_loss: 1.0810 - val_acc: 0.2858\n",
      "Epoch 227/500\n",
      "78/78 [==============================] - 2s 27ms/step - loss: 0.0146 - acc: 0.9749 - val_loss: 1.0656 - val_acc: 0.2913\n",
      "Epoch 228/500\n",
      "78/78 [==============================] - 2s 24ms/step - loss: 0.0130 - acc: 0.9802 - val_loss: 1.0926 - val_acc: 0.2816\n",
      "Epoch 229/500\n",
      "78/78 [==============================] - 2s 23ms/step - loss: 0.0124 - acc: 0.9820 - val_loss: 1.0762 - val_acc: 0.2919\n",
      "Epoch 230/500\n",
      "78/78 [==============================] - 2s 26ms/step - loss: 0.0143 - acc: 0.9757 - val_loss: 1.0843 - val_acc: 0.2858\n",
      "Epoch 231/500\n",
      "78/78 [==============================] - 2s 28ms/step - loss: 0.0152 - acc: 0.9757 - val_loss: 1.0942 - val_acc: 0.2816\n",
      "Epoch 232/500\n",
      "78/78 [==============================] - 2s 26ms/step - loss: 0.0122 - acc: 0.9818 - val_loss: 1.0816 - val_acc: 0.2846\n",
      "Epoch 233/500\n",
      "78/78 [==============================] - 2s 23ms/step - loss: 0.0118 - acc: 0.9818 - val_loss: 1.0892 - val_acc: 0.2858\n",
      "Epoch 234/500\n",
      "78/78 [==============================] - 2s 25ms/step - loss: 0.0127 - acc: 0.9777 - val_loss: 1.0735 - val_acc: 0.2870\n",
      "Epoch 235/500\n",
      "78/78 [==============================] - 2s 25ms/step - loss: 0.0136 - acc: 0.9775 - val_loss: 1.0925 - val_acc: 0.2828\n",
      "Epoch 236/500\n",
      "78/78 [==============================] - 2s 24ms/step - loss: 0.0123 - acc: 0.9804 - val_loss: 1.0826 - val_acc: 0.2888\n",
      "Epoch 237/500\n",
      "78/78 [==============================] - 2s 26ms/step - loss: 0.0166 - acc: 0.9719 - val_loss: 1.1061 - val_acc: 0.2925\n",
      "Epoch 238/500\n",
      "78/78 [==============================] - 2s 29ms/step - loss: 0.0132 - acc: 0.9763 - val_loss: 1.0893 - val_acc: 0.2870\n",
      "Epoch 239/500\n",
      "78/78 [==============================] - 2s 24ms/step - loss: 0.0121 - acc: 0.9822 - val_loss: 1.0723 - val_acc: 0.2961\n",
      "Epoch 240/500\n",
      "78/78 [==============================] - 2s 24ms/step - loss: 0.0113 - acc: 0.9804 - val_loss: 1.0835 - val_acc: 0.2888\n",
      "Epoch 241/500\n",
      "78/78 [==============================] - 2s 26ms/step - loss: 0.0120 - acc: 0.9790 - val_loss: 1.0726 - val_acc: 0.2931\n",
      "Epoch 242/500\n",
      "78/78 [==============================] - 2s 23ms/step - loss: 0.0104 - acc: 0.9860 - val_loss: 1.0695 - val_acc: 0.3022\n",
      "Epoch 243/500\n",
      "78/78 [==============================] - 2s 22ms/step - loss: 0.0180 - acc: 0.9723 - val_loss: 1.0739 - val_acc: 0.2888\n",
      "Epoch 244/500\n"
     ]
    },
    {
     "name": "stdout",
     "output_type": "stream",
     "text": [
      "78/78 [==============================] - 2s 26ms/step - loss: 0.0166 - acc: 0.9711 - val_loss: 1.0653 - val_acc: 0.3004\n",
      "Epoch 245/500\n",
      "78/78 [==============================] - 2s 30ms/step - loss: 0.0102 - acc: 0.9846 - val_loss: 1.1101 - val_acc: 0.2925\n",
      "Epoch 246/500\n",
      "78/78 [==============================] - 3s 34ms/step - loss: 0.0118 - acc: 0.9820 - val_loss: 1.0813 - val_acc: 0.3022\n",
      "Epoch 247/500\n",
      "78/78 [==============================] - 2s 28ms/step - loss: 0.0127 - acc: 0.9761 - val_loss: 1.0955 - val_acc: 0.2919\n",
      "Epoch 248/500\n",
      "78/78 [==============================] - 2s 24ms/step - loss: 0.0113 - acc: 0.9818 - val_loss: 1.0803 - val_acc: 0.2937\n",
      "Epoch 249/500\n",
      "78/78 [==============================] - 2s 26ms/step - loss: 0.0184 - acc: 0.9701 - val_loss: 1.0802 - val_acc: 0.2925\n",
      "Epoch 250/500\n",
      "78/78 [==============================] - 3s 33ms/step - loss: 0.0156 - acc: 0.9747 - val_loss: 1.0894 - val_acc: 0.2876\n",
      "Epoch 251/500\n",
      "78/78 [==============================] - 3s 43ms/step - loss: 0.0104 - acc: 0.9842 - val_loss: 1.0910 - val_acc: 0.2985\n",
      "Epoch 252/500\n",
      "78/78 [==============================] - 3s 33ms/step - loss: 0.0087 - acc: 0.9879 - val_loss: 1.0804 - val_acc: 0.2998\n",
      "Epoch 253/500\n",
      "78/78 [==============================] - 2s 26ms/step - loss: 0.0102 - acc: 0.9836 - val_loss: 1.0855 - val_acc: 0.2961\n",
      "Epoch 254/500\n",
      "78/78 [==============================] - 2s 30ms/step - loss: 0.0093 - acc: 0.9852 - val_loss: 1.0915 - val_acc: 0.2979\n",
      "Epoch 255/500\n",
      "78/78 [==============================] - 2s 31ms/step - loss: 0.0105 - acc: 0.9832 - val_loss: 1.0791 - val_acc: 0.2992\n",
      "Epoch 256/500\n",
      "78/78 [==============================] - 2s 28ms/step - loss: 0.0096 - acc: 0.9846 - val_loss: 1.0940 - val_acc: 0.2967\n",
      "Epoch 257/500\n",
      "78/78 [==============================] - 2s 32ms/step - loss: 0.0098 - acc: 0.9842 - val_loss: 1.0958 - val_acc: 0.2949\n",
      "Epoch 258/500\n",
      "78/78 [==============================] - 2s 25ms/step - loss: 0.0079 - acc: 0.9889 - val_loss: 1.0913 - val_acc: 0.2949\n",
      "Epoch 259/500\n",
      "78/78 [==============================] - 2s 27ms/step - loss: 0.0086 - acc: 0.9870 - val_loss: 1.0914 - val_acc: 0.2943\n",
      "Epoch 260/500\n",
      "78/78 [==============================] - 2s 27ms/step - loss: 0.0086 - acc: 0.9877 - val_loss: 1.1035 - val_acc: 0.2919\n",
      "Epoch 261/500\n",
      "78/78 [==============================] - 3s 35ms/step - loss: 0.0086 - acc: 0.9877 - val_loss: 1.1069 - val_acc: 0.2894\n",
      "Epoch 262/500\n",
      "78/78 [==============================] - 3s 36ms/step - loss: 0.0087 - acc: 0.9860 - val_loss: 1.1112 - val_acc: 0.2894\n",
      "Epoch 263/500\n",
      "78/78 [==============================] - 3s 34ms/step - loss: 0.0092 - acc: 0.9838 - val_loss: 1.0970 - val_acc: 0.2925\n",
      "Epoch 264/500\n",
      "78/78 [==============================] - 2s 32ms/step - loss: 0.0086 - acc: 0.9848 - val_loss: 1.1022 - val_acc: 0.2973\n",
      "Epoch 265/500\n",
      "78/78 [==============================] - 2s 28ms/step - loss: 0.0076 - acc: 0.9883 - val_loss: 1.1086 - val_acc: 0.2913\n",
      "Epoch 266/500\n",
      "78/78 [==============================] - 2s 32ms/step - loss: 0.0079 - acc: 0.9870 - val_loss: 1.1021 - val_acc: 0.3016\n",
      "Epoch 267/500\n",
      "78/78 [==============================] - 3s 34ms/step - loss: 0.0072 - acc: 0.9875 - val_loss: 1.1056 - val_acc: 0.2973\n",
      "Epoch 268/500\n",
      "78/78 [==============================] - 2s 21ms/step - loss: 0.0089 - acc: 0.9830 - val_loss: 1.1519 - val_acc: 0.2852\n",
      "Epoch 269/500\n",
      "78/78 [==============================] - 1s 17ms/step - loss: 0.0202 - acc: 0.9640 - val_loss: 1.1010 - val_acc: 0.2858\n",
      "Epoch 270/500\n",
      "78/78 [==============================] - 2s 23ms/step - loss: 0.0134 - acc: 0.9751 - val_loss: 1.0870 - val_acc: 0.2998\n",
      "Epoch 271/500\n",
      "78/78 [==============================] - 2s 21ms/step - loss: 0.0089 - acc: 0.9850 - val_loss: 1.0964 - val_acc: 0.3004\n",
      "Epoch 272/500\n",
      "78/78 [==============================] - 2s 24ms/step - loss: 0.0083 - acc: 0.9873 - val_loss: 1.1009 - val_acc: 0.2985\n",
      "Epoch 273/500\n",
      "78/78 [==============================] - 2s 24ms/step - loss: 0.0084 - acc: 0.9852 - val_loss: 1.1007 - val_acc: 0.2955\n",
      "Epoch 274/500\n",
      "78/78 [==============================] - 1s 18ms/step - loss: 0.0085 - acc: 0.9868 - val_loss: 1.1070 - val_acc: 0.2907\n",
      "Epoch 275/500\n",
      "78/78 [==============================] - 1s 18ms/step - loss: 0.0078 - acc: 0.9862 - val_loss: 1.1118 - val_acc: 0.2925\n",
      "Epoch 276/500\n",
      "78/78 [==============================] - 1s 16ms/step - loss: 0.0082 - acc: 0.9883 - val_loss: 1.1145 - val_acc: 0.2961\n",
      "Epoch 277/500\n",
      "78/78 [==============================] - 1s 17ms/step - loss: 0.0075 - acc: 0.9870 - val_loss: 1.1127 - val_acc: 0.2979\n",
      "Epoch 278/500\n",
      "78/78 [==============================] - 1s 15ms/step - loss: 0.0073 - acc: 0.9873 - val_loss: 1.1128 - val_acc: 0.2985\n",
      "Epoch 279/500\n",
      "78/78 [==============================] - 2s 29ms/step - loss: 0.0072 - acc: 0.9875 - val_loss: 1.1148 - val_acc: 0.2955\n",
      "Epoch 280/500\n",
      "78/78 [==============================] - 2s 28ms/step - loss: 0.0082 - acc: 0.9854 - val_loss: 1.1278 - val_acc: 0.2955\n",
      "Epoch 281/500\n",
      "78/78 [==============================] - 2s 23ms/step - loss: 0.0084 - acc: 0.9848 - val_loss: 1.1062 - val_acc: 0.2894\n",
      "Epoch 282/500\n",
      "78/78 [==============================] - 1s 14ms/step - loss: 0.0074 - acc: 0.9873 - val_loss: 1.1173 - val_acc: 0.2985\n",
      "Epoch 283/500\n",
      "78/78 [==============================] - 1s 15ms/step - loss: 0.0067 - acc: 0.9891 - val_loss: 1.1172 - val_acc: 0.2943\n",
      "Epoch 284/500\n",
      "78/78 [==============================] - 1s 15ms/step - loss: 0.0073 - acc: 0.9868 - val_loss: 1.1062 - val_acc: 0.2973\n",
      "Epoch 285/500\n",
      "78/78 [==============================] - 1s 18ms/step - loss: 0.0082 - acc: 0.9868 - val_loss: 1.1141 - val_acc: 0.2979\n",
      "Epoch 286/500\n",
      "78/78 [==============================] - 1s 16ms/step - loss: 0.0063 - acc: 0.9891 - val_loss: 1.1121 - val_acc: 0.2931\n",
      "Epoch 287/500\n",
      "78/78 [==============================] - 2s 26ms/step - loss: 0.0069 - acc: 0.9893 - val_loss: 1.1138 - val_acc: 0.2949\n",
      "Epoch 288/500\n",
      "78/78 [==============================] - 2s 25ms/step - loss: 0.0059 - acc: 0.9903 - val_loss: 1.1103 - val_acc: 0.2955\n",
      "Epoch 289/500\n",
      "78/78 [==============================] - 2s 21ms/step - loss: 0.0063 - acc: 0.9885 - val_loss: 1.1251 - val_acc: 0.2943\n",
      "Epoch 290/500\n",
      "78/78 [==============================] - 2s 23ms/step - loss: 0.0066 - acc: 0.9891 - val_loss: 1.1170 - val_acc: 0.2925\n",
      "Epoch 291/500\n",
      "78/78 [==============================] - 2s 27ms/step - loss: 0.0182 - acc: 0.9672 - val_loss: 1.1429 - val_acc: 0.2907\n",
      "Epoch 292/500\n",
      "78/78 [==============================] - 1s 17ms/step - loss: 0.0063 - acc: 0.9897 - val_loss: 1.1210 - val_acc: 0.2967\n",
      "Epoch 293/500\n",
      "78/78 [==============================] - 1s 14ms/step - loss: 0.0065 - acc: 0.9887 - val_loss: 1.1157 - val_acc: 0.2979\n",
      "Epoch 294/500\n",
      "78/78 [==============================] - 2s 23ms/step - loss: 0.0073 - acc: 0.9862 - val_loss: 1.1186 - val_acc: 0.2967\n",
      "Epoch 295/500\n",
      "78/78 [==============================] - 2s 29ms/step - loss: 0.0062 - acc: 0.9897 - val_loss: 1.1089 - val_acc: 0.2943\n",
      "Epoch 296/500\n",
      "78/78 [==============================] - 1s 18ms/step - loss: 0.0066 - acc: 0.9879 - val_loss: 1.1336 - val_acc: 0.2931\n",
      "Epoch 297/500\n",
      "78/78 [==============================] - 2s 29ms/step - loss: 0.0057 - acc: 0.9903 - val_loss: 1.1145 - val_acc: 0.2973\n",
      "Epoch 298/500\n",
      "78/78 [==============================] - 1s 16ms/step - loss: 0.0051 - acc: 0.9911 - val_loss: 1.1332 - val_acc: 0.2992\n",
      "Epoch 299/500\n",
      "78/78 [==============================] - 1s 17ms/step - loss: 0.0054 - acc: 0.9907 - val_loss: 1.1216 - val_acc: 0.2961\n",
      "Epoch 300/500\n",
      "78/78 [==============================] - 1s 15ms/step - loss: 0.0051 - acc: 0.9921 - val_loss: 1.1156 - val_acc: 0.3010\n",
      "Epoch 301/500\n",
      "78/78 [==============================] - 1s 18ms/step - loss: 0.0052 - acc: 0.9915 - val_loss: 1.1211 - val_acc: 0.2979\n",
      "Epoch 302/500\n",
      "78/78 [==============================] - 2s 25ms/step - loss: 0.0055 - acc: 0.9901 - val_loss: 1.1238 - val_acc: 0.3046\n",
      "Epoch 303/500\n",
      "78/78 [==============================] - 2s 27ms/step - loss: 0.0058 - acc: 0.9883 - val_loss: 1.1489 - val_acc: 0.2913\n",
      "Epoch 304/500\n",
      "78/78 [==============================] - 2s 21ms/step - loss: 0.0059 - acc: 0.9873 - val_loss: 1.1256 - val_acc: 0.3010\n",
      "Epoch 305/500\n"
     ]
    },
    {
     "name": "stdout",
     "output_type": "stream",
     "text": [
      "78/78 [==============================] - 1s 18ms/step - loss: 0.0067 - acc: 0.9881 - val_loss: 1.1421 - val_acc: 0.2949\n",
      "Epoch 306/500\n",
      "78/78 [==============================] - 1s 15ms/step - loss: 0.0086 - acc: 0.9830 - val_loss: 1.1319 - val_acc: 0.2925\n",
      "Epoch 307/500\n",
      "78/78 [==============================] - 1s 15ms/step - loss: 0.0091 - acc: 0.9840 - val_loss: 1.1290 - val_acc: 0.3004\n",
      "Epoch 308/500\n",
      "78/78 [==============================] - 2s 24ms/step - loss: 0.0067 - acc: 0.9883 - val_loss: 1.1457 - val_acc: 0.2907\n",
      "Epoch 309/500\n",
      "78/78 [==============================] - 1s 17ms/step - loss: 0.0055 - acc: 0.9909 - val_loss: 1.1236 - val_acc: 0.2992\n",
      "Epoch 310/500\n",
      "78/78 [==============================] - 1s 15ms/step - loss: 0.0049 - acc: 0.9923 - val_loss: 1.1232 - val_acc: 0.2998\n",
      "Epoch 311/500\n",
      "78/78 [==============================] - 1s 15ms/step - loss: 0.0064 - acc: 0.9889 - val_loss: 1.1056 - val_acc: 0.2925\n",
      "Epoch 312/500\n",
      "78/78 [==============================] - 1s 15ms/step - loss: 0.0492 - acc: 0.9138 - val_loss: 1.1212 - val_acc: 0.2949\n",
      "Epoch 313/500\n",
      "78/78 [==============================] - 1s 15ms/step - loss: 0.0228 - acc: 0.9579 - val_loss: 1.1386 - val_acc: 0.2882\n",
      "Epoch 314/500\n",
      "78/78 [==============================] - 1s 17ms/step - loss: 0.0102 - acc: 0.9788 - val_loss: 1.1304 - val_acc: 0.2967\n",
      "Epoch 315/500\n",
      "78/78 [==============================] - 1s 15ms/step - loss: 0.0070 - acc: 0.9864 - val_loss: 1.1327 - val_acc: 0.2955\n",
      "Epoch 316/500\n",
      "78/78 [==============================] - 1s 19ms/step - loss: 0.0054 - acc: 0.9897 - val_loss: 1.1274 - val_acc: 0.2979\n",
      "Epoch 317/500\n",
      "78/78 [==============================] - 1s 16ms/step - loss: 0.0052 - acc: 0.9913 - val_loss: 1.1328 - val_acc: 0.2973\n",
      "Epoch 318/500\n",
      "78/78 [==============================] - 1s 16ms/step - loss: 0.0045 - acc: 0.9929 - val_loss: 1.1198 - val_acc: 0.3058\n",
      "Epoch 319/500\n",
      "78/78 [==============================] - 1s 16ms/step - loss: 0.0049 - acc: 0.9919 - val_loss: 1.1331 - val_acc: 0.2949\n",
      "Epoch 320/500\n",
      "78/78 [==============================] - 1s 15ms/step - loss: 0.0157 - acc: 0.9709 - val_loss: 1.1369 - val_acc: 0.2809\n",
      "Epoch 321/500\n",
      "78/78 [==============================] - 2s 22ms/step - loss: 0.0167 - acc: 0.9676 - val_loss: 1.1401 - val_acc: 0.3028\n",
      "Epoch 322/500\n",
      "78/78 [==============================] - 2s 28ms/step - loss: 0.0082 - acc: 0.9868 - val_loss: 1.1308 - val_acc: 0.3052\n",
      "Epoch 323/500\n",
      "78/78 [==============================] - 1s 16ms/step - loss: 0.0076 - acc: 0.9856 - val_loss: 1.1550 - val_acc: 0.2919\n",
      "Epoch 324/500\n",
      "78/78 [==============================] - 2s 29ms/step - loss: 0.0079 - acc: 0.9866 - val_loss: 1.1472 - val_acc: 0.2949\n",
      "Epoch 325/500\n",
      "78/78 [==============================] - 1s 19ms/step - loss: 0.0064 - acc: 0.9895 - val_loss: 1.1385 - val_acc: 0.2961\n",
      "Epoch 326/500\n",
      "78/78 [==============================] - 2s 27ms/step - loss: 0.0057 - acc: 0.9903 - val_loss: 1.1456 - val_acc: 0.3022\n",
      "Epoch 327/500\n",
      "78/78 [==============================] - 1s 15ms/step - loss: 0.0062 - acc: 0.9883 - val_loss: 1.1385 - val_acc: 0.3022\n",
      "Epoch 328/500\n",
      "78/78 [==============================] - 1s 15ms/step - loss: 0.0062 - acc: 0.9885 - val_loss: 1.1529 - val_acc: 0.3022\n",
      "Epoch 329/500\n",
      "78/78 [==============================] - 1s 16ms/step - loss: 0.0054 - acc: 0.9901 - val_loss: 1.1498 - val_acc: 0.2998\n",
      "Epoch 330/500\n",
      "78/78 [==============================] - 1s 17ms/step - loss: 0.0056 - acc: 0.9893 - val_loss: 1.1454 - val_acc: 0.3010\n",
      "Epoch 331/500\n",
      "78/78 [==============================] - 1s 16ms/step - loss: 0.0050 - acc: 0.9915 - val_loss: 1.1486 - val_acc: 0.3022\n",
      "Epoch 332/500\n",
      "78/78 [==============================] - 1s 16ms/step - loss: 0.0043 - acc: 0.9921 - val_loss: 1.1493 - val_acc: 0.3016\n",
      "Epoch 333/500\n",
      "78/78 [==============================] - 1s 15ms/step - loss: 0.0046 - acc: 0.9919 - val_loss: 1.1457 - val_acc: 0.3022\n",
      "Epoch 334/500\n",
      "78/78 [==============================] - 1s 17ms/step - loss: 0.0050 - acc: 0.9913 - val_loss: 1.1435 - val_acc: 0.2992\n",
      "Epoch 335/500\n",
      "78/78 [==============================] - 1s 15ms/step - loss: 0.0040 - acc: 0.9921 - val_loss: 1.1537 - val_acc: 0.2973\n",
      "Epoch 336/500\n",
      "78/78 [==============================] - 1s 15ms/step - loss: 0.0041 - acc: 0.9931 - val_loss: 1.1641 - val_acc: 0.2949\n",
      "Epoch 337/500\n",
      "78/78 [==============================] - 1s 15ms/step - loss: 0.0043 - acc: 0.9925 - val_loss: 1.1442 - val_acc: 0.3064\n",
      "Epoch 338/500\n",
      "78/78 [==============================] - 1s 15ms/step - loss: 0.0039 - acc: 0.9933 - val_loss: 1.1597 - val_acc: 0.2998\n",
      "Epoch 339/500\n",
      "78/78 [==============================] - 1s 14ms/step - loss: 0.0041 - acc: 0.9933 - val_loss: 1.1377 - val_acc: 0.3058\n",
      "Epoch 340/500\n",
      "78/78 [==============================] - 1s 15ms/step - loss: 0.0044 - acc: 0.9927 - val_loss: 1.1423 - val_acc: 0.2998\n",
      "Epoch 341/500\n",
      "78/78 [==============================] - 1s 14ms/step - loss: 0.0046 - acc: 0.9929 - val_loss: 1.1564 - val_acc: 0.2985\n",
      "Epoch 342/500\n",
      "78/78 [==============================] - 1s 16ms/step - loss: 0.0042 - acc: 0.9925 - val_loss: 1.1454 - val_acc: 0.3016\n",
      "Epoch 343/500\n",
      "78/78 [==============================] - 1s 15ms/step - loss: 0.0033 - acc: 0.9943 - val_loss: 1.1533 - val_acc: 0.2992\n",
      "Epoch 344/500\n",
      "78/78 [==============================] - 1s 16ms/step - loss: 0.0032 - acc: 0.9931 - val_loss: 1.1463 - val_acc: 0.3040\n",
      "Epoch 345/500\n",
      "78/78 [==============================] - 1s 18ms/step - loss: 0.0033 - acc: 0.9945 - val_loss: 1.1558 - val_acc: 0.3089\n",
      "Epoch 346/500\n",
      "78/78 [==============================] - 1s 17ms/step - loss: 0.0038 - acc: 0.9939 - val_loss: 1.1533 - val_acc: 0.3034\n",
      "Epoch 347/500\n",
      "78/78 [==============================] - 1s 16ms/step - loss: 0.0038 - acc: 0.9919 - val_loss: 1.1512 - val_acc: 0.3040\n",
      "Epoch 348/500\n",
      "78/78 [==============================] - 1s 15ms/step - loss: 0.0041 - acc: 0.9913 - val_loss: 1.1460 - val_acc: 0.2973\n",
      "Epoch 349/500\n",
      "78/78 [==============================] - 1s 16ms/step - loss: 0.0047 - acc: 0.9909 - val_loss: 1.1469 - val_acc: 0.2961\n",
      "Epoch 350/500\n",
      "78/78 [==============================] - 1s 18ms/step - loss: 0.0042 - acc: 0.9925 - val_loss: 1.1656 - val_acc: 0.2998\n",
      "Epoch 351/500\n",
      "78/78 [==============================] - 1s 16ms/step - loss: 0.0044 - acc: 0.9903 - val_loss: 1.1533 - val_acc: 0.3034\n",
      "Epoch 352/500\n",
      "78/78 [==============================] - 1s 15ms/step - loss: 0.0035 - acc: 0.9941 - val_loss: 1.1428 - val_acc: 0.3058\n",
      "Epoch 353/500\n",
      "78/78 [==============================] - 1s 17ms/step - loss: 0.0047 - acc: 0.9911 - val_loss: 1.1486 - val_acc: 0.3028\n",
      "Epoch 354/500\n",
      "78/78 [==============================] - 1s 17ms/step - loss: 0.0031 - acc: 0.9935 - val_loss: 1.1518 - val_acc: 0.3010\n",
      "Epoch 355/500\n",
      "78/78 [==============================] - 1s 17ms/step - loss: 0.0038 - acc: 0.9913 - val_loss: 1.1446 - val_acc: 0.3040\n",
      "Epoch 356/500\n",
      "78/78 [==============================] - 1s 15ms/step - loss: 0.0031 - acc: 0.9939 - val_loss: 1.1685 - val_acc: 0.3016\n",
      "Epoch 357/500\n",
      "78/78 [==============================] - 1s 14ms/step - loss: 0.0044 - acc: 0.9901 - val_loss: 1.1519 - val_acc: 0.2925\n",
      "Epoch 358/500\n",
      "78/78 [==============================] - 1s 15ms/step - loss: 0.0059 - acc: 0.9883 - val_loss: 1.1588 - val_acc: 0.2931\n",
      "Epoch 359/500\n",
      "78/78 [==============================] - 1s 16ms/step - loss: 0.0063 - acc: 0.9895 - val_loss: 1.1533 - val_acc: 0.2882\n",
      "Epoch 360/500\n",
      "78/78 [==============================] - 2s 26ms/step - loss: 0.0046 - acc: 0.9905 - val_loss: 1.1455 - val_acc: 0.2998\n",
      "Epoch 361/500\n",
      "78/78 [==============================] - 2s 23ms/step - loss: 0.0040 - acc: 0.9909 - val_loss: 1.1357 - val_acc: 0.3034\n",
      "Epoch 362/500\n",
      "78/78 [==============================] - 2s 20ms/step - loss: 0.0035 - acc: 0.9933 - val_loss: 1.1480 - val_acc: 0.3010\n",
      "Epoch 363/500\n",
      "78/78 [==============================] - 2s 26ms/step - loss: 0.0031 - acc: 0.9931 - val_loss: 1.1511 - val_acc: 0.3028\n",
      "Epoch 364/500\n",
      "78/78 [==============================] - 1s 17ms/step - loss: 0.0037 - acc: 0.9919 - val_loss: 1.1570 - val_acc: 0.2979\n",
      "Epoch 365/500\n",
      "78/78 [==============================] - 1s 15ms/step - loss: 0.0038 - acc: 0.9931 - val_loss: 1.1431 - val_acc: 0.3040\n",
      "Epoch 366/500\n"
     ]
    },
    {
     "name": "stdout",
     "output_type": "stream",
     "text": [
      "78/78 [==============================] - 1s 15ms/step - loss: 0.0029 - acc: 0.9929 - val_loss: 1.1273 - val_acc: 0.3107\n",
      "Epoch 367/500\n",
      "78/78 [==============================] - 1s 16ms/step - loss: 0.0029 - acc: 0.9949 - val_loss: 1.1534 - val_acc: 0.3016\n",
      "Epoch 368/500\n",
      "78/78 [==============================] - 1s 16ms/step - loss: 0.0035 - acc: 0.9935 - val_loss: 1.1725 - val_acc: 0.3028\n",
      "Epoch 369/500\n",
      "78/78 [==============================] - 1s 17ms/step - loss: 0.0037 - acc: 0.9929 - val_loss: 1.1569 - val_acc: 0.2979\n",
      "Epoch 370/500\n",
      "78/78 [==============================] - 2s 30ms/step - loss: 0.0050 - acc: 0.9903 - val_loss: 1.1750 - val_acc: 0.2913\n",
      "Epoch 371/500\n",
      "78/78 [==============================] - 2s 26ms/step - loss: 0.0033 - acc: 0.9941 - val_loss: 1.1687 - val_acc: 0.2955\n",
      "Epoch 372/500\n",
      "78/78 [==============================] - 2s 20ms/step - loss: 0.0027 - acc: 0.9955 - val_loss: 1.1647 - val_acc: 0.3022\n",
      "Epoch 373/500\n",
      "78/78 [==============================] - 1s 17ms/step - loss: 0.0033 - acc: 0.9925 - val_loss: 1.1740 - val_acc: 0.2973\n",
      "Epoch 374/500\n",
      "78/78 [==============================] - 1s 16ms/step - loss: 0.0036 - acc: 0.9941 - val_loss: 1.1561 - val_acc: 0.3046\n",
      "Epoch 375/500\n",
      "78/78 [==============================] - 1s 18ms/step - loss: 0.0030 - acc: 0.9943 - val_loss: 1.1747 - val_acc: 0.3046\n",
      "Epoch 376/500\n",
      "78/78 [==============================] - 1s 15ms/step - loss: 0.0030 - acc: 0.9953 - val_loss: 1.1575 - val_acc: 0.3016\n",
      "Epoch 377/500\n",
      "78/78 [==============================] - 1s 19ms/step - loss: 0.0032 - acc: 0.9943 - val_loss: 1.1469 - val_acc: 0.3058\n",
      "Epoch 378/500\n",
      "78/78 [==============================] - 2s 25ms/step - loss: 0.0039 - acc: 0.9921 - val_loss: 1.1902 - val_acc: 0.2852\n",
      "Epoch 379/500\n",
      "78/78 [==============================] - 2s 25ms/step - loss: 0.0030 - acc: 0.9939 - val_loss: 1.1584 - val_acc: 0.3058\n",
      "Epoch 380/500\n",
      "78/78 [==============================] - 2s 20ms/step - loss: 0.0054 - acc: 0.9885 - val_loss: 1.1710 - val_acc: 0.2985\n",
      "Epoch 381/500\n",
      "78/78 [==============================] - 1s 19ms/step - loss: 0.0049 - acc: 0.9897 - val_loss: 1.1578 - val_acc: 0.2998\n",
      "Epoch 382/500\n",
      "78/78 [==============================] - 2s 25ms/step - loss: 0.0035 - acc: 0.9925 - val_loss: 1.1587 - val_acc: 0.3070\n",
      "Epoch 383/500\n",
      "78/78 [==============================] - 1s 18ms/step - loss: 0.0034 - acc: 0.9941 - val_loss: 1.1651 - val_acc: 0.3004\n",
      "Epoch 384/500\n",
      "78/78 [==============================] - 1s 15ms/step - loss: 0.0034 - acc: 0.9929 - val_loss: 1.1741 - val_acc: 0.3010\n",
      "Epoch 385/500\n",
      "78/78 [==============================] - 1s 16ms/step - loss: 0.0036 - acc: 0.9927 - val_loss: 1.1613 - val_acc: 0.3046\n",
      "Epoch 386/500\n",
      "78/78 [==============================] - 2s 31ms/step - loss: 0.0034 - acc: 0.9915 - val_loss: 1.1730 - val_acc: 0.3022\n",
      "Epoch 387/500\n",
      "78/78 [==============================] - 2s 29ms/step - loss: 0.0028 - acc: 0.9953 - val_loss: 1.1685 - val_acc: 0.3004\n",
      "Epoch 388/500\n",
      "78/78 [==============================] - 2s 20ms/step - loss: 0.0029 - acc: 0.9937 - val_loss: 1.1708 - val_acc: 0.3028\n",
      "Epoch 389/500\n",
      "78/78 [==============================] - 1s 15ms/step - loss: 0.0048 - acc: 0.9897 - val_loss: 1.1795 - val_acc: 0.2973\n",
      "Epoch 390/500\n",
      "78/78 [==============================] - 2s 20ms/step - loss: 0.0030 - acc: 0.9935 - val_loss: 1.1795 - val_acc: 0.2985\n",
      "Epoch 391/500\n",
      "78/78 [==============================] - 2s 26ms/step - loss: 0.0028 - acc: 0.9939 - val_loss: 1.1607 - val_acc: 0.3034\n",
      "Epoch 392/500\n",
      "78/78 [==============================] - 1s 17ms/step - loss: 0.0024 - acc: 0.9958 - val_loss: 1.1881 - val_acc: 0.3004\n",
      "Epoch 393/500\n",
      "78/78 [==============================] - 1s 16ms/step - loss: 0.0027 - acc: 0.9945 - val_loss: 1.1560 - val_acc: 0.3046\n",
      "Epoch 394/500\n",
      "78/78 [==============================] - 2s 21ms/step - loss: 0.0025 - acc: 0.9962 - val_loss: 1.1647 - val_acc: 0.3064\n",
      "Epoch 395/500\n",
      "78/78 [==============================] - 2s 28ms/step - loss: 0.0035 - acc: 0.9925 - val_loss: 1.1891 - val_acc: 0.3034\n",
      "Epoch 396/500\n",
      "78/78 [==============================] - 2s 20ms/step - loss: 0.0026 - acc: 0.9945 - val_loss: 1.1654 - val_acc: 0.3064\n",
      "Epoch 397/500\n",
      "78/78 [==============================] - 2s 24ms/step - loss: 0.0027 - acc: 0.9951 - val_loss: 1.1945 - val_acc: 0.2967\n",
      "Epoch 398/500\n",
      "78/78 [==============================] - 1s 16ms/step - loss: 0.0022 - acc: 0.9968 - val_loss: 1.1719 - val_acc: 0.3076\n",
      "Epoch 399/500\n",
      "78/78 [==============================] - 2s 25ms/step - loss: 0.0042 - acc: 0.9907 - val_loss: 1.1582 - val_acc: 0.2992\n",
      "Epoch 400/500\n",
      "78/78 [==============================] - 2s 22ms/step - loss: 0.0292 - acc: 0.9460 - val_loss: 1.1509 - val_acc: 0.2888\n",
      "Epoch 401/500\n",
      "78/78 [==============================] - 3s 36ms/step - loss: 0.0071 - acc: 0.9854 - val_loss: 1.1541 - val_acc: 0.3016\n",
      "Epoch 402/500\n",
      "78/78 [==============================] - 2s 30ms/step - loss: 0.0054 - acc: 0.9915 - val_loss: 1.1538 - val_acc: 0.3016\n",
      "Epoch 403/500\n",
      "78/78 [==============================] - 2s 23ms/step - loss: 0.0047 - acc: 0.9893 - val_loss: 1.1584 - val_acc: 0.3052\n",
      "Epoch 404/500\n",
      "78/78 [==============================] - 2s 26ms/step - loss: 0.0034 - acc: 0.9949 - val_loss: 1.1687 - val_acc: 0.3028\n",
      "Epoch 405/500\n",
      "78/78 [==============================] - 2s 21ms/step - loss: 0.0036 - acc: 0.9935 - val_loss: 1.1487 - val_acc: 0.3070\n",
      "Epoch 406/500\n",
      "78/78 [==============================] - 2s 21ms/step - loss: 0.0037 - acc: 0.9917 - val_loss: 1.1593 - val_acc: 0.3107\n",
      "Epoch 407/500\n",
      "78/78 [==============================] - 2s 24ms/step - loss: 0.0037 - acc: 0.9925 - val_loss: 1.1837 - val_acc: 0.3034\n",
      "Epoch 408/500\n",
      "78/78 [==============================] - 1s 19ms/step - loss: 0.0031 - acc: 0.9941 - val_loss: 1.1629 - val_acc: 0.3022\n",
      "Epoch 409/500\n",
      "78/78 [==============================] - 2s 24ms/step - loss: 0.0025 - acc: 0.9958 - val_loss: 1.1645 - val_acc: 0.3095\n",
      "Epoch 410/500\n",
      "78/78 [==============================] - 2s 27ms/step - loss: 0.0024 - acc: 0.9962 - val_loss: 1.1736 - val_acc: 0.3089\n",
      "Epoch 411/500\n",
      "78/78 [==============================] - 2s 22ms/step - loss: 0.0026 - acc: 0.9947 - val_loss: 1.1739 - val_acc: 0.3161\n",
      "Epoch 412/500\n",
      "78/78 [==============================] - 1s 16ms/step - loss: 0.0026 - acc: 0.9951 - val_loss: 1.1719 - val_acc: 0.3064\n",
      "Epoch 413/500\n",
      "78/78 [==============================] - 1s 19ms/step - loss: 0.0025 - acc: 0.9945 - val_loss: 1.1838 - val_acc: 0.3070\n",
      "Epoch 414/500\n",
      "78/78 [==============================] - 1s 17ms/step - loss: 0.0026 - acc: 0.9958 - val_loss: 1.1729 - val_acc: 0.3137\n",
      "Epoch 415/500\n",
      "78/78 [==============================] - 1s 16ms/step - loss: 0.0027 - acc: 0.9947 - val_loss: 1.1766 - val_acc: 0.3070\n",
      "Epoch 416/500\n",
      "78/78 [==============================] - 2s 25ms/step - loss: 0.0029 - acc: 0.9939 - val_loss: 1.1647 - val_acc: 0.3016\n",
      "Epoch 417/500\n",
      "78/78 [==============================] - 1s 18ms/step - loss: 0.0039 - acc: 0.9921 - val_loss: 1.1480 - val_acc: 0.3058\n",
      "Epoch 418/500\n",
      "78/78 [==============================] - 3s 41ms/step - loss: 0.0033 - acc: 0.9937 - val_loss: 1.1713 - val_acc: 0.3058\n",
      "Epoch 419/500\n",
      "78/78 [==============================] - 3s 40ms/step - loss: 0.0027 - acc: 0.9945 - val_loss: 1.1777 - val_acc: 0.3095\n",
      "Epoch 420/500\n",
      "78/78 [==============================] - 3s 38ms/step - loss: 0.0026 - acc: 0.9945 - val_loss: 1.1741 - val_acc: 0.3095\n",
      "Epoch 421/500\n",
      "78/78 [==============================] - 3s 34ms/step - loss: 0.0024 - acc: 0.9955 - val_loss: 1.1758 - val_acc: 0.3101\n",
      "Epoch 422/500\n",
      "78/78 [==============================] - 2s 31ms/step - loss: 0.0027 - acc: 0.9941 - val_loss: 1.1718 - val_acc: 0.3137\n",
      "Epoch 423/500\n",
      "78/78 [==============================] - 3s 37ms/step - loss: 0.0049 - acc: 0.9905 - val_loss: 1.1464 - val_acc: 0.2955\n",
      "Epoch 424/500\n",
      "78/78 [==============================] - 2s 20ms/step - loss: 0.0039 - acc: 0.9915 - val_loss: 1.1823 - val_acc: 0.3161\n",
      "Epoch 425/500\n",
      "78/78 [==============================] - 2s 27ms/step - loss: 0.0027 - acc: 0.9937 - val_loss: 1.1900 - val_acc: 0.2949\n",
      "Epoch 426/500\n",
      "78/78 [==============================] - 2s 19ms/step - loss: 0.0030 - acc: 0.9935 - val_loss: 1.1804 - val_acc: 0.3095\n",
      "Epoch 427/500\n"
     ]
    },
    {
     "name": "stdout",
     "output_type": "stream",
     "text": [
      "78/78 [==============================] - 1s 16ms/step - loss: 0.0028 - acc: 0.9939 - val_loss: 1.1729 - val_acc: 0.3161\n",
      "Epoch 428/500\n",
      "78/78 [==============================] - 1s 16ms/step - loss: 0.0024 - acc: 0.9943 - val_loss: 1.1830 - val_acc: 0.2998\n",
      "Epoch 429/500\n",
      "78/78 [==============================] - 2s 32ms/step - loss: 0.0021 - acc: 0.9964 - val_loss: 1.1645 - val_acc: 0.3137\n",
      "Epoch 430/500\n",
      "78/78 [==============================] - 3s 38ms/step - loss: 0.0031 - acc: 0.9931 - val_loss: 1.1820 - val_acc: 0.3143\n",
      "Epoch 431/500\n",
      "78/78 [==============================] - 2s 22ms/step - loss: 0.0024 - acc: 0.9943 - val_loss: 1.1797 - val_acc: 0.3161\n",
      "Epoch 432/500\n",
      "78/78 [==============================] - 2s 22ms/step - loss: 0.0022 - acc: 0.9949 - val_loss: 1.1726 - val_acc: 0.3101\n",
      "Epoch 433/500\n",
      "78/78 [==============================] - 1s 15ms/step - loss: 0.0027 - acc: 0.9953 - val_loss: 1.1797 - val_acc: 0.3131\n",
      "Epoch 434/500\n",
      "78/78 [==============================] - 1s 17ms/step - loss: 0.0031 - acc: 0.9921 - val_loss: 1.1905 - val_acc: 0.3064\n",
      "Epoch 435/500\n",
      "78/78 [==============================] - 1s 16ms/step - loss: 0.0023 - acc: 0.9947 - val_loss: 1.1804 - val_acc: 0.3101\n",
      "Epoch 436/500\n",
      "78/78 [==============================] - 1s 17ms/step - loss: 0.0021 - acc: 0.9955 - val_loss: 1.1792 - val_acc: 0.3113\n",
      "Epoch 437/500\n",
      "78/78 [==============================] - 1s 14ms/step - loss: 0.0020 - acc: 0.9966 - val_loss: 1.1943 - val_acc: 0.3046\n",
      "Epoch 438/500\n",
      "78/78 [==============================] - 1s 17ms/step - loss: 0.0020 - acc: 0.9955 - val_loss: 1.1763 - val_acc: 0.3137\n",
      "Epoch 439/500\n",
      "78/78 [==============================] - 1s 15ms/step - loss: 0.0021 - acc: 0.9955 - val_loss: 1.1842 - val_acc: 0.3058\n",
      "Epoch 440/500\n",
      "78/78 [==============================] - 1s 15ms/step - loss: 0.0018 - acc: 0.9968 - val_loss: 1.1809 - val_acc: 0.3107\n",
      "Epoch 441/500\n",
      "78/78 [==============================] - 2s 23ms/step - loss: 0.0019 - acc: 0.9953 - val_loss: 1.1970 - val_acc: 0.3058\n",
      "Epoch 442/500\n",
      "78/78 [==============================] - 1s 15ms/step - loss: 0.0021 - acc: 0.9960 - val_loss: 1.1875 - val_acc: 0.3083\n",
      "Epoch 443/500\n",
      "78/78 [==============================] - 1s 15ms/step - loss: 0.0022 - acc: 0.9949 - val_loss: 1.1867 - val_acc: 0.3089\n",
      "Epoch 444/500\n",
      "78/78 [==============================] - 1s 15ms/step - loss: 0.0017 - acc: 0.9960 - val_loss: 1.1875 - val_acc: 0.3101\n",
      "Epoch 445/500\n",
      "78/78 [==============================] - 1s 15ms/step - loss: 0.0019 - acc: 0.9958 - val_loss: 1.1762 - val_acc: 0.3125\n",
      "Epoch 446/500\n",
      "78/78 [==============================] - 1s 14ms/step - loss: 0.0016 - acc: 0.9960 - val_loss: 1.1690 - val_acc: 0.3107\n",
      "Epoch 447/500\n",
      "78/78 [==============================] - 1s 15ms/step - loss: 0.0062 - acc: 0.9850 - val_loss: 1.1905 - val_acc: 0.3083\n",
      "Epoch 448/500\n",
      "78/78 [==============================] - 2s 21ms/step - loss: 0.0036 - acc: 0.9917 - val_loss: 1.1849 - val_acc: 0.3083\n",
      "Epoch 449/500\n",
      "78/78 [==============================] - 1s 17ms/step - loss: 0.0019 - acc: 0.9955 - val_loss: 1.1821 - val_acc: 0.3149\n",
      "Epoch 450/500\n",
      "78/78 [==============================] - 1s 17ms/step - loss: 0.0018 - acc: 0.9958 - val_loss: 1.1766 - val_acc: 0.3095\n",
      "Epoch 451/500\n",
      "78/78 [==============================] - 1s 15ms/step - loss: 0.0017 - acc: 0.9962 - val_loss: 1.1829 - val_acc: 0.3143\n",
      "Epoch 452/500\n",
      "78/78 [==============================] - 1s 14ms/step - loss: 0.0016 - acc: 0.9960 - val_loss: 1.1782 - val_acc: 0.3167\n",
      "Epoch 453/500\n",
      "78/78 [==============================] - 1s 14ms/step - loss: 0.0017 - acc: 0.9951 - val_loss: 1.1899 - val_acc: 0.3143\n",
      "Epoch 454/500\n",
      "78/78 [==============================] - 1s 14ms/step - loss: 0.0027 - acc: 0.9941 - val_loss: 1.2121 - val_acc: 0.2943\n",
      "Epoch 455/500\n",
      "78/78 [==============================] - 1s 15ms/step - loss: 0.0034 - acc: 0.9907 - val_loss: 1.1600 - val_acc: 0.3155\n",
      "Epoch 456/500\n",
      "78/78 [==============================] - 1s 18ms/step - loss: 0.0018 - acc: 0.9968 - val_loss: 1.1876 - val_acc: 0.3089\n",
      "Epoch 457/500\n",
      "78/78 [==============================] - 2s 19ms/step - loss: 0.0027 - acc: 0.9941 - val_loss: 1.1954 - val_acc: 0.3064\n",
      "Epoch 458/500\n",
      "78/78 [==============================] - 2s 19ms/step - loss: 0.0017 - acc: 0.9960 - val_loss: 1.1980 - val_acc: 0.3101\n",
      "Epoch 459/500\n",
      "78/78 [==============================] - 1s 15ms/step - loss: 0.0019 - acc: 0.9958 - val_loss: 1.1908 - val_acc: 0.3125\n",
      "Epoch 460/500\n",
      "78/78 [==============================] - 1s 19ms/step - loss: 0.0016 - acc: 0.9955 - val_loss: 1.1885 - val_acc: 0.3143\n",
      "Epoch 461/500\n",
      "78/78 [==============================] - 2s 25ms/step - loss: 0.0020 - acc: 0.9951 - val_loss: 1.1787 - val_acc: 0.3137\n",
      "Epoch 462/500\n",
      "78/78 [==============================] - 2s 22ms/step - loss: 0.0015 - acc: 0.9960 - val_loss: 1.1835 - val_acc: 0.3204\n",
      "Epoch 463/500\n",
      "78/78 [==============================] - 1s 16ms/step - loss: 0.0014 - acc: 0.9966 - val_loss: 1.1828 - val_acc: 0.3113\n",
      "Epoch 464/500\n",
      "78/78 [==============================] - 1s 16ms/step - loss: 0.0016 - acc: 0.9960 - val_loss: 1.1855 - val_acc: 0.3143\n",
      "Epoch 465/500\n",
      "78/78 [==============================] - 1s 16ms/step - loss: 0.0017 - acc: 0.9964 - val_loss: 1.1845 - val_acc: 0.3192\n",
      "Epoch 466/500\n",
      "78/78 [==============================] - 1s 17ms/step - loss: 0.0014 - acc: 0.9972 - val_loss: 1.1877 - val_acc: 0.3119\n",
      "Epoch 467/500\n",
      "78/78 [==============================] - 1s 15ms/step - loss: 0.0015 - acc: 0.9974 - val_loss: 1.1758 - val_acc: 0.3186\n",
      "Epoch 468/500\n",
      "78/78 [==============================] - 1s 17ms/step - loss: 0.0012 - acc: 0.9970 - val_loss: 1.1955 - val_acc: 0.3101\n",
      "Epoch 469/500\n",
      "78/78 [==============================] - 1s 16ms/step - loss: 0.0012 - acc: 0.9976 - val_loss: 1.1901 - val_acc: 0.3186\n",
      "Epoch 470/500\n",
      "78/78 [==============================] - 1s 18ms/step - loss: 0.0021 - acc: 0.9945 - val_loss: 1.1732 - val_acc: 0.3161\n",
      "Epoch 471/500\n",
      "78/78 [==============================] - 2s 22ms/step - loss: 0.0019 - acc: 0.9962 - val_loss: 1.1819 - val_acc: 0.3234\n",
      "Epoch 472/500\n",
      "78/78 [==============================] - 3s 34ms/step - loss: 0.0018 - acc: 0.9960 - val_loss: 1.1790 - val_acc: 0.3216\n",
      "Epoch 473/500\n",
      "78/78 [==============================] - 2s 27ms/step - loss: 0.0018 - acc: 0.9953 - val_loss: 1.2072 - val_acc: 0.3125\n",
      "Epoch 474/500\n",
      "78/78 [==============================] - 2s 24ms/step - loss: 0.0036 - acc: 0.9913 - val_loss: 1.1963 - val_acc: 0.3016\n",
      "Epoch 475/500\n",
      "78/78 [==============================] - 1s 16ms/step - loss: 0.0031 - acc: 0.9913 - val_loss: 1.1959 - val_acc: 0.3064\n",
      "Epoch 476/500\n",
      "78/78 [==============================] - 1s 15ms/step - loss: 0.0042 - acc: 0.9907 - val_loss: 1.2177 - val_acc: 0.2931\n",
      "Epoch 477/500\n",
      "78/78 [==============================] - 1s 16ms/step - loss: 0.0025 - acc: 0.9943 - val_loss: 1.2087 - val_acc: 0.3113\n",
      "Epoch 478/500\n",
      "78/78 [==============================] - 1s 15ms/step - loss: 0.0033 - acc: 0.9921 - val_loss: 1.1723 - val_acc: 0.3064\n",
      "Epoch 479/500\n",
      "78/78 [==============================] - 1s 16ms/step - loss: 0.0017 - acc: 0.9953 - val_loss: 1.1776 - val_acc: 0.3167\n",
      "Epoch 480/500\n",
      "78/78 [==============================] - 1s 16ms/step - loss: 0.0026 - acc: 0.9935 - val_loss: 1.1734 - val_acc: 0.3143\n",
      "Epoch 481/500\n",
      "78/78 [==============================] - 1s 17ms/step - loss: 0.0066 - acc: 0.9889 - val_loss: 1.2158 - val_acc: 0.2967\n",
      "Epoch 482/500\n",
      "78/78 [==============================] - 1s 16ms/step - loss: 0.0167 - acc: 0.9654 - val_loss: 1.1975 - val_acc: 0.3095\n",
      "Epoch 483/500\n",
      "78/78 [==============================] - 1s 16ms/step - loss: 0.0030 - acc: 0.9941 - val_loss: 1.1717 - val_acc: 0.3228\n",
      "Epoch 484/500\n",
      "78/78 [==============================] - 1s 15ms/step - loss: 0.0049 - acc: 0.9883 - val_loss: 1.1704 - val_acc: 0.3180\n",
      "Epoch 485/500\n",
      "78/78 [==============================] - 1s 15ms/step - loss: 0.0037 - acc: 0.9933 - val_loss: 1.1871 - val_acc: 0.3149\n",
      "Epoch 486/500\n",
      "78/78 [==============================] - 1s 16ms/step - loss: 0.0022 - acc: 0.9943 - val_loss: 1.1753 - val_acc: 0.3186\n",
      "Epoch 487/500\n",
      "78/78 [==============================] - 1s 16ms/step - loss: 0.0015 - acc: 0.9972 - val_loss: 1.1804 - val_acc: 0.3246\n",
      "Epoch 488/500\n"
     ]
    },
    {
     "name": "stdout",
     "output_type": "stream",
     "text": [
      "78/78 [==============================] - 1s 15ms/step - loss: 0.0018 - acc: 0.9958 - val_loss: 1.1718 - val_acc: 0.3234\n",
      "Epoch 489/500\n",
      "78/78 [==============================] - 1s 15ms/step - loss: 0.0013 - acc: 0.9972 - val_loss: 1.1770 - val_acc: 0.3252\n",
      "Epoch 490/500\n",
      "78/78 [==============================] - 1s 16ms/step - loss: 0.0015 - acc: 0.9958 - val_loss: 1.1805 - val_acc: 0.3228\n",
      "Epoch 491/500\n",
      "78/78 [==============================] - 1s 18ms/step - loss: 0.0018 - acc: 0.9960 - val_loss: 1.1812 - val_acc: 0.3210\n",
      "Epoch 492/500\n",
      "78/78 [==============================] - 1s 17ms/step - loss: 0.0017 - acc: 0.9960 - val_loss: 1.1793 - val_acc: 0.3271\n",
      "Epoch 493/500\n",
      "78/78 [==============================] - 1s 16ms/step - loss: 0.0016 - acc: 0.9966 - val_loss: 1.1707 - val_acc: 0.3331\n",
      "Epoch 494/500\n",
      "24/78 [========>.....................] - ETA: 0s - loss: 8.0853e-04 - acc: 0.9987"
     ]
    }
   ],
   "source": [
    "history=model.fit(X_train,Y_train,epochs=500, batch_size=64, validation_data=[X_test,Y_test])"
   ]
  },
  {
   "cell_type": "code",
   "execution_count": null,
   "metadata": {
    "colab": {
     "base_uri": "https://localhost:8080/"
    },
    "id": "sc106ZT2QYwX",
    "outputId": "5d03dc93-36ee-46fe-e317-7639ca4732d1"
   },
   "outputs": [],
   "source": [
    "history"
   ]
  },
  {
   "cell_type": "code",
   "execution_count": null,
   "metadata": {
    "colab": {
     "base_uri": "https://localhost:8080/"
    },
    "id": "23CfbccHQ59s",
    "outputId": "461d084a-d96a-4b21-a328-1a329f837552"
   },
   "outputs": [],
   "source": [
    "X_train.shape"
   ]
  },
  {
   "cell_type": "code",
   "execution_count": null,
   "metadata": {
    "id": "cYqinkzUQ_7v"
   },
   "outputs": [],
   "source": []
  }
 ],
 "metadata": {
  "accelerator": "GPU",
  "colab": {
   "gpuType": "T4",
   "include_colab_link": true,
   "provenance": []
  },
  "kernelspec": {
   "display_name": "Python 3 (ipykernel)",
   "language": "python",
   "name": "python3"
  },
  "language_info": {
   "codemirror_mode": {
    "name": "ipython",
    "version": 3
   },
   "file_extension": ".py",
   "mimetype": "text/x-python",
   "name": "python",
   "nbconvert_exporter": "python",
   "pygments_lexer": "ipython3",
   "version": "3.9.0"
  }
 },
 "nbformat": 4,
 "nbformat_minor": 1
}
