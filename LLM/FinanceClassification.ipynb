{
  "cells": [
    {
      "cell_type": "markdown",
      "metadata": {
        "id": "view-in-github",
        "colab_type": "text"
      },
      "source": [
        "<a href=\"https://colab.research.google.com/github/adityasingh1993/ML-DL-AI-LearnAndTry/blob/main/LLM/FinanceClassification.ipynb\" target=\"_parent\"><img src=\"https://colab.research.google.com/assets/colab-badge.svg\" alt=\"Open In Colab\"/></a>"
      ]
    },
    {
      "cell_type": "code",
      "execution_count": 1,
      "metadata": {
        "colab": {
          "base_uri": "https://localhost:8080/"
        },
        "id": "IiVwQne2NxEb",
        "outputId": "bf2d67b7-ec00-4805-ac25-7bdf65c704c9"
      },
      "outputs": [
        {
          "output_type": "stream",
          "name": "stdout",
          "text": [
            "Financial-QA-10k.csv.zip  sample_data\n"
          ]
        }
      ],
      "source": [
        "!ls"
      ]
    },
    {
      "cell_type": "code",
      "execution_count": 2,
      "metadata": {
        "colab": {
          "base_uri": "https://localhost:8080/"
        },
        "id": "8u_BgS7VNkDv",
        "outputId": "2a44a177-f501-48d0-ff6d-8251488b387e"
      },
      "outputs": [
        {
          "output_type": "stream",
          "name": "stdout",
          "text": [
            "Archive:  Financial-QA-10k.csv.zip\n",
            "  inflating: Financial-QA-10k.csv    \n"
          ]
        }
      ],
      "source": [
        "!unzip Financial-QA-10k.csv.zip"
      ]
    },
    {
      "cell_type": "code",
      "execution_count": 39,
      "metadata": {
        "id": "P0B9Ial5N0kQ"
      },
      "outputs": [],
      "source": [
        "import pandas as pd\n",
        "import numpy as np\n",
        "import string\n",
        "import matplotlib.pyplot as plt\n",
        "import seaborn as sns\n",
        "import nltk\n",
        "from nltk.corpus import stopwords\n",
        "from nltk.stem import PorterStemmer\n",
        "from nltk.stem import WordNetLemmatizer\n",
        "from sklearn.model_selection import train_test_split\n",
        "from sklearn.preprocessing import OneHotEncoder, LabelEncoder\n",
        "from sklearn.metrics import confusion_matrix, accuracy_score, f1_score, precision_score, recall_score\n",
        "import spacy\n",
        "from spacy.lang.en import stop_words\n",
        "\n",
        "# nltk.download('all')"
      ]
    },
    {
      "cell_type": "code",
      "execution_count": 4,
      "metadata": {
        "id": "aOrY_b-qx9j1"
      },
      "outputs": [],
      "source": [
        "all_stop_word=stop_words.STOP_WORDS"
      ]
    },
    {
      "cell_type": "code",
      "execution_count": 5,
      "metadata": {
        "colab": {
          "base_uri": "https://localhost:8080/"
        },
        "id": "kd7n76z8NhOX",
        "outputId": "32e3541d-4e9e-4467-a200-11b0c409a9ac"
      },
      "outputs": [
        {
          "output_type": "execute_result",
          "data": {
            "text/plain": [
              "False"
            ]
          },
          "metadata": {},
          "execution_count": 5
        }
      ],
      "source": [
        "\"be\" not in all_stop_word"
      ]
    },
    {
      "cell_type": "code",
      "execution_count": 6,
      "metadata": {
        "id": "1nZ0xcBEwFG1"
      },
      "outputs": [],
      "source": [
        "\n",
        "nlp = spacy.load(\"en_core_web_sm\")\n"
      ]
    },
    {
      "cell_type": "code",
      "execution_count": 7,
      "metadata": {
        "id": "t9BQ3MZ-wNzd"
      },
      "outputs": [],
      "source": [
        "txt=nlp(\"hi this is Aditya\")"
      ]
    },
    {
      "cell_type": "code",
      "execution_count": 8,
      "metadata": {
        "id": "iJwSEGzhwHSV",
        "colab": {
          "base_uri": "https://localhost:8080/"
        },
        "outputId": "26f3fc5e-d593-4125-ca34-fafc2193041f"
      },
      "outputs": [
        {
          "output_type": "stream",
          "name": "stdout",
          "text": [
            "hi hi\n",
            "Aditya Aditya\n"
          ]
        }
      ],
      "source": [
        "for ent in txt:\n",
        "  if ent.text not in list(all_stop_word):\n",
        "    print(ent, ent.lemma_)\n"
      ]
    },
    {
      "cell_type": "markdown",
      "metadata": {
        "id": "wLzTfOMkOOrH"
      },
      "source": [
        "### Load dataframe"
      ]
    },
    {
      "cell_type": "code",
      "execution_count": 9,
      "metadata": {
        "id": "PzrqMo_eOBze"
      },
      "outputs": [],
      "source": [
        "df=pd.read_csv(\"Financial-QA-10k.csv\")"
      ]
    },
    {
      "cell_type": "code",
      "execution_count": 10,
      "metadata": {
        "id": "kp4XW0vBOIgk",
        "colab": {
          "base_uri": "https://localhost:8080/",
          "height": 112
        },
        "outputId": "79a111c0-e3e6-47de-89bc-82ccf473b171"
      },
      "outputs": [
        {
          "output_type": "execute_result",
          "data": {
            "text/plain": [
              "                                            question  \\\n",
              "0  What area did NVIDIA initially focus on before...   \n",
              "1  What are some of the recent applications of GP...   \n",
              "\n",
              "                                              answer  \\\n",
              "0           NVIDIA initially focused on PC graphics.   \n",
              "1  Recent applications of GPU-powered deep learni...   \n",
              "\n",
              "                                             context ticker    filing  \n",
              "0  Since our original focus on PC graphics, we ha...   NVDA  2023_10K  \n",
              "1  Some of the most recent applications of GPU-po...   NVDA  2023_10K  "
            ],
            "text/html": [
              "\n",
              "  <div id=\"df-e6e6e6db-c0e7-47c5-b37f-96b769fc0042\" class=\"colab-df-container\">\n",
              "    <div>\n",
              "<style scoped>\n",
              "    .dataframe tbody tr th:only-of-type {\n",
              "        vertical-align: middle;\n",
              "    }\n",
              "\n",
              "    .dataframe tbody tr th {\n",
              "        vertical-align: top;\n",
              "    }\n",
              "\n",
              "    .dataframe thead th {\n",
              "        text-align: right;\n",
              "    }\n",
              "</style>\n",
              "<table border=\"1\" class=\"dataframe\">\n",
              "  <thead>\n",
              "    <tr style=\"text-align: right;\">\n",
              "      <th></th>\n",
              "      <th>question</th>\n",
              "      <th>answer</th>\n",
              "      <th>context</th>\n",
              "      <th>ticker</th>\n",
              "      <th>filing</th>\n",
              "    </tr>\n",
              "  </thead>\n",
              "  <tbody>\n",
              "    <tr>\n",
              "      <th>0</th>\n",
              "      <td>What area did NVIDIA initially focus on before...</td>\n",
              "      <td>NVIDIA initially focused on PC graphics.</td>\n",
              "      <td>Since our original focus on PC graphics, we ha...</td>\n",
              "      <td>NVDA</td>\n",
              "      <td>2023_10K</td>\n",
              "    </tr>\n",
              "    <tr>\n",
              "      <th>1</th>\n",
              "      <td>What are some of the recent applications of GP...</td>\n",
              "      <td>Recent applications of GPU-powered deep learni...</td>\n",
              "      <td>Some of the most recent applications of GPU-po...</td>\n",
              "      <td>NVDA</td>\n",
              "      <td>2023_10K</td>\n",
              "    </tr>\n",
              "  </tbody>\n",
              "</table>\n",
              "</div>\n",
              "    <div class=\"colab-df-buttons\">\n",
              "\n",
              "  <div class=\"colab-df-container\">\n",
              "    <button class=\"colab-df-convert\" onclick=\"convertToInteractive('df-e6e6e6db-c0e7-47c5-b37f-96b769fc0042')\"\n",
              "            title=\"Convert this dataframe to an interactive table.\"\n",
              "            style=\"display:none;\">\n",
              "\n",
              "  <svg xmlns=\"http://www.w3.org/2000/svg\" height=\"24px\" viewBox=\"0 -960 960 960\">\n",
              "    <path d=\"M120-120v-720h720v720H120Zm60-500h600v-160H180v160Zm220 220h160v-160H400v160Zm0 220h160v-160H400v160ZM180-400h160v-160H180v160Zm440 0h160v-160H620v160ZM180-180h160v-160H180v160Zm440 0h160v-160H620v160Z\"/>\n",
              "  </svg>\n",
              "    </button>\n",
              "\n",
              "  <style>\n",
              "    .colab-df-container {\n",
              "      display:flex;\n",
              "      gap: 12px;\n",
              "    }\n",
              "\n",
              "    .colab-df-convert {\n",
              "      background-color: #E8F0FE;\n",
              "      border: none;\n",
              "      border-radius: 50%;\n",
              "      cursor: pointer;\n",
              "      display: none;\n",
              "      fill: #1967D2;\n",
              "      height: 32px;\n",
              "      padding: 0 0 0 0;\n",
              "      width: 32px;\n",
              "    }\n",
              "\n",
              "    .colab-df-convert:hover {\n",
              "      background-color: #E2EBFA;\n",
              "      box-shadow: 0px 1px 2px rgba(60, 64, 67, 0.3), 0px 1px 3px 1px rgba(60, 64, 67, 0.15);\n",
              "      fill: #174EA6;\n",
              "    }\n",
              "\n",
              "    .colab-df-buttons div {\n",
              "      margin-bottom: 4px;\n",
              "    }\n",
              "\n",
              "    [theme=dark] .colab-df-convert {\n",
              "      background-color: #3B4455;\n",
              "      fill: #D2E3FC;\n",
              "    }\n",
              "\n",
              "    [theme=dark] .colab-df-convert:hover {\n",
              "      background-color: #434B5C;\n",
              "      box-shadow: 0px 1px 3px 1px rgba(0, 0, 0, 0.15);\n",
              "      filter: drop-shadow(0px 1px 2px rgba(0, 0, 0, 0.3));\n",
              "      fill: #FFFFFF;\n",
              "    }\n",
              "  </style>\n",
              "\n",
              "    <script>\n",
              "      const buttonEl =\n",
              "        document.querySelector('#df-e6e6e6db-c0e7-47c5-b37f-96b769fc0042 button.colab-df-convert');\n",
              "      buttonEl.style.display =\n",
              "        google.colab.kernel.accessAllowed ? 'block' : 'none';\n",
              "\n",
              "      async function convertToInteractive(key) {\n",
              "        const element = document.querySelector('#df-e6e6e6db-c0e7-47c5-b37f-96b769fc0042');\n",
              "        const dataTable =\n",
              "          await google.colab.kernel.invokeFunction('convertToInteractive',\n",
              "                                                    [key], {});\n",
              "        if (!dataTable) return;\n",
              "\n",
              "        const docLinkHtml = 'Like what you see? Visit the ' +\n",
              "          '<a target=\"_blank\" href=https://colab.research.google.com/notebooks/data_table.ipynb>data table notebook</a>'\n",
              "          + ' to learn more about interactive tables.';\n",
              "        element.innerHTML = '';\n",
              "        dataTable['output_type'] = 'display_data';\n",
              "        await google.colab.output.renderOutput(dataTable, element);\n",
              "        const docLink = document.createElement('div');\n",
              "        docLink.innerHTML = docLinkHtml;\n",
              "        element.appendChild(docLink);\n",
              "      }\n",
              "    </script>\n",
              "  </div>\n",
              "\n",
              "\n",
              "<div id=\"df-85bf85e1-a261-4963-a9e3-5ca28c3a137e\">\n",
              "  <button class=\"colab-df-quickchart\" onclick=\"quickchart('df-85bf85e1-a261-4963-a9e3-5ca28c3a137e')\"\n",
              "            title=\"Suggest charts\"\n",
              "            style=\"display:none;\">\n",
              "\n",
              "<svg xmlns=\"http://www.w3.org/2000/svg\" height=\"24px\"viewBox=\"0 0 24 24\"\n",
              "     width=\"24px\">\n",
              "    <g>\n",
              "        <path d=\"M19 3H5c-1.1 0-2 .9-2 2v14c0 1.1.9 2 2 2h14c1.1 0 2-.9 2-2V5c0-1.1-.9-2-2-2zM9 17H7v-7h2v7zm4 0h-2V7h2v10zm4 0h-2v-4h2v4z\"/>\n",
              "    </g>\n",
              "</svg>\n",
              "  </button>\n",
              "\n",
              "<style>\n",
              "  .colab-df-quickchart {\n",
              "      --bg-color: #E8F0FE;\n",
              "      --fill-color: #1967D2;\n",
              "      --hover-bg-color: #E2EBFA;\n",
              "      --hover-fill-color: #174EA6;\n",
              "      --disabled-fill-color: #AAA;\n",
              "      --disabled-bg-color: #DDD;\n",
              "  }\n",
              "\n",
              "  [theme=dark] .colab-df-quickchart {\n",
              "      --bg-color: #3B4455;\n",
              "      --fill-color: #D2E3FC;\n",
              "      --hover-bg-color: #434B5C;\n",
              "      --hover-fill-color: #FFFFFF;\n",
              "      --disabled-bg-color: #3B4455;\n",
              "      --disabled-fill-color: #666;\n",
              "  }\n",
              "\n",
              "  .colab-df-quickchart {\n",
              "    background-color: var(--bg-color);\n",
              "    border: none;\n",
              "    border-radius: 50%;\n",
              "    cursor: pointer;\n",
              "    display: none;\n",
              "    fill: var(--fill-color);\n",
              "    height: 32px;\n",
              "    padding: 0;\n",
              "    width: 32px;\n",
              "  }\n",
              "\n",
              "  .colab-df-quickchart:hover {\n",
              "    background-color: var(--hover-bg-color);\n",
              "    box-shadow: 0 1px 2px rgba(60, 64, 67, 0.3), 0 1px 3px 1px rgba(60, 64, 67, 0.15);\n",
              "    fill: var(--button-hover-fill-color);\n",
              "  }\n",
              "\n",
              "  .colab-df-quickchart-complete:disabled,\n",
              "  .colab-df-quickchart-complete:disabled:hover {\n",
              "    background-color: var(--disabled-bg-color);\n",
              "    fill: var(--disabled-fill-color);\n",
              "    box-shadow: none;\n",
              "  }\n",
              "\n",
              "  .colab-df-spinner {\n",
              "    border: 2px solid var(--fill-color);\n",
              "    border-color: transparent;\n",
              "    border-bottom-color: var(--fill-color);\n",
              "    animation:\n",
              "      spin 1s steps(1) infinite;\n",
              "  }\n",
              "\n",
              "  @keyframes spin {\n",
              "    0% {\n",
              "      border-color: transparent;\n",
              "      border-bottom-color: var(--fill-color);\n",
              "      border-left-color: var(--fill-color);\n",
              "    }\n",
              "    20% {\n",
              "      border-color: transparent;\n",
              "      border-left-color: var(--fill-color);\n",
              "      border-top-color: var(--fill-color);\n",
              "    }\n",
              "    30% {\n",
              "      border-color: transparent;\n",
              "      border-left-color: var(--fill-color);\n",
              "      border-top-color: var(--fill-color);\n",
              "      border-right-color: var(--fill-color);\n",
              "    }\n",
              "    40% {\n",
              "      border-color: transparent;\n",
              "      border-right-color: var(--fill-color);\n",
              "      border-top-color: var(--fill-color);\n",
              "    }\n",
              "    60% {\n",
              "      border-color: transparent;\n",
              "      border-right-color: var(--fill-color);\n",
              "    }\n",
              "    80% {\n",
              "      border-color: transparent;\n",
              "      border-right-color: var(--fill-color);\n",
              "      border-bottom-color: var(--fill-color);\n",
              "    }\n",
              "    90% {\n",
              "      border-color: transparent;\n",
              "      border-bottom-color: var(--fill-color);\n",
              "    }\n",
              "  }\n",
              "</style>\n",
              "\n",
              "  <script>\n",
              "    async function quickchart(key) {\n",
              "      const quickchartButtonEl =\n",
              "        document.querySelector('#' + key + ' button');\n",
              "      quickchartButtonEl.disabled = true;  // To prevent multiple clicks.\n",
              "      quickchartButtonEl.classList.add('colab-df-spinner');\n",
              "      try {\n",
              "        const charts = await google.colab.kernel.invokeFunction(\n",
              "            'suggestCharts', [key], {});\n",
              "      } catch (error) {\n",
              "        console.error('Error during call to suggestCharts:', error);\n",
              "      }\n",
              "      quickchartButtonEl.classList.remove('colab-df-spinner');\n",
              "      quickchartButtonEl.classList.add('colab-df-quickchart-complete');\n",
              "    }\n",
              "    (() => {\n",
              "      let quickchartButtonEl =\n",
              "        document.querySelector('#df-85bf85e1-a261-4963-a9e3-5ca28c3a137e button');\n",
              "      quickchartButtonEl.style.display =\n",
              "        google.colab.kernel.accessAllowed ? 'block' : 'none';\n",
              "    })();\n",
              "  </script>\n",
              "</div>\n",
              "\n",
              "    </div>\n",
              "  </div>\n"
            ],
            "application/vnd.google.colaboratory.intrinsic+json": {
              "type": "dataframe",
              "variable_name": "df",
              "summary": "{\n  \"name\": \"df\",\n  \"rows\": 7000,\n  \"fields\": [\n    {\n      \"column\": \"question\",\n      \"properties\": {\n        \"dtype\": \"string\",\n        \"num_unique_values\": 6932,\n        \"samples\": [\n          \"What is discussed in Item 8 of a financial document?\",\n          \"What are the net lease obligations for operating and finance leases as of 2024 according to the disclosed financial data?\",\n          \"What was the net fair value of the company's outstanding derivatives as of January 28, 2024?\"\n        ],\n        \"semantic_type\": \"\",\n        \"description\": \"\"\n      }\n    },\n    {\n      \"column\": \"answer\",\n      \"properties\": {\n        \"dtype\": \"string\",\n        \"num_unique_values\": 6528,\n        \"samples\": [\n          \"$52,124\",\n          \"Amortization of film and TV production and acquisition costs, residuals and participations expenses, and distribution expenses\",\n          \"From 2022 to 2023, lululemon's net revenue increased by 19% to $9.6 billion, and comparable sales increased by 13% overall.\"\n        ],\n        \"semantic_type\": \"\",\n        \"description\": \"\"\n      }\n    },\n    {\n      \"column\": \"context\",\n      \"properties\": {\n        \"dtype\": \"string\",\n        \"num_unique_values\": 6756,\n        \"samples\": [\n          \"Item 8, which requires the inclusion of financial statements and supplementary data, directs readers to Item 15(a) for this information.\",\n          \"Our largest vendors are Sony, Nintendo, and Microsoft, which collectively accounted for a majority of our new product purchases in fiscal 2022.\",\n          \"Because the hours of operation are shorter than many other retailers, and due to other efficiencies inherent in a warehouse-type operation, labor costs are lower relative to the volume of sales. Merchandise is generally stored on racks above the sales floor and displayed on pallets containing large quantities, reducing labor required.\"\n        ],\n        \"semantic_type\": \"\",\n        \"description\": \"\"\n      }\n    },\n    {\n      \"column\": \"ticker\",\n      \"properties\": {\n        \"dtype\": \"category\",\n        \"num_unique_values\": 69,\n        \"samples\": [\n          \"CRM\",\n          \"NVDA\",\n          \"EFX\"\n        ],\n        \"semantic_type\": \"\",\n        \"description\": \"\"\n      }\n    },\n    {\n      \"column\": \"filing\",\n      \"properties\": {\n        \"dtype\": \"category\",\n        \"num_unique_values\": 1,\n        \"samples\": [\n          \"2023_10K\"\n        ],\n        \"semantic_type\": \"\",\n        \"description\": \"\"\n      }\n    }\n  ]\n}"
            }
          },
          "metadata": {},
          "execution_count": 10
        }
      ],
      "source": [
        "df.head(2)"
      ]
    },
    {
      "cell_type": "code",
      "execution_count": 11,
      "metadata": {
        "colab": {
          "base_uri": "https://localhost:8080/"
        },
        "id": "IL8TQqTrmQs-",
        "outputId": "de132fde-61a3-4791-8173-6fcb49ea763d"
      },
      "outputs": [
        {
          "output_type": "stream",
          "name": "stdout",
          "text": [
            "<class 'pandas.core.frame.DataFrame'>\n",
            "RangeIndex: 7000 entries, 0 to 6999\n",
            "Data columns (total 5 columns):\n",
            " #   Column    Non-Null Count  Dtype \n",
            "---  ------    --------------  ----- \n",
            " 0   question  6998 non-null   object\n",
            " 1   answer    6998 non-null   object\n",
            " 2   context   6999 non-null   object\n",
            " 3   ticker    7000 non-null   object\n",
            " 4   filing    7000 non-null   object\n",
            "dtypes: object(5)\n",
            "memory usage: 273.6+ KB\n"
          ]
        }
      ],
      "source": [
        "df.info()"
      ]
    },
    {
      "cell_type": "markdown",
      "metadata": {
        "id": "C_PU12eTOKLw"
      },
      "source": [
        "\n",
        "## Lets do some exploartaion"
      ]
    },
    {
      "cell_type": "markdown",
      "metadata": {
        "id": "E_GHjaE0PNMB"
      },
      "source": [
        "### check the length of each columns"
      ]
    },
    {
      "cell_type": "code",
      "execution_count": 12,
      "metadata": {
        "colab": {
          "base_uri": "https://localhost:8080/",
          "height": 447
        },
        "id": "-o7sqXC0PRzQ",
        "outputId": "95a43027-7e04-40ee-bf53-579b7f1e6572"
      },
      "outputs": [
        {
          "output_type": "execute_result",
          "data": {
            "text/plain": [
              "<Axes: ylabel='Frequency'>"
            ]
          },
          "metadata": {},
          "execution_count": 12
        },
        {
          "output_type": "display_data",
          "data": {
            "text/plain": [
              "<Figure size 640x480 with 1 Axes>"
            ],
            "image/png": "[encoded data removed]"
          },
          "metadata": {}
        }
      ],
      "source": [
        "df[\"question\"].str.len().plot(kind='hist',bins=100)"
      ]
    },
    {
      "cell_type": "code",
      "execution_count": 12,
      "metadata": {
        "id": "cGhPU3jfQlP5"
      },
      "outputs": [],
      "source": []
    },
    {
      "cell_type": "code",
      "execution_count": 13,
      "metadata": {
        "colab": {
          "base_uri": "https://localhost:8080/",
          "height": 466
        },
        "id": "0dtjy4JfPhdU",
        "outputId": "b70eaa34-75f4-4226-bab7-0bfa878f275a"
      },
      "outputs": [
        {
          "output_type": "execute_result",
          "data": {
            "text/plain": [
              "Text(0.5, 0, 'length->')"
            ]
          },
          "metadata": {},
          "execution_count": 13
        },
        {
          "output_type": "display_data",
          "data": {
            "text/plain": [
              "<Figure size 640x480 with 1 Axes>"
            ],
            "image/png": "[encoded data removed]"
          },
          "metadata": {}
        }
      ],
      "source": [
        "df[\"answer\"].str.len().plot(kind='hist',bins=100)\n",
        "plt.ylabel(\"frequency->\")\n",
        "plt.xlabel(\"length->\")"
      ]
    },
    {
      "cell_type": "code",
      "execution_count": 13,
      "metadata": {
        "id": "hnmBD3TYV6sY"
      },
      "outputs": [],
      "source": []
    },
    {
      "cell_type": "code",
      "execution_count": 14,
      "metadata": {
        "colab": {
          "base_uri": "https://localhost:8080/",
          "height": 447
        },
        "id": "ZyFAshtDQESo",
        "outputId": "80256ad4-e836-43d0-e382-3838edaf849c"
      },
      "outputs": [
        {
          "output_type": "execute_result",
          "data": {
            "text/plain": [
              "(0.0, 1000.0)"
            ]
          },
          "metadata": {},
          "execution_count": 14
        },
        {
          "output_type": "display_data",
          "data": {
            "text/plain": [
              "<Figure size 640x480 with 1 Axes>"
            ],
            "image/png": "[encoded data removed]"
          },
          "metadata": {}
        }
      ],
      "source": [
        "df[\"context\"].str.len().plot(kind='hist',bins=100)\n",
        "plt.xlim((0,1000))"
      ]
    },
    {
      "cell_type": "code",
      "execution_count": 20,
      "metadata": {
        "colab": {
          "base_uri": "https://localhost:8080/",
          "height": 447
        },
        "id": "CcxoctbbRKH8",
        "outputId": "966fc165-6fb5-4b61-8b61-846d3111b6a9"
      },
      "outputs": [
        {
          "output_type": "execute_result",
          "data": {
            "text/plain": [
              "<Axes: ylabel='Frequency'>"
            ]
          },
          "metadata": {},
          "execution_count": 20
        },
        {
          "output_type": "display_data",
          "data": {
            "text/plain": [
              "<Figure size 640x480 with 1 Axes>"
            ],
            "image/png": "[encoded data removed]"
          },
          "metadata": {}
        }
      ],
      "source": [
        "df[\"answer\"].str.len().plot(kind='hist',bins=100)\n",
        "df[\"question\"].str.len().plot(kind='hist',bins=100)"
      ]
    },
    {
      "cell_type": "code",
      "execution_count": 21,
      "metadata": {
        "colab": {
          "base_uri": "https://localhost:8080/"
        },
        "id": "ji5wRwQSV9YG",
        "outputId": "d8bfdd37-24b8-4dfb-facb-9f2e48bccb0b"
      },
      "outputs": [
        {
          "output_type": "execute_result",
          "data": {
            "text/plain": [
              "Index(['question', 'answer', 'context', 'ticker', 'filing'], dtype='object')"
            ]
          },
          "metadata": {},
          "execution_count": 21
        }
      ],
      "source": [
        "df.columns"
      ]
    },
    {
      "cell_type": "code",
      "execution_count": 22,
      "metadata": {
        "colab": {
          "base_uri": "https://localhost:8080/",
          "height": 780
        },
        "id": "Pcs8fWAnWrgj",
        "outputId": "e4ae6129-0015-4ed7-ac2e-8c69e8d7c65b"
      },
      "outputs": [
        {
          "output_type": "display_data",
          "data": {
            "text/plain": [
              "<Figure size 2000x1000 with 1 Axes>"
            ],
            "image/png": "[encoded data removed]"
          },
          "metadata": {}
        }
      ],
      "source": [
        "plt.figure(figsize=(20,10))\n",
        "sns.countplot(data=df,x='ticker')\n",
        "plt.xticks(rotation=90)\n",
        "plt.show()"
      ]
    },
    {
      "cell_type": "code",
      "execution_count": 23,
      "metadata": {
        "colab": {
          "base_uri": "https://localhost:8080/",
          "height": 428
        },
        "id": "zgTTN3VPWx1U",
        "outputId": "c77ae9ad-51cd-460c-a487-26be682b9665"
      },
      "outputs": [
        {
          "output_type": "execute_result",
          "data": {
            "text/plain": [
              "<Axes: ylabel='count'>"
            ]
          },
          "metadata": {},
          "execution_count": 23
        },
        {
          "output_type": "display_data",
          "data": {
            "text/plain": [
              "<Figure size 640x480 with 1 Axes>"
            ],
            "image/png": "[encoded data removed]"
          },
          "metadata": {}
        }
      ],
      "source": [
        "sns.boxplot(y=df[\"ticker\"].value_counts().reset_index()[\"count\"])"
      ]
    },
    {
      "cell_type": "code",
      "execution_count": 23,
      "metadata": {
        "id": "7oytVMv5h7CU"
      },
      "outputs": [],
      "source": []
    },
    {
      "cell_type": "code",
      "execution_count": 24,
      "metadata": {
        "colab": {
          "base_uri": "https://localhost:8080/",
          "height": 35
        },
        "id": "aYAMGLi4bxFB",
        "outputId": "9933dbb0-8621-457a-b904-86ce6f1ef495"
      },
      "outputs": [
        {
          "output_type": "execute_result",
          "data": {
            "text/plain": [
              "'What area did NVIDIA initially focus on before expanding to other computationally intensive fields'"
            ],
            "application/vnd.google.colaboratory.intrinsic+json": {
              "type": "string"
            }
          },
          "metadata": {},
          "execution_count": 24
        }
      ],
      "source": [
        "df[\"question\"].iloc[0].translate(str.maketrans('','',string.punctuation))"
      ]
    },
    {
      "cell_type": "code",
      "execution_count": 25,
      "metadata": {
        "id": "kX70DwvAtWBy"
      },
      "outputs": [],
      "source": [
        "# stopwords('english').words"
      ]
    },
    {
      "cell_type": "code",
      "execution_count": 26,
      "metadata": {
        "id": "GpBTeBDbg_ge"
      },
      "outputs": [],
      "source": [
        "\n",
        "def remove_punctuation(text):\n",
        "  try:\n",
        "    text=text.translate(str.maketrans('','',string.punctuation)).lower()\n",
        "    txt=nlp(text)\n",
        "    res=[]\n",
        "    for ent in txt:\n",
        "      if ent.text not in list(all_stop_word):\n",
        "          res.append(ent.lemma_)\n",
        "    return \" \".join(res)\n",
        "  except:\n",
        "    print(f\"text: {text}\")\n",
        "    return ''\n"
      ]
    },
    {
      "cell_type": "code",
      "execution_count": 27,
      "metadata": {
        "id": "YoABsrDOjQ1z",
        "colab": {
          "base_uri": "https://localhost:8080/"
        },
        "outputId": "9b549002-8d1c-4663-b819-dfa503b6609d"
      },
      "outputs": [
        {
          "output_type": "stream",
          "name": "stdout",
          "text": [
            "text: nan\n",
            "text: nan\n"
          ]
        }
      ],
      "source": [
        "df[\"clean_context\"]=df[\"context\"].apply(lambda x:remove_punctuation(x))\n",
        "df[\"clean_answer\"]=df[\"context\"].apply(lambda x:remove_punctuation(x))"
      ]
    },
    {
      "cell_type": "code",
      "execution_count": 28,
      "metadata": {
        "id": "Lr68fZqajohh"
      },
      "outputs": [],
      "source": [
        "def check_common_words(answer,context):\n",
        "  try:\n",
        "    return (len(set(answer.split(' ')).intersection(set(context.split(' '))))/len(answer.split(' ')))*100\n",
        "  except Exception as ex:\n",
        "    print(f\"exeption: {ex}\")\n",
        "    return 100"
      ]
    },
    {
      "cell_type": "code",
      "execution_count": 29,
      "metadata": {
        "id": "lQNL2CYjkSTl"
      },
      "outputs": [],
      "source": [
        "df[\"answer_context_commonword\"]=df.apply(lambda x: check_common_words(x.clean_answer,x.clean_context),axis=1)"
      ]
    },
    {
      "cell_type": "code",
      "execution_count": 30,
      "metadata": {
        "colab": {
          "base_uri": "https://localhost:8080/",
          "height": 447
        },
        "id": "PLCnyh1Qkjlo",
        "outputId": "3bd484d7-c257-40ae-94d6-39bae2797a66"
      },
      "outputs": [
        {
          "output_type": "execute_result",
          "data": {
            "text/plain": [
              "<Axes: ylabel='Frequency'>"
            ]
          },
          "metadata": {},
          "execution_count": 30
        },
        {
          "output_type": "display_data",
          "data": {
            "text/plain": [
              "<Figure size 640x480 with 1 Axes>"
            ],
            "image/png": "[encoded data removed]"
          },
          "metadata": {}
        }
      ],
      "source": [
        "df[\"answer_context_commonword\"].plot(kind='hist',bins=100)"
      ]
    },
    {
      "cell_type": "code",
      "execution_count": 31,
      "metadata": {
        "id": "GzpjConOmayb",
        "colab": {
          "base_uri": "https://localhost:8080/",
          "height": 300
        },
        "outputId": "9b5d2ab2-f185-4025-d342-9708a134432d"
      },
      "outputs": [
        {
          "output_type": "execute_result",
          "data": {
            "text/plain": [
              "       answer_context_commonword\n",
              "count                7000.000000\n",
              "mean                   88.687975\n",
              "std                    12.790089\n",
              "min                    18.181818\n",
              "25%                    83.333333\n",
              "50%                    91.666667\n",
              "75%                   100.000000\n",
              "max                   100.000000"
            ],
            "text/html": [
              "\n",
              "  <div id=\"df-7068fe0a-fec0-40a8-bab8-93dfa57b20ca\" class=\"colab-df-container\">\n",
              "    <div>\n",
              "<style scoped>\n",
              "    .dataframe tbody tr th:only-of-type {\n",
              "        vertical-align: middle;\n",
              "    }\n",
              "\n",
              "    .dataframe tbody tr th {\n",
              "        vertical-align: top;\n",
              "    }\n",
              "\n",
              "    .dataframe thead th {\n",
              "        text-align: right;\n",
              "    }\n",
              "</style>\n",
              "<table border=\"1\" class=\"dataframe\">\n",
              "  <thead>\n",
              "    <tr style=\"text-align: right;\">\n",
              "      <th></th>\n",
              "      <th>answer_context_commonword</th>\n",
              "    </tr>\n",
              "  </thead>\n",
              "  <tbody>\n",
              "    <tr>\n",
              "      <th>count</th>\n",
              "      <td>7000.000000</td>\n",
              "    </tr>\n",
              "    <tr>\n",
              "      <th>mean</th>\n",
              "      <td>88.687975</td>\n",
              "    </tr>\n",
              "    <tr>\n",
              "      <th>std</th>\n",
              "      <td>12.790089</td>\n",
              "    </tr>\n",
              "    <tr>\n",
              "      <th>min</th>\n",
              "      <td>18.181818</td>\n",
              "    </tr>\n",
              "    <tr>\n",
              "      <th>25%</th>\n",
              "      <td>83.333333</td>\n",
              "    </tr>\n",
              "    <tr>\n",
              "      <th>50%</th>\n",
              "      <td>91.666667</td>\n",
              "    </tr>\n",
              "    <tr>\n",
              "      <th>75%</th>\n",
              "      <td>100.000000</td>\n",
              "    </tr>\n",
              "    <tr>\n",
              "      <th>max</th>\n",
              "      <td>100.000000</td>\n",
              "    </tr>\n",
              "  </tbody>\n",
              "</table>\n",
              "</div>\n",
              "    <div class=\"colab-df-buttons\">\n",
              "\n",
              "  <div class=\"colab-df-container\">\n",
              "    <button class=\"colab-df-convert\" onclick=\"convertToInteractive('df-7068fe0a-fec0-40a8-bab8-93dfa57b20ca')\"\n",
              "            title=\"Convert this dataframe to an interactive table.\"\n",
              "            style=\"display:none;\">\n",
              "\n",
              "  <svg xmlns=\"http://www.w3.org/2000/svg\" height=\"24px\" viewBox=\"0 -960 960 960\">\n",
              "    <path d=\"M120-120v-720h720v720H120Zm60-500h600v-160H180v160Zm220 220h160v-160H400v160Zm0 220h160v-160H400v160ZM180-400h160v-160H180v160Zm440 0h160v-160H620v160ZM180-180h160v-160H180v160Zm440 0h160v-160H620v160Z\"/>\n",
              "  </svg>\n",
              "    </button>\n",
              "\n",
              "  <style>\n",
              "    .colab-df-container {\n",
              "      display:flex;\n",
              "      gap: 12px;\n",
              "    }\n",
              "\n",
              "    .colab-df-convert {\n",
              "      background-color: #E8F0FE;\n",
              "      border: none;\n",
              "      border-radius: 50%;\n",
              "      cursor: pointer;\n",
              "      display: none;\n",
              "      fill: #1967D2;\n",
              "      height: 32px;\n",
              "      padding: 0 0 0 0;\n",
              "      width: 32px;\n",
              "    }\n",
              "\n",
              "    .colab-df-convert:hover {\n",
              "      background-color: #E2EBFA;\n",
              "      box-shadow: 0px 1px 2px rgba(60, 64, 67, 0.3), 0px 1px 3px 1px rgba(60, 64, 67, 0.15);\n",
              "      fill: #174EA6;\n",
              "    }\n",
              "\n",
              "    .colab-df-buttons div {\n",
              "      margin-bottom: 4px;\n",
              "    }\n",
              "\n",
              "    [theme=dark] .colab-df-convert {\n",
              "      background-color: #3B4455;\n",
              "      fill: #D2E3FC;\n",
              "    }\n",
              "\n",
              "    [theme=dark] .colab-df-convert:hover {\n",
              "      background-color: #434B5C;\n",
              "      box-shadow: 0px 1px 3px 1px rgba(0, 0, 0, 0.15);\n",
              "      filter: drop-shadow(0px 1px 2px rgba(0, 0, 0, 0.3));\n",
              "      fill: #FFFFFF;\n",
              "    }\n",
              "  </style>\n",
              "\n",
              "    <script>\n",
              "      const buttonEl =\n",
              "        document.querySelector('#df-7068fe0a-fec0-40a8-bab8-93dfa57b20ca button.colab-df-convert');\n",
              "      buttonEl.style.display =\n",
              "        google.colab.kernel.accessAllowed ? 'block' : 'none';\n",
              "\n",
              "      async function convertToInteractive(key) {\n",
              "        const element = document.querySelector('#df-7068fe0a-fec0-40a8-bab8-93dfa57b20ca');\n",
              "        const dataTable =\n",
              "          await google.colab.kernel.invokeFunction('convertToInteractive',\n",
              "                                                    [key], {});\n",
              "        if (!dataTable) return;\n",
              "\n",
              "        const docLinkHtml = 'Like what you see? Visit the ' +\n",
              "          '<a target=\"_blank\" href=https://colab.research.google.com/notebooks/data_table.ipynb>data table notebook</a>'\n",
              "          + ' to learn more about interactive tables.';\n",
              "        element.innerHTML = '';\n",
              "        dataTable['output_type'] = 'display_data';\n",
              "        await google.colab.output.renderOutput(dataTable, element);\n",
              "        const docLink = document.createElement('div');\n",
              "        docLink.innerHTML = docLinkHtml;\n",
              "        element.appendChild(docLink);\n",
              "      }\n",
              "    </script>\n",
              "  </div>\n",
              "\n",
              "\n",
              "<div id=\"df-d53ac770-2d34-4685-bbec-e47bec50164a\">\n",
              "  <button class=\"colab-df-quickchart\" onclick=\"quickchart('df-d53ac770-2d34-4685-bbec-e47bec50164a')\"\n",
              "            title=\"Suggest charts\"\n",
              "            style=\"display:none;\">\n",
              "\n",
              "<svg xmlns=\"http://www.w3.org/2000/svg\" height=\"24px\"viewBox=\"0 0 24 24\"\n",
              "     width=\"24px\">\n",
              "    <g>\n",
              "        <path d=\"M19 3H5c-1.1 0-2 .9-2 2v14c0 1.1.9 2 2 2h14c1.1 0 2-.9 2-2V5c0-1.1-.9-2-2-2zM9 17H7v-7h2v7zm4 0h-2V7h2v10zm4 0h-2v-4h2v4z\"/>\n",
              "    </g>\n",
              "</svg>\n",
              "  </button>\n",
              "\n",
              "<style>\n",
              "  .colab-df-quickchart {\n",
              "      --bg-color: #E8F0FE;\n",
              "      --fill-color: #1967D2;\n",
              "      --hover-bg-color: #E2EBFA;\n",
              "      --hover-fill-color: #174EA6;\n",
              "      --disabled-fill-color: #AAA;\n",
              "      --disabled-bg-color: #DDD;\n",
              "  }\n",
              "\n",
              "  [theme=dark] .colab-df-quickchart {\n",
              "      --bg-color: #3B4455;\n",
              "      --fill-color: #D2E3FC;\n",
              "      --hover-bg-color: #434B5C;\n",
              "      --hover-fill-color: #FFFFFF;\n",
              "      --disabled-bg-color: #3B4455;\n",
              "      --disabled-fill-color: #666;\n",
              "  }\n",
              "\n",
              "  .colab-df-quickchart {\n",
              "    background-color: var(--bg-color);\n",
              "    border: none;\n",
              "    border-radius: 50%;\n",
              "    cursor: pointer;\n",
              "    display: none;\n",
              "    fill: var(--fill-color);\n",
              "    height: 32px;\n",
              "    padding: 0;\n",
              "    width: 32px;\n",
              "  }\n",
              "\n",
              "  .colab-df-quickchart:hover {\n",
              "    background-color: var(--hover-bg-color);\n",
              "    box-shadow: 0 1px 2px rgba(60, 64, 67, 0.3), 0 1px 3px 1px rgba(60, 64, 67, 0.15);\n",
              "    fill: var(--button-hover-fill-color);\n",
              "  }\n",
              "\n",
              "  .colab-df-quickchart-complete:disabled,\n",
              "  .colab-df-quickchart-complete:disabled:hover {\n",
              "    background-color: var(--disabled-bg-color);\n",
              "    fill: var(--disabled-fill-color);\n",
              "    box-shadow: none;\n",
              "  }\n",
              "\n",
              "  .colab-df-spinner {\n",
              "    border: 2px solid var(--fill-color);\n",
              "    border-color: transparent;\n",
              "    border-bottom-color: var(--fill-color);\n",
              "    animation:\n",
              "      spin 1s steps(1) infinite;\n",
              "  }\n",
              "\n",
              "  @keyframes spin {\n",
              "    0% {\n",
              "      border-color: transparent;\n",
              "      border-bottom-color: var(--fill-color);\n",
              "      border-left-color: var(--fill-color);\n",
              "    }\n",
              "    20% {\n",
              "      border-color: transparent;\n",
              "      border-left-color: var(--fill-color);\n",
              "      border-top-color: var(--fill-color);\n",
              "    }\n",
              "    30% {\n",
              "      border-color: transparent;\n",
              "      border-left-color: var(--fill-color);\n",
              "      border-top-color: var(--fill-color);\n",
              "      border-right-color: var(--fill-color);\n",
              "    }\n",
              "    40% {\n",
              "      border-color: transparent;\n",
              "      border-right-color: var(--fill-color);\n",
              "      border-top-color: var(--fill-color);\n",
              "    }\n",
              "    60% {\n",
              "      border-color: transparent;\n",
              "      border-right-color: var(--fill-color);\n",
              "    }\n",
              "    80% {\n",
              "      border-color: transparent;\n",
              "      border-right-color: var(--fill-color);\n",
              "      border-bottom-color: var(--fill-color);\n",
              "    }\n",
              "    90% {\n",
              "      border-color: transparent;\n",
              "      border-bottom-color: var(--fill-color);\n",
              "    }\n",
              "  }\n",
              "</style>\n",
              "\n",
              "  <script>\n",
              "    async function quickchart(key) {\n",
              "      const quickchartButtonEl =\n",
              "        document.querySelector('#' + key + ' button');\n",
              "      quickchartButtonEl.disabled = true;  // To prevent multiple clicks.\n",
              "      quickchartButtonEl.classList.add('colab-df-spinner');\n",
              "      try {\n",
              "        const charts = await google.colab.kernel.invokeFunction(\n",
              "            'suggestCharts', [key], {});\n",
              "      } catch (error) {\n",
              "        console.error('Error during call to suggestCharts:', error);\n",
              "      }\n",
              "      quickchartButtonEl.classList.remove('colab-df-spinner');\n",
              "      quickchartButtonEl.classList.add('colab-df-quickchart-complete');\n",
              "    }\n",
              "    (() => {\n",
              "      let quickchartButtonEl =\n",
              "        document.querySelector('#df-d53ac770-2d34-4685-bbec-e47bec50164a button');\n",
              "      quickchartButtonEl.style.display =\n",
              "        google.colab.kernel.accessAllowed ? 'block' : 'none';\n",
              "    })();\n",
              "  </script>\n",
              "</div>\n",
              "\n",
              "    </div>\n",
              "  </div>\n"
            ],
            "application/vnd.google.colaboratory.intrinsic+json": {
              "type": "dataframe",
              "summary": "{\n  \"name\": \"df[[\\\"answer_context_commonword\\\"]]\",\n  \"rows\": 8,\n  \"fields\": [\n    {\n      \"column\": \"answer_context_commonword\",\n      \"properties\": {\n        \"dtype\": \"number\",\n        \"std\": 2450.144779980657,\n        \"min\": 12.790088846413578,\n        \"max\": 7000.0,\n        \"num_unique_values\": 7,\n        \"samples\": [\n          7000.0,\n          88.68797531907849,\n          91.66666666666666\n        ],\n        \"semantic_type\": \"\",\n        \"description\": \"\"\n      }\n    }\n  ]\n}"
            }
          },
          "metadata": {},
          "execution_count": 31
        }
      ],
      "source": [
        "df[[\"answer_context_commonword\"]].describe()"
      ]
    },
    {
      "cell_type": "code",
      "execution_count": 32,
      "metadata": {
        "id": "senPIKKGVgrA"
      },
      "outputs": [],
      "source": [
        "from scipy.stats import ttest_ind"
      ]
    },
    {
      "cell_type": "code",
      "execution_count": 33,
      "metadata": {
        "id": "gUkjeibmWNX_"
      },
      "outputs": [],
      "source": [
        "unique_ticker=list(df[\"ticker\"].unique())"
      ]
    },
    {
      "cell_type": "code",
      "execution_count": 34,
      "metadata": {
        "id": "fgcaaoUrWNmd",
        "colab": {
          "base_uri": "https://localhost:8080/"
        },
        "outputId": "76f47d49-34d7-4fb0-8972-b3f2ae7e6231"
      },
      "outputs": [
        {
          "output_type": "stream",
          "name": "stdout",
          "text": [
            "TtestResult(statistic=-4.276571136616607, pvalue=1.9231756359936535e-05, df=6998.0)\n",
            "TtestResult(statistic=-8.641012282795248, pvalue=6.826019136136106e-18, df=6998.0)\n",
            "TtestResult(statistic=-4.229860102558205, pvalue=2.3681793405324152e-05, df=6998.0)\n",
            "TtestResult(statistic=-13.412109387081841, pvalue=1.6206746676954929e-40, df=6998.0)\n",
            "TtestResult(statistic=-4.371868496189104, pvalue=1.2497017901322691e-05, df=6998.0)\n",
            "TtestResult(statistic=-10.184765740093054, pvalue=3.418385063318021e-24, df=6998.0)\n",
            "TtestResult(statistic=-8.753100909185658, pvalue=2.569971117199672e-18, df=6998.0)\n",
            "TtestResult(statistic=-4.505112584333175, pvalue=6.741512860054059e-06, df=6998.0)\n",
            "TtestResult(statistic=-4.13737593487351, pvalue=3.554163246653598e-05, df=6998.0)\n",
            "TtestResult(statistic=-2.310778617728844, pvalue=0.020874014599651155, df=6998.0)\n",
            "TtestResult(statistic=-1.1686352526591666, pvalue=0.2425904266312695, df=6998.0)\n",
            "TtestResult(statistic=-2.508571918470114, pvalue=0.012144462386751747, df=6998.0)\n",
            "TtestResult(statistic=1.4092572812282405, pvalue=0.15880353965929517, df=6998.0)\n",
            "TtestResult(statistic=-0.06241911037018406, pvalue=0.9502308593778079, df=6998.0)\n",
            "TtestResult(statistic=-0.4422147743197908, pvalue=0.6583474617086799, df=6998.0)\n",
            "TtestResult(statistic=0.12416914918074926, pvalue=0.901184914780829, df=6998.0)\n",
            "TtestResult(statistic=3.9120751884010256, pvalue=9.237288367652406e-05, df=6998.0)\n",
            "TtestResult(statistic=0.8868035902847853, pvalue=0.37521512864243667, df=6998.0)\n",
            "TtestResult(statistic=1.7788570258597092, pvalue=0.07530660319064282, df=6998.0)\n",
            "TtestResult(statistic=0.8612089484940697, pvalue=0.38915247879741277, df=6998.0)\n",
            "TtestResult(statistic=0.09992958998988422, pvalue=0.9204030869678235, df=6998.0)\n",
            "TtestResult(statistic=1.4251524597910001, pvalue=0.15415773240524636, df=6998.0)\n",
            "TtestResult(statistic=-0.06431642482123345, pvalue=0.9487201124395205, df=6998.0)\n",
            "TtestResult(statistic=1.269433324901238, pvalue=0.20432877103002087, df=6998.0)\n",
            "TtestResult(statistic=1.8280861463710314, pvalue=0.06757917447561508, df=6998.0)\n",
            "TtestResult(statistic=2.609712850014851, pvalue=0.009081121525767143, df=6998.0)\n",
            "TtestResult(statistic=2.5984761692333938, pvalue=0.009383489716547355, df=6998.0)\n",
            "TtestResult(statistic=2.8259357506219867, pvalue=0.00472763200165745, df=6998.0)\n",
            "TtestResult(statistic=-2.712507414246908, pvalue=0.006693955520300567, df=6998.0)\n",
            "TtestResult(statistic=1.049256521813367, pvalue=0.2940963051525826, df=6998.0)\n",
            "TtestResult(statistic=4.427666012388629, pvalue=9.670541862937255e-06, df=6998.0)\n",
            "TtestResult(statistic=0.6477266889080565, pvalue=0.5171829878405529, df=6998.0)\n",
            "TtestResult(statistic=-0.539892795261113, pvalue=0.5892881458160348, df=6998.0)\n",
            "TtestResult(statistic=3.0570120641567686, pvalue=0.002243987738172582, df=6998.0)\n",
            "TtestResult(statistic=3.010486928200175, pvalue=0.002617595816191915, df=6998.0)\n",
            "TtestResult(statistic=-0.1622552503140212, pvalue=0.8711095372441405, df=6998.0)\n",
            "TtestResult(statistic=0.30981113074363686, pvalue=0.7567138114804481, df=6998.0)\n",
            "TtestResult(statistic=1.3381726359536006, pvalue=0.18088364509112728, df=6998.0)\n",
            "TtestResult(statistic=-0.17151204762016745, pvalue=0.8638261171955723, df=6998.0)\n",
            "TtestResult(statistic=-0.6107161091193517, pvalue=0.5414073733370377, df=6998.0)\n",
            "TtestResult(statistic=-1.9785838654667571, pvalue=0.04790202533985871, df=6998.0)\n",
            "TtestResult(statistic=0.5407624028141341, pvalue=0.5886885713679408, df=6998.0)\n",
            "TtestResult(statistic=1.5169580470975097, pvalue=0.12932244585205752, df=6998.0)\n",
            "TtestResult(statistic=-1.713258405537355, pvalue=0.08670930218602124, df=6998.0)\n",
            "TtestResult(statistic=2.7845130773912894, pvalue=0.005375219164704304, df=6998.0)\n",
            "TtestResult(statistic=0.8116935545730831, pvalue=0.41699510103096726, df=6998.0)\n",
            "TtestResult(statistic=0.8349654824817399, pvalue=0.4037656468973214, df=6998.0)\n",
            "TtestResult(statistic=1.592139956367335, pvalue=0.11139842660379376, df=6998.0)\n",
            "TtestResult(statistic=1.5257555232520505, pvalue=0.12711595192026767, df=6998.0)\n",
            "TtestResult(statistic=0.10109660868704969, pvalue=0.9194766663516538, df=6998.0)\n",
            "TtestResult(statistic=-1.3093430420730665, pvalue=0.19046116324422377, df=6998.0)\n",
            "TtestResult(statistic=1.7510045138265635, pvalue=0.07998894388170154, df=6998.0)\n",
            "TtestResult(statistic=5.235564828103238, pvalue=1.6927000258967073e-07, df=6998.0)\n",
            "TtestResult(statistic=1.8479957745355484, pvalue=0.06464512180563728, df=6998.0)\n",
            "TtestResult(statistic=1.3888006277743306, pvalue=0.1649375809543109, df=6998.0)\n",
            "TtestResult(statistic=-1.8561166368232425, pvalue=0.06347893998410385, df=6998.0)\n",
            "TtestResult(statistic=-0.2966547657307332, pvalue=0.7667388986480963, df=6998.0)\n",
            "TtestResult(statistic=-0.005822030967830723, pvalue=0.9953548835721913, df=6998.0)\n",
            "TtestResult(statistic=1.4984591571896837, pvalue=0.13405910164861198, df=6998.0)\n",
            "TtestResult(statistic=1.9996403466722716, pvalue=0.04557770224800284, df=6998.0)\n",
            "TtestResult(statistic=1.121592901448584, pvalue=0.26207405504448517, df=6998.0)\n",
            "TtestResult(statistic=-0.7469760577034844, pvalue=0.4551031088531994, df=6998.0)\n",
            "TtestResult(statistic=7.361635791158606, pvalue=2.0243139179547962e-13, df=6998.0)\n",
            "TtestResult(statistic=0.15330821072854242, pvalue=0.8781596462692391, df=6998.0)\n",
            "TtestResult(statistic=2.5268290283282786, pvalue=0.011531605855429361, df=6998.0)\n",
            "TtestResult(statistic=3.4542510453558544, pvalue=0.0005550950276123642, df=6998.0)\n",
            "TtestResult(statistic=4.538623295169557, pvalue=5.756891784028582e-06, df=6998.0)\n",
            "TtestResult(statistic=3.1848600225329116, pvalue=0.001454593159767949, df=6998.0)\n",
            "TtestResult(statistic=-1.4109750216055204, pvalue=0.15829643195907825, df=6998.0)\n"
          ]
        }
      ],
      "source": [
        "for tck in unique_ticker:\n",
        "  print(ttest_ind(df[df['ticker']==tck]['answer_context_commonword'],df[df['ticker']!=tck]['answer_context_commonword']))"
      ]
    },
    {
      "cell_type": "code",
      "execution_count": 15,
      "metadata": {
        "id": "VBwARPTPWN2f"
      },
      "outputs": [],
      "source": [
        "\n"
      ]
    },
    {
      "cell_type": "markdown",
      "metadata": {
        "id": "5z0Y9NEWkqFh"
      },
      "source": [
        "### From the above figure, we can assume, most of the answers word has been captured in the context. Mean is 88%"
      ]
    },
    {
      "cell_type": "markdown",
      "metadata": {
        "id": "-1P50vc7m2me"
      },
      "source": [
        "### Further we can try checking the n-gram method, jsut like Rouge to check if answer lies in context or not"
      ]
    },
    {
      "cell_type": "markdown",
      "metadata": {
        "id": "Q1JV9vGmnw5s"
      },
      "source": [
        "## Now further we can do one more step of preprocessing of remove stopwords and contractions\n",
        "\n",
        "## Further we can go for modelling. For modelling we can take any of the following 3 ways\n",
        "<li> TFIDVectorizer and mlalgorithm like xgboost or Randomforest </li>\n",
        "<li> WordEmbeddings and LSTM </li>\n",
        "<li> Bert based Classification Model </li>\n"
      ]
    },
    {
      "cell_type": "markdown",
      "metadata": {
        "id": "D6bRpGLXo73r"
      },
      "source": [
        "## **TFIDFVectorizer and Machine learning**\n",
        "\n",
        "\n",
        "\n"
      ]
    },
    {
      "cell_type": "code",
      "execution_count": 18,
      "metadata": {
        "id": "gbZQTAAkpU-1"
      },
      "outputs": [],
      "source": [
        "from sklearn.feature_extraction.text import TfidfVectorizer\n",
        "import xgboost as xgb"
      ]
    },
    {
      "cell_type": "code",
      "source": [
        "X_train, X_test, Y_train, Y_test= train_test_split(df[\"clean_context\"]+df[\"clean_answer\"],df[\"ticker\"])"
      ],
      "metadata": {
        "id": "Na4a6KKxetYD"
      },
      "execution_count": 35,
      "outputs": []
    },
    {
      "cell_type": "code",
      "source": [
        "oh=OneHotEncoder(sparse_output=False)\n",
        "\n",
        "Y_train1=oh.fit_transform(Y_train.iloc[:].values.reshape(-1,1))\n"
      ],
      "metadata": {
        "id": "b3cth2G6fvBh",
        "outputId": "8fc8fa63-463a-491f-c3ac-79ae7223bbfe",
        "colab": {
          "base_uri": "https://localhost:8080/"
        }
      },
      "execution_count": 45,
      "outputs": [
        {
          "output_type": "stream",
          "name": "stderr",
          "text": [
            "/usr/local/lib/python3.10/dist-packages/sklearn/preprocessing/_label.py:114: DataConversionWarning: A column-vector y was passed when a 1d array was expected. Please change the shape of y to (n_samples, ), for example using ravel().\n",
            "  y = column_or_1d(y, warn=True)\n"
          ]
        }
      ]
    },
    {
      "cell_type": "code",
      "source": [
        "lc=LabelEncoder()\n",
        "Y_train2=lc.fit_transform(Y_train.iloc[:].values.reshape(-1,1))"
      ],
      "metadata": {
        "id": "gxjgtWx0h5rm"
      },
      "execution_count": null,
      "outputs": []
    },
    {
      "cell_type": "code",
      "source": [
        "Y_train1.shape"
      ],
      "metadata": {
        "id": "_m9g-SBehiRh",
        "outputId": "f392b8d7-91a2-42d3-e679-e5d3dd02c886",
        "colab": {
          "base_uri": "https://localhost:8080/"
        }
      },
      "execution_count": 46,
      "outputs": [
        {
          "output_type": "execute_result",
          "data": {
            "text/plain": [
              "(5250, 69)"
            ]
          },
          "metadata": {},
          "execution_count": 46
        }
      ]
    },
    {
      "cell_type": "code",
      "source": [
        "tfidf=TfidfVectorizer()\n"
      ],
      "metadata": {
        "id": "65YG3XUqgPKn"
      },
      "execution_count": 37,
      "outputs": []
    },
    {
      "cell_type": "code",
      "source": [
        "X_train_tfid=tfidf.fit_transform(X_train)"
      ],
      "metadata": {
        "id": "6Wz0LO1ngSxa"
      },
      "execution_count": 42,
      "outputs": []
    },
    {
      "cell_type": "code",
      "source": [
        "model1=xgb.XGBClassifier(n_estimator=200)\n",
        "model2=xgb.XGBClassifier(n_estimator=200)"
      ],
      "metadata": {
        "id": "j1OYwPhSgZ37"
      },
      "execution_count": 40,
      "outputs": []
    },
    {
      "cell_type": "code",
      "source": [
        "model1.fit(X_train_tfid,Y_train1)"
      ],
      "metadata": {
        "id": "rEDEfzfRhsED"
      },
      "execution_count": null,
      "outputs": []
    },
    {
      "cell_type": "code",
      "source": [
        "#\n",
        "model2.fit(X_train_tfid,Y_train2)"
      ],
      "metadata": {
        "id": "epVcYftIhJH_",
        "outputId": "db31d856-cbf7-4be6-d107-699557cbe482",
        "colab": {
          "base_uri": "https://localhost:8080/"
        }
      },
      "execution_count": null,
      "outputs": [
        {
          "output_type": "stream",
          "name": "stderr",
          "text": [
            "/usr/local/lib/python3.10/dist-packages/xgboost/core.py:158: UserWarning: [03:44:44] WARNING: /workspace/src/learner.cc:740: \n",
            "Parameters: { \"n_estimator\" } are not used.\n",
            "\n",
            "  warnings.warn(smsg, UserWarning)\n"
          ]
        }
      ]
    },
    {
      "cell_type": "code",
      "source": [],
      "metadata": {
        "id": "IjFC3Ncxh_KM"
      },
      "execution_count": null,
      "outputs": []
    },
    {
      "cell_type": "code",
      "source": [],
      "metadata": {
        "id": "GIP6PXSXiIbX"
      },
      "execution_count": null,
      "outputs": []
    },
    {
      "cell_type": "code",
      "source": [
        "y_pred1=model1.predict(tfidf.transform(X_test))\n",
        "y_pred2=model2.predict(tfidf.transform(X_test))"
      ],
      "metadata": {
        "id": "5qyhwBtUg4p-",
        "outputId": "6c311b71-aee4-4989-8ed5-ef76ab5d0f09",
        "colab": {
          "base_uri": "https://localhost:8080/",
          "height": 304
        }
      },
      "execution_count": 41,
      "outputs": [
        {
          "output_type": "error",
          "ename": "NotFittedError",
          "evalue": "need to call fit or load_model beforehand",
          "traceback": [
            "\u001b[0;31m---------------------------------------------------------------------------\u001b[0m",
            "\u001b[0;31mNotFittedError\u001b[0m                            Traceback (most recent call last)",
            "\u001b[0;32m<ipython-input-41-b5fe4c131781>\u001b[0m in \u001b[0;36m<cell line: 1>\u001b[0;34m()\u001b[0m\n\u001b[0;32m----> 1\u001b[0;31m \u001b[0my_pred1\u001b[0m\u001b[0;34m=\u001b[0m\u001b[0mmodel1\u001b[0m\u001b[0;34m.\u001b[0m\u001b[0mpredict\u001b[0m\u001b[0;34m(\u001b[0m\u001b[0mtfidf\u001b[0m\u001b[0;34m.\u001b[0m\u001b[0mtransform\u001b[0m\u001b[0;34m(\u001b[0m\u001b[0mX_test\u001b[0m\u001b[0;34m)\u001b[0m\u001b[0;34m)\u001b[0m\u001b[0;34m\u001b[0m\u001b[0;34m\u001b[0m\u001b[0m\n\u001b[0m\u001b[1;32m      2\u001b[0m \u001b[0my_pred2\u001b[0m\u001b[0;34m=\u001b[0m\u001b[0mmodel2\u001b[0m\u001b[0;34m.\u001b[0m\u001b[0mpredict\u001b[0m\u001b[0;34m(\u001b[0m\u001b[0mtfidf\u001b[0m\u001b[0;34m.\u001b[0m\u001b[0mtransform\u001b[0m\u001b[0;34m(\u001b[0m\u001b[0mX_test\u001b[0m\u001b[0;34m)\u001b[0m\u001b[0;34m)\u001b[0m\u001b[0;34m\u001b[0m\u001b[0;34m\u001b[0m\u001b[0m\n",
            "\u001b[0;32m/usr/local/lib/python3.10/dist-packages/xgboost/sklearn.py\u001b[0m in \u001b[0;36mpredict\u001b[0;34m(self, X, output_margin, validate_features, base_margin, iteration_range)\u001b[0m\n\u001b[1;32m   1563\u001b[0m     ) -> ArrayLike:\n\u001b[1;32m   1564\u001b[0m         \u001b[0;32mwith\u001b[0m \u001b[0mconfig_context\u001b[0m\u001b[0;34m(\u001b[0m\u001b[0mverbosity\u001b[0m\u001b[0;34m=\u001b[0m\u001b[0mself\u001b[0m\u001b[0;34m.\u001b[0m\u001b[0mverbosity\u001b[0m\u001b[0;34m)\u001b[0m\u001b[0;34m:\u001b[0m\u001b[0;34m\u001b[0m\u001b[0;34m\u001b[0m\u001b[0m\n\u001b[0;32m-> 1565\u001b[0;31m             class_probs = super().predict(\n\u001b[0m\u001b[1;32m   1566\u001b[0m                 \u001b[0mX\u001b[0m\u001b[0;34m=\u001b[0m\u001b[0mX\u001b[0m\u001b[0;34m,\u001b[0m\u001b[0;34m\u001b[0m\u001b[0;34m\u001b[0m\u001b[0m\n\u001b[1;32m   1567\u001b[0m                 \u001b[0moutput_margin\u001b[0m\u001b[0;34m=\u001b[0m\u001b[0moutput_margin\u001b[0m\u001b[0;34m,\u001b[0m\u001b[0;34m\u001b[0m\u001b[0;34m\u001b[0m\u001b[0m\n",
            "\u001b[0;32m/usr/local/lib/python3.10/dist-packages/xgboost/sklearn.py\u001b[0m in \u001b[0;36mpredict\u001b[0;34m(self, X, output_margin, validate_features, base_margin, iteration_range)\u001b[0m\n\u001b[1;32m   1184\u001b[0m             \u001b[0;32mif\u001b[0m \u001b[0mself\u001b[0m\u001b[0;34m.\u001b[0m\u001b[0m_can_use_inplace_predict\u001b[0m\u001b[0;34m(\u001b[0m\u001b[0;34m)\u001b[0m\u001b[0;34m:\u001b[0m\u001b[0;34m\u001b[0m\u001b[0;34m\u001b[0m\u001b[0m\n\u001b[1;32m   1185\u001b[0m                 \u001b[0;32mtry\u001b[0m\u001b[0;34m:\u001b[0m\u001b[0;34m\u001b[0m\u001b[0;34m\u001b[0m\u001b[0m\n\u001b[0;32m-> 1186\u001b[0;31m                     predts = self.get_booster().inplace_predict(\n\u001b[0m\u001b[1;32m   1187\u001b[0m                         \u001b[0mdata\u001b[0m\u001b[0;34m=\u001b[0m\u001b[0mX\u001b[0m\u001b[0;34m,\u001b[0m\u001b[0;34m\u001b[0m\u001b[0;34m\u001b[0m\u001b[0m\n\u001b[1;32m   1188\u001b[0m                         \u001b[0miteration_range\u001b[0m\u001b[0;34m=\u001b[0m\u001b[0miteration_range\u001b[0m\u001b[0;34m,\u001b[0m\u001b[0;34m\u001b[0m\u001b[0;34m\u001b[0m\u001b[0m\n",
            "\u001b[0;32m/usr/local/lib/python3.10/dist-packages/xgboost/sklearn.py\u001b[0m in \u001b[0;36mget_booster\u001b[0;34m(self)\u001b[0m\n\u001b[1;32m    803\u001b[0m             \u001b[0;32mfrom\u001b[0m \u001b[0msklearn\u001b[0m\u001b[0;34m.\u001b[0m\u001b[0mexceptions\u001b[0m \u001b[0;32mimport\u001b[0m \u001b[0mNotFittedError\u001b[0m\u001b[0;34m\u001b[0m\u001b[0;34m\u001b[0m\u001b[0m\n\u001b[1;32m    804\u001b[0m \u001b[0;34m\u001b[0m\u001b[0m\n\u001b[0;32m--> 805\u001b[0;31m             \u001b[0;32mraise\u001b[0m \u001b[0mNotFittedError\u001b[0m\u001b[0;34m(\u001b[0m\u001b[0;34m\"need to call fit or load_model beforehand\"\u001b[0m\u001b[0;34m)\u001b[0m\u001b[0;34m\u001b[0m\u001b[0;34m\u001b[0m\u001b[0m\n\u001b[0m\u001b[1;32m    806\u001b[0m         \u001b[0;32mreturn\u001b[0m \u001b[0mself\u001b[0m\u001b[0;34m.\u001b[0m\u001b[0m_Booster\u001b[0m\u001b[0;34m\u001b[0m\u001b[0;34m\u001b[0m\u001b[0m\n\u001b[1;32m    807\u001b[0m \u001b[0;34m\u001b[0m\u001b[0m\n",
            "\u001b[0;31mNotFittedError\u001b[0m: need to call fit or load_model beforehand"
          ]
        }
      ]
    },
    {
      "cell_type": "code",
      "source": [
        "accuracy_score(on.transform(Y_test), y_pred1)"
      ],
      "metadata": {
        "id": "PmdOmTgthEZa"
      },
      "execution_count": null,
      "outputs": []
    },
    {
      "cell_type": "code",
      "source": [
        "accuracy_score(on.transform(Y_test), y_pred2)"
      ],
      "metadata": {
        "id": "q_MkwFS7iKJb"
      },
      "execution_count": null,
      "outputs": []
    }
  ],
  "metadata": {
    "colab": {
      "provenance": [],
      "include_colab_link": true
    },
    "kernelspec": {
      "display_name": "Python 3",
      "name": "python3"
    },
    "language_info": {
      "name": "python"
    }
  },
  "nbformat": 4,
  "nbformat_minor": 0
}