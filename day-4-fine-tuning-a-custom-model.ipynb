{
 "cells": [
  {
   "cell_type": "markdown",
   "id": "7f676624",
   "metadata": {
    "id": "b6e13eef3f5d",
    "papermill": {
     "duration": 0.007437,
     "end_time": "2024-11-22T14:19:29.478927",
     "exception": false,
     "start_time": "2024-11-22T14:19:29.471490",
     "status": "completed"
    },
    "tags": []
   },
   "source": [
    "##### Copyright 2024 Google LLC."
   ]
  },
  {
   "cell_type": "code",
   "execution_count": 1,
   "id": "382295ba",
   "metadata": {
    "cellView": "form",
    "execution": {
     "iopub.execute_input": "2024-11-22T14:19:29.494597Z",
     "iopub.status.busy": "2024-11-22T14:19:29.494257Z",
     "iopub.status.idle": "2024-11-22T14:19:29.498672Z",
     "shell.execute_reply": "2024-11-22T14:19:29.498016Z"
    },
    "id": "d6597b11df14",
    "papermill": {
     "duration": 0.013762,
     "end_time": "2024-11-22T14:19:29.500351",
     "exception": false,
     "start_time": "2024-11-22T14:19:29.486589",
     "status": "completed"
    },
    "tags": []
   },
   "outputs": [],
   "source": [
    "# @title Licensed under the Apache License, Version 2.0 (the \"License\");\n",
    "# you may not use this file except in compliance with the License.\n",
    "# You may obtain a copy of the License at\n",
    "#\n",
    "# https://www.apache.org/licenses/LICENSE-2.0\n",
    "#\n",
    "# Unless required by applicable law or agreed to in writing, software\n",
    "# distributed under the License is distributed on an \"AS IS\" BASIS,\n",
    "# WITHOUT WARRANTIES OR CONDITIONS OF ANY KIND, either express or implied.\n",
    "# See the License for the specific language governing permissions and\n",
    "# limitations under the License."
   ]
  },
  {
   "cell_type": "markdown",
   "id": "5daf37d5",
   "metadata": {
    "id": "4KDIFPAL2EnL",
    "papermill": {
     "duration": 0.00629,
     "end_time": "2024-11-22T14:19:29.514202",
     "exception": false,
     "start_time": "2024-11-22T14:19:29.507912",
     "status": "completed"
    },
    "tags": []
   },
   "source": [
    "# Day 4 - Fine tuning a custom model\n",
    "\n",
    "Welcome back to the Kaggle 5-day Generative AI course!\n",
    "\n",
    "In this notebook you will use the Gemini API to fine-tune a custom, task-specific model. Fine-tuning can be used for a variety of tasks from classic NLP problems like entity extraction or summarisation, to creative tasks like stylised generation. You will fine-tune a model to classify the category a piece of text (a newsgroup post) into the category it belongs to (the newsgroup name).\n",
    "\n",
    "This codelab walks you tuning a model with the API. [AI Studio](https://aistudio.google.com/app/tune) also supports creating new tuned models directly in the web UI, allowing you to quickly create and monitor models using data from Google Sheets, Drive or your own files."
   ]
  },
  {
   "cell_type": "code",
   "execution_count": 2,
   "id": "54e6ae14",
   "metadata": {
    "execution": {
     "iopub.execute_input": "2024-11-22T14:19:29.527557Z",
     "iopub.status.busy": "2024-11-22T14:19:29.527313Z",
     "iopub.status.idle": "2024-11-22T14:19:54.176277Z",
     "shell.execute_reply": "2024-11-22T14:19:54.175301Z"
    },
    "id": "9wafTyEH1_xF",
    "papermill": {
     "duration": 24.657662,
     "end_time": "2024-11-22T14:19:54.178260",
     "exception": false,
     "start_time": "2024-11-22T14:19:29.520598",
     "status": "completed"
    },
    "tags": []
   },
   "outputs": [
    {
     "name": "stdout",
     "output_type": "stream",
     "text": [
      "Note: you may need to restart the kernel to use updated packages.\n"
     ]
    }
   ],
   "source": [
    "%pip install -U -q 'google-generativeai>=0.8.3'"
   ]
  },
  {
   "cell_type": "code",
   "execution_count": 3,
   "id": "75e2ff72",
   "metadata": {
    "execution": {
     "iopub.execute_input": "2024-11-22T14:19:54.192561Z",
     "iopub.status.busy": "2024-11-22T14:19:54.192283Z",
     "iopub.status.idle": "2024-11-22T14:19:55.171966Z",
     "shell.execute_reply": "2024-11-22T14:19:55.171299Z"
    },
    "id": "T0CBG9xL2PvT",
    "papermill": {
     "duration": 0.989017,
     "end_time": "2024-11-22T14:19:55.173913",
     "exception": false,
     "start_time": "2024-11-22T14:19:54.184896",
     "status": "completed"
    },
    "tags": []
   },
   "outputs": [],
   "source": [
    "import google.generativeai as genai"
   ]
  },
  {
   "cell_type": "markdown",
   "id": "1d137e88",
   "metadata": {
    "id": "P4bYX2T72ScK",
    "papermill": {
     "duration": 0.00617,
     "end_time": "2024-11-22T14:19:55.186665",
     "exception": false,
     "start_time": "2024-11-22T14:19:55.180495",
     "status": "completed"
    },
    "tags": []
   },
   "source": [
    "### Set up your API key\n",
    "\n",
    "To run the following cell, your API key must be stored it in a [Kaggle secret](https://www.kaggle.com/discussions/product-feedback/114053) named `GOOGLE_API_KEY`.\n",
    "\n",
    "If you don't already have an API key, you can grab one from [AI Studio](https://aistudio.google.com/app/apikey). You can find [detailed instructions in the docs](https://ai.google.dev/gemini-api/docs/api-key).\n",
    "\n",
    "To make the key available through Kaggle secrets, choose `Secrets` from the `Add-ons` menu and follow the instructions to add your key or enable it for this notebook."
   ]
  },
  {
   "cell_type": "code",
   "execution_count": 4,
   "id": "4f91c0f6",
   "metadata": {
    "execution": {
     "iopub.execute_input": "2024-11-22T14:19:55.200272Z",
     "iopub.status.busy": "2024-11-22T14:19:55.199735Z",
     "iopub.status.idle": "2024-11-22T14:19:55.320031Z",
     "shell.execute_reply": "2024-11-22T14:19:55.319389Z"
    },
    "id": "VuJPY3GK2SLZ",
    "papermill": {
     "duration": 0.128884,
     "end_time": "2024-11-22T14:19:55.321617",
     "exception": false,
     "start_time": "2024-11-22T14:19:55.192733",
     "status": "completed"
    },
    "tags": []
   },
   "outputs": [],
   "source": [
    "from kaggle_secrets import UserSecretsClient\n",
    "\n",
    "GOOGLE_API_KEY = UserSecretsClient().get_secret(\"GOOGLE_API_KEY\")\n",
    "genai.configure(api_key=GOOGLE_API_KEY)"
   ]
  },
  {
   "attachments": {
    "53e1d527-de81-497e-bfac-58df458e750b.png": {
     "image/png": "[encoded data removed]"
    }
   },
   "cell_type": "markdown",
   "id": "ef502444",
   "metadata": {
    "id": "25b2127c2052",
    "papermill": {
     "duration": 0.006036,
     "end_time": "2024-11-22T14:19:55.333901",
     "exception": false,
     "start_time": "2024-11-22T14:19:55.327865",
     "status": "completed"
    },
    "tags": []
   },
   "source": [
    "If you received an error response along the lines of `No user secrets exist for kernel id ...`, then you need to add your API key via `Add-ons`, `Secrets` **and** enable it.\n",
    "\n",
    "![Screenshot of the checkbox to enable GOOGLE_API_KEY secret](https://storage.googleapis.com/kaggle-media/Images/5gdai_sc_3.png)"
   ]
  },
  {
   "cell_type": "markdown",
   "id": "a0f3ae19",
   "metadata": {
    "id": "CqVA5QFO6n4z",
    "papermill": {
     "duration": 0.005848,
     "end_time": "2024-11-22T14:19:55.345841",
     "exception": false,
     "start_time": "2024-11-22T14:19:55.339993",
     "status": "completed"
    },
    "tags": []
   },
   "source": [
    "### Explore available models\n",
    "\n",
    "You will be using the [`TunedModel.create`](https://ai.google.dev/api/tuning#method:-tunedmodels.create) API method to start the fine-tuning job and create your custom model. Find a model that supports it through the [`models.list`](https://ai.google.dev/api/models#method:-models.list) endpoint. You can also find more information about tuning models in [the model tuning docs](https://ai.google.dev/gemini-api/docs/model-tuning/tutorial?lang=python)."
   ]
  },
  {
   "cell_type": "code",
   "execution_count": 5,
   "id": "6e6796f2",
   "metadata": {
    "execution": {
     "iopub.execute_input": "2024-11-22T14:19:55.359126Z",
     "iopub.status.busy": "2024-11-22T14:19:55.358873Z",
     "iopub.status.idle": "2024-11-22T14:19:55.632624Z",
     "shell.execute_reply": "2024-11-22T14:19:55.631723Z"
    },
    "id": "coEacWAB6o0G",
    "papermill": {
     "duration": 0.282767,
     "end_time": "2024-11-22T14:19:55.634976",
     "exception": false,
     "start_time": "2024-11-22T14:19:55.352209",
     "status": "completed"
    },
    "tags": []
   },
   "outputs": [
    {
     "name": "stdout",
     "output_type": "stream",
     "text": [
      "models/gemini-1.0-pro-001\n",
      "models/gemini-1.5-flash-001-tuning\n"
     ]
    }
   ],
   "source": [
    "for model in genai.list_models():\n",
    "    if \"createTunedModel\" in model.supported_generation_methods:\n",
    "        print(model.name)"
   ]
  },
  {
   "cell_type": "markdown",
   "id": "4167749c",
   "metadata": {
    "id": "peFm0w_0c1CO",
    "papermill": {
     "duration": 0.005901,
     "end_time": "2024-11-22T14:19:55.647565",
     "exception": false,
     "start_time": "2024-11-22T14:19:55.641664",
     "status": "completed"
    },
    "tags": []
   },
   "source": [
    "## Download the dataset\n",
    "\n",
    "In this activity, you will use the same newsgroups dataset that you used to train a classifier in Keras. In this example you will use a fine-tuned Gemini model to achieve the same goal.\n",
    "\n",
    "The [20 Newsgroups Text Dataset](https://scikit-learn.org/0.19/datasets/twenty_newsgroups.html) contains 18,000 newsgroups posts on 20 topics divided into training and test sets."
   ]
  },
  {
   "cell_type": "code",
   "execution_count": 6,
   "id": "03e194ff",
   "metadata": {
    "execution": {
     "iopub.execute_input": "2024-11-22T14:19:55.661326Z",
     "iopub.status.busy": "2024-11-22T14:19:55.661064Z",
     "iopub.status.idle": "2024-11-22T14:20:06.564729Z",
     "shell.execute_reply": "2024-11-22T14:20:06.563871Z"
    },
    "id": "bX_kpgnQ9b-Z",
    "papermill": {
     "duration": 10.912765,
     "end_time": "2024-11-22T14:20:06.566621",
     "exception": false,
     "start_time": "2024-11-22T14:19:55.653856",
     "status": "completed"
    },
    "tags": []
   },
   "outputs": [
    {
     "data": {
      "text/plain": [
       "['alt.atheism',\n",
       " 'comp.graphics',\n",
       " 'comp.os.ms-windows.misc',\n",
       " 'comp.sys.ibm.pc.hardware',\n",
       " 'comp.sys.mac.hardware',\n",
       " 'comp.windows.x',\n",
       " 'misc.forsale',\n",
       " 'rec.autos',\n",
       " 'rec.motorcycles',\n",
       " 'rec.sport.baseball',\n",
       " 'rec.sport.hockey',\n",
       " 'sci.crypt',\n",
       " 'sci.electronics',\n",
       " 'sci.med',\n",
       " 'sci.space',\n",
       " 'soc.religion.christian',\n",
       " 'talk.politics.guns',\n",
       " 'talk.politics.mideast',\n",
       " 'talk.politics.misc',\n",
       " 'talk.religion.misc']"
      ]
     },
     "execution_count": 6,
     "metadata": {},
     "output_type": "execute_result"
    }
   ],
   "source": [
    "from sklearn.datasets import fetch_20newsgroups\n",
    "\n",
    "newsgroups_train = fetch_20newsgroups(subset=\"train\")\n",
    "newsgroups_test = fetch_20newsgroups(subset=\"test\")\n",
    "\n",
    "# View list of class names for dataset\n",
    "newsgroups_train.target_names"
   ]
  },
  {
   "cell_type": "markdown",
   "id": "300a0be3",
   "metadata": {
    "id": "ipafe6ptZFjt",
    "papermill": {
     "duration": 0.006366,
     "end_time": "2024-11-22T14:20:06.579990",
     "exception": false,
     "start_time": "2024-11-22T14:20:06.573624",
     "status": "completed"
    },
    "tags": []
   },
   "source": [
    "Here's what a single row looks like."
   ]
  },
  {
   "cell_type": "code",
   "execution_count": 7,
   "id": "97919608",
   "metadata": {
    "execution": {
     "iopub.execute_input": "2024-11-22T14:20:06.594463Z",
     "iopub.status.busy": "2024-11-22T14:20:06.594185Z",
     "iopub.status.idle": "2024-11-22T14:20:06.598714Z",
     "shell.execute_reply": "2024-11-22T14:20:06.597618Z"
    },
    "id": "EtEXcdT39hCB",
    "papermill": {
     "duration": 0.014016,
     "end_time": "2024-11-22T14:20:06.600895",
     "exception": false,
     "start_time": "2024-11-22T14:20:06.586879",
     "status": "completed"
    },
    "tags": []
   },
   "outputs": [
    {
     "name": "stdout",
     "output_type": "stream",
     "text": [
      "From: lerxst@wam.umd.edu (where's my thing)\n",
      "Subject: WHAT car is this!?\n",
      "Nntp-Posting-Host: rac3.wam.umd.edu\n",
      "Organization: University of Maryland, College Park\n",
      "Lines: 15\n",
      "\n",
      " I was wondering if anyone out there could enlighten me on this car I saw\n",
      "the other day. It was a 2-door sports car, looked to be from the late 60s/\n",
      "early 70s. It was called a Bricklin. The doors were really small. In addition,\n",
      "the front bumper was separate from the rest of the body. This is \n",
      "all I know. If anyone can tellme a model name, engine specs, years\n",
      "of production, where this car is made, history, or whatever info you\n",
      "have on this funky looking car, please e-mail.\n",
      "\n",
      "Thanks,\n",
      "- IL\n",
      "   ---- brought to you by your neighborhood Lerxst ----\n",
      "\n",
      "\n",
      "\n",
      "\n",
      "\n"
     ]
    }
   ],
   "source": [
    "print(newsgroups_train.data[0])"
   ]
  },
  {
   "cell_type": "markdown",
   "id": "51968cdf",
   "metadata": {
    "id": "03lDs1O4ZQ0-",
    "papermill": {
     "duration": 0.006286,
     "end_time": "2024-11-22T14:20:06.613538",
     "exception": false,
     "start_time": "2024-11-22T14:20:06.607252",
     "status": "completed"
    },
    "tags": []
   },
   "source": [
    "## Prepare the dataset\n",
    "\n",
    "You'll use the same pre-processing code you used for the custom model on day 2. This pre-processing removes personal information, which can be used to \"shortcut\" to known users of a forum, and formats the text to appear a bit more like regular text and less like a newsgroup post (e.g. by removing the mail headers). This normalisation allows the model to generalise to regular text and not over-depend on specific fields. If your input data is always going to be newsgroup posts, it may be helpful to leave this structure in place if they provide genuine signals."
   ]
  },
  {
   "cell_type": "code",
   "execution_count": 8,
   "id": "70bd1ccb",
   "metadata": {
    "execution": {
     "iopub.execute_input": "2024-11-22T14:20:06.626926Z",
     "iopub.status.busy": "2024-11-22T14:20:06.626688Z",
     "iopub.status.idle": "2024-11-22T14:20:07.420372Z",
     "shell.execute_reply": "2024-11-22T14:20:07.419714Z"
    },
    "id": "IoNYTxpoZgB0",
    "papermill": {
     "duration": 0.802816,
     "end_time": "2024-11-22T14:20:07.422465",
     "exception": false,
     "start_time": "2024-11-22T14:20:06.619649",
     "status": "completed"
    },
    "tags": []
   },
   "outputs": [],
   "source": [
    "import email\n",
    "import re\n",
    "\n",
    "import pandas as pd\n",
    "\n",
    "\n",
    "def preprocess_newsgroup_row(data):\n",
    "    # Extract only the subject and body\n",
    "    msg = email.message_from_string(data)\n",
    "    text = f\"{msg['Subject']}\\n\\n{msg.get_payload()}\"\n",
    "    # Strip any remaining email addresses\n",
    "    text = re.sub(r\"[\\w\\.-]+@[\\w\\.-]+\", \"\", text)\n",
    "    # Truncate the text to fit within the input limits\n",
    "    text = text[:40000]\n",
    "\n",
    "    return text\n",
    "\n",
    "\n",
    "def preprocess_newsgroup_data(newsgroup_dataset):\n",
    "    # Put data points into dataframe\n",
    "    df = pd.DataFrame(\n",
    "        {\"Text\": newsgroup_dataset.data, \"Label\": newsgroup_dataset.target}\n",
    "    )\n",
    "    # Clean up the text\n",
    "    df[\"Text\"] = df[\"Text\"].apply(preprocess_newsgroup_row)\n",
    "    # Match label to target name index\n",
    "    df[\"Class Name\"] = df[\"Label\"].map(lambda l: newsgroup_dataset.target_names[l])\n",
    "\n",
    "    return df"
   ]
  },
  {
   "cell_type": "code",
   "execution_count": 9,
   "id": "350d6ff0",
   "metadata": {
    "execution": {
     "iopub.execute_input": "2024-11-22T14:20:07.437231Z",
     "iopub.status.busy": "2024-11-22T14:20:07.436650Z",
     "iopub.status.idle": "2024-11-22T14:20:10.575510Z",
     "shell.execute_reply": "2024-11-22T14:20:10.574630Z"
    },
    "id": "kvOsUSRWaW4g",
    "papermill": {
     "duration": 3.147951,
     "end_time": "2024-11-22T14:20:10.577227",
     "exception": false,
     "start_time": "2024-11-22T14:20:07.429276",
     "status": "completed"
    },
    "tags": []
   },
   "outputs": [
    {
     "data": {
      "text/html": [
       "<div>\n",
       "<style scoped>\n",
       "    .dataframe tbody tr th:only-of-type {\n",
       "        vertical-align: middle;\n",
       "    }\n",
       "\n",
       "    .dataframe tbody tr th {\n",
       "        vertical-align: top;\n",
       "    }\n",
       "\n",
       "    .dataframe thead th {\n",
       "        text-align: right;\n",
       "    }\n",
       "</style>\n",
       "<table border=\"1\" class=\"dataframe\">\n",
       "  <thead>\n",
       "    <tr style=\"text-align: right;\">\n",
       "      <th></th>\n",
       "      <th>Text</th>\n",
       "      <th>Label</th>\n",
       "      <th>Class Name</th>\n",
       "    </tr>\n",
       "  </thead>\n",
       "  <tbody>\n",
       "    <tr>\n",
       "      <th>0</th>\n",
       "      <td>WHAT car is this!?\\n\\n I was wondering if anyo...</td>\n",
       "      <td>7</td>\n",
       "      <td>rec.autos</td>\n",
       "    </tr>\n",
       "    <tr>\n",
       "      <th>1</th>\n",
       "      <td>SI Clock Poll - Final Call\\n\\nA fair number of...</td>\n",
       "      <td>4</td>\n",
       "      <td>comp.sys.mac.hardware</td>\n",
       "    </tr>\n",
       "    <tr>\n",
       "      <th>2</th>\n",
       "      <td>PB questions...\\n\\nwell folks, my mac plus fin...</td>\n",
       "      <td>4</td>\n",
       "      <td>comp.sys.mac.hardware</td>\n",
       "    </tr>\n",
       "    <tr>\n",
       "      <th>3</th>\n",
       "      <td>Re: Weitek P9000 ?\\n\\nRobert J.C. Kyanko () wr...</td>\n",
       "      <td>1</td>\n",
       "      <td>comp.graphics</td>\n",
       "    </tr>\n",
       "    <tr>\n",
       "      <th>4</th>\n",
       "      <td>Re: Shuttle Launch Question\\n\\nFrom article &lt;&gt;...</td>\n",
       "      <td>14</td>\n",
       "      <td>sci.space</td>\n",
       "    </tr>\n",
       "  </tbody>\n",
       "</table>\n",
       "</div>"
      ],
      "text/plain": [
       "                                                Text  Label  \\\n",
       "0  WHAT car is this!?\\n\\n I was wondering if anyo...      7   \n",
       "1  SI Clock Poll - Final Call\\n\\nA fair number of...      4   \n",
       "2  PB questions...\\n\\nwell folks, my mac plus fin...      4   \n",
       "3  Re: Weitek P9000 ?\\n\\nRobert J.C. Kyanko () wr...      1   \n",
       "4  Re: Shuttle Launch Question\\n\\nFrom article <>...     14   \n",
       "\n",
       "              Class Name  \n",
       "0              rec.autos  \n",
       "1  comp.sys.mac.hardware  \n",
       "2  comp.sys.mac.hardware  \n",
       "3          comp.graphics  \n",
       "4              sci.space  "
      ]
     },
     "execution_count": 9,
     "metadata": {},
     "output_type": "execute_result"
    }
   ],
   "source": [
    "# Apply preprocessing to training and test datasets\n",
    "df_train = preprocess_newsgroup_data(newsgroups_train)\n",
    "df_test = preprocess_newsgroup_data(newsgroups_test)\n",
    "\n",
    "df_train.head()"
   ]
  },
  {
   "cell_type": "markdown",
   "id": "82be2c79",
   "metadata": {
    "id": "XSKcj5WtadaR",
    "papermill": {
     "duration": 0.006271,
     "end_time": "2024-11-22T14:20:10.590352",
     "exception": false,
     "start_time": "2024-11-22T14:20:10.584081",
     "status": "completed"
    },
    "tags": []
   },
   "source": [
    "Now sample the data. You will keep 50 rows for each category for training. Note that this is even fewer than the Keras example, as this technique (parameter-efficient fine-tuning, or PEFT) updates a relatively small number of parameters and does not require training a new model or updating the large model."
   ]
  },
  {
   "cell_type": "code",
   "execution_count": 10,
   "id": "0ccba9e7",
   "metadata": {
    "execution": {
     "iopub.execute_input": "2024-11-22T14:20:10.604645Z",
     "iopub.status.busy": "2024-11-22T14:20:10.604397Z",
     "iopub.status.idle": "2024-11-22T14:20:10.646426Z",
     "shell.execute_reply": "2024-11-22T14:20:10.645582Z"
    },
    "id": "0t9Xu6X5akkt",
    "papermill": {
     "duration": 0.051319,
     "end_time": "2024-11-22T14:20:10.648331",
     "exception": false,
     "start_time": "2024-11-22T14:20:10.597012",
     "status": "completed"
    },
    "tags": []
   },
   "outputs": [],
   "source": [
    "def sample_data(df, num_samples, classes_to_keep):\n",
    "    # Sample rows, selecting num_samples of each Label.\n",
    "    df = (\n",
    "        df.groupby(\"Label\")[df.columns]\n",
    "        .apply(lambda x: x.sample(num_samples))\n",
    "        .reset_index(drop=True)\n",
    "    )\n",
    "\n",
    "    df = df[df[\"Class Name\"].str.contains(classes_to_keep)]\n",
    "    df[\"Class Name\"] = df[\"Class Name\"].astype(\"category\")\n",
    "\n",
    "    return df\n",
    "\n",
    "\n",
    "TRAIN_NUM_SAMPLES = 50\n",
    "TEST_NUM_SAMPLES = 10\n",
    "# Keep rec.* and sci.*\n",
    "CLASSES_TO_KEEP = \"^rec|^sci\"\n",
    "\n",
    "df_train = sample_data(df_train, TRAIN_NUM_SAMPLES, CLASSES_TO_KEEP)\n",
    "df_test = sample_data(df_test, TEST_NUM_SAMPLES, CLASSES_TO_KEEP)"
   ]
  },
  {
   "cell_type": "markdown",
   "id": "6d3ce8ed",
   "metadata": {
    "papermill": {
     "duration": 0.006224,
     "end_time": "2024-11-22T14:20:10.661517",
     "exception": false,
     "start_time": "2024-11-22T14:20:10.655293",
     "status": "completed"
    },
    "tags": []
   },
   "source": [
    "## Evaluate baseline performance\n",
    "\n",
    "Before you start tuning a model, it's good practice to perform an evaluation on the available models to ensure you can measure how much the tuning helps.\n",
    "\n",
    "First identify a single sample row to use for visual inspection."
   ]
  },
  {
   "cell_type": "code",
   "execution_count": 11,
   "id": "14430c2b",
   "metadata": {
    "execution": {
     "iopub.execute_input": "2024-11-22T14:20:10.676613Z",
     "iopub.status.busy": "2024-11-22T14:20:10.676354Z",
     "iopub.status.idle": "2024-11-22T14:20:10.681318Z",
     "shell.execute_reply": "2024-11-22T14:20:10.680335Z"
    },
    "papermill": {
     "duration": 0.014666,
     "end_time": "2024-11-22T14:20:10.683210",
     "exception": false,
     "start_time": "2024-11-22T14:20:10.668544",
     "status": "completed"
    },
    "tags": []
   },
   "outputs": [
    {
     "name": "stdout",
     "output_type": "stream",
     "text": [
      "Need info on 88-89 Bonneville\n",
      "\n",
      "\n",
      " I am a little confused on all of the models of the 88-89 bonnevilles.\n",
      "I have heard of the LE SE LSE SSE SSEI. Could someone tell me the\n",
      "differences are far as features or performance. I am also curious to\n",
      "know what the book value is for prefereably the 89 model. And how much\n",
      "less than book value can you usually get them for. In other words how\n",
      "much are they in demand this time of year. I have heard that the mid-spring\n",
      "early summer is the best time to buy.\n",
      "\n",
      "\t\t\tNeil Gandler\n",
      "\n",
      "---\n",
      "Label: rec.autos\n"
     ]
    }
   ],
   "source": [
    "sample_idx = 0\n",
    "sample_row = preprocess_newsgroup_row(newsgroups_test.data[sample_idx])\n",
    "sample_label = newsgroups_test.target_names[newsgroups_test.target[sample_idx]]\n",
    "\n",
    "print(sample_row)\n",
    "print('---')\n",
    "print('Label:', sample_label)"
   ]
  },
  {
   "cell_type": "markdown",
   "id": "1baee555",
   "metadata": {
    "papermill": {
     "duration": 0.006171,
     "end_time": "2024-11-22T14:20:10.696660",
     "exception": false,
     "start_time": "2024-11-22T14:20:10.690489",
     "status": "completed"
    },
    "tags": []
   },
   "source": [
    "Passing the text directly in as a prompt does not yield the desired results. The model will attempt to respond to the message."
   ]
  },
  {
   "cell_type": "code",
   "execution_count": 12,
   "id": "2aeccf08",
   "metadata": {
    "execution": {
     "iopub.execute_input": "2024-11-22T14:20:10.710459Z",
     "iopub.status.busy": "2024-11-22T14:20:10.710197Z",
     "iopub.status.idle": "2024-11-22T14:20:13.753901Z",
     "shell.execute_reply": "2024-11-22T14:20:13.752981Z"
    },
    "papermill": {
     "duration": 3.052707,
     "end_time": "2024-11-22T14:20:13.755774",
     "exception": false,
     "start_time": "2024-11-22T14:20:10.703067",
     "status": "completed"
    },
    "tags": []
   },
   "outputs": [
    {
     "name": "stdout",
     "output_type": "stream",
     "text": [
      "You're right, the 88-89 Bonneville lineup was a bit confusing with its various trims!  Here's a breakdown to help clarify:\n",
      "\n",
      "**Bonneville Trim Levels:**\n",
      "\n",
      "* **LE (Luxury Edition):** The base model. It came with standard features like cloth upholstery, power steering, power brakes, and a basic AM/FM radio.\n",
      "* **SE (Special Edition):** This trim added some luxury touches like vinyl upholstery, a premium sound system, and possibly some extra chrome accents.\n",
      "* **LSE (Luxury Special Edition):** A step up from the SE, the LSE often included features like leather seating, upgraded interior trim, and a more powerful engine option.\n",
      "* **SSE (Sport Sedan Edition):**  This was the sporty version of the Bonneville, offering features like firmer suspension, sportier wheels, and a more powerful engine.\n",
      "* **SSEi (Sport Sedan Edition, Injected):**  This trim was the top of the line, boasting the most powerful engine option (often a V6) and additional sporty features like a rear spoiler and even a sunroof on some models.\n",
      "\n",
      "**Book Value & Pricing:**\n",
      "\n",
      "* **Book Value:**  Unfortunately, I can't give you an exact book value. Prices vary based on factors like condition, mileage, location, and available features.  \n",
      "* **Resources for Book Value:** To find the approximate value of an 89 Bonneville, I recommend using online resources like:\n",
      "    * **Kelley Blue Book (KBB):** [https://www.kbb.com/](https://www.kbb.com/) \n",
      "    * **Edmunds:** [https://www.edmunds.com/](https://www.edmunds.com/)\n",
      "    * **NADAguides:** [https://www.nadaguides.com/](https://www.nadaguides.com/)\n",
      "\n",
      "**Negotiation & Seasonal Trends:**\n",
      "\n",
      "* **Negotiation:**  As with any used car purchase, you can usually negotiate below book value, especially if the vehicle has high mileage or needs some repairs. \n",
      "* **Seasonal Trends:**  You're right, spring and early summer can be a good time to find deals on used cars, as dealers are often trying to clear out inventory. However, deals can be found throughout the year depending on market conditions.\n",
      "\n",
      "**Additional Tips:**\n",
      "\n",
      "* **Thorough Inspection:** When buying a used car, always get a comprehensive inspection by a qualified mechanic. \n",
      "* **Negotiation:** Research the fair market value and be prepared to walk away if you can't get a price you're comfortable with.\n",
      "\n",
      "I hope this information helps you in your search for an 88-89 Bonneville! \n",
      "\n"
     ]
    }
   ],
   "source": [
    "baseline_model = genai.GenerativeModel(\"gemini-1.5-flash-001\")\n",
    "response = baseline_model.generate_content(sample_row)\n",
    "print(response.text)"
   ]
  },
  {
   "cell_type": "markdown",
   "id": "939f23e1",
   "metadata": {
    "papermill": {
     "duration": 0.006468,
     "end_time": "2024-11-22T14:20:13.769523",
     "exception": false,
     "start_time": "2024-11-22T14:20:13.763055",
     "status": "completed"
    },
    "tags": []
   },
   "source": [
    "You can use the prompt engineering techniques you have learned this week to induce the model to perform the desired task. Try some of your own ideas and see what is effective, or check out the following cells for different approaches. Note that they have different levels of effectiveness!"
   ]
  },
  {
   "cell_type": "code",
   "execution_count": 13,
   "id": "bf6721f5",
   "metadata": {
    "execution": {
     "iopub.execute_input": "2024-11-22T14:20:13.784176Z",
     "iopub.status.busy": "2024-11-22T14:20:13.783867Z",
     "iopub.status.idle": "2024-11-22T14:20:14.445952Z",
     "shell.execute_reply": "2024-11-22T14:20:14.445022Z"
    },
    "papermill": {
     "duration": 0.671614,
     "end_time": "2024-11-22T14:20:14.448042",
     "exception": false,
     "start_time": "2024-11-22T14:20:13.776428",
     "status": "completed"
    },
    "tags": []
   },
   "outputs": [
    {
     "name": "stdout",
     "output_type": "stream",
     "text": [
      "The message you provided most likely originates from the **rec.autos.pontiac** newsgroup.  \n",
      "\n",
      "This newsgroup is dedicated to discussions about Pontiac cars, making it the most likely place for someone to ask about Bonneville models and their differences. \n",
      "\n"
     ]
    }
   ],
   "source": [
    "# Ask the model directly in a zero-shot prompt.\n",
    "\n",
    "prompt = \"From what newsgroup does the following message originate?\"\n",
    "baseline_response = baseline_model.generate_content([prompt, sample_row])\n",
    "print(baseline_response.text)"
   ]
  },
  {
   "cell_type": "markdown",
   "id": "93a80f66",
   "metadata": {
    "papermill": {
     "duration": 0.006511,
     "end_time": "2024-11-22T14:20:14.461679",
     "exception": false,
     "start_time": "2024-11-22T14:20:14.455168",
     "status": "completed"
    },
    "tags": []
   },
   "source": [
    "That technique produces quite a verbose response. You could try and pick out the relevant text, or refine the prompt even further."
   ]
  },
  {
   "cell_type": "code",
   "execution_count": 14,
   "id": "6edf12fd",
   "metadata": {
    "execution": {
     "iopub.execute_input": "2024-11-22T14:20:14.476189Z",
     "iopub.status.busy": "2024-11-22T14:20:14.475871Z",
     "iopub.status.idle": "2024-11-22T14:20:14.797332Z",
     "shell.execute_reply": "2024-11-22T14:20:14.796275Z"
    },
    "papermill": {
     "duration": 0.330784,
     "end_time": "2024-11-22T14:20:14.799039",
     "exception": false,
     "start_time": "2024-11-22T14:20:14.468255",
     "status": "completed"
    },
    "tags": []
   },
   "outputs": [
    {
     "name": "stdout",
     "output_type": "stream",
     "text": [
      "rec.autos.misc\n",
      "\n",
      "Incorrect.\n"
     ]
    }
   ],
   "source": [
    "from google.api_core import retry\n",
    "\n",
    "# You can use a system instruction to do more direct prompting, and get a\n",
    "# more succinct answer.\n",
    "\n",
    "system_instruct = \"\"\"\n",
    "You are a classification service. You will be passed input that represents\n",
    "a newsgroup post and you must respond with the newsgroup from which the post\n",
    "originates.\n",
    "\"\"\"\n",
    "\n",
    "instructed_model = genai.GenerativeModel(\"gemini-1.5-flash-001\",\n",
    "                                         system_instruction=system_instruct)\n",
    "\n",
    "retry_policy = {\"retry\": retry.Retry(predicate=retry.if_transient_error)}\n",
    "\n",
    "# If you want to evaluate your own technique, replace this function with your\n",
    "# model, prompt and other code and return the predicted answer.\n",
    "def predict_label(post: str) -> str:\n",
    "    response = instructed_model.generate_content(sample_row, request_options=retry_policy)\n",
    "    # Clean up the response.\n",
    "    return response.text.strip()\n",
    "\n",
    "\n",
    "prediction = predict_label(sample_row)\n",
    "\n",
    "print(prediction)\n",
    "print()\n",
    "print(\"Correct!\" if prediction == sample_label else \"Incorrect.\")"
   ]
  },
  {
   "cell_type": "markdown",
   "id": "4c359a5a",
   "metadata": {
    "papermill": {
     "duration": 0.006689,
     "end_time": "2024-11-22T14:20:14.812958",
     "exception": false,
     "start_time": "2024-11-22T14:20:14.806269",
     "status": "completed"
    },
    "tags": []
   },
   "source": [
    "Now run a short evaluation using the function defined above. The test set is further sampled to ensure the experiment runs smoothly on the API's free tier. In practice you would evaluate over the whole set."
   ]
  },
  {
   "cell_type": "code",
   "execution_count": 15,
   "id": "ea7008f3",
   "metadata": {
    "execution": {
     "iopub.execute_input": "2024-11-22T14:20:14.827353Z",
     "iopub.status.busy": "2024-11-22T14:20:14.827088Z",
     "iopub.status.idle": "2024-11-22T14:20:49.308680Z",
     "shell.execute_reply": "2024-11-22T14:20:49.307773Z"
    },
    "papermill": {
     "duration": 34.491278,
     "end_time": "2024-11-22T14:20:49.310920",
     "exception": false,
     "start_time": "2024-11-22T14:20:14.819642",
     "status": "completed"
    },
    "tags": []
   },
   "outputs": [
    {
     "data": {
      "application/vnd.jupyter.widget-view+json": {
       "model_id": "bb8ae16441f14aedb949944be4372e27",
       "version_major": 2,
       "version_minor": 0
      },
      "text/plain": [
       "Output()"
      ]
     },
     "metadata": {},
     "output_type": "display_data"
    },
    {
     "name": "stderr",
     "output_type": "stream",
     "text": [
      "/opt/conda/lib/python3.10/site-packages/tqdm/std.py:885: TqdmExperimentalWarning: rich is experimental/alpha\n",
      "  t = cls(total=total, **tqdm_kwargs)\n"
     ]
    },
    {
     "data": {
      "text/html": [
       "<pre style=\"white-space:pre;overflow-x:auto;line-height:normal;font-family:Menlo,'DejaVu Sans Mono',consolas,'Courier New',monospace\"></pre>\n"
      ],
      "text/plain": []
     },
     "metadata": {},
     "output_type": "display_data"
    },
    {
     "name": "stdout",
     "output_type": "stream",
     "text": [
      "Accuracy: 0.00%\n"
     ]
    }
   ],
   "source": [
    "from tqdm.rich import tqdm\n",
    "\n",
    "tqdm.pandas()\n",
    "\n",
    "\n",
    "# Further sample the test data to be mindful of the free-tier quota.\n",
    "df_baseline_eval = sample_data(df_test, 2, '.*')\n",
    "\n",
    "# Make predictions using the sampled data.\n",
    "df_baseline_eval['Prediction'] = df_baseline_eval['Text'].progress_apply(predict_label)\n",
    "\n",
    "# And calculate the accuracy.\n",
    "accuracy = (df_baseline_eval[\"Class Name\"] == df_baseline_eval[\"Prediction\"]).sum() / len(df_baseline_eval)\n",
    "print(f\"Accuracy: {accuracy:.2%}\")"
   ]
  },
  {
   "cell_type": "markdown",
   "id": "81360fdf",
   "metadata": {
    "papermill": {
     "duration": 0.010056,
     "end_time": "2024-11-22T14:20:49.332125",
     "exception": false,
     "start_time": "2024-11-22T14:20:49.322069",
     "status": "completed"
    },
    "tags": []
   },
   "source": [
    "Now take a look at the dataframe to compare the predictions with the labels."
   ]
  },
  {
   "cell_type": "code",
   "execution_count": 16,
   "id": "2134faa8",
   "metadata": {
    "execution": {
     "iopub.execute_input": "2024-11-22T14:20:50.119994Z",
     "iopub.status.busy": "2024-11-22T14:20:50.119751Z",
     "iopub.status.idle": "2024-11-22T14:20:50.129350Z",
     "shell.execute_reply": "2024-11-22T14:20:50.128664Z"
    },
    "papermill": {
     "duration": 0.789624,
     "end_time": "2024-11-22T14:20:50.131054",
     "exception": false,
     "start_time": "2024-11-22T14:20:49.341430",
     "status": "completed"
    },
    "tags": []
   },
   "outputs": [
    {
     "data": {
      "text/html": [
       "<div>\n",
       "<style scoped>\n",
       "    .dataframe tbody tr th:only-of-type {\n",
       "        vertical-align: middle;\n",
       "    }\n",
       "\n",
       "    .dataframe tbody tr th {\n",
       "        vertical-align: top;\n",
       "    }\n",
       "\n",
       "    .dataframe thead th {\n",
       "        text-align: right;\n",
       "    }\n",
       "</style>\n",
       "<table border=\"1\" class=\"dataframe\">\n",
       "  <thead>\n",
       "    <tr style=\"text-align: right;\">\n",
       "      <th></th>\n",
       "      <th>Text</th>\n",
       "      <th>Label</th>\n",
       "      <th>Class Name</th>\n",
       "      <th>Prediction</th>\n",
       "    </tr>\n",
       "  </thead>\n",
       "  <tbody>\n",
       "    <tr>\n",
       "      <th>0</th>\n",
       "      <td>buy back\\n\\nWe were at a dealership today look...</td>\n",
       "      <td>7</td>\n",
       "      <td>rec.autos</td>\n",
       "      <td>rec.autos.misc</td>\n",
       "    </tr>\n",
       "    <tr>\n",
       "      <th>1</th>\n",
       "      <td>Re: MR2 - noisy engine.\\n\\nYeah, it seems toyo...</td>\n",
       "      <td>7</td>\n",
       "      <td>rec.autos</td>\n",
       "      <td>rec.autos.misc</td>\n",
       "    </tr>\n",
       "    <tr>\n",
       "      <th>2</th>\n",
       "      <td>Re: Daytona\\n\\nIn article &lt;&gt;  (Ramin Taraz) wr...</td>\n",
       "      <td>8</td>\n",
       "      <td>rec.motorcycles</td>\n",
       "      <td>rec.autos.misc</td>\n",
       "    </tr>\n",
       "    <tr>\n",
       "      <th>3</th>\n",
       "      <td>Re: Maxima Chain wax Wheelies\\n\\n\\n\\n&gt;In artic...</td>\n",
       "      <td>8</td>\n",
       "      <td>rec.motorcycles</td>\n",
       "      <td>rec.autos.misc</td>\n",
       "    </tr>\n",
       "    <tr>\n",
       "      <th>4</th>\n",
       "      <td>Re: Relative value of players\\n\\nIn article &lt;&gt;...</td>\n",
       "      <td>9</td>\n",
       "      <td>rec.sport.baseball</td>\n",
       "      <td>rec.autos.misc</td>\n",
       "    </tr>\n",
       "    <tr>\n",
       "      <th>5</th>\n",
       "      <td>Re: Baseball logos available via anonymous FTP...</td>\n",
       "      <td>9</td>\n",
       "      <td>rec.sport.baseball</td>\n",
       "      <td>rec.autos.misc</td>\n",
       "    </tr>\n",
       "    <tr>\n",
       "      <th>6</th>\n",
       "      <td>Re: SHARKS: Kingston Fired!!!\\n\\n (Nelson Lu) ...</td>\n",
       "      <td>10</td>\n",
       "      <td>rec.sport.hockey</td>\n",
       "      <td>rec.autos.misc</td>\n",
       "    </tr>\n",
       "    <tr>\n",
       "      <th>7</th>\n",
       "      <td>Re: Trivia question\\n\\nIn article &lt;&gt;  (Carol J...</td>\n",
       "      <td>10</td>\n",
       "      <td>rec.sport.hockey</td>\n",
       "      <td>rec.autos.misc</td>\n",
       "    </tr>\n",
       "    <tr>\n",
       "      <th>8</th>\n",
       "      <td>Re: Let's build software cryptophones for over...</td>\n",
       "      <td>11</td>\n",
       "      <td>sci.crypt</td>\n",
       "      <td>rec.autos.misc</td>\n",
       "    </tr>\n",
       "    <tr>\n",
       "      <th>9</th>\n",
       "      <td>Re: Organized Lobbying for Cryptography\\n\\nIn ...</td>\n",
       "      <td>11</td>\n",
       "      <td>sci.crypt</td>\n",
       "      <td>rec.autos.misc</td>\n",
       "    </tr>\n",
       "    <tr>\n",
       "      <th>10</th>\n",
       "      <td>Re: How universal are phones these days?\\n\\nIn...</td>\n",
       "      <td>12</td>\n",
       "      <td>sci.electronics</td>\n",
       "      <td>rec.autos.misc</td>\n",
       "    </tr>\n",
       "    <tr>\n",
       "      <th>11</th>\n",
       "      <td>Re: How universal are phones these days?\\n\\nIn...</td>\n",
       "      <td>12</td>\n",
       "      <td>sci.electronics</td>\n",
       "      <td>rec.autos.misc</td>\n",
       "    </tr>\n",
       "    <tr>\n",
       "      <th>12</th>\n",
       "      <td>Re: Barbecued foods and health risk\\n\\nHi,\\n\\n...</td>\n",
       "      <td>13</td>\n",
       "      <td>sci.med</td>\n",
       "      <td>rec.autos.misc</td>\n",
       "    </tr>\n",
       "    <tr>\n",
       "      <th>13</th>\n",
       "      <td>looking for info on kemotherapy(sp?)\\n\\n\\nHell...</td>\n",
       "      <td>13</td>\n",
       "      <td>sci.med</td>\n",
       "      <td>rec.autos.misc</td>\n",
       "    </tr>\n",
       "    <tr>\n",
       "      <th>14</th>\n",
       "      <td>Re: Gamma Ray Bursters.  WHere  are they.\\n\\nI...</td>\n",
       "      <td>14</td>\n",
       "      <td>sci.space</td>\n",
       "      <td>rec.autos.misc</td>\n",
       "    </tr>\n",
       "    <tr>\n",
       "      <th>15</th>\n",
       "      <td>Re: HST Servicing Mission\\n\\nIn article &lt;&gt;,  \\...</td>\n",
       "      <td>14</td>\n",
       "      <td>sci.space</td>\n",
       "      <td>rec.autos.misc</td>\n",
       "    </tr>\n",
       "  </tbody>\n",
       "</table>\n",
       "</div>"
      ],
      "text/plain": [
       "                                                 Text  Label  \\\n",
       "0   buy back\\n\\nWe were at a dealership today look...      7   \n",
       "1   Re: MR2 - noisy engine.\\n\\nYeah, it seems toyo...      7   \n",
       "2   Re: Daytona\\n\\nIn article <>  (Ramin Taraz) wr...      8   \n",
       "3   Re: Maxima Chain wax Wheelies\\n\\n\\n\\n>In artic...      8   \n",
       "4   Re: Relative value of players\\n\\nIn article <>...      9   \n",
       "5   Re: Baseball logos available via anonymous FTP...      9   \n",
       "6   Re: SHARKS: Kingston Fired!!!\\n\\n (Nelson Lu) ...     10   \n",
       "7   Re: Trivia question\\n\\nIn article <>  (Carol J...     10   \n",
       "8   Re: Let's build software cryptophones for over...     11   \n",
       "9   Re: Organized Lobbying for Cryptography\\n\\nIn ...     11   \n",
       "10  Re: How universal are phones these days?\\n\\nIn...     12   \n",
       "11  Re: How universal are phones these days?\\n\\nIn...     12   \n",
       "12  Re: Barbecued foods and health risk\\n\\nHi,\\n\\n...     13   \n",
       "13  looking for info on kemotherapy(sp?)\\n\\n\\nHell...     13   \n",
       "14  Re: Gamma Ray Bursters.  WHere  are they.\\n\\nI...     14   \n",
       "15  Re: HST Servicing Mission\\n\\nIn article <>,  \\...     14   \n",
       "\n",
       "            Class Name      Prediction  \n",
       "0            rec.autos  rec.autos.misc  \n",
       "1            rec.autos  rec.autos.misc  \n",
       "2      rec.motorcycles  rec.autos.misc  \n",
       "3      rec.motorcycles  rec.autos.misc  \n",
       "4   rec.sport.baseball  rec.autos.misc  \n",
       "5   rec.sport.baseball  rec.autos.misc  \n",
       "6     rec.sport.hockey  rec.autos.misc  \n",
       "7     rec.sport.hockey  rec.autos.misc  \n",
       "8            sci.crypt  rec.autos.misc  \n",
       "9            sci.crypt  rec.autos.misc  \n",
       "10     sci.electronics  rec.autos.misc  \n",
       "11     sci.electronics  rec.autos.misc  \n",
       "12             sci.med  rec.autos.misc  \n",
       "13             sci.med  rec.autos.misc  \n",
       "14           sci.space  rec.autos.misc  \n",
       "15           sci.space  rec.autos.misc  "
      ]
     },
     "execution_count": 16,
     "metadata": {},
     "output_type": "execute_result"
    }
   ],
   "source": [
    "df_baseline_eval"
   ]
  },
  {
   "cell_type": "markdown",
   "id": "1718e9ba",
   "metadata": {
    "id": "Ok7ugrLzcghX",
    "papermill": {
     "duration": 0.0078,
     "end_time": "2024-11-22T14:20:50.146616",
     "exception": false,
     "start_time": "2024-11-22T14:20:50.138816",
     "status": "completed"
    },
    "tags": []
   },
   "source": [
    "## Tune a custom model\n",
    "\n",
    "In this example you'll use tuning to help create a model that requires no prompting or system instructions and outputs succinct text from the classes you provide in the training data.\n",
    "\n",
    "The data contains both input text (the processed posts) and output text (the category, or newsgroup), which you can use to start tuning a model.\n",
    "\n",
    "The Python SDK for tuning supports Pandas dataframes as input, so you don't need any custom data generators or pipelines. Just specify the input and the relevant columns as the `input_key` and `output_key`.\n",
    "\n",
    "When calling `create_tuned_model`, you can specify model tuning hyperparameters too:\n",
    " - `epoch_count`: defines how many times to loop through the data,\n",
    " - `batch_size`: defines how many rows to process in a single step, and\n",
    " - `learning_rate`: defines the scaling factor for updating model weights at each step.\n",
    "\n",
    "You can also choose to omit them and use the defaults. [Learn more](https://developers.google.com/machine-learning/crash-course/linear-regression/hyperparameters) about these parameters and how they work. For this example these parameters were selected by running some tuning jobs and selecting parameters that were both effective and quick."
   ]
  },
  {
   "cell_type": "code",
   "execution_count": 17,
   "id": "b866f392",
   "metadata": {
    "execution": {
     "iopub.execute_input": "2024-11-22T14:20:50.161883Z",
     "iopub.status.busy": "2024-11-22T14:20:50.161634Z",
     "iopub.status.idle": "2024-11-22T14:20:51.077252Z",
     "shell.execute_reply": "2024-11-22T14:20:51.076349Z"
    },
    "id": "pWOZlspfY8dV",
    "papermill": {
     "duration": 0.925371,
     "end_time": "2024-11-22T14:20:51.079073",
     "exception": false,
     "start_time": "2024-11-22T14:20:50.153702",
     "status": "completed"
    },
    "tags": []
   },
   "outputs": [
    {
     "name": "stdout",
     "output_type": "stream",
     "text": [
      "newsgroup-classifier-31414\n"
     ]
    }
   ],
   "source": [
    "from collections.abc import Iterable\n",
    "import random\n",
    "\n",
    "\n",
    "# Append a random number to the model ID so you can re-run with a higher chance\n",
    "# of creating a unique model ID.\n",
    "model_id = f\"newsgroup-classifier-{random.randint(10000, 99999)}\"\n",
    "\n",
    "# Upload the training data and queue the tuning job.\n",
    "tuning_op = genai.create_tuned_model(\n",
    "    \"models/gemini-1.5-flash-001-tuning\",\n",
    "    training_data=df_train,\n",
    "    input_key=\"Text\",  # the column to use as input\n",
    "    output_key=\"Class Name\",  # the column to use as output\n",
    "    id=model_id,\n",
    "    display_name=\"Newsgroup classification model\",\n",
    "    batch_size=16,\n",
    "    epoch_count=2,\n",
    ")\n",
    "\n",
    "print(model_id)"
   ]
  },
  {
   "cell_type": "markdown",
   "id": "523f4bf5",
   "metadata": {
    "id": "NQ3YZ2MBubCY",
    "papermill": {
     "duration": 0.007286,
     "end_time": "2024-11-22T14:20:51.093913",
     "exception": false,
     "start_time": "2024-11-22T14:20:51.086627",
     "status": "completed"
    },
    "tags": []
   },
   "source": [
    "This has created a tuning job that will run in the background. To inspect the progress of the tuning job, run this cell to plot the current status and loss curve. Once the status reaches `ACTIVE`, tuning is complete and the model is ready to use.\n",
    "\n",
    "Tuning jobs are queued, so it may look like no training steps have been taken initially but it will progress. Tuning can take upwards of 20 minutes, depending on factors like your dataset size and how busy the tuning infrastrature is. Why not treat yourself to a nice cup of tea while you wait, or come and say \"Hi!\" to [yours truly](https://discord.com/users/132124213132787712) in the group [Discord](https://discord.com/invite/kaggle).\n",
    "\n",
    "It is safe to stop this cell at any point. It will not stop the tuning job."
   ]
  },
  {
   "cell_type": "code",
   "execution_count": 18,
   "id": "0c5b3281",
   "metadata": {
    "execution": {
     "iopub.execute_input": "2024-11-22T14:20:51.109447Z",
     "iopub.status.busy": "2024-11-22T14:20:51.109169Z",
     "iopub.status.idle": "2024-11-22T14:25:53.620349Z",
     "shell.execute_reply": "2024-11-22T14:25:53.619480Z"
    },
    "id": "c4ef5f13692d",
    "papermill": {
     "duration": 302.529151,
     "end_time": "2024-11-22T14:25:53.630190",
     "exception": false,
     "start_time": "2024-11-22T14:20:51.101039",
     "status": "completed"
    },
    "tags": []
   },
   "outputs": [
    {
     "name": "stdout",
     "output_type": "stream",
     "text": [
      "State.CREATING\n",
      "State.CREATING\n"
     ]
    },
    {
     "name": "stderr",
     "output_type": "stream",
     "text": [
      "/opt/conda/lib/python3.10/site-packages/seaborn/_oldcore.py:1119: FutureWarning: use_inf_as_na option is deprecated and will be removed in a future version. Convert inf values to NaN before operating instead.\n",
      "  with pd.option_context('mode.use_inf_as_na', True):\n",
      "/opt/conda/lib/python3.10/site-packages/seaborn/_oldcore.py:1119: FutureWarning: use_inf_as_na option is deprecated and will be removed in a future version. Convert inf values to NaN before operating instead.\n",
      "  with pd.option_context('mode.use_inf_as_na', True):\n"
     ]
    },
    {
     "name": "stdout",
     "output_type": "stream",
     "text": [
      "State.CREATING\n"
     ]
    },
    {
     "name": "stderr",
     "output_type": "stream",
     "text": [
      "/opt/conda/lib/python3.10/site-packages/seaborn/_oldcore.py:1119: FutureWarning: use_inf_as_na option is deprecated and will be removed in a future version. Convert inf values to NaN before operating instead.\n",
      "  with pd.option_context('mode.use_inf_as_na', True):\n",
      "/opt/conda/lib/python3.10/site-packages/seaborn/_oldcore.py:1119: FutureWarning: use_inf_as_na option is deprecated and will be removed in a future version. Convert inf values to NaN before operating instead.\n",
      "  with pd.option_context('mode.use_inf_as_na', True):\n"
     ]
    },
    {
     "name": "stdout",
     "output_type": "stream",
     "text": [
      "State.CREATING\n"
     ]
    },
    {
     "name": "stderr",
     "output_type": "stream",
     "text": [
      "/opt/conda/lib/python3.10/site-packages/seaborn/_oldcore.py:1119: FutureWarning: use_inf_as_na option is deprecated and will be removed in a future version. Convert inf values to NaN before operating instead.\n",
      "  with pd.option_context('mode.use_inf_as_na', True):\n",
      "/opt/conda/lib/python3.10/site-packages/seaborn/_oldcore.py:1119: FutureWarning: use_inf_as_na option is deprecated and will be removed in a future version. Convert inf values to NaN before operating instead.\n",
      "  with pd.option_context('mode.use_inf_as_na', True):\n"
     ]
    },
    {
     "name": "stdout",
     "output_type": "stream",
     "text": [
      "State.CREATING\n",
      "Done! The model is ACTIVE\n"
     ]
    },
    {
     "data": {
      "image/png": "[encoded data removed]",
      "text/plain": [
       "<Figure size 640x480 with 1 Axes>"
      ]
     },
     "metadata": {},
     "output_type": "display_data"
    }
   ],
   "source": [
    "import time\n",
    "import seaborn as sns\n",
    "\n",
    "\n",
    "while (tuned_model := genai.get_tuned_model(f\"tunedModels/{model_id}\")).state.name != 'ACTIVE':\n",
    "\n",
    "    if tuned_model.tuning_task.snapshots:\n",
    "        # If the tuning task has started, this will draw the loss so far.\n",
    "        snapshots = pd.DataFrame(tuned_model.tuning_task.snapshots)\n",
    "        sns.lineplot(data=snapshots, x=\"step\", y=\"mean_loss\")\n",
    "    \n",
    "    print(tuned_model.state)\n",
    "\n",
    "    time.sleep(60)\n",
    "\n",
    "print(f\"Done! The model is {tuned_model.state.name}\")"
   ]
  },
  {
   "cell_type": "markdown",
   "id": "aa5eaf91",
   "metadata": {
    "id": "9-qiIdK4u80z",
    "papermill": {
     "duration": 0.008047,
     "end_time": "2024-11-22T14:25:53.646563",
     "exception": false,
     "start_time": "2024-11-22T14:25:53.638516",
     "status": "completed"
    },
    "tags": []
   },
   "source": [
    "## Use the new model\n",
    "\n",
    "Now that you have a tuned model, try it out with custom data. You use the same API as a normal Gemini API interaction, but you specify your new model as the model name, using the `tunedModels/` prefix."
   ]
  },
  {
   "cell_type": "code",
   "execution_count": 19,
   "id": "a5def3d1",
   "metadata": {
    "execution": {
     "iopub.execute_input": "2024-11-22T14:25:53.664174Z",
     "iopub.status.busy": "2024-11-22T14:25:53.663695Z",
     "iopub.status.idle": "2024-11-22T14:25:59.831607Z",
     "shell.execute_reply": "2024-11-22T14:25:59.830494Z"
    },
    "id": "hyO2-MXLvM6a",
    "papermill": {
     "duration": 6.178609,
     "end_time": "2024-11-22T14:25:59.833441",
     "exception": false,
     "start_time": "2024-11-22T14:25:53.654832",
     "status": "completed"
    },
    "tags": []
   },
   "outputs": [
    {
     "name": "stdout",
     "output_type": "stream",
     "text": [
      "sci.space\n"
     ]
    }
   ],
   "source": [
    "your_model = genai.GenerativeModel(f\"tunedModels/{model_id}\")\n",
    "\n",
    "new_text = \"\"\"\n",
    "First-timer looking to get out of here.\n",
    "\n",
    "Hi, I'm writing about my interest in travelling to the outer limits!\n",
    "\n",
    "What kind of craft can I buy? What is easiest to access from this 3rd rock?\n",
    "\n",
    "Let me know how to do that please.\n",
    "\"\"\"\n",
    "\n",
    "response = your_model.generate_content(new_text)\n",
    "print(response.text)"
   ]
  },
  {
   "cell_type": "markdown",
   "id": "7898219a",
   "metadata": {
    "id": "xajLek9DySH_",
    "papermill": {
     "duration": 0.008017,
     "end_time": "2024-11-22T14:25:59.849887",
     "exception": false,
     "start_time": "2024-11-22T14:25:59.841870",
     "status": "completed"
    },
    "tags": []
   },
   "source": [
    "### Evaluation\n",
    "\n",
    "You can see that the model outputs labels that correspond to those in the training data, and without any system instructions or prompting, which is already a great improvement. Now see how well it performs on the test set.\n",
    "\n",
    "Note that there is no parallelism in this example; classifying the test sub-set will take a few minutes."
   ]
  },
  {
   "cell_type": "code",
   "execution_count": 20,
   "id": "d7c4625b",
   "metadata": {
    "execution": {
     "iopub.execute_input": "2024-11-22T14:25:59.867036Z",
     "iopub.status.busy": "2024-11-22T14:25:59.866709Z",
     "iopub.status.idle": "2024-11-22T14:27:27.852914Z",
     "shell.execute_reply": "2024-11-22T14:27:27.851986Z"
    },
    "id": "6T2Y3ZApvbMw",
    "papermill": {
     "duration": 87.996604,
     "end_time": "2024-11-22T14:27:27.854601",
     "exception": false,
     "start_time": "2024-11-22T14:25:59.857997",
     "status": "completed"
    },
    "tags": []
   },
   "outputs": [
    {
     "data": {
      "application/vnd.jupyter.widget-view+json": {
       "model_id": "e08ebcf581924c19ad29d66c48a0db07",
       "version_major": 2,
       "version_minor": 0
      },
      "text/plain": [
       "Output()"
      ]
     },
     "metadata": {},
     "output_type": "display_data"
    },
    {
     "name": "stderr",
     "output_type": "stream",
     "text": [
      "/opt/conda/lib/python3.10/site-packages/tqdm/std.py:885: TqdmExperimentalWarning: rich is experimental/alpha\n",
      "  t = cls(total=total, **tqdm_kwargs)\n"
     ]
    },
    {
     "data": {
      "text/html": [
       "<pre style=\"white-space:pre;overflow-x:auto;line-height:normal;font-family:Menlo,'DejaVu Sans Mono',consolas,'Courier New',monospace\"></pre>\n"
      ],
      "text/plain": []
     },
     "metadata": {},
     "output_type": "display_data"
    },
    {
     "name": "stdout",
     "output_type": "stream",
     "text": [
      "Accuracy: 90.62%\n"
     ]
    }
   ],
   "source": [
    "def classify_text(text: str) -> str:\n",
    "    \"\"\"Classify the provided text into a known newsgroup.\"\"\"\n",
    "    response = your_model.generate_content(text, request_options=retry_policy)\n",
    "    rc = response.candidates[0]\n",
    "\n",
    "    # Any errors, filters, recitation, etc we can mark as a general error\n",
    "    if rc.finish_reason.name != \"STOP\":\n",
    "        return \"(error)\"\n",
    "    else:\n",
    "        return rc.content.parts[0].text\n",
    "\n",
    "\n",
    "# The sampling here is just to minimise your quota usage. If you can, you should\n",
    "# evaluate the whole test set with `df_model_eval = df_test.copy()`.\n",
    "df_model_eval = sample_data(df_test, 4, '.*')\n",
    "\n",
    "\n",
    "df_model_eval[\"Prediction\"] = df_model_eval[\"Text\"].progress_apply(classify_text)\n",
    "\n",
    "accuracy = (df_model_eval[\"Class Name\"] == df_model_eval[\"Prediction\"]).sum() / len(df_model_eval)\n",
    "print(f\"Accuracy: {accuracy:.2%}\")"
   ]
  },
  {
   "cell_type": "markdown",
   "id": "1a0a8cc8",
   "metadata": {
    "papermill": {
     "duration": 0.010712,
     "end_time": "2024-11-22T14:27:27.878268",
     "exception": false,
     "start_time": "2024-11-22T14:27:27.867556",
     "status": "completed"
    },
    "tags": []
   },
   "source": [
    "## Compare token usage\n",
    "\n",
    "AI Studio and the Gemini API provide model tuning at no cost, however normal limits and charges apply for *use* of a tuned model.\n",
    "\n",
    "The size of the input prompt and other generation config like system instructions, as well as the number of generated output tokens, all contribute to the overall cost of a request."
   ]
  },
  {
   "cell_type": "code",
   "execution_count": 21,
   "id": "10baa5fc",
   "metadata": {
    "execution": {
     "iopub.execute_input": "2024-11-22T14:27:29.915173Z",
     "iopub.status.busy": "2024-11-22T14:27:29.914925Z",
     "iopub.status.idle": "2024-11-22T14:27:30.178128Z",
     "shell.execute_reply": "2024-11-22T14:27:30.177237Z"
    },
    "papermill": {
     "duration": 2.290384,
     "end_time": "2024-11-22T14:27:30.179726",
     "exception": false,
     "start_time": "2024-11-22T14:27:27.889342",
     "status": "completed"
    },
    "tags": []
   },
   "outputs": [
    {
     "name": "stdout",
     "output_type": "stream",
     "text": [
      "System instructed baseline model: 171 (input)\n",
      "Tuned model: 135 (input)\n",
      "Token savings: 26.67%\n"
     ]
    }
   ],
   "source": [
    "# Calculate the *input* cost of the baseline model with system instructions.\n",
    "sysint_tokens = instructed_model.count_tokens(sample_row).total_tokens\n",
    "print(f'System instructed baseline model: {sysint_tokens} (input)')\n",
    "\n",
    "# Calculate the input cost of the tuned model.\n",
    "tuned_tokens = your_model.count_tokens(sample_row).total_tokens\n",
    "print(f'Tuned model: {tuned_tokens} (input)')\n",
    "\n",
    "savings = (sysint_tokens - tuned_tokens) / tuned_tokens\n",
    "print(f'Token savings: {savings:.2%}')  # Note that this is only n=1."
   ]
  },
  {
   "cell_type": "markdown",
   "id": "a3e2067a",
   "metadata": {
    "papermill": {
     "duration": 0.008577,
     "end_time": "2024-11-22T14:27:30.197395",
     "exception": false,
     "start_time": "2024-11-22T14:27:30.188818",
     "status": "completed"
    },
    "tags": []
   },
   "source": [
    "The earlier verbose model also produced more output tokens than needed for this task."
   ]
  },
  {
   "cell_type": "code",
   "execution_count": 22,
   "id": "00be681e",
   "metadata": {
    "execution": {
     "iopub.execute_input": "2024-11-22T14:27:30.215491Z",
     "iopub.status.busy": "2024-11-22T14:27:30.215251Z",
     "iopub.status.idle": "2024-11-22T14:27:31.204642Z",
     "shell.execute_reply": "2024-11-22T14:27:31.203715Z"
    },
    "papermill": {
     "duration": 1.000536,
     "end_time": "2024-11-22T14:27:31.206393",
     "exception": false,
     "start_time": "2024-11-22T14:27:30.205857",
     "status": "completed"
    },
    "tags": []
   },
   "outputs": [
    {
     "name": "stdout",
     "output_type": "stream",
     "text": [
      "Baseline (verbose) output tokens: 50\n",
      "Tuned output tokens: 3\n"
     ]
    }
   ],
   "source": [
    "baseline_token_output = baseline_response.usage_metadata.candidates_token_count\n",
    "print('Baseline (verbose) output tokens:', baseline_token_output)\n",
    "\n",
    "tuned_model_output = your_model.generate_content(sample_row)\n",
    "tuned_tokens_output = tuned_model_output.usage_metadata.candidates_token_count\n",
    "print('Tuned output tokens:', tuned_tokens_output)"
   ]
  },
  {
   "cell_type": "markdown",
   "id": "5446bc24",
   "metadata": {
    "id": "6c1204a5d0ab",
    "papermill": {
     "duration": 0.008194,
     "end_time": "2024-11-22T14:27:31.223542",
     "exception": false,
     "start_time": "2024-11-22T14:27:31.215348",
     "status": "completed"
    },
    "tags": []
   },
   "source": [
    "## Next steps\n",
    "\n",
    "Now that you have tuned a classification model, try some other tasks, like tuning a model to respond with a specific tone or style using hand-written examples (or even generated examples!). Kaggle hosts [a number of datasets](https://www.kaggle.com/datasets) you can try out.\n",
    "\n",
    "Learn about [when supervised fine-tuning is most effective](https://cloud.google.com/blog/products/ai-machine-learning/supervised-fine-tuning-for-gemini-llm).\n",
    "\n",
    "And check out the [fine-tuning tutorial](https://ai.google.dev/gemini-api/docs/model-tuning/tutorial?hl=en&lang=python) for another example that shows a tuned model extending beyond the training data to new, unseen inputs."
   ]
  }
 ],
 "metadata": {
  "colab": {
   "name": "day-4-fine-tuning-a-custom-model.ipynb",
   "toc_visible": true
  },
  "kaggle": {
   "accelerator": "nvidiaTeslaT4",
   "dataSources": [],
   "dockerImageVersionId": 30786,
   "isGpuEnabled": true,
   "isInternetEnabled": true,
   "language": "python",
   "sourceType": "notebook"
  },
  "kernelspec": {
   "display_name": "Python 3",
   "language": "python",
   "name": "python3"
  },
  "language_info": {
   "codemirror_mode": {
    "name": "ipython",
    "version": 3
   },
   "file_extension": ".py",
   "mimetype": "text/x-python",
   "name": "python",
   "nbconvert_exporter": "python",
   "pygments_lexer": "ipython3",
   "version": "3.10.14"
  },
  "papermill": {
   "default_parameters": {},
   "duration": 485.28465,
   "end_time": "2024-11-22T14:27:31.951235",
   "environment_variables": {},
   "exception": null,
   "input_path": "__notebook__.ipynb",
   "output_path": "__notebook__.ipynb",
   "parameters": {},
   "start_time": "2024-11-22T14:19:26.666585",
   "version": "2.6.0"
  },
  "widgets": {
   "application/vnd.jupyter.widget-state+json": {
    "state": {
     "05a549616c294352be5c4191d722171d": {
      "model_module": "@jupyter-widgets/base",
      "model_module_version": "1.2.0",
      "model_name": "LayoutModel",
      "state": {
       "_model_module": "@jupyter-widgets/base",
       "_model_module_version": "1.2.0",
       "_model_name": "LayoutModel",
       "_view_count": null,
       "_view_module": "@jupyter-widgets/base",
       "_view_module_version": "1.2.0",
       "_view_name": "LayoutView",
       "align_content": null,
       "align_items": null,
       "align_self": null,
       "border": null,
       "bottom": null,
       "display": null,
       "flex": null,
       "flex_flow": null,
       "grid_area": null,
       "grid_auto_columns": null,
       "grid_auto_flow": null,
       "grid_auto_rows": null,
       "grid_column": null,
       "grid_gap": null,
       "grid_row": null,
       "grid_template_areas": null,
       "grid_template_columns": null,
       "grid_template_rows": null,
       "height": null,
       "justify_content": null,
       "justify_items": null,
       "left": null,
       "margin": null,
       "max_height": null,
       "max_width": null,
       "min_height": null,
       "min_width": null,
       "object_fit": null,
       "object_position": null,
       "order": null,
       "overflow": null,
       "overflow_x": null,
       "overflow_y": null,
       "padding": null,
       "right": null,
       "top": null,
       "visibility": null,
       "width": null
      }
     },
     "a75c9a1d2c2347c7bda2e76d19239599": {
      "model_module": "@jupyter-widgets/base",
      "model_module_version": "1.2.0",
      "model_name": "LayoutModel",
      "state": {
       "_model_module": "@jupyter-widgets/base",
       "_model_module_version": "1.2.0",
       "_model_name": "LayoutModel",
       "_view_count": null,
       "_view_module": "@jupyter-widgets/base",
       "_view_module_version": "1.2.0",
       "_view_name": "LayoutView",
       "align_content": null,
       "align_items": null,
       "align_self": null,
       "border": null,
       "bottom": null,
       "display": null,
       "flex": null,
       "flex_flow": null,
       "grid_area": null,
       "grid_auto_columns": null,
       "grid_auto_flow": null,
       "grid_auto_rows": null,
       "grid_column": null,
       "grid_gap": null,
       "grid_row": null,
       "grid_template_areas": null,
       "grid_template_columns": null,
       "grid_template_rows": null,
       "height": null,
       "justify_content": null,
       "justify_items": null,
       "left": null,
       "margin": null,
       "max_height": null,
       "max_width": null,
       "min_height": null,
       "min_width": null,
       "object_fit": null,
       "object_position": null,
       "order": null,
       "overflow": null,
       "overflow_x": null,
       "overflow_y": null,
       "padding": null,
       "right": null,
       "top": null,
       "visibility": null,
       "width": null
      }
     },
     "bb8ae16441f14aedb949944be4372e27": {
      "model_module": "@jupyter-widgets/output",
      "model_module_version": "1.0.0",
      "model_name": "OutputModel",
      "state": {
       "_dom_classes": [],
       "_model_module": "@jupyter-widgets/output",
       "_model_module_version": "1.0.0",
       "_model_name": "OutputModel",
       "_view_count": null,
       "_view_module": "@jupyter-widgets/output",
       "_view_module_version": "1.0.0",
       "_view_name": "OutputView",
       "layout": "IPY_MODEL_05a549616c294352be5c4191d722171d",
       "msg_id": "",
       "outputs": [
        {
         "data": {
          "text/html": "<pre style=\"white-space:pre;overflow-x:auto;line-height:normal;font-family:Menlo,'DejaVu Sans Mono',consolas,'Courier New',monospace\"><span style=\"color: #800080; text-decoration-color: #800080\"> 100%</span> <span style=\"color: #729c1f; text-decoration-color: #729c1f\">━━━━━━━━━━━━━━━━━━━━━━━━━━━━━━━━━━━━━━━━━━━━━━━━━━━━━━━━━━━━━━━━━━━━━━━</span> <span style=\"color: #008000; text-decoration-color: #008000\">16/16 </span> [ <span style=\"color: #808000; text-decoration-color: #808000\">0:00:11</span> &lt; <span style=\"color: #008080; text-decoration-color: #008080\">0:00:00</span> , <span style=\"color: #800000; text-decoration-color: #800000\">1 it/s</span> ]\n</pre>\n",
          "text/plain": "\u001b[35m 100%\u001b[0m \u001b[38;2;114;156;31m━━━━━━━━━━━━━━━━━━━━━━━━━━━━━━━━━━━━━━━━━━━━━━━━━━━━━━━━━━━━━━━━━━━━━━━\u001b[0m \u001b[32m16/16 \u001b[0m [ \u001b[33m0:00:11\u001b[0m < \u001b[36m0:00:00\u001b[0m , \u001b[31m1 it/s\u001b[0m ]\n"
         },
         "metadata": {},
         "output_type": "display_data"
        }
       ]
      }
     },
     "e08ebcf581924c19ad29d66c48a0db07": {
      "model_module": "@jupyter-widgets/output",
      "model_module_version": "1.0.0",
      "model_name": "OutputModel",
      "state": {
       "_dom_classes": [],
       "_model_module": "@jupyter-widgets/output",
       "_model_module_version": "1.0.0",
       "_model_name": "OutputModel",
       "_view_count": null,
       "_view_module": "@jupyter-widgets/output",
       "_view_module_version": "1.0.0",
       "_view_name": "OutputView",
       "layout": "IPY_MODEL_a75c9a1d2c2347c7bda2e76d19239599",
       "msg_id": "",
       "outputs": [
        {
         "data": {
          "text/html": "<pre style=\"white-space:pre;overflow-x:auto;line-height:normal;font-family:Menlo,'DejaVu Sans Mono',consolas,'Courier New',monospace\"><span style=\"color: #800080; text-decoration-color: #800080\"> 100%</span> <span style=\"color: #729c1f; text-decoration-color: #729c1f\">━━━━━━━━━━━━━━━━━━━━━━━━━━━━━━━━━━━━━━━━━━━━━━━━━━━━━━━━━━━━━━━━━━━━━━━</span> <span style=\"color: #008000; text-decoration-color: #008000\">32/32 </span> [ <span style=\"color: #808000; text-decoration-color: #808000\">0:01:27</span> &lt; <span style=\"color: #008080; text-decoration-color: #008080\">0:00:00</span> , <span style=\"color: #800000; text-decoration-color: #800000\">1 it/s</span> ]\n</pre>\n",
          "text/plain": "\u001b[35m 100%\u001b[0m \u001b[38;2;114;156;31m━━━━━━━━━━━━━━━━━━━━━━━━━━━━━━━━━━━━━━━━━━━━━━━━━━━━━━━━━━━━━━━━━━━━━━━\u001b[0m \u001b[32m32/32 \u001b[0m [ \u001b[33m0:01:27\u001b[0m < \u001b[36m0:00:00\u001b[0m , \u001b[31m1 it/s\u001b[0m ]\n"
         },
         "metadata": {},
         "output_type": "display_data"
        }
       ]
      }
     }
    },
    "version_major": 2,
    "version_minor": 0
   }
  }
 },
 "nbformat": 4,
 "nbformat_minor": 5
}
