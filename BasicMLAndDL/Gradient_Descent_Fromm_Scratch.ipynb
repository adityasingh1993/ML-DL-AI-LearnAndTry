{
  "nbformat": 4,
  "nbformat_minor": 0,
  "metadata": {
    "colab": {
      "name": "Gradient Descent Fromm Scratch.ipynb",
      "version": "0.3.2",
      "provenance": [],
      "collapsed_sections": [],
      "include_colab_link": true
    },
    "kernelspec": {
      "name": "python3",
      "display_name": "Python 3"
    }
  },
  "cells": [
    {
      "cell_type": "markdown",
      "metadata": {
        "id": "view-in-github",
        "colab_type": "text"
      },
      "source": [
        "[View in Colaboratory](https://colab.research.google.com/github/adityasingh1993/100DayMLChallenge/blob/master/Gradient_Descent_Fromm_Scratch.ipynb)"
      ]
    },
    {
      "metadata": {
        "id": "EjWO_iSmzBuS",
        "colab_type": "text"
      },
      "cell_type": "markdown",
      "source": [
        "## Gradient Desecent"
      ]
    },
    {
      "metadata": {
        "id": "pbKTkyvYzGZ8",
        "colab_type": "text"
      },
      "cell_type": "markdown",
      "source": [
        "*Pseudo Code Of Gradient Descent*:\n",
        "                \n",
        "\n",
        "---\n",
        "\n",
        "while True:\n",
        "\n",
        "> Wgradient=evaluate_gradient(data,loss,W)\n",
        "\n",
        "\n",
        "  \n",
        "  \n",
        "\n",
        ">W+=-alpha*Wgradient\n",
        "\n",
        "\n",
        "\n",
        "\n",
        "\n",
        "\n",
        "  \n",
        "  \n",
        "\n"
      ]
    },
    {
      "metadata": {
        "id": "HUs7O0zwz6B5",
        "colab_type": "code",
        "colab": {}
      },
      "cell_type": "code",
      "source": [
        "import numpy as np\n",
        "import matplotlib.pyplot as plt\n",
        "from sklearn.datasets import make_blobs"
      ],
      "execution_count": 0,
      "outputs": []
    },
    {
      "metadata": {
        "id": "lTgO6vFv0SZT",
        "colab_type": "code",
        "colab": {}
      },
      "cell_type": "code",
      "source": [
        "def Sigmoid(X):\n",
        "  return 1.0/(1.0+np.exp(-X))"
      ],
      "execution_count": 0,
      "outputs": []
    },
    {
      "metadata": {
        "id": "3p1zPPog0e9G",
        "colab_type": "code",
        "colab": {
          "base_uri": "https://localhost:8080/",
          "height": 34
        },
        "outputId": "631a619a-94af-4161-c20e-536d023e00f1"
      },
      "cell_type": "code",
      "source": [
        "Sigmoid(10)"
      ],
      "execution_count": 4,
      "outputs": [
        {
          "output_type": "execute_result",
          "data": {
            "text/plain": [
              "0.9999546021312976"
            ]
          },
          "metadata": {
            "tags": []
          },
          "execution_count": 4
        }
      ]
    },
    {
      "metadata": {
        "id": "Zw_oriPG0hEb",
        "colab_type": "code",
        "colab": {}
      },
      "cell_type": "code",
      "source": [
        "def sigmoid_test():\n",
        "  list2=[]\n",
        "  list1=np.arange(-10,10,0.2)\n",
        "  for i in range(0,len(list1)):\n",
        "    list2.append(Sigmoid(list1[i]))\n",
        "  plt.plot(list1,list2)\n",
        "  "
      ],
      "execution_count": 0,
      "outputs": []
    },
    {
      "metadata": {
        "id": "2h-n2xsf2UnL",
        "colab_type": "code",
        "colab": {
          "base_uri": "https://localhost:8080/",
          "height": 347
        },
        "outputId": "9f4a2b99-9a6b-4ef4-96c1-120c037c64f5"
      },
      "cell_type": "code",
      "source": [
        "sigmoid_test()"
      ],
      "execution_count": 9,
      "outputs": [
        {
          "output_type": "display_data",
          "data": {
            "image/png": "[encoded data removed]",
            "text/plain": [
              "<matplotlib.figure.Figure at 0x7ff862747358>"
            ]
          },
          "metadata": {
            "tags": []
          }
        }
      ]
    },
    {
      "metadata": {
        "id": "V9ir7KdZ1Kt2",
        "colab_type": "code",
        "colab": {}
      },
      "cell_type": "code",
      "source": [
        "def generate_Data():\n",
        "  \n",
        "  X,Y=make_blobs(n_samples=300,n_features=2,centers=2,cluster_std=1.5,random_state=20)\n",
        "  return X,Y"
      ],
      "execution_count": 0,
      "outputs": []
    },
    {
      "metadata": {
        "id": "dCKztOnD1kXI",
        "colab_type": "code",
        "colab": {}
      },
      "cell_type": "code",
      "source": [
        "X,Y=generate_Data()"
      ],
      "execution_count": 0,
      "outputs": []
    },
    {
      "metadata": {
        "id": "TZw8Y09Q-ihz",
        "colab_type": "text"
      },
      "cell_type": "markdown",
      "source": [
        "## Let's Visualize Our Data"
      ]
    },
    {
      "metadata": {
        "id": "kiOrnQ5x-VAc",
        "colab_type": "code",
        "colab": {
          "base_uri": "https://localhost:8080/",
          "height": 364
        },
        "outputId": "fba329f1-4b82-48c3-8179-b5c6f0292353"
      },
      "cell_type": "code",
      "source": [
        "plt.scatter(X[:,0],X[:,1])"
      ],
      "execution_count": 44,
      "outputs": [
        {
          "output_type": "execute_result",
          "data": {
            "text/plain": [
              "<matplotlib.collections.PathCollection at 0x7ff85ecc2550>"
            ]
          },
          "metadata": {
            "tags": []
          },
          "execution_count": 44
        },
        {
          "output_type": "display_data",
          "data": {
            "image/png": "[encoded data removed]",
            "text/plain": [
              "<matplotlib.figure.Figure at 0x7ff86060bc18>"
            ]
          },
          "metadata": {
            "tags": []
          }
        }
      ]
    },
    {
      "metadata": {
        "id": "qmn3rsRt30tH",
        "colab_type": "code",
        "colab": {
          "base_uri": "https://localhost:8080/",
          "height": 68
        },
        "outputId": "2605c0c5-2f07-4257-aad7-3a9a51ba039b"
      },
      "cell_type": "code",
      "source": [
        "print(X.shape)\n",
        "print(X.shape[0])\n",
        "print(X.shape[1])"
      ],
      "execution_count": 45,
      "outputs": [
        {
          "output_type": "stream",
          "text": [
            "(300, 2)\n",
            "300\n",
            "2\n"
          ],
          "name": "stdout"
        }
      ]
    },
    {
      "metadata": {
        "id": "AbrXuoQP24Hc",
        "colab_type": "code",
        "colab": {}
      },
      "cell_type": "code",
      "source": [
        "def AddBiasToData(X):\n",
        "  return np.c_[np.ones((X.shape[0])),X]"
      ],
      "execution_count": 0,
      "outputs": []
    },
    {
      "metadata": {
        "id": "GCuLBtas29Sa",
        "colab_type": "code",
        "colab": {}
      },
      "cell_type": "code",
      "source": [
        "def initalize_Weight(x_shape):\n",
        "  return np.random.uniform(size=(x_shape,))\n",
        "  \n",
        "  "
      ],
      "execution_count": 0,
      "outputs": []
    },
    {
      "metadata": {
        "id": "F_IOzk8K4TL8",
        "colab_type": "code",
        "colab": {}
      },
      "cell_type": "code",
      "source": [
        "def Training(X,W,Y,epoch,alpha):\n",
        "  lossHistory=[]\n",
        "  for i in range(0,epoch):\n",
        "    \n",
        "    y=np.dot(X,W)\n",
        "    preds=Sigmoid(y)\n",
        "    error=preds-Y\n",
        "    loss=np.sum(error**2)\n",
        "    lossHistory.append(loss)\n",
        "    print(\"loss is {} in Epoch #{}\".format(loss,i))\n",
        "    gradient=np.dot(X.T,error)\n",
        "    W+=-alpha*gradient\n",
        "  return lossHistory,W"
      ],
      "execution_count": 0,
      "outputs": []
    },
    {
      "metadata": {
        "id": "hCudZ1BW6Bs_",
        "colab_type": "code",
        "colab": {
          "base_uri": "https://localhost:8080/",
          "height": 1751
        },
        "outputId": "84204935-0ebd-49fd-f5b9-fbc2cb981331"
      },
      "cell_type": "code",
      "source": [
        "X_bias=AddBiasToData(X)\n",
        "W=initalize_Weight(X_bias.shape[1])\n",
        "lossHistory,W=Training(X_bias,W,Y,100,0.1)\n"
      ],
      "execution_count": 49,
      "outputs": [
        {
          "output_type": "stream",
          "text": [
            "loss is 149.7478290923608 in Epoch #0\n",
            "loss is 150.0 in Epoch #1\n",
            "loss is 68.99771818174148 in Epoch #2\n",
            "loss is 49.39752719826753 in Epoch #3\n",
            "loss is 41.88288664542296 in Epoch #4\n",
            "loss is 6.003433711622957 in Epoch #5\n",
            "loss is 2.8390999233914638 in Epoch #6\n",
            "loss is 3.292004231306856 in Epoch #7\n",
            "loss is 2.975539103227147 in Epoch #8\n",
            "loss is 2.8890293857517912 in Epoch #9\n",
            "loss is 2.778188906830633 in Epoch #10\n",
            "loss is 3.3108842406858674 in Epoch #11\n",
            "loss is 2.9780717811349735 in Epoch #12\n",
            "loss is 2.8600958870339874 in Epoch #13\n",
            "loss is 2.748459598811402 in Epoch #14\n",
            "loss is 3.306297087187243 in Epoch #15\n",
            "loss is 2.9776978413077977 in Epoch #16\n",
            "loss is 2.85832920784104 in Epoch #17\n",
            "loss is 2.7483624410431293 in Epoch #18\n",
            "loss is 3.30572608135013 in Epoch #19\n",
            "loss is 2.977755803513274 in Epoch #20\n",
            "loss is 2.8526506414454125 in Epoch #21\n",
            "loss is 2.7438551749210873 in Epoch #22\n",
            "loss is 3.3046085695894316 in Epoch #23\n",
            "loss is 2.9777162490910944 in Epoch #24\n",
            "loss is 2.848170659182303 in Epoch #25\n",
            "loss is 2.7407512934034797 in Epoch #26\n",
            "loss is 3.3042264016151934 in Epoch #27\n",
            "loss is 2.9777322204614904 in Epoch #28\n",
            "loss is 2.8433711615931516 in Epoch #29\n",
            "loss is 2.7373207372865735 in Epoch #30\n",
            "loss is 3.304151277926334 in Epoch #31\n",
            "loss is 2.9777566820725827 in Epoch #32\n",
            "loss is 2.8386908701022593 in Epoch #33\n",
            "loss is 2.7340849891547894 in Epoch #34\n",
            "loss is 3.3044922058421546 in Epoch #35\n",
            "loss is 2.9778050581108007 in Epoch #36\n",
            "loss is 2.8339511630812297 in Epoch #37\n",
            "loss is 2.7308446514381126 in Epoch #38\n",
            "loss is 3.3051732503996276 in Epoch #39\n",
            "loss is 2.9778711410710645 in Epoch #40\n",
            "loss is 2.829190293201397 in Epoch #41\n",
            "loss is 2.7276540745349838 in Epoch #42\n",
            "loss is 3.3061864784417816 in Epoch #43\n",
            "loss is 2.977956404547282 in Epoch #44\n",
            "loss is 2.8243691194949196 in Epoch #45\n",
            "loss is 2.724474305796318 in Epoch #46\n",
            "loss is 3.3074972914593204 in Epoch #47\n",
            "loss is 2.978059100936787 in Epoch #48\n",
            "loss is 2.8194823687805908 in Epoch #49\n",
            "loss is 2.721305597001566 in Epoch #50\n",
            "loss is 3.3090827568697465 in Epoch #51\n",
            "loss is 2.97817864818134 in Epoch #52\n",
            "loss is 2.8145133978234957 in Epoch #53\n",
            "loss is 2.718133218537818 in Epoch #54\n",
            "loss is 3.3109154798107654 in Epoch #55\n",
            "loss is 2.9783138099086477 in Epoch #56\n",
            "loss is 2.8094535161580563 in Epoch #57\n",
            "loss is 2.7149508640318367 in Epoch #58\n",
            "loss is 3.3129711091075995 in Epoch #59\n",
            "loss is 2.978463545937018 in Epoch #60\n",
            "loss is 2.8042930146830916 in Epoch #61\n",
            "loss is 2.711749808755953 in Epoch #62\n",
            "loss is 3.3152249113779586 in Epoch #63\n",
            "loss is 2.9786266425036363 in Epoch #64\n",
            "loss is 2.7990253433580548 in Epoch #65\n",
            "loss is 2.708524078000273 in Epoch #66\n",
            "loss is 3.3176536287713287 in Epoch #67\n",
            "loss is 2.978801925946565 in Epoch #68\n",
            "loss is 2.7936448438930075 in Epoch #69\n",
            "loss is 2.7052677239473066 in Epoch #70\n",
            "loss is 3.3202345977731804 in Epoch #71\n",
            "loss is 2.978988178090227 in Epoch #72\n",
            "loss is 2.788147813440442 in Epoch #73\n",
            "loss is 2.7019762049882186 in Epoch #74\n",
            "loss is 3.322946319183505 in Epoch #75\n",
            "loss is 2.979184207025529 in Epoch #76\n",
            "loss is 2.7825317587394682 in Epoch #77\n",
            "loss is 2.6986455293173015 in Epoch #78\n",
            "loss is 3.325768185758231 in Epoch #79\n",
            "loss is 2.979388828254177 in Epoch #80\n",
            "loss is 2.776795680233016 in Epoch #81\n",
            "loss is 2.6952726814901298 in Epoch #82\n",
            "loss is 3.3286806916102356 in Epoch #83\n",
            "loss is 2.9796008951261204 in Epoch #84\n",
            "loss is 2.7709397392926314 in Epoch #85\n",
            "loss is 2.691855281397366 in Epoch #86\n",
            "loss is 3.3316653273676944 in Epoch #87\n",
            "loss is 2.979819296257329 in Epoch #88\n",
            "loss is 2.7649653096414877 in Epoch #89\n",
            "loss is 2.6883917271494067 in Epoch #90\n",
            "loss is 3.3347046665787436 in Epoch #91\n",
            "loss is 2.9800429711658767 in Epoch #92\n",
            "loss is 2.7588747767723607 in Epoch #93\n",
            "loss is 2.6848810218549115 in Epoch #94\n",
            "loss is 3.3377823113084157 in Epoch #95\n",
            "loss is 2.98027091104818 in Epoch #96\n",
            "loss is 2.7526715094978353 in Epoch #97\n",
            "loss is 2.6813228187267173 in Epoch #98\n",
            "loss is 3.3408829279274235 in Epoch #99\n"
          ],
          "name": "stdout"
        },
        {
          "output_type": "stream",
          "text": [
            "/usr/local/lib/python3.6/dist-packages/ipykernel_launcher.py:2: RuntimeWarning: overflow encountered in exp\n",
            "  \n"
          ],
          "name": "stderr"
        }
      ]
    },
    {
      "metadata": {
        "id": "0LM8pcYV6poY",
        "colab_type": "code",
        "colab": {
          "base_uri": "https://localhost:8080/",
          "height": 364
        },
        "outputId": "b850d5b2-1a6f-4edb-fc83-105a85099336"
      },
      "cell_type": "code",
      "source": [
        "plt.plot(np.arange(0,100),lossHistory)"
      ],
      "execution_count": 50,
      "outputs": [
        {
          "output_type": "execute_result",
          "data": {
            "text/plain": [
              "[<matplotlib.lines.Line2D at 0x7ff85ec16f98>]"
            ]
          },
          "metadata": {
            "tags": []
          },
          "execution_count": 50
        },
        {
          "output_type": "display_data",
          "data": {
            "image/png": "[encoded data removed]",
            "text/plain": [
              "<matplotlib.figure.Figure at 0x7ff85ec6bd30>"
            ]
          },
          "metadata": {
            "tags": []
          }
        }
      ]
    },
    {
      "metadata": {
        "id": "YfH66ldo79ip",
        "colab_type": "code",
        "colab": {}
      },
      "cell_type": "code",
      "source": [
        "def predict(X):\n",
        "  for i in np.random.choice(300,10):\n",
        "    \n",
        "    y=np.dot(X[i],W)\n",
        "    pred=Sigmoid(y)\n",
        "    if pred<0.5:\n",
        "      print(\"label 0\")\n",
        "    else:\n",
        "      print(\"label 1\")\n",
        "      \n",
        "      \n",
        "    \n",
        "  "
      ],
      "execution_count": 0,
      "outputs": []
    },
    {
      "metadata": {
        "id": "Aj7pV9Lq88kA",
        "colab_type": "code",
        "colab": {
          "base_uri": "https://localhost:8080/",
          "height": 187
        },
        "outputId": "4621684d-ceea-4268-88d8-20c27fa66cf9"
      },
      "cell_type": "code",
      "source": [
        "predict(X_bias)"
      ],
      "execution_count": 52,
      "outputs": [
        {
          "output_type": "stream",
          "text": [
            "label 1\n",
            "label 1\n",
            "label 0\n",
            "label 1\n",
            "label 1\n",
            "label 0\n",
            "label 1\n",
            "label 1\n",
            "label 0\n",
            "label 1\n"
          ],
          "name": "stdout"
        }
      ]
    },
    {
      "metadata": {
        "id": "EaIVffUi8N8a",
        "colab_type": "code",
        "colab": {
          "base_uri": "https://localhost:8080/",
          "height": 381
        },
        "outputId": "a54650b3-1903-4e3d-b559-58b94cb72b60"
      },
      "cell_type": "code",
      "source": [
        "Y = (-W[0] - (W[1] * X)) / W[2]\n",
        "plt.figure()\n",
        "plt.scatter(X[:,0],X[:,1],c=\"y\")\n",
        "plt.plot(X,Y,\"r-\")"
      ],
      "execution_count": 56,
      "outputs": [
        {
          "output_type": "execute_result",
          "data": {
            "text/plain": [
              "[<matplotlib.lines.Line2D at 0x7ff85ead1da0>,\n",
              " <matplotlib.lines.Line2D at 0x7ff85ea5bf28>]"
            ]
          },
          "metadata": {
            "tags": []
          },
          "execution_count": 56
        },
        {
          "output_type": "display_data",
          "data": {
            "image/png": "[encoded data removed]",
            "text/plain": [
              "<matplotlib.figure.Figure at 0x7ff85eb739b0>"
            ]
          },
          "metadata": {
            "tags": []
          }
        }
      ]
    },
    {
      "metadata": {
        "id": "Kp5aSKSZ8PCw",
        "colab_type": "code",
        "colab": {}
      },
      "cell_type": "code",
      "source": [
        ""
      ],
      "execution_count": 0,
      "outputs": []
    }
  ]
}