{
  "nbformat": 4,
  "nbformat_minor": 0,
  "metadata": {
    "kernelspec": {
      "display_name": "Python (tensorflow)",
      "language": "python",
      "name": "tensorflow"
    },
    "language_info": {
      "codemirror_mode": {
        "name": "ipython",
        "version": 3
      },
      "file_extension": ".py",
      "mimetype": "text/x-python",
      "name": "python",
      "nbconvert_exporter": "python",
      "pygments_lexer": "ipython3",
      "version": "3.7.1"
    },
    "colab": {
      "name": "Reciepie.ipynb",
      "provenance": [],
      "collapsed_sections": [],
      "machine_shape": "hm"
    },
    "accelerator": "GPU"
  },
  "cells": [
    {
      "cell_type": "code",
      "metadata": {
        "id": "196jdY5KJp5Y",
        "colab_type": "code",
        "colab": {
          "base_uri": "https://localhost:8080/",
          "height": 122
        },
        "outputId": "d7e19f88-bdce-46c7-c6df-d3e13007746c"
      },
      "source": [
        "from google.colab import drive\n",
        "drive.mount('/content/drive')\n"
      ],
      "execution_count": 1,
      "outputs": [
        {
          "output_type": "stream",
          "text": [
            "Go to this URL in a browser: https://accounts.google.com/o/oauth2/auth?client_id=947318989803-6bn6qk8qdgf4n4g3pfee6491hc0brc4i.apps.googleusercontent.com&redirect_uri=urn%3aietf%3awg%3aoauth%3a2.0%3aoob&response_type=code&scope=email%20https%3a%2f%2fwww.googleapis.com%2fauth%2fdocs.test%20https%3a%2f%2fwww.googleapis.com%2fauth%2fdrive%20https%3a%2f%2fwww.googleapis.com%2fauth%2fdrive.photos.readonly%20https%3a%2f%2fwww.googleapis.com%2fauth%2fpeopleapi.readonly\n",
            "\n",
            "Enter your authorization code:\n",
            "··········\n",
            "Mounted at /content/drive\n"
          ],
          "name": "stdout"
        }
      ]
    },
    {
      "cell_type": "code",
      "metadata": {
        "id": "AiEDMU8LJ05d",
        "colab_type": "code",
        "colab": {
          "base_uri": "https://localhost:8080/",
          "height": 34
        },
        "outputId": "4fd891f5-3508-476e-b3fb-0f0e5aea2752"
      },
      "source": [
        "!ls drive"
      ],
      "execution_count": 6,
      "outputs": [
        {
          "output_type": "stream",
          "text": [
            "'My Drive'\n"
          ],
          "name": "stdout"
        }
      ]
    },
    {
      "cell_type": "code",
      "metadata": {
        "id": "E4dsnFa8JeL2",
        "colab_type": "code",
        "colab": {}
      },
      "source": [
        "import pandas as pd\n",
        "import matplotlib.pyplot as plt\n",
        "%matplotlib inline\n",
        "data=pd.read_csv(\"drive/My Drive/recipes_82k.csv\")\n",
        "data=data.drop([\"category\",\"image\"],axis=1)"
      ],
      "execution_count": 0,
      "outputs": []
    },
    {
      "cell_type": "code",
      "metadata": {
        "id": "fSNjAgLeJeL5",
        "colab_type": "code",
        "colab": {}
      },
      "source": [
        ""
      ],
      "execution_count": 0,
      "outputs": []
    },
    {
      "cell_type": "code",
      "metadata": {
        "id": "2E7qJiy7JeME",
        "colab_type": "code",
        "colab": {}
      },
      "source": [
        "x=data.iloc[:,0:].values"
      ],
      "execution_count": 0,
      "outputs": []
    },
    {
      "cell_type": "code",
      "metadata": {
        "id": "u5LnNbFhJeMG",
        "colab_type": "code",
        "colab": {
          "base_uri": "https://localhost:8080/",
          "height": 54
        },
        "outputId": "bf607a9f-0ae7-480f-f6d9-5771030ca2fa"
      },
      "source": [
        "x[0][0]"
      ],
      "execution_count": 4,
      "outputs": [
        {
          "output_type": "execute_result",
          "data": {
            "text/plain": [
              "\"['Set the racks in the middle and upper thirds of the oven and preheat the oven to 425 F', 'In a large skillet over medium heat, heat the olive oil until shimmering. Add the onion, garlic and red pepper flakes and cook until golden, stirring occasionally, about 5 minutes.', 'Add the fennel and cook until the vegetables are soft and translucent, an additional 3 to 5 minutes.', 'Reduce the heat to medium and add the tomatoes with their juices. Using the back of a wooden spoon, smash the tomatoes and cook for 5 minutes.', 'Add the basil, wine, olives, 1 teaspoon salt, and 1/8 teaspoon black pepper.', 'Reduce to low and simmer for 15 minutes, or until the sauce is slightly thickened, while you prepare the fish.', 'Pat the fillets dry, lightly spray them with cooking spray, and season with salt and pepper.', 'In a heavy ovenproof skillet over high heat, heat the olive oil until shimmering. Add the fillets, rounded-side down, and cook for 2 minutes.', 'Carefully flip the fillets with a metal spatula and place the skillet in the oven. Bake until the fish is no longer translucent, 8 to 10 minutes.', 'Switch the oven to broil and place the skillet on the upper rack. Broil until the tops of the fillets are golden brown, 2 to 4 minutes.', 'Arrange the fillets on individual plates, spoon on the sauce, and serve.']\""
            ]
          },
          "metadata": {
            "tags": []
          },
          "execution_count": 4
        }
      ]
    },
    {
      "cell_type": "code",
      "metadata": {
        "id": "ew0n6NXfJeMJ",
        "colab_type": "code",
        "colab": {}
      },
      "source": [
        "from string import punctuation"
      ],
      "execution_count": 0,
      "outputs": []
    },
    {
      "cell_type": "code",
      "metadata": {
        "id": "RJKojtv2JeMM",
        "colab_type": "code",
        "colab": {
          "base_uri": "https://localhost:8080/",
          "height": 34
        },
        "outputId": "a2a9ec76-66a3-4c29-e297-937b31f426b9"
      },
      "source": [
        "punctuation"
      ],
      "execution_count": 6,
      "outputs": [
        {
          "output_type": "execute_result",
          "data": {
            "text/plain": [
              "'!\"#$%&\\'()*+,-./:;<=>?@[\\\\]^_`{|}~'"
            ]
          },
          "metadata": {
            "tags": []
          },
          "execution_count": 6
        }
      ]
    },
    {
      "cell_type": "code",
      "metadata": {
        "id": "yxG6XuTbJeMO",
        "colab_type": "code",
        "colab": {}
      },
      "source": [
        "x[0][0].replace(\"['\",\"\").replace(\"']\",\"\")\n",
        "listofuncleaned=[]\n",
        "allcombined=[]\n",
        "xcombined=[]\n",
        "ycombined=[]\n",
        "for uncleaned in x:\n",
        "    try:\n",
        "        uncleaned[0]=uncleaned[0].replace(\"['\",\"\").replace(\"']\",\"\").replace(\"(\",\"\").replace(\") \",\" \").replace(\".\",\"\").replace(\",\",\"\").lower()\n",
        "        \n",
        "                            \n",
        "        uncleaned[1]=uncleaned[1].replace(\"['\",\"\").replace(\"']\",\"\").replace(\"\\'\",\"\").replace(\" (\",\" \").replace(\".\",\"\").replace(\") \",\" \").replace(\",\",\"\").lower()\n",
        "        \n",
        "        #uncleaned[2]=uncleaned[2]\n",
        "        uncleaned[2]=uncleaned[2].replace(\"['\",\"\").replace(\"']\",\"\").replace(\"\\'\",\"\").replace(\" (\",\" \").replace(\".\",\"\").replace(\") \",\" \").replace(\",\",\"\").lower()\n",
        "        \n",
        "        uncleaned[3]=uncleaned[3].lower().replace(\".\",\"\").replace(\",\",\"\")\n",
        "        uncleaned[4]=uncleaned[4].lower().replace(\".\",\"\").replace(\",\",\"\")\n",
        "        uncleaned[5]=uncleaned[5].lower().replace(\".\",\"\").replace(\",\",\"\")\n",
        "        uncleaned[6]=uncleaned[6].lower().replace(\".\",\"\").replace(\",\",\"\")\n",
        "        \n",
        "        listofuncleaned.append(uncleaned)\n",
        "        allcombined.append(uncleaned[0]+\" \"+uncleaned[2]+\" \"+uncleaned[2]+\" \"+uncleaned[3]+\" \"+uncleaned[4]+\" \"+uncleaned[5]+\" \"+uncleaned[6])\n",
        "        xcombined.append(uncleaned[0]+\" \"+uncleaned[2]+\" \"+uncleaned[2]+\" \"+uncleaned[3]+\" \"+uncleaned[4]+\" \"+uncleaned[5])\n",
        "        ycombined.append(uncleaned[6])\n",
        "    except:\n",
        "        pass\n",
        "    \n",
        "# for i in x:\n",
        "#     x.remove(\"[\").remove(\"]\")"
      ],
      "execution_count": 0,
      "outputs": []
    },
    {
      "cell_type": "code",
      "metadata": {
        "id": "9NVgNQEkJeMQ",
        "colab_type": "code",
        "colab": {
          "base_uri": "https://localhost:8080/",
          "height": 34
        },
        "outputId": "2ca61963-4467-4819-fd19-7032f3915aa4"
      },
      "source": [
        "len(listofuncleaned)"
      ],
      "execution_count": 8,
      "outputs": [
        {
          "output_type": "execute_result",
          "data": {
            "text/plain": [
              "58449"
            ]
          },
          "metadata": {
            "tags": []
          },
          "execution_count": 8
        }
      ]
    },
    {
      "cell_type": "code",
      "metadata": {
        "id": "RelsyuWkJeMU",
        "colab_type": "code",
        "colab": {}
      },
      "source": [
        ""
      ],
      "execution_count": 0,
      "outputs": []
    },
    {
      "cell_type": "code",
      "metadata": {
        "id": "NuvowZy8JeMX",
        "colab_type": "code",
        "colab": {}
      },
      "source": [
        "combinedtext=\" \".join(allcombined)\n",
        "word2idx={}\n",
        "idx2word={}\n",
        "\n",
        "for idx,word in enumerate(combinedtext.split(\" \")):\n",
        "    #idx2word[idx]=word\n",
        "    word2idx[word]=idx\n",
        "    \n",
        "    "
      ],
      "execution_count": 0,
      "outputs": []
    },
    {
      "cell_type": "code",
      "metadata": {
        "id": "zZlT5rRyJeMZ",
        "colab_type": "code",
        "colab": {}
      },
      "source": [
        "\n",
        "# feel free to use this import \n",
        "from collections import Counter\n",
        "\n",
        "## Build a dictionary that maps words to integers\n",
        "counts = Counter(combinedtext.split(\" \"))\n",
        "vocab = sorted(counts, key=counts.get, reverse=True)\n",
        "vocab_to_int = {word: ii for ii, word in enumerate(vocab, 1)}\n",
        "\n",
        "## use the dict to tokenize each review in reviews_split\n",
        "## store the tokenized reviews in reviews_ints\n",
        "reviews_ints = []\n",
        "for review in xcombined:\n",
        "    \n",
        "    reviews_ints.append([vocab_to_int[word] for word in review.split()])\n",
        "tag_ints=[]  \n",
        "for review in ycombined:\n",
        "    \n",
        "    tag_ints.append([vocab_to_int[word] for word in review.split()])"
      ],
      "execution_count": 0,
      "outputs": []
    },
    {
      "cell_type": "code",
      "metadata": {
        "id": "WyauSuYtJeMc",
        "colab_type": "code",
        "colab": {}
      },
      "source": [
        "reversed_dictionary = dict(zip(vocab_to_int.values(), vocab_to_int.keys()))"
      ],
      "execution_count": 0,
      "outputs": []
    },
    {
      "cell_type": "code",
      "metadata": {
        "id": "yFjjPtt9JeMd",
        "colab_type": "code",
        "colab": {}
      },
      "source": [
        "vocabulary=len(vocab_to_int)"
      ],
      "execution_count": 0,
      "outputs": []
    },
    {
      "cell_type": "code",
      "metadata": {
        "id": "9F_UVzAbJeMf",
        "colab_type": "code",
        "colab": {
          "base_uri": "https://localhost:8080/",
          "height": 139
        },
        "outputId": "73c733bb-23a5-4e85-be5d-e6a034e5713d"
      },
      "source": [
        "print('Unique words: ', len((vocab_to_int)))  # should ~ 74000+\n",
        "print()\n",
        "\n",
        "# print tokens in first review\n",
        "print('Tokenized review: \\n', reviews_ints[:1])\n",
        "print('tags: \\n', tag_ints[:1])"
      ],
      "execution_count": 13,
      "outputs": [
        {
          "output_type": "stream",
          "text": [
            "Unique words:  105395\n",
            "\n",
            "Tokenized review: \n",
            " [[109, 1, 1176, 9, 1, 741, 2, 2041, 1585, 11, 1, 65, 2, 158, 1, 65, 4, 1021, 251, 182, 5, 31, 129, 38, 45, 33, 33, 1, 39, 18, 16, 3656, 22, 1, 60, 37, 2, 55, 15, 287, 2, 47, 16, 153, 159, 379, 29, 68, 205, 412, 1, 456, 2, 47, 16, 1, 315, 127, 289, 2, 947, 167, 604, 23, 4, 68, 205, 2370, 1, 33, 4, 45, 2, 22, 1, 98, 8, 829, 654, 206, 1, 422, 11, 5, 628, 223, 2557, 1, 98, 2, 47, 13, 68, 205, 412, 1, 211, 106, 482, 3, 17, 12, 2, 410, 17, 42, 640, 2370, 4, 250, 2, 151, 13, 179, 25, 19, 16, 1, 41, 66, 285, 758, 450, 146, 732, 1, 4245, 3455, 1, 463, 139, 180, 301, 172, 8, 191, 301, 2, 99, 8, 12, 2, 640, 182, 5, 168, 1522, 129, 38, 225, 33, 33, 1, 39, 18, 16, 3656, 22, 1, 463, 11170, 264, 2, 47, 13, 6, 205, 2452, 838, 1, 463, 8, 5, 1209, 597, 2, 69, 1, 129, 9, 1, 65, 169, 16, 1, 256, 66, 807, 917, 947, 58, 4, 85, 205, 17866, 1, 65, 4, 1009, 2, 69, 1, 129, 30, 1, 2041, 321, 1009, 16, 1, 712, 11, 1, 463, 127, 153, 79, 6, 4, 20, 205, 1379, 1, 463, 30, 1250, 723, 223, 30, 1, 41, 2, 86, 3, 14, 438, 869, 39, 18, 3, 7, 21, 266, 60, 23, 94, 37, 1813, 24, 17, 248, 55, 15, 287, 19, 4, 1505, 10, 7, 21, 456, 236, 2179, 467, 134, 149, 95, 98, 8, 829, 11475, 84, 7, 36, 211, 62, 283, 144, 2533, 10, 7, 139, 78, 106, 24, 7, 559, 1428, 482, 4676, 74, 12, 44, 35, 15, 1140, 4126, 467, 591, 3966, 334, 1210, 463, 19, 389, 15803, 541, 12188, 256, 463, 392, 105, 1357, 1321, 19, 2522, 7943, 1399, 39, 18, 191, 301, 74, 12, 44, 35, 42, 15, 3, 28, 138, 39, 18, 3, 14, 438, 869, 39, 18, 3, 7, 21, 266, 60, 23, 94, 37, 1813, 24, 17, 248, 55, 15, 287, 19, 4, 1505, 10, 7, 21, 456, 236, 2179, 467, 134, 149, 95, 98, 8, 829, 11475, 84, 7, 36, 211, 62, 283, 144, 2533, 10, 7, 139, 78, 106, 24, 7, 559, 1428, 482, 4676, 74, 12, 44, 35, 15, 1140, 4126, 467, 591, 3966, 334, 1210, 463, 19, 389, 15803, 541, 12188, 256, 463, 392, 105, 1357, 1321, 19, 2522, 7943, 1399, 39, 18, 191, 301, 74, 12, 44, 35, 42, 15, 3, 28, 138, 39, 18, 201, 25, 4650, 334, 1210, 20, 63]]\n",
            "tags: \n",
            " [[1720, 197, 958, 197, 3117, 335, 1982, 2025, 250, 2224, 576, 181, 25]]\n"
          ],
          "name": "stdout"
        }
      ]
    },
    {
      "cell_type": "code",
      "metadata": {
        "id": "s6htPIUfJeMj",
        "colab_type": "code",
        "colab": {
          "base_uri": "https://localhost:8080/",
          "height": 51
        },
        "outputId": "0163153b-755a-486c-f38a-444d0526ceb6"
      },
      "source": [
        "\n",
        "# outlier review stats\n",
        "review_lens = Counter([len(x) for x in reviews_ints])\n",
        "print(\"Zero-length reviews: {}\".format(review_lens[0]))\n",
        "print(\"Maximum review length: {}\".format(max(review_lens)))\n"
      ],
      "execution_count": 14,
      "outputs": [
        {
          "output_type": "stream",
          "text": [
            "Zero-length reviews: 0\n",
            "Maximum review length: 3127\n"
          ],
          "name": "stdout"
        }
      ]
    },
    {
      "cell_type": "code",
      "metadata": {
        "id": "E-iVfJcTJeMo",
        "colab_type": "code",
        "colab": {
          "base_uri": "https://localhost:8080/",
          "height": 282
        },
        "outputId": "dbd1294c-7489-4ffe-9e9d-a0b84682ada5"
      },
      "source": [
        "import seaborn as sns\n",
        "sns.distplot(list(review_lens.values()))"
      ],
      "execution_count": 15,
      "outputs": [
        {
          "output_type": "execute_result",
          "data": {
            "text/plain": [
              "<matplotlib.axes._subplots.AxesSubplot at 0x7ff42856bd30>"
            ]
          },
          "metadata": {
            "tags": []
          },
          "execution_count": 15
        },
        {
          "output_type": "display_data",
          "data": {
            "image/png": "[encoded data removed]",
            "text/plain": [
              "<Figure size 432x288 with 1 Axes>"
            ]
          },
          "metadata": {
            "tags": []
          }
        }
      ]
    },
    {
      "cell_type": "code",
      "metadata": {
        "id": "CCdzbeyOJeMr",
        "colab_type": "code",
        "colab": {}
      },
      "source": [
        "import numpy as np\n",
        "def pad_features(reviews_ints, seq_length):\n",
        "    ''' Return features of review_ints, where each review is padded with 0's \n",
        "        or truncated to the input seq_length.\n",
        "    '''\n",
        "    \n",
        "    # getting the correct rows x cols shape\n",
        "    features = np.zeros((len(reviews_ints), seq_length), dtype=int)\n",
        "\n",
        "    # for each review, I grab that review and \n",
        "    for i, row in enumerate(reviews_ints):\n",
        "        features[i, -len(row):] = np.array(row)[:seq_length]\n",
        "    \n",
        "    return features"
      ],
      "execution_count": 0,
      "outputs": []
    },
    {
      "cell_type": "code",
      "metadata": {
        "id": "ATJKwDw7JeMu",
        "colab_type": "code",
        "colab": {}
      },
      "source": [
        "seq_length=3000\n",
        "outseq_length=3000\n",
        "featurex=pad_features(reviews_ints,seq_length)\n",
        "featurey=pad_features(tag_ints,outseq_length)"
      ],
      "execution_count": 0,
      "outputs": []
    },
    {
      "cell_type": "code",
      "metadata": {
        "id": "elA9-PKBJeMy",
        "colab_type": "code",
        "colab": {}
      },
      "source": [
        "featurex=pad_features(reviews_ints,seq_length)\n",
        "featurey=pad_features(tag_ints,outseq_length)"
      ],
      "execution_count": 0,
      "outputs": []
    },
    {
      "cell_type": "code",
      "metadata": {
        "id": "h6aIGt1RJeM3",
        "colab_type": "code",
        "colab": {}
      },
      "source": [
        "from sklearn.model_selection import train_test_split"
      ],
      "execution_count": 0,
      "outputs": []
    },
    {
      "cell_type": "code",
      "metadata": {
        "id": "KLBlYAK-JeM6",
        "colab_type": "code",
        "colab": {}
      },
      "source": [
        "X_train, X_test, y_train, y_test = train_test_split(featurex, featurey, test_size=0.2, random_state=42)"
      ],
      "execution_count": 0,
      "outputs": []
    },
    {
      "cell_type": "code",
      "metadata": {
        "id": "aDvw8m0PJeM8",
        "colab_type": "code",
        "colab": {}
      },
      "source": [
        ""
      ],
      "execution_count": 0,
      "outputs": []
    },
    {
      "cell_type": "code",
      "metadata": {
        "id": "pGMuL-mIJeM-",
        "colab_type": "code",
        "colab": {
          "base_uri": "https://localhost:8080/",
          "height": 80
        },
        "outputId": "84dbc6de-6396-43ff-f7f8-9a69074680c2"
      },
      "source": [
        "from sklearn.metrics import mean_squared_error\n",
        "from keras.models import Model\n",
        "from keras.layers import Dense, LSTM, TimeDistributed, Input,Embedding,Bidirectional\n",
        "from random import randint\n",
        "from numpy import array\n",
        "from numpy import argmax\n",
        "from numpy import array_equal\n",
        "from keras.models import Sequential\n",
        "from keras.layers import LSTM\n",
        "from keras.layers import Dense\n",
        "from keras.layers import TimeDistributed\n",
        "from keras.layers import RepeatVector\n",
        "from keras import losses"
      ],
      "execution_count": 21,
      "outputs": [
        {
          "output_type": "stream",
          "text": [
            "Using TensorFlow backend.\n"
          ],
          "name": "stderr"
        },
        {
          "output_type": "display_data",
          "data": {
            "text/html": [
              "<p style=\"color: red;\">\n",
              "The default version of TensorFlow in Colab will soon switch to TensorFlow 2.x.<br>\n",
              "We recommend you <a href=\"https://www.tensorflow.org/guide/migrate\" target=\"_blank\">upgrade</a> now \n",
              "or ensure your notebook will continue to use TensorFlow 1.x via the <code>%tensorflow_version 1.x</code> magic:\n",
              "<a href=\"https://colab.research.google.com/notebooks/tensorflow_version.ipynb\" target=\"_blank\">more info</a>.</p>\n"
            ],
            "text/plain": [
              "<IPython.core.display.HTML object>"
            ]
          },
          "metadata": {
            "tags": []
          }
        }
      ]
    },
    {
      "cell_type": "code",
      "metadata": {
        "id": "SycfjoJhJeNA",
        "colab_type": "code",
        "colab": {}
      },
      "source": [
        "xtrain=[]\n",
        "ytrain=[]\n",
        "for i,j in zip(X_train,y_train):\n",
        "  xtrain.append(i.reshape(1,3000))\n",
        "  ytrain.append(j.reshape(1,3000))"
      ],
      "execution_count": 0,
      "outputs": []
    },
    {
      "cell_type": "code",
      "metadata": {
        "id": "Fmh4xJ9IJeND",
        "colab_type": "code",
        "colab": {
          "base_uri": "https://localhost:8080/",
          "height": 34
        },
        "outputId": "75e29c72-7d9e-42cd-d90b-bf3d19c660b0"
      },
      "source": [
        "np.asarray(xtrain).shape"
      ],
      "execution_count": 23,
      "outputs": [
        {
          "output_type": "execute_result",
          "data": {
            "text/plain": [
              "(46759, 1, 3000)"
            ]
          },
          "metadata": {
            "tags": []
          },
          "execution_count": 23
        }
      ]
    },
    {
      "cell_type": "code",
      "metadata": {
        "id": "3Ahx3CJdJeNJ",
        "colab_type": "code",
        "colab": {
          "base_uri": "https://localhost:8080/",
          "height": 153
        },
        "outputId": "33fd7546-d377-41ce-86f1-2c824b4a4343"
      },
      "source": [
        "from keras.layers import Activation, Dense\n",
        "hidden_size=128\n",
        "model = Sequential()\n",
        "#model.add(Embedding(vocabulary, hidden_size, input_length = 3000))\n",
        "model.add(LSTM(3000,return_sequences=True,input_shape=(1,3000)))\n",
        "model.add(TimeDistributed(Dense(3000,activation=\"relu\")))\n",
        "#model.add(Bidirectional(LSTM(40,return_sequences=False)))\n",
        "#model.add(Bidirectional(LSTM(40)))\n",
        "\n",
        "#model.add(Dense(40, activation='sigmoid'))\n",
        "model.compile(loss=losses.mean_squared_error, optimizer='adam')"
      ],
      "execution_count": 24,
      "outputs": [
        {
          "output_type": "stream",
          "text": [
            "WARNING:tensorflow:From /usr/local/lib/python3.6/dist-packages/keras/backend/tensorflow_backend.py:66: The name tf.get_default_graph is deprecated. Please use tf.compat.v1.get_default_graph instead.\n",
            "\n",
            "WARNING:tensorflow:From /usr/local/lib/python3.6/dist-packages/keras/backend/tensorflow_backend.py:541: The name tf.placeholder is deprecated. Please use tf.compat.v1.placeholder instead.\n",
            "\n",
            "WARNING:tensorflow:From /usr/local/lib/python3.6/dist-packages/keras/backend/tensorflow_backend.py:4432: The name tf.random_uniform is deprecated. Please use tf.random.uniform instead.\n",
            "\n",
            "WARNING:tensorflow:From /usr/local/lib/python3.6/dist-packages/keras/optimizers.py:793: The name tf.train.Optimizer is deprecated. Please use tf.compat.v1.train.Optimizer instead.\n",
            "\n"
          ],
          "name": "stdout"
        }
      ]
    },
    {
      "cell_type": "code",
      "metadata": {
        "id": "2cuwk6wfLsNZ",
        "colab_type": "code",
        "colab": {}
      },
      "source": [
        ""
      ],
      "execution_count": 0,
      "outputs": []
    },
    {
      "cell_type": "code",
      "metadata": {
        "id": "EZtSmV41JeNL",
        "colab_type": "code",
        "colab": {
          "base_uri": "https://localhost:8080/",
          "height": 221
        },
        "outputId": "75dc41a2-5405-4b60-db43-781a84c30d57"
      },
      "source": [
        "model.summary()"
      ],
      "execution_count": 25,
      "outputs": [
        {
          "output_type": "stream",
          "text": [
            "Model: \"sequential_1\"\n",
            "_________________________________________________________________\n",
            "Layer (type)                 Output Shape              Param #   \n",
            "=================================================================\n",
            "lstm_1 (LSTM)                (None, 1, 3000)           72012000  \n",
            "_________________________________________________________________\n",
            "time_distributed_1 (TimeDist (None, 1, 3000)           9003000   \n",
            "=================================================================\n",
            "Total params: 81,015,000\n",
            "Trainable params: 81,015,000\n",
            "Non-trainable params: 0\n",
            "_________________________________________________________________\n"
          ],
          "name": "stdout"
        }
      ]
    },
    {
      "cell_type": "code",
      "metadata": {
        "id": "IAA-egUsJeNP",
        "colab_type": "code",
        "colab": {
          "base_uri": "https://localhost:8080/",
          "height": 391
        },
        "outputId": "69e70da3-8a82-485d-8b3d-b337c795d926"
      },
      "source": [
        "model.fit(np.asarray(xtrain),np.asarray(ytrain),epochs=1,batch_size=32,verbose=1)"
      ],
      "execution_count": 26,
      "outputs": [
        {
          "output_type": "stream",
          "text": [
            "WARNING:tensorflow:From /usr/local/lib/python3.6/dist-packages/tensorflow_core/python/ops/math_grad.py:1424: where (from tensorflow.python.ops.array_ops) is deprecated and will be removed in a future version.\n",
            "Instructions for updating:\n",
            "Use tf.where in 2.0, which has the same broadcast rule as np.where\n",
            "WARNING:tensorflow:From /usr/local/lib/python3.6/dist-packages/keras/backend/tensorflow_backend.py:1033: The name tf.assign_add is deprecated. Please use tf.compat.v1.assign_add instead.\n",
            "\n",
            "WARNING:tensorflow:From /usr/local/lib/python3.6/dist-packages/keras/backend/tensorflow_backend.py:1020: The name tf.assign is deprecated. Please use tf.compat.v1.assign instead.\n",
            "\n",
            "WARNING:tensorflow:From /usr/local/lib/python3.6/dist-packages/keras/backend/tensorflow_backend.py:3005: The name tf.Session is deprecated. Please use tf.compat.v1.Session instead.\n",
            "\n",
            "Epoch 1/1\n",
            "WARNING:tensorflow:From /usr/local/lib/python3.6/dist-packages/keras/backend/tensorflow_backend.py:190: The name tf.get_default_session is deprecated. Please use tf.compat.v1.get_default_session instead.\n",
            "\n",
            "WARNING:tensorflow:From /usr/local/lib/python3.6/dist-packages/keras/backend/tensorflow_backend.py:197: The name tf.ConfigProto is deprecated. Please use tf.compat.v1.ConfigProto instead.\n",
            "\n",
            "WARNING:tensorflow:From /usr/local/lib/python3.6/dist-packages/keras/backend/tensorflow_backend.py:207: The name tf.global_variables is deprecated. Please use tf.compat.v1.global_variables instead.\n",
            "\n",
            "WARNING:tensorflow:From /usr/local/lib/python3.6/dist-packages/keras/backend/tensorflow_backend.py:216: The name tf.is_variable_initialized is deprecated. Please use tf.compat.v1.is_variable_initialized instead.\n",
            "\n",
            "WARNING:tensorflow:From /usr/local/lib/python3.6/dist-packages/keras/backend/tensorflow_backend.py:223: The name tf.variables_initializer is deprecated. Please use tf.compat.v1.variables_initializer instead.\n",
            "\n",
            "46759/46759 [==============================] - 72s 2ms/step - loss: 1488484.1920\n"
          ],
          "name": "stdout"
        },
        {
          "output_type": "execute_result",
          "data": {
            "text/plain": [
              "<keras.callbacks.History at 0x7ff427cbb518>"
            ]
          },
          "metadata": {
            "tags": []
          },
          "execution_count": 26
        }
      ]
    },
    {
      "cell_type": "code",
      "metadata": {
        "id": "_odapjJ1Xj3g",
        "colab_type": "code",
        "colab": {
          "base_uri": "https://localhost:8080/",
          "height": 88
        },
        "outputId": "6f38e5bc-5c22-4fee-d89c-08dc5c0781c8"
      },
      "source": [
        "# Define an input sequence and process it.\n",
        "encoder_inputs = Input(shape=(None, 3000))\n",
        "encoder = Bidirectional(LSTM(3000, return_state=True))\n",
        "#encoder = Bidirectional(LSTM(3000, return_state=True))\n",
        "print( len(encoder(encoder_inputs)))\n",
        "print(encoder(encoder_inputs))\n",
        "encoder_outputs, state_h, state_c,_,_ = encoder(encoder_inputs)\n",
        "# We discard `encoder_outputs` and only keep the states.\n",
        "encoder_states = [state_h, state_c]\n",
        "print(encoder_states)\n",
        "# Set up the decoder, using `encoder_states` as initial state.\n",
        "decoder_inputs = Input(shape=(None, 3000))\n",
        "# We set up our decoder to return full output sequences,\n",
        "# and to return internal states as well. We don't use the\n",
        "# return states in the training model, but we will use them in inference.\n",
        "decoder_lstm =LSTM(3000, return_sequences=True, return_state=True)\n",
        "decoder_outputs, _, _ = decoder_lstm(decoder_inputs,\n",
        "                                     initial_state=encoder_states)\n",
        "decoder_dense = Dense(3000, activation='relu')\n",
        "decoder_outputs = decoder_dense(decoder_outputs)\n",
        "# Define the model that will turn\n",
        "# `encoder_input_data` & `decoder_input_data` into `decoder_target_data`\n",
        "model = Model([encoder_inputs, decoder_inputs], decoder_outputs)"
      ],
      "execution_count": 44,
      "outputs": [
        {
          "output_type": "stream",
          "text": [
            "5\n",
            "[<tf.Tensor 'bidirectional_10_1/concat:0' shape=(?, 6000) dtype=float32>, <tf.Tensor 'bidirectional_10_1/while/Exit_2:0' shape=(?, 3000) dtype=float32>, <tf.Tensor 'bidirectional_10_1/while/Exit_3:0' shape=(?, 3000) dtype=float32>, <tf.Tensor 'bidirectional_10_1/while_1/Exit_2:0' shape=(?, 3000) dtype=float32>, <tf.Tensor 'bidirectional_10_1/while_1/Exit_3:0' shape=(?, 3000) dtype=float32>]\n",
            "[<tf.Tensor 'bidirectional_10_2/while/Exit_2:0' shape=(?, 3000) dtype=float32>, <tf.Tensor 'bidirectional_10_2/while/Exit_3:0' shape=(?, 3000) dtype=float32>]\n"
          ],
          "name": "stdout"
        }
      ]
    },
    {
      "cell_type": "code",
      "metadata": {
        "id": "jdrHW4ziYUYh",
        "colab_type": "code",
        "colab": {
          "base_uri": "https://localhost:8080/",
          "height": 357
        },
        "outputId": "eb861864-78ee-4ddd-d0d3-bd645bcd97ed"
      },
      "source": [
        "model.summary()"
      ],
      "execution_count": 45,
      "outputs": [
        {
          "output_type": "stream",
          "text": [
            "Model: \"model_6\"\n",
            "__________________________________________________________________________________________________\n",
            "Layer (type)                    Output Shape         Param #     Connected to                     \n",
            "==================================================================================================\n",
            "input_17 (InputLayer)           (None, None, 3000)   0                                            \n",
            "__________________________________________________________________________________________________\n",
            "input_18 (InputLayer)           (None, None, 3000)   0                                            \n",
            "__________________________________________________________________________________________________\n",
            "bidirectional_10 (Bidirectional [(None, 6000), (None 144024000   input_17[0][0]                   \n",
            "__________________________________________________________________________________________________\n",
            "lstm_19 (LSTM)                  [(None, None, 3000), 72012000    input_18[0][0]                   \n",
            "                                                                 bidirectional_10[2][1]           \n",
            "                                                                 bidirectional_10[2][2]           \n",
            "__________________________________________________________________________________________________\n",
            "dense_7 (Dense)                 (None, None, 3000)   9003000     lstm_19[0][0]                    \n",
            "==================================================================================================\n",
            "Total params: 225,039,000\n",
            "Trainable params: 225,039,000\n",
            "Non-trainable params: 0\n",
            "__________________________________________________________________________________________________\n"
          ],
          "name": "stdout"
        }
      ]
    },
    {
      "cell_type": "code",
      "metadata": {
        "id": "KKKCwZsyYX3e",
        "colab_type": "code",
        "colab": {}
      },
      "source": [
        "model.compile(optimizer=\"adam\", loss=losses.mean_squared_error)"
      ],
      "execution_count": 0,
      "outputs": []
    },
    {
      "cell_type": "code",
      "metadata": {
        "id": "k5Wn29R3YqXb",
        "colab_type": "code",
        "colab": {
          "base_uri": "https://localhost:8080/",
          "height": 357
        },
        "outputId": "469ab130-6409-4136-ccc1-e16de1009752"
      },
      "source": [
        "model.fit([np.asarray(xtrain), np.asarray(ytrain)], np.asarray(ytrain),\n",
        "          batch_size=32,\n",
        "          epochs=5\n",
        "          )"
      ],
      "execution_count": 47,
      "outputs": [
        {
          "output_type": "error",
          "ename": "ValueError",
          "evalue": "ignored",
          "traceback": [
            "\u001b[0;31m---------------------------------------------------------------------------\u001b[0m",
            "\u001b[0;31mValueError\u001b[0m                                Traceback (most recent call last)",
            "\u001b[0;32m<ipython-input-47-cd3ded9bd8c1>\u001b[0m in \u001b[0;36m<module>\u001b[0;34m()\u001b[0m\n\u001b[1;32m      1\u001b[0m model.fit([np.asarray(xtrain), np.asarray(ytrain)], np.asarray(ytrain),\n\u001b[1;32m      2\u001b[0m           \u001b[0mbatch_size\u001b[0m\u001b[0;34m=\u001b[0m\u001b[0;36m32\u001b[0m\u001b[0;34m,\u001b[0m\u001b[0;34m\u001b[0m\u001b[0;34m\u001b[0m\u001b[0m\n\u001b[0;32m----> 3\u001b[0;31m           \u001b[0mepochs\u001b[0m\u001b[0;34m=\u001b[0m\u001b[0;36m5\u001b[0m\u001b[0;34m\u001b[0m\u001b[0;34m\u001b[0m\u001b[0m\n\u001b[0m\u001b[1;32m      4\u001b[0m           )\n",
            "\u001b[0;32m/usr/local/lib/python3.6/dist-packages/keras/engine/training.py\u001b[0m in \u001b[0;36mfit\u001b[0;34m(self, x, y, batch_size, epochs, verbose, callbacks, validation_split, validation_data, shuffle, class_weight, sample_weight, initial_epoch, steps_per_epoch, validation_steps, validation_freq, max_queue_size, workers, use_multiprocessing, **kwargs)\u001b[0m\n\u001b[1;32m   1146\u001b[0m         \u001b[0;32melse\u001b[0m\u001b[0;34m:\u001b[0m\u001b[0;34m\u001b[0m\u001b[0;34m\u001b[0m\u001b[0m\n\u001b[1;32m   1147\u001b[0m             \u001b[0mfit_inputs\u001b[0m \u001b[0;34m=\u001b[0m \u001b[0mx\u001b[0m \u001b[0;34m+\u001b[0m \u001b[0my\u001b[0m \u001b[0;34m+\u001b[0m \u001b[0msample_weights\u001b[0m\u001b[0;34m\u001b[0m\u001b[0;34m\u001b[0m\u001b[0m\n\u001b[0;32m-> 1148\u001b[0;31m         \u001b[0mself\u001b[0m\u001b[0;34m.\u001b[0m\u001b[0m_make_train_function\u001b[0m\u001b[0;34m(\u001b[0m\u001b[0;34m)\u001b[0m\u001b[0;34m\u001b[0m\u001b[0;34m\u001b[0m\u001b[0m\n\u001b[0m\u001b[1;32m   1149\u001b[0m         \u001b[0mfit_function\u001b[0m \u001b[0;34m=\u001b[0m \u001b[0mself\u001b[0m\u001b[0;34m.\u001b[0m\u001b[0mtrain_function\u001b[0m\u001b[0;34m\u001b[0m\u001b[0;34m\u001b[0m\u001b[0m\n\u001b[1;32m   1150\u001b[0m \u001b[0;34m\u001b[0m\u001b[0m\n",
            "\u001b[0;32m/usr/local/lib/python3.6/dist-packages/keras/engine/training.py\u001b[0m in \u001b[0;36m_make_train_function\u001b[0;34m(self)\u001b[0m\n\u001b[1;32m    510\u001b[0m                     training_updates = self.optimizer.get_updates(\n\u001b[1;32m    511\u001b[0m                         \u001b[0mparams\u001b[0m\u001b[0;34m=\u001b[0m\u001b[0mself\u001b[0m\u001b[0;34m.\u001b[0m\u001b[0m_collected_trainable_weights\u001b[0m\u001b[0;34m,\u001b[0m\u001b[0;34m\u001b[0m\u001b[0;34m\u001b[0m\u001b[0m\n\u001b[0;32m--> 512\u001b[0;31m                         loss=self.total_loss)\n\u001b[0m\u001b[1;32m    513\u001b[0m                 updates = (self.updates +\n\u001b[1;32m    514\u001b[0m                            \u001b[0mtraining_updates\u001b[0m \u001b[0;34m+\u001b[0m\u001b[0;34m\u001b[0m\u001b[0;34m\u001b[0m\u001b[0m\n",
            "\u001b[0;32m/usr/local/lib/python3.6/dist-packages/keras/legacy/interfaces.py\u001b[0m in \u001b[0;36mwrapper\u001b[0;34m(*args, **kwargs)\u001b[0m\n\u001b[1;32m     89\u001b[0m                 warnings.warn('Update your `' + object_name + '` call to the ' +\n\u001b[1;32m     90\u001b[0m                               'Keras 2 API: ' + signature, stacklevel=2)\n\u001b[0;32m---> 91\u001b[0;31m             \u001b[0;32mreturn\u001b[0m \u001b[0mfunc\u001b[0m\u001b[0;34m(\u001b[0m\u001b[0;34m*\u001b[0m\u001b[0margs\u001b[0m\u001b[0;34m,\u001b[0m \u001b[0;34m**\u001b[0m\u001b[0mkwargs\u001b[0m\u001b[0;34m)\u001b[0m\u001b[0;34m\u001b[0m\u001b[0;34m\u001b[0m\u001b[0m\n\u001b[0m\u001b[1;32m     92\u001b[0m         \u001b[0mwrapper\u001b[0m\u001b[0;34m.\u001b[0m\u001b[0m_original_function\u001b[0m \u001b[0;34m=\u001b[0m \u001b[0mfunc\u001b[0m\u001b[0;34m\u001b[0m\u001b[0;34m\u001b[0m\u001b[0m\n\u001b[1;32m     93\u001b[0m         \u001b[0;32mreturn\u001b[0m \u001b[0mwrapper\u001b[0m\u001b[0;34m\u001b[0m\u001b[0;34m\u001b[0m\u001b[0m\n",
            "\u001b[0;32m/usr/local/lib/python3.6/dist-packages/keras/optimizers.py\u001b[0m in \u001b[0;36mget_updates\u001b[0;34m(self, loss, params)\u001b[0m\n\u001b[1;32m    470\u001b[0m     \u001b[0;34m@\u001b[0m\u001b[0minterfaces\u001b[0m\u001b[0;34m.\u001b[0m\u001b[0mlegacy_get_updates_support\u001b[0m\u001b[0;34m\u001b[0m\u001b[0;34m\u001b[0m\u001b[0m\n\u001b[1;32m    471\u001b[0m     \u001b[0;32mdef\u001b[0m \u001b[0mget_updates\u001b[0m\u001b[0;34m(\u001b[0m\u001b[0mself\u001b[0m\u001b[0;34m,\u001b[0m \u001b[0mloss\u001b[0m\u001b[0;34m,\u001b[0m \u001b[0mparams\u001b[0m\u001b[0;34m)\u001b[0m\u001b[0;34m:\u001b[0m\u001b[0;34m\u001b[0m\u001b[0;34m\u001b[0m\u001b[0m\n\u001b[0;32m--> 472\u001b[0;31m         \u001b[0mgrads\u001b[0m \u001b[0;34m=\u001b[0m \u001b[0mself\u001b[0m\u001b[0;34m.\u001b[0m\u001b[0mget_gradients\u001b[0m\u001b[0;34m(\u001b[0m\u001b[0mloss\u001b[0m\u001b[0;34m,\u001b[0m \u001b[0mparams\u001b[0m\u001b[0;34m)\u001b[0m\u001b[0;34m\u001b[0m\u001b[0;34m\u001b[0m\u001b[0m\n\u001b[0m\u001b[1;32m    473\u001b[0m         \u001b[0mself\u001b[0m\u001b[0;34m.\u001b[0m\u001b[0mupdates\u001b[0m \u001b[0;34m=\u001b[0m \u001b[0;34m[\u001b[0m\u001b[0mK\u001b[0m\u001b[0;34m.\u001b[0m\u001b[0mupdate_add\u001b[0m\u001b[0;34m(\u001b[0m\u001b[0mself\u001b[0m\u001b[0;34m.\u001b[0m\u001b[0miterations\u001b[0m\u001b[0;34m,\u001b[0m \u001b[0;36m1\u001b[0m\u001b[0;34m)\u001b[0m\u001b[0;34m]\u001b[0m\u001b[0;34m\u001b[0m\u001b[0;34m\u001b[0m\u001b[0m\n\u001b[1;32m    474\u001b[0m \u001b[0;34m\u001b[0m\u001b[0m\n",
            "\u001b[0;32m/usr/local/lib/python3.6/dist-packages/keras/optimizers.py\u001b[0m in \u001b[0;36mget_gradients\u001b[0;34m(self, loss, params)\u001b[0m\n\u001b[1;32m     89\u001b[0m         \u001b[0mgrads\u001b[0m \u001b[0;34m=\u001b[0m \u001b[0mK\u001b[0m\u001b[0;34m.\u001b[0m\u001b[0mgradients\u001b[0m\u001b[0;34m(\u001b[0m\u001b[0mloss\u001b[0m\u001b[0;34m,\u001b[0m \u001b[0mparams\u001b[0m\u001b[0;34m)\u001b[0m\u001b[0;34m\u001b[0m\u001b[0;34m\u001b[0m\u001b[0m\n\u001b[1;32m     90\u001b[0m         \u001b[0;32mif\u001b[0m \u001b[0;32mNone\u001b[0m \u001b[0;32min\u001b[0m \u001b[0mgrads\u001b[0m\u001b[0;34m:\u001b[0m\u001b[0;34m\u001b[0m\u001b[0;34m\u001b[0m\u001b[0m\n\u001b[0;32m---> 91\u001b[0;31m             raise ValueError('An operation has `None` for gradient. '\n\u001b[0m\u001b[1;32m     92\u001b[0m                              \u001b[0;34m'Please make sure that all of your ops have a '\u001b[0m\u001b[0;34m\u001b[0m\u001b[0;34m\u001b[0m\u001b[0m\n\u001b[1;32m     93\u001b[0m                              \u001b[0;34m'gradient defined (i.e. are differentiable). '\u001b[0m\u001b[0;34m\u001b[0m\u001b[0;34m\u001b[0m\u001b[0m\n",
            "\u001b[0;31mValueError\u001b[0m: An operation has `None` for gradient. Please make sure that all of your ops have a gradient defined (i.e. are differentiable). Common ops without gradient: K.argmax, K.round, K.eval."
          ]
        }
      ]
    },
    {
      "cell_type": "code",
      "metadata": {
        "id": "QDj6pGBYJeNR",
        "colab_type": "code",
        "colab": {},
        "outputId": "7d091afa-df18-4063-f28e-1a05b69bdda5"
      },
      "source": [
        "from sklearn.metrics import mean_squared_error\n",
        "from keras.models import Model\n",
        "from keras.layers import Dense, LSTM, TimeDistributed, Input,Embedding"
      ],
      "execution_count": 0,
      "outputs": [
        {
          "output_type": "stream",
          "text": [
            "Using TensorFlow backend.\n"
          ],
          "name": "stderr"
        }
      ]
    },
    {
      "cell_type": "code",
      "metadata": {
        "id": "ytM2VX_WJeNT",
        "colab_type": "code",
        "colab": {}
      },
      "source": [
        "def rmsle(y_true, y_pred):\n",
        "    return mean_squared_error(y_true, y_pred)**0.5"
      ],
      "execution_count": 0,
      "outputs": []
    },
    {
      "cell_type": "code",
      "metadata": {
        "id": "3IglpvMSJeNW",
        "colab_type": "code",
        "colab": {}
      },
      "source": [
        "import keras"
      ],
      "execution_count": 0,
      "outputs": []
    },
    {
      "cell_type": "code",
      "metadata": {
        "id": "MX6SLrqkJeNZ",
        "colab_type": "code",
        "colab": {}
      },
      "source": [
        "from keras import backend as K\n",
        "def rmsle(y, y0):\n",
        "    #assert len(y) == len(y0)\n",
        "    return np.sqrt(np.mean(np.power(np.log1p(y)-np.log1p(y0), 2)))\n",
        "\n",
        "#looping error calc\n",
        "def rmsle_loop(y, y_pred):\n",
        "\tassert len(y) == len(y_pred)\n",
        "\tterms_to_sum = [(math.log(y_pred[i] + 1) - math.log(y[i] + 1)) ** 2.0 for i,pred in enumerate(y_pred)]\n",
        "\treturn (sum(terms_to_sum) * (1.0/len(y))) ** 0.5"
      ],
      "execution_count": 0,
      "outputs": []
    },
    {
      "cell_type": "code",
      "metadata": {
        "id": "HVzJCrvHJeNb",
        "colab_type": "code",
        "colab": {},
        "outputId": "959cc529-c0c1-444b-e2b5-1e2240e8a352"
      },
      "source": [
        "X_train.shape"
      ],
      "execution_count": 0,
      "outputs": [
        {
          "output_type": "execute_result",
          "data": {
            "text/plain": [
              "(46759, 3000)"
            ]
          },
          "metadata": {
            "tags": []
          },
          "execution_count": 536
        }
      ]
    },
    {
      "cell_type": "code",
      "metadata": {
        "id": "KcFOoyrLJeNd",
        "colab_type": "code",
        "colab": {}
      },
      "source": [
        "tags=data[\"tags\"]"
      ],
      "execution_count": 0,
      "outputs": []
    },
    {
      "cell_type": "code",
      "metadata": {
        "id": "tNlZuV6LJeNe",
        "colab_type": "code",
        "colab": {}
      },
      "source": [
        "tagdict={}\n",
        "lenoftags=[]\n",
        "alltags=[]\n",
        "for tag in tags:\n",
        "    try:\n",
        "        taglists=tag.lower().split(\",\")\n",
        "        lenoftags.append(len(set(taglists)))\n",
        "        alltags.append(taglists)\n",
        "        for taglist in taglists:\n",
        "            tagdict.setdefault(taglist.strip(),0)\n",
        "            tagdict[taglist.strip()]=tagdict[taglist.strip()]+1\n",
        "    except:\n",
        "        pass\n",
        "    "
      ],
      "execution_count": 0,
      "outputs": []
    },
    {
      "cell_type": "code",
      "metadata": {
        "id": "sMV3krL7JeNg",
        "colab_type": "code",
        "colab": {},
        "outputId": "f75aa5c1-47d3-45be-a52f-ac2557419e05"
      },
      "source": [
        "len(tagdict.keys())"
      ],
      "execution_count": 0,
      "outputs": [
        {
          "output_type": "execute_result",
          "data": {
            "text/plain": [
              "765"
            ]
          },
          "metadata": {
            "tags": []
          },
          "execution_count": 56
        }
      ]
    },
    {
      "cell_type": "code",
      "metadata": {
        "id": "Likss_eEJeNi",
        "colab_type": "code",
        "colab": {},
        "outputId": "be5962f8-bc37-47a8-cca8-ca4e1449dd18"
      },
      "source": [
        "alltags[lenoftags.index(max(lenoftags))]"
      ],
      "execution_count": 0,
      "outputs": [
        {
          "output_type": "execute_result",
          "data": {
            "text/plain": [
              "['easy dessert recipes',\n",
              " 'dessert',\n",
              " 'easy',\n",
              " 'easy side dish recipes',\n",
              " 'side dish',\n",
              " 'easy breakfast recipes',\n",
              " 'breakfast',\n",
              " 'easy brunch recipes',\n",
              " 'brunch',\n",
              " 'easy lunch recipes',\n",
              " 'lunch',\n",
              " 'healthy breakfast',\n",
              " 'healthy',\n",
              " 'healthy brunch recipes',\n",
              " 'healthy dinner',\n",
              " 'healthy lunch',\n",
              " 'fruit dessert recipes',\n",
              " 'fruit',\n",
              " 'american',\n",
              " 'fruit salad',\n",
              " 'honeydew recipes',\n",
              " 'banana',\n",
              " 'blueberry',\n",
              " 'lemon',\n",
              " 'watermelon recipes',\n",
              " 'melon recipes',\n",
              " 'kiwi recipes',\n",
              " 'heart-healthy',\n",
              " 'low-cholesterol',\n",
              " 'gluten free',\n",
              " 'high fiber',\n",
              " 'low sodium',\n",
              " 'low calorie',\n",
              " 'low-fat',\n",
              " 'summer',\n",
              " 'vegan']"
            ]
          },
          "metadata": {
            "tags": []
          },
          "execution_count": 60
        }
      ]
    },
    {
      "cell_type": "code",
      "metadata": {
        "id": "gs9bBkI4JeNm",
        "colab_type": "code",
        "colab": {}
      },
      "source": [
        "taglistX=list(tagdict.keys())\n",
        "taglistY=list(tagdict.values())"
      ],
      "execution_count": 0,
      "outputs": []
    },
    {
      "cell_type": "code",
      "metadata": {
        "id": "FvkJL1dWJeNr",
        "colab_type": "code",
        "colab": {},
        "outputId": "b7992a0b-a70a-40c9-9b2d-5a09cd73aac1"
      },
      "source": [
        "plt.plot(taglistX,taglistY)"
      ],
      "execution_count": 0,
      "outputs": [
        {
          "output_type": "execute_result",
          "data": {
            "text/plain": [
              "[<matplotlib.lines.Line2D at 0x24fc24779b0>]"
            ]
          },
          "metadata": {
            "tags": []
          },
          "execution_count": 26
        },
        {
          "output_type": "display_data",
          "data": {
            "image/png": "[encoded data removed]",
            "text/plain": [
              "<Figure size 432x288 with 1 Axes>"
            ]
          },
          "metadata": {
            "tags": [],
            "needs_background": "light"
          }
        }
      ]
    },
    {
      "cell_type": "code",
      "metadata": {
        "id": "SsWM_OiRJeNt",
        "colab_type": "code",
        "colab": {}
      },
      "source": [
        "import seaborn as sns"
      ],
      "execution_count": 0,
      "outputs": []
    },
    {
      "cell_type": "code",
      "metadata": {
        "id": "gT1X600ZJeNv",
        "colab_type": "code",
        "colab": {},
        "outputId": "11a6bbdd-ac39-47f4-d177-3fadb640f602"
      },
      "source": [
        "data.describe()"
      ],
      "execution_count": 0,
      "outputs": [
        {
          "output_type": "execute_result",
          "data": {
            "text/html": [
              "<div>\n",
              "<style scoped>\n",
              "    .dataframe tbody tr th:only-of-type {\n",
              "        vertical-align: middle;\n",
              "    }\n",
              "\n",
              "    .dataframe tbody tr th {\n",
              "        vertical-align: top;\n",
              "    }\n",
              "\n",
              "    .dataframe thead th {\n",
              "        text-align: right;\n",
              "    }\n",
              "</style>\n",
              "<table border=\"1\" class=\"dataframe\">\n",
              "  <thead>\n",
              "    <tr style=\"text-align: right;\">\n",
              "      <th></th>\n",
              "      <th>category</th>\n",
              "      <th>cooking_method</th>\n",
              "      <th>cuisine</th>\n",
              "      <th>image</th>\n",
              "      <th>ingredients</th>\n",
              "      <th>prep_time</th>\n",
              "      <th>recipe_name</th>\n",
              "      <th>serves</th>\n",
              "      <th>tags</th>\n",
              "    </tr>\n",
              "  </thead>\n",
              "  <tbody>\n",
              "    <tr>\n",
              "      <th>count</th>\n",
              "      <td>18107</td>\n",
              "      <td>82245</td>\n",
              "      <td>82230</td>\n",
              "      <td>82245</td>\n",
              "      <td>82245</td>\n",
              "      <td>58630</td>\n",
              "      <td>82245</td>\n",
              "      <td>82244</td>\n",
              "      <td>82011</td>\n",
              "    </tr>\n",
              "    <tr>\n",
              "      <th>unique</th>\n",
              "      <td>1</td>\n",
              "      <td>62268</td>\n",
              "      <td>23</td>\n",
              "      <td>37725</td>\n",
              "      <td>61198</td>\n",
              "      <td>389</td>\n",
              "      <td>55838</td>\n",
              "      <td>7494</td>\n",
              "      <td>57039</td>\n",
              "    </tr>\n",
              "    <tr>\n",
              "      <th>top</th>\n",
              "      <td>[]</td>\n",
              "      <td>[]</td>\n",
              "      <td>[]</td>\n",
              "      <td>https://food.fnr.sndimg.com/content/dam/images...</td>\n",
              "      <td>[]</td>\n",
              "      <td>P0Y0M0DT0H10M0.000S</td>\n",
              "      <td>Guacamole</td>\n",
              "      <td>4 servings</td>\n",
              "      <td>Gluten Free</td>\n",
              "    </tr>\n",
              "    <tr>\n",
              "      <th>freq</th>\n",
              "      <td>18107</td>\n",
              "      <td>57</td>\n",
              "      <td>80847</td>\n",
              "      <td>29593</td>\n",
              "      <td>1253</td>\n",
              "      <td>11060</td>\n",
              "      <td>38</td>\n",
              "      <td>20484</td>\n",
              "      <td>530</td>\n",
              "    </tr>\n",
              "  </tbody>\n",
              "</table>\n",
              "</div>"
            ],
            "text/plain": [
              "       category cooking_method cuisine  \\\n",
              "count     18107          82245   82230   \n",
              "unique        1          62268      23   \n",
              "top          []             []      []   \n",
              "freq      18107             57   80847   \n",
              "\n",
              "                                                    image ingredients  \\\n",
              "count                                               82245       82245   \n",
              "unique                                              37725       61198   \n",
              "top     https://food.fnr.sndimg.com/content/dam/images...          []   \n",
              "freq                                                29593        1253   \n",
              "\n",
              "                  prep_time recipe_name      serves         tags  \n",
              "count                 58630       82245       82244        82011  \n",
              "unique                  389       55838        7494        57039  \n",
              "top     P0Y0M0DT0H10M0.000S   Guacamole  4 servings  Gluten Free  \n",
              "freq                  11060          38       20484          530  "
            ]
          },
          "metadata": {
            "tags": []
          },
          "execution_count": 32
        }
      ]
    },
    {
      "cell_type": "code",
      "metadata": {
        "id": "GRdSHDzpJeNx",
        "colab_type": "code",
        "colab": {}
      },
      "source": [
        "huacamole=data[data[\"recipe_name\"]==\"Guacamole\"]"
      ],
      "execution_count": 0,
      "outputs": []
    },
    {
      "cell_type": "code",
      "metadata": {
        "id": "hWfNmzKdJeN2",
        "colab_type": "code",
        "colab": {},
        "outputId": "754449e2-8ca9-43d5-b560-1ac341617b5f"
      },
      "source": [
        "huacamole[\"image\"]"
      ],
      "execution_count": 0,
      "outputs": [
        {
          "output_type": "execute_result",
          "data": {
            "text/plain": [
              "39842    https://food.fnr.sndimg.com/content/dam/images...\n",
              "39843    https://food.fnr.sndimg.com/content/dam/images...\n",
              "39844    https://food.fnr.sndimg.com/content/dam/images...\n",
              "39845    https://food.fnr.sndimg.com/content/dam/images...\n",
              "39846    https://food.fnr.sndimg.com/content/dam/images...\n",
              "39847    https://food.fnr.sndimg.com/content/dam/images...\n",
              "39848    https://food.fnr.sndimg.com/content/dam/images...\n",
              "39849    https://food.fnr.sndimg.com/content/dam/images...\n",
              "39850    https://food.fnr.sndimg.com/content/dam/images...\n",
              "39851    https://food.fnr.sndimg.com/content/dam/images...\n",
              "39852    https://food.fnr.sndimg.com/content/dam/images...\n",
              "39853    https://food.fnr.sndimg.com/content/dam/images...\n",
              "39854    https://food.fnr.sndimg.com/content/dam/images...\n",
              "39855    https://cook.fnr.sndimg.com/content/dam/images...\n",
              "39857    https://food.fnr.sndimg.com/content/dam/images...\n",
              "39859    https://food.fnr.sndimg.com/content/dam/images...\n",
              "39860    https://food.fnr.sndimg.com/content/dam/images...\n",
              "39861    https://food.fnr.sndimg.com/content/dam/images...\n",
              "39862    https://food.fnr.sndimg.com/content/dam/images...\n",
              "39863    https://food.fnr.sndimg.com/content/dam/images...\n",
              "39864    https://food.fnr.sndimg.com/content/dam/images...\n",
              "39865    https://food.fnr.sndimg.com/content/dam/images...\n",
              "39866    https://food.fnr.sndimg.com/content/dam/images...\n",
              "39867    https://food.fnr.sndimg.com/content/dam/images...\n",
              "39868    https://food.fnr.sndimg.com/content/dam/images...\n",
              "39869    https://food.fnr.sndimg.com/content/dam/images...\n",
              "39870    https://food.fnr.sndimg.com/content/dam/images...\n",
              "39871    https://food.fnr.sndimg.com/content/dam/images...\n",
              "39872    https://food.fnr.sndimg.com/content/dam/images...\n",
              "39874    https://food.fnr.sndimg.com/content/dam/images...\n",
              "39875    https://food.fnr.sndimg.com/content/dam/images...\n",
              "39879    https://food.fnr.sndimg.com/content/dam/images...\n",
              "39883    https://food.fnr.sndimg.com/content/dam/images...\n",
              "39884    https://food.fnr.sndimg.com/content/dam/images...\n",
              "39885    https://food.fnr.sndimg.com/content/dam/images...\n",
              "39886    https://food.fnr.sndimg.com/content/dam/images...\n",
              "39889    https://food.fnr.sndimg.com/content/dam/images...\n",
              "39890    https://food.fnr.sndimg.com/content/dam/images...\n",
              "Name: image, dtype: object"
            ]
          },
          "metadata": {
            "tags": []
          },
          "execution_count": 38
        }
      ]
    },
    {
      "cell_type": "code",
      "metadata": {
        "id": "0M1XLtqzJeN7",
        "colab_type": "code",
        "colab": {}
      },
      "source": [
        "import re"
      ],
      "execution_count": 0,
      "outputs": []
    },
    {
      "cell_type": "code",
      "metadata": {
        "id": "MIiqYIw5JeN9",
        "colab_type": "code",
        "colab": {},
        "outputId": "91b25850-9d4c-457a-9e4e-bc3fe283984e"
      },
      "source": [
        "re.findall(r\"H[0-9]*M[0-9]\",\"P0Y0M0DT0H10M0.000S\")"
      ],
      "execution_count": 0,
      "outputs": [
        {
          "output_type": "execute_result",
          "data": {
            "text/plain": [
              "['H10M0']"
            ]
          },
          "metadata": {
            "tags": []
          },
          "execution_count": 45
        }
      ]
    },
    {
      "cell_type": "code",
      "metadata": {
        "id": "vzLWH8d9JeN-",
        "colab_type": "code",
        "colab": {}
      },
      "source": [
        ""
      ],
      "execution_count": 0,
      "outputs": []
    }
  ]
}