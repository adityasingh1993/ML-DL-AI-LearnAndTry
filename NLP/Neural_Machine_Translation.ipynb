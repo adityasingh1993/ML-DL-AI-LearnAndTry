{
  "nbformat": 4,
  "nbformat_minor": 0,
  "metadata": {
    "colab": {
      "name": "Neural Machine Translation.ipynb",
      "version": "0.3.2",
      "provenance": [],
      "include_colab_link": true
    },
    "kernelspec": {
      "name": "python3",
      "display_name": "Python 3"
    }
  },
  "cells": [
    {
      "cell_type": "markdown",
      "metadata": {
        "id": "view-in-github",
        "colab_type": "text"
      },
      "source": [
        "<a href=\"https://colab.research.google.com/github/adityasingh1993/100DayMLChallenge/blob/master/Neural_Machine_Translation.ipynb\" target=\"_parent\"><img src=\"https://colab.research.google.com/assets/colab-badge.svg\" alt=\"Open In Colab\"/></a>"
      ]
    },
    {
      "metadata": {
        "id": "9PhMI0q9_n9b",
        "colab_type": "code",
        "colab": {
          "base_uri": "https://localhost:8080/",
          "height": 204
        },
        "outputId": "58a1da8e-5f7d-47dc-9591-62061a3dd181"
      },
      "cell_type": "code",
      "source": [
        "!wget http://www.manythings.org/anki/deu-eng.zip"
      ],
      "execution_count": 6,
      "outputs": [
        {
          "output_type": "stream",
          "text": [
            "--2018-11-22 16:46:05--  http://www.manythings.org/anki/deu-eng.zip\n",
            "Resolving www.manythings.org (www.manythings.org)... 104.24.109.196, 104.24.108.196, 2606:4700:30::6818:6cc4, ...\n",
            "Connecting to www.manythings.org (www.manythings.org)|104.24.109.196|:80... connected.\n",
            "HTTP request sent, awaiting response... 200 OK\n",
            "Length: 4162728 (4.0M) [application/zip]\n",
            "Saving to: ‘deu-eng.zip’\n",
            "\n",
            "\rdeu-eng.zip           0%[                    ]       0  --.-KB/s               \rdeu-eng.zip         100%[===================>]   3.97M  --.-KB/s    in 0.1s    \n",
            "\n",
            "2018-11-22 16:46:05 (32.5 MB/s) - ‘deu-eng.zip’ saved [4162728/4162728]\n",
            "\n"
          ],
          "name": "stdout"
        }
      ]
    },
    {
      "metadata": {
        "id": "GM3UB5IyCNqH",
        "colab_type": "code",
        "outputId": "b6a44b4d-7873-4716-b1ff-162264db5d47",
        "colab": {
          "base_uri": "https://localhost:8080/",
          "height": 34
        }
      },
      "cell_type": "code",
      "source": [
        "!ls"
      ],
      "execution_count": 7,
      "outputs": [
        {
          "output_type": "stream",
          "text": [
            "deu-eng.zip  sample_data\n"
          ],
          "name": "stdout"
        }
      ]
    },
    {
      "metadata": {
        "id": "pML7FDuUCcKl",
        "colab_type": "code",
        "outputId": "f3a3c4b8-595f-4704-9a10-fc8fd6734642",
        "colab": {
          "base_uri": "https://localhost:8080/",
          "height": 68
        }
      },
      "cell_type": "code",
      "source": [
        "!unzip deu-eng.zip"
      ],
      "execution_count": 8,
      "outputs": [
        {
          "output_type": "stream",
          "text": [
            "Archive:  deu-eng.zip\n",
            "  inflating: deu.txt                 \n",
            "  inflating: _about.txt              \n"
          ],
          "name": "stdout"
        }
      ]
    },
    {
      "metadata": {
        "id": "JPUV-XaXEF-w",
        "colab_type": "code",
        "colab": {}
      },
      "cell_type": "code",
      "source": [
        "import re\n",
        "import string\n",
        "from pickle import dump\n",
        "from unicodedata import normalize\n",
        "import numpy as np\n",
        "import array\n"
      ],
      "execution_count": 0,
      "outputs": []
    },
    {
      "metadata": {
        "id": "rYaCuizbhA57",
        "colab_type": "code",
        "colab": {}
      },
      "cell_type": "code",
      "source": [
        "from pickle import load\n",
        "from numpy import array\n",
        "from keras.preprocessing.text import Tokenizer\n",
        "from keras.preprocessing.sequence import pad_sequences\n",
        "from keras.utils import to_categorical\n",
        "from keras.utils.vis_utils import plot_model\n",
        "from keras.models import Sequential\n",
        "from keras.layers import LSTM\n",
        "from keras.layers import Dense\n",
        "from keras.layers import Embedding\n",
        "from keras.layers import RepeatVector\n",
        "from keras.layers import TimeDistributed\n",
        "from keras.callbacks import ModelCheckpoint"
      ],
      "execution_count": 0,
      "outputs": []
    },
    {
      "metadata": {
        "id": "GuJXJZr4aSbU",
        "colab_type": "code",
        "colab": {}
      },
      "cell_type": "code",
      "source": [
        "\n",
        "from pickle import load\n",
        "from pickle import dump\n",
        "from numpy.random import rand\n",
        "from numpy.random import shuffle"
      ],
      "execution_count": 0,
      "outputs": []
    },
    {
      "metadata": {
        "id": "UiyqtlGvCtZ9",
        "colab_type": "code",
        "colab": {}
      },
      "cell_type": "code",
      "source": [
        "def load_doc(filename):\n",
        "  file=open(filename,mode='rt',encoding='utf-8')\n",
        "  text=file.read()\n",
        "  file.close()\n",
        "  return text"
      ],
      "execution_count": 0,
      "outputs": []
    },
    {
      "metadata": {
        "id": "rW-nrXD3DJSB",
        "colab_type": "code",
        "colab": {}
      },
      "cell_type": "code",
      "source": [
        "def to_pairs(doc):\n",
        "  lines=doc.strip().split('\\n')\n",
        "  pairs=[line.split('\\t') for line in lines ]\n",
        "  return pairs"
      ],
      "execution_count": 0,
      "outputs": []
    },
    {
      "metadata": {
        "id": "QwmiDmfmDngJ",
        "colab_type": "code",
        "colab": {}
      },
      "cell_type": "code",
      "source": [
        "def clean_pairs(lines):\n",
        "  cleaned=[]\n",
        "  print(len(lines))\n",
        "  re_print=re.compile('^[%s]'% re.escape(string.printable))\n",
        "  table=str.maketrans('','',string.punctuation)\n",
        "  for pair in lines:\n",
        "   \n",
        "    clean_pair=[]\n",
        "    for line in pair:\n",
        "      line=normalize('NFD',line).encode('ascii','ignore')\n",
        "     \n",
        "      line=line.decode('UTF-8')\n",
        "      \n",
        "      line=line.split()\n",
        "      \n",
        "      line=[word.lower() for word in line]\n",
        "      line=[word.translate(table) for word in line]\n",
        "      line=[re_print.sub('',w) for w in line]\n",
        "      line=[word for word in line if word.isalpha() ]\n",
        "      clean_pair.append(' '.join(line))\n",
        "    cleaned.append(clean_pair)\n",
        "  return cleaned"
      ],
      "execution_count": 0,
      "outputs": []
    },
    {
      "metadata": {
        "id": "A3Chqk-pK6Fc",
        "colab_type": "code",
        "colab": {}
      },
      "cell_type": "code",
      "source": [
        "def save_clean_Data(sentences,filename):\n",
        "  dump(sentences,open(filename,'wb'))\n",
        "  print(\"Saved {0}\".format(filename))\n",
        "  "
      ],
      "execution_count": 0,
      "outputs": []
    },
    {
      "metadata": {
        "id": "d3p-OQM2NDnl",
        "colab_type": "code",
        "colab": {}
      },
      "cell_type": "code",
      "source": [
        "filename='deu.txt'"
      ],
      "execution_count": 0,
      "outputs": []
    },
    {
      "metadata": {
        "id": "L4D2XrrFNF8B",
        "colab_type": "code",
        "colab": {}
      },
      "cell_type": "code",
      "source": [
        "doc=load_doc(filename)"
      ],
      "execution_count": 0,
      "outputs": []
    },
    {
      "metadata": {
        "id": "yoXl6KaSNMWx",
        "colab_type": "code",
        "colab": {}
      },
      "cell_type": "code",
      "source": [
        "pairs=to_pairs(doc)"
      ],
      "execution_count": 0,
      "outputs": []
    },
    {
      "metadata": {
        "id": "XZq1S6XUNgS-",
        "colab_type": "code",
        "outputId": "f77112d9-a074-402a-ec13-e691c50edaca",
        "colab": {
          "base_uri": "https://localhost:8080/",
          "height": 34
        }
      },
      "cell_type": "code",
      "source": [
        "cleanpairs=clean_pairs(pairs)"
      ],
      "execution_count": 58,
      "outputs": [
        {
          "output_type": "stream",
          "text": [
            "176692\n"
          ],
          "name": "stdout"
        }
      ]
    },
    {
      "metadata": {
        "id": "hCA8OFOdj5D0",
        "colab_type": "code",
        "colab": {}
      },
      "cell_type": "code",
      "source": [
        "cleanpairs=np.asarray(cleanpairs)"
      ],
      "execution_count": 0,
      "outputs": []
    },
    {
      "metadata": {
        "id": "iD5ZveuSafE9",
        "colab_type": "code",
        "colab": {
          "base_uri": "https://localhost:8080/",
          "height": 34
        },
        "outputId": "824c41a0-f176-45b7-cd15-f2265047bcd0"
      },
      "cell_type": "code",
      "source": [
        "save_clean_Data(cleanpairs, 'english-german.pkl')"
      ],
      "execution_count": 60,
      "outputs": [
        {
          "output_type": "stream",
          "text": [
            "Saved english-german.pkl\n"
          ],
          "name": "stdout"
        }
      ]
    },
    {
      "metadata": {
        "id": "f9T530-gPyhY",
        "colab_type": "code",
        "colab": {}
      },
      "cell_type": "code",
      "source": [
        "def load_clean_sentences(filename):\n",
        "  return load(open(filename,'rb'))"
      ],
      "execution_count": 0,
      "outputs": []
    },
    {
      "metadata": {
        "id": "yxeXEqbKZkRe",
        "colab_type": "code",
        "colab": {}
      },
      "cell_type": "code",
      "source": [
        "def save_clean_data(sentences,filename):\n",
        "  dump(sentence,open(filename,'wb'))\n",
        "  print(\"File saved {0}\".format(filename))"
      ],
      "execution_count": 0,
      "outputs": []
    },
    {
      "metadata": {
        "id": "7liCaKP0aDCz",
        "colab_type": "code",
        "colab": {}
      },
      "cell_type": "code",
      "source": [
        "raw_dataset=load_clean_sentences('english-german.pkl')"
      ],
      "execution_count": 0,
      "outputs": []
    },
    {
      "metadata": {
        "id": "IHMd99d9cVLq",
        "colab_type": "code",
        "colab": {}
      },
      "cell_type": "code",
      "source": [
        "n_sentences=10000\n",
        "dataset=raw_dataset[:n_sentences,:]\n",
        "shuffle(dataset)"
      ],
      "execution_count": 0,
      "outputs": []
    },
    {
      "metadata": {
        "id": "9cvW6qkudxvw",
        "colab_type": "code",
        "colab": {}
      },
      "cell_type": "code",
      "source": [
        "train,test=dataset[:9000],dataset[9000:]"
      ],
      "execution_count": 0,
      "outputs": []
    },
    {
      "metadata": {
        "id": "ncsJH_PCeEsG",
        "colab_type": "code",
        "colab": {
          "base_uri": "https://localhost:8080/",
          "height": 68
        },
        "outputId": "c4c0122b-0bc4-47e3-e2a9-cba33b4d0212"
      },
      "cell_type": "code",
      "source": [
        "save_clean_Data(dataset,'english-german-both.pkl')\n",
        "save_clean_Data(train,'english-german-train.pkl')\n",
        "save_clean_Data(test,'english-german-test.pkl')"
      ],
      "execution_count": 66,
      "outputs": [
        {
          "output_type": "stream",
          "text": [
            "Saved english-german-both.pkl\n",
            "Saved english-german-train.pkl\n",
            "Saved english-german-test.pkl\n"
          ],
          "name": "stdout"
        }
      ]
    },
    {
      "metadata": {
        "id": "1nOhQnV3eb_Z",
        "colab_type": "code",
        "colab": {}
      },
      "cell_type": "code",
      "source": [
        "def create_tokenizer(lines):\n",
        "  tokenizer=Tokenizer()\n",
        "  tokenizer.fit_on_texts(lines)\n",
        "  return tokenizer"
      ],
      "execution_count": 0,
      "outputs": []
    },
    {
      "metadata": {
        "id": "SR6xwHnZe3Yi",
        "colab_type": "code",
        "colab": {}
      },
      "cell_type": "code",
      "source": [
        "def max_len(lines):\n",
        "  return max(len(line.split())for line in lines)"
      ],
      "execution_count": 0,
      "outputs": []
    },
    {
      "metadata": {
        "id": "7WPFyYjXfJQT",
        "colab_type": "code",
        "colab": {}
      },
      "cell_type": "code",
      "source": [
        "eng_tokenizer=create_tokenizer(dataset[:,0])"
      ],
      "execution_count": 0,
      "outputs": []
    },
    {
      "metadata": {
        "id": "7t7VAEz5hahG",
        "colab_type": "code",
        "colab": {}
      },
      "cell_type": "code",
      "source": [
        "eng_vocab_size=len(eng_tokenizer.word_index)+1"
      ],
      "execution_count": 0,
      "outputs": []
    },
    {
      "metadata": {
        "id": "yuhGWinthcnd",
        "colab_type": "code",
        "colab": {}
      },
      "cell_type": "code",
      "source": [
        "eng_lenth=max_len(dataset[:,0])"
      ],
      "execution_count": 0,
      "outputs": []
    },
    {
      "metadata": {
        "id": "R-XcikFniJPp",
        "colab_type": "code",
        "colab": {}
      },
      "cell_type": "code",
      "source": [
        "ger_tokenizer=create_tokenizer(dataset[:,1])"
      ],
      "execution_count": 0,
      "outputs": []
    },
    {
      "metadata": {
        "id": "Sv-SPdp6iQnH",
        "colab_type": "code",
        "colab": {}
      },
      "cell_type": "code",
      "source": [
        "ger_vocab_size=len(ger_tokenizer.word_index)+1"
      ],
      "execution_count": 0,
      "outputs": []
    },
    {
      "metadata": {
        "id": "5a5fmfEUjhoa",
        "colab_type": "code",
        "colab": {}
      },
      "cell_type": "code",
      "source": [
        "ger_lenth=max_len(dataset[:,1])"
      ],
      "execution_count": 0,
      "outputs": []
    },
    {
      "metadata": {
        "id": "GNMn1-L5j1SA",
        "colab_type": "code",
        "colab": {}
      },
      "cell_type": "code",
      "source": [
        "def encode_sequences(tokenizer,length,lines):\n",
        "  X=tokenizer.texts_to_sequences(lines)\n",
        "  X=pad_sequences(X,maxlen=length,padding='post')\n",
        "  return X"
      ],
      "execution_count": 0,
      "outputs": []
    },
    {
      "metadata": {
        "id": "nt42AMQBlyB9",
        "colab_type": "code",
        "colab": {}
      },
      "cell_type": "code",
      "source": [
        "def encode_output(sequences,vocab_size):\n",
        "  ylist=[]\n",
        "  for sequence in sequences:\n",
        "    encoded=to_categorical(sequence,num_classes=vocab_size)\n",
        "    ylist.append(encoded)\n",
        "  y=np.asarray(ylist)\n",
        "  y=y.reshape(sequences.shape[0],sequences.shape[1],vocab_size)\n",
        "  return y"
      ],
      "execution_count": 0,
      "outputs": []
    },
    {
      "metadata": {
        "id": "RtLM0fURnyuy",
        "colab_type": "code",
        "colab": {}
      },
      "cell_type": "code",
      "source": [
        ""
      ],
      "execution_count": 0,
      "outputs": []
    },
    {
      "metadata": {
        "id": "O-pk-8vymxoH",
        "colab_type": "code",
        "colab": {}
      },
      "cell_type": "code",
      "source": [
        "trainX=encode_sequences(ger_tokenizer,ger_lenth,train[:,1])\n",
        "trainY=encode_sequences(eng_tokenizer,eng_lenth,train[:,0])\n",
        "\n",
        "\n",
        "\n"
      ],
      "execution_count": 0,
      "outputs": []
    },
    {
      "metadata": {
        "id": "H_FcaqIWo0cF",
        "colab_type": "code",
        "colab": {}
      },
      "cell_type": "code",
      "source": [
        "trainY=encode_output(trainY,eng_vocab_size)"
      ],
      "execution_count": 0,
      "outputs": []
    },
    {
      "metadata": {
        "id": "n05BygykokL4",
        "colab_type": "code",
        "colab": {}
      },
      "cell_type": "code",
      "source": [
        "testX=encode_sequences(ger_tokenizer,ger_lenth,test[:,1])\n",
        "testY=encode_sequences(eng_tokenizer,eng_lenth,test[:,0])\n",
        "testY=encode_output(testY,eng_vocab_size)"
      ],
      "execution_count": 0,
      "outputs": []
    },
    {
      "metadata": {
        "id": "hrHezGzCpZMl",
        "colab_type": "code",
        "colab": {}
      },
      "cell_type": "code",
      "source": [
        "def define_Model(src_vocab,tar_vocab,src_timestamps,tar_timestamps,n_units):\n",
        "  model=Sequential()\n",
        "  model.add(Embedding(src_vocab,n_units,input_length=src_timestamps,mask_zero=True))\n",
        "  model.add(LSTM(n_units))\n",
        "  model.add(RepeatVector(tar_timestamps))\n",
        "  model.add(LSTM(n_units,return_sequences=True))\n",
        "  model.add(TimeDistributed(Dense(tar_vocab,activation='softmax')))\n",
        "  return model"
      ],
      "execution_count": 0,
      "outputs": []
    },
    {
      "metadata": {
        "id": "L9wsZDEYrL3V",
        "colab_type": "code",
        "colab": {}
      },
      "cell_type": "code",
      "source": [
        "model=define_Model(ger_vocab_size,eng_vocab_size,ger_lenth,eng_lenth,256)\n",
        "model.compile(optimizer='adam',loss='categorical_crossentropy')\n"
      ],
      "execution_count": 0,
      "outputs": []
    },
    {
      "metadata": {
        "id": "ZVG8MSS6rvZL",
        "colab_type": "code",
        "colab": {
          "base_uri": "https://localhost:8080/",
          "height": 323
        },
        "outputId": "0782aa49-4891-4551-a610-21b9c7ecc769"
      },
      "cell_type": "code",
      "source": [
        "print(model.summary())"
      ],
      "execution_count": 82,
      "outputs": [
        {
          "output_type": "stream",
          "text": [
            "_________________________________________________________________\n",
            "Layer (type)                 Output Shape              Param #   \n",
            "=================================================================\n",
            "embedding_3 (Embedding)      (None, 10, 256)           830976    \n",
            "_________________________________________________________________\n",
            "lstm_5 (LSTM)                (None, 256)               525312    \n",
            "_________________________________________________________________\n",
            "repeat_vector_3 (RepeatVecto (None, 5, 256)            0         \n",
            "_________________________________________________________________\n",
            "lstm_6 (LSTM)                (None, 5, 256)            525312    \n",
            "_________________________________________________________________\n",
            "time_distributed_2 (TimeDist (None, 5, 1950)           501150    \n",
            "=================================================================\n",
            "Total params: 2,382,750\n",
            "Trainable params: 2,382,750\n",
            "Non-trainable params: 0\n",
            "_________________________________________________________________\n",
            "None\n"
          ],
          "name": "stdout"
        }
      ]
    },
    {
      "metadata": {
        "id": "-zmQWnMrs0yR",
        "colab_type": "code",
        "colab": {
          "base_uri": "https://localhost:8080/",
          "height": 1054
        },
        "outputId": "60faaf89-e9ba-41e8-dfa8-e832c25b7e8f"
      },
      "cell_type": "code",
      "source": [
        "filename=\"model.h5\"\n",
        "checkpoint=ModelCheckpoint(filename,monitor='val_loss',verbose=1,save_best_only=True,mode='min')\n",
        "model.fit(trainX,trainY,epochs=30,batch_size=64)"
      ],
      "execution_count": 83,
      "outputs": [
        {
          "output_type": "stream",
          "text": [
            "Epoch 1/30\n",
            "9000/9000 [==============================] - 35s 4ms/step - loss: 3.9053\n",
            "Epoch 2/30\n",
            "9000/9000 [==============================] - 32s 4ms/step - loss: 3.0847\n",
            "Epoch 3/30\n",
            "9000/9000 [==============================] - 32s 4ms/step - loss: 2.9842\n",
            "Epoch 4/30\n",
            "9000/9000 [==============================] - 32s 4ms/step - loss: 2.9144\n",
            "Epoch 5/30\n",
            "9000/9000 [==============================] - 32s 4ms/step - loss: 2.8434\n",
            "Epoch 6/30\n",
            "9000/9000 [==============================] - 32s 4ms/step - loss: 2.7044\n",
            "Epoch 7/30\n",
            "9000/9000 [==============================] - 32s 4ms/step - loss: 2.5653\n",
            "Epoch 8/30\n",
            "9000/9000 [==============================] - 33s 4ms/step - loss: 2.4420\n",
            "Epoch 9/30\n",
            "9000/9000 [==============================] - 32s 4ms/step - loss: 2.3081\n",
            "Epoch 10/30\n",
            "9000/9000 [==============================] - 32s 4ms/step - loss: 2.1844\n",
            "Epoch 11/30\n",
            "9000/9000 [==============================] - 32s 4ms/step - loss: 2.0635\n",
            "Epoch 12/30\n",
            "9000/9000 [==============================] - 32s 4ms/step - loss: 1.9453\n",
            "Epoch 13/30\n",
            "9000/9000 [==============================] - 32s 4ms/step - loss: 1.8328\n",
            "Epoch 14/30\n",
            "9000/9000 [==============================] - 33s 4ms/step - loss: 1.7254\n",
            "Epoch 15/30\n",
            "9000/9000 [==============================] - 32s 4ms/step - loss: 1.6197\n",
            "Epoch 16/30\n",
            "9000/9000 [==============================] - 32s 4ms/step - loss: 1.5173\n",
            "Epoch 17/30\n",
            "9000/9000 [==============================] - 33s 4ms/step - loss: 1.4183\n",
            "Epoch 18/30\n",
            "9000/9000 [==============================] - 32s 4ms/step - loss: 1.3205\n",
            "Epoch 19/30\n",
            "9000/9000 [==============================] - 32s 4ms/step - loss: 1.2280\n",
            "Epoch 20/30\n",
            "9000/9000 [==============================] - 32s 4ms/step - loss: 1.1358\n",
            "Epoch 21/30\n",
            "9000/9000 [==============================] - 32s 4ms/step - loss: 1.0533\n",
            "Epoch 22/30\n",
            "9000/9000 [==============================] - 32s 4ms/step - loss: 0.9704\n",
            "Epoch 23/30\n",
            "9000/9000 [==============================] - 32s 4ms/step - loss: 0.8960\n",
            "Epoch 24/30\n",
            "9000/9000 [==============================] - 32s 4ms/step - loss: 0.8214\n",
            "Epoch 25/30\n",
            "9000/9000 [==============================] - 32s 4ms/step - loss: 0.7527\n",
            "Epoch 26/30\n",
            "9000/9000 [==============================] - 32s 4ms/step - loss: 0.6903\n",
            "Epoch 27/30\n",
            "9000/9000 [==============================] - 33s 4ms/step - loss: 0.6298\n",
            "Epoch 28/30\n",
            "9000/9000 [==============================] - 32s 4ms/step - loss: 0.5783\n",
            "Epoch 29/30\n",
            "9000/9000 [==============================] - 33s 4ms/step - loss: 0.5259\n",
            "Epoch 30/30\n",
            "9000/9000 [==============================] - 32s 4ms/step - loss: 0.4811\n"
          ],
          "name": "stdout"
        },
        {
          "output_type": "execute_result",
          "data": {
            "text/plain": [
              "<keras.callbacks.History at 0x7f4d28d82fd0>"
            ]
          },
          "metadata": {
            "tags": []
          },
          "execution_count": 83
        }
      ]
    },
    {
      "metadata": {
        "id": "YuT1d658tDwh",
        "colab_type": "code",
        "colab": {}
      },
      "cell_type": "code",
      "source": [
        "def word_for_id(integer,tokenizer):\n",
        "  for word,index in tokenizer.word_index.items():\n",
        "    if index==integer:\n",
        "      return word\n",
        "  return None"
      ],
      "execution_count": 0,
      "outputs": []
    },
    {
      "metadata": {
        "id": "v8dDuvhm3OhB",
        "colab_type": "code",
        "colab": {}
      },
      "cell_type": "code",
      "source": [
        "def predict_sequenc(model,tokenizer,source):\n",
        "  prediction=model.predict(source,verbose=0)[0]\n",
        "  integer=[argmax(vector) for vector in prediction]\n",
        "  target=list()\n",
        "  for i in integer:\n",
        "    word=word_for_id(i, tokenizer)\n",
        "    if word is None:\n",
        "      break\n",
        "    target.append(word)\n",
        "  return ' '.join(target)"
      ],
      "execution_count": 0,
      "outputs": []
    },
    {
      "metadata": {
        "id": "CsT1LNq77BPZ",
        "colab_type": "code",
        "colab": {}
      },
      "cell_type": "code",
      "source": [
        "def evaluate_model(model,tokenizer,sources,raw_dataset):\n",
        "  actual,predicted=[],[]\n",
        "  for i,source in enumerate(sources):\n",
        "    source=source.reshape((1,source.shape[0]))\n",
        "    transalation=predict_sequence(model,tokenizer,source)\n",
        "    predicted.append(translation)\n",
        "  return predicted"
      ],
      "execution_count": 0,
      "outputs": []
    },
    {
      "metadata": {
        "id": "5NaHkjz499UB",
        "colab_type": "code",
        "colab": {}
      },
      "cell_type": "code",
      "source": [
        "evaluate_model(model, eng_tokenizer, testX, test)"
      ],
      "execution_count": 0,
      "outputs": []
    }
  ]
}