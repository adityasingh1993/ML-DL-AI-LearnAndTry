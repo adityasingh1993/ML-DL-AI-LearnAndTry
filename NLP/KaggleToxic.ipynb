{
  "nbformat": 4,
  "nbformat_minor": 0,
  "metadata": {
    "colab": {
      "name": "KaggleToxic.ipynb",
      "version": "0.3.2",
      "provenance": [],
      "include_colab_link": true
    },
    "kernelspec": {
      "name": "python3",
      "display_name": "Python 3"
    },
    "accelerator": "GPU"
  },
  "cells": [
    {
      "cell_type": "markdown",
      "metadata": {
        "id": "view-in-github",
        "colab_type": "text"
      },
      "source": [
        "[View in Colaboratory](https://colab.research.google.com/github/adityasingh1993/100DayMLChallenge/blob/master/KaggleToxic.ipynb)"
      ]
    },
    {
      "metadata": {
        "id": "XeIfXgamiRse",
        "colab_type": "code",
        "colab": {
          "base_uri": "https://localhost:8080/",
          "height": 204
        },
        "outputId": "68b2d968-8eee-4453-ec91-4629a38f1872"
      },
      "cell_type": "code",
      "source": [
        "m!wget --header=\"Host: nlp.stanford.edu\" --header=\"User-Agent: Mozilla/5.0 (X11; Linux x86_64) AppleWebKit/537.36 (KHTML, like Gecko) Chrome/64.0.3282.119 Safari/537.36\" --header=\"Accept: text/html,application/xhtml+xml,application/xml;q=0.9,image/webp,image/apng,*/*;q=0.8\" --header=\"Accept-Language: en-GB,en-US;q=0.9,en;q=0.8\" --header=\"Cookie: _ga=GA1.2.959822175.1516051099; _gac_UA-139650-1=1.1518275788.Cj0KCQiAzfrTBRC_ARIsAJ5ps0swqKwO1ffWhAVp7AHjmug3ZFNz9AuOSsfrc9jm8SD85fUNB3PVNTkaAhkbEALw_wcB; _mkto_trk=id:194-OCQ-487&token:_mch-stanford.edu-1518275788980-17345; _gid=GA1.2.1093929497.1518850289; _gat=1\" --header=\"Connection: keep-alive\" \"https://nlp.stanford.edu/data/glove.6B.zip\" -O \"glove.6B.zip\" -c"
      ],
      "execution_count": 1,
      "outputs": [
        {
          "output_type": "stream",
          "text": [
            "--2018-04-18 19:28:34--  https://nlp.stanford.edu/data/glove.6B.zip\n",
            "Resolving nlp.stanford.edu (nlp.stanford.edu)... 171.64.67.140\n",
            "Connecting to nlp.stanford.edu (nlp.stanford.edu)|171.64.67.140|:443... connected.\n",
            "HTTP request sent, awaiting response... 200 OK\n",
            "Length: 862182613 (822M) [application/zip]\n",
            "Saving to: ‘glove.6B.zip’\n",
            "\n",
            "glove.6B.zip        100%[===================>] 822.24M  17.6MB/s    in 47s     \n",
            "\n",
            "2018-04-18 19:29:22 (17.3 MB/s) - ‘glove.6B.zip’ saved [862182613/862182613]\n",
            "\n"
          ],
          "name": "stdout"
        }
      ]
    },
    {
      "metadata": {
        "id": "NDrkYen8C96Z",
        "colab_type": "code",
        "colab": {
          "base_uri": "https://localhost:8080/",
          "height": 139
        },
        "outputId": "4e3c16d2-16d6-43f3-e281-7981417455a6"
      },
      "cell_type": "code",
      "source": [
        "!wget --header=\"Host: storage.googleapis.com\" --header=\"User-Agent: Mozilla/5.0 (X11; Linux x86_64) AppleWebKit/537.36 (KHTML, like Gecko) Chrome/64.0.3282.119 Safari/537.36\" --header=\"Accept: text/html,application/xhtml+xml,application/xml;q=0.9,image/webp,image/apng,*/*;q=0.8\" --header=\"Accept-Language: en-GB,en-US;q=0.9,en;q=0.8\" \"https://storage.googleapis.com/kaggle-competitions-data/kaggle/8076/test.csv.zip?GoogleAccessId=web-data@kaggle-161607.iam.gserviceaccount.com&Expires=1519109659&Signature=CKW8rJJNahupAjFgWS%2FVIlGs2tj0CugO9%2FNrFpMz953KGQCxweyHuwLWm2Fl%2FxQEsyIJJFQYvvfl94gk9NAr4OnMen2UVebjZ98%2BIeGSljiwYdTiUGyH9QPk9CwMKlrBouuTVKmZELo1eQX4FmiD7a1Iy1oI0jbJKWZqrCqq2%2BrkMzmtAT91CyGUUxhhrIW47mE8Ff%2Bx4%2BIta%2Fcpi3HFJ6a0bZAR6jlJynJ4MBxtUjmOPTdAoJ6VNmdo0tgnn5xO%2Bkn5e1H6vk6M0QY0qA6j1uZJOr3gjKxBZroWDatDR8liiEuGdGSCkxTJ2X3HvpHe2D7A7%2Bq%2B21SeigLc4Hma9A%3D%3D\" -O \"test.csv.zip\" -c"
      ],
      "execution_count": 2,
      "outputs": [
        {
          "output_type": "stream",
          "text": [
            "--2018-04-18 19:33:02--  https://storage.googleapis.com/kaggle-competitions-data/kaggle/8076/test.csv.zip?GoogleAccessId=web-data@kaggle-161607.iam.gserviceaccount.com&Expires=1519109659&Signature=CKW8rJJNahupAjFgWS%2FVIlGs2tj0CugO9%2FNrFpMz953KGQCxweyHuwLWm2Fl%2FxQEsyIJJFQYvvfl94gk9NAr4OnMen2UVebjZ98%2BIeGSljiwYdTiUGyH9QPk9CwMKlrBouuTVKmZELo1eQX4FmiD7a1Iy1oI0jbJKWZqrCqq2%2BrkMzmtAT91CyGUUxhhrIW47mE8Ff%2Bx4%2BIta%2Fcpi3HFJ6a0bZAR6jlJynJ4MBxtUjmOPTdAoJ6VNmdo0tgnn5xO%2Bkn5e1H6vk6M0QY0qA6j1uZJOr3gjKxBZroWDatDR8liiEuGdGSCkxTJ2X3HvpHe2D7A7%2Bq%2B21SeigLc4Hma9A%3D%3D\r\n",
            "Resolving storage.googleapis.com (storage.googleapis.com)... 74.125.141.128, 2607:f8b0:400c:c06::80\r\n",
            "Connecting to storage.googleapis.com (storage.googleapis.com)|74.125.141.128|:443... connected.\n",
            "HTTP request sent, awaiting response... 400 Bad Request\n",
            "2018-04-18 19:33:03 ERROR 400: Bad Request.\n",
            "\n"
          ],
          "name": "stdout"
        }
      ]
    },
    {
      "metadata": {
        "id": "iQvd7fr9DUC0",
        "colab_type": "code",
        "colab": {
          "base_uri": "https://localhost:8080/",
          "height": 139
        },
        "outputId": "f95be77a-9ad4-45ae-99a1-10977fa13d59"
      },
      "cell_type": "code",
      "source": [
        "!wget --header=\"Host: storage.googleapis.com\" --header=\"User-Agent: Mozilla/5.0 (X11; Linux x86_64) AppleWebKit/537.36 (KHTML, like Gecko) Chrome/64.0.3282.119 Safari/537.36\" --header=\"Accept: text/html,application/xhtml+xml,application/xml;q=0.9,image/webp,image/apng,*/*;q=0.8\" --header=\"Accept-Language: en-GB,en-US;q=0.9,en;q=0.8\" \"https://storage.googleapis.com/kaggle-competitions-data/kaggle/8076/train.csv.zip?GoogleAccessId=web-data@kaggle-161607.iam.gserviceaccount.com&Expires=1519109908&Signature=mwFZu2%2B%2FQ6UMu%2BQP4SZDmhFP%2BSyF0LfJTtKH74a2P0JWhc7K640LR88mcETS2oX7%2B4CVs1PG1U48fIKCWn0fQp%2Bz3t%2BrplrMl%2BMOUmXCiq6akD9pXPa6Vb6zV9aZoaOOSpAKO8dsU%2BNdOjKMlMoLfnfvFLHcIwzmZtN2KtiG6AG1Qjb%2BeD4DlC8plsQFqgLRetZ%2BqZqkQH4FAGhzVQiG5gDbEzsqHTharjIz2TzqhJHvxOeMDv4EBiI84Rx5nA3UokpJU5iB8niywL4%2FeV4r2xi9xynpjr5xbbMtwEyok6mbX6f3OpaYFWSFap%2FZLX3QcWYng7fwELGYKRYQr0NfkQ%3D%3D\" -O \"train.csv.zip\" -c"
      ],
      "execution_count": 3,
      "outputs": [
        {
          "output_type": "stream",
          "text": [
            "--2018-04-18 19:33:11--  https://storage.googleapis.com/kaggle-competitions-data/kaggle/8076/train.csv.zip?GoogleAccessId=web-data@kaggle-161607.iam.gserviceaccount.com&Expires=1519109908&Signature=mwFZu2%2B%2FQ6UMu%2BQP4SZDmhFP%2BSyF0LfJTtKH74a2P0JWhc7K640LR88mcETS2oX7%2B4CVs1PG1U48fIKCWn0fQp%2Bz3t%2BrplrMl%2BMOUmXCiq6akD9pXPa6Vb6zV9aZoaOOSpAKO8dsU%2BNdOjKMlMoLfnfvFLHcIwzmZtN2KtiG6AG1Qjb%2BeD4DlC8plsQFqgLRetZ%2BqZqkQH4FAGhzVQiG5gDbEzsqHTharjIz2TzqhJHvxOeMDv4EBiI84Rx5nA3UokpJU5iB8niywL4%2FeV4r2xi9xynpjr5xbbMtwEyok6mbX6f3OpaYFWSFap%2FZLX3QcWYng7fwELGYKRYQr0NfkQ%3D%3D\r\n",
            "Resolving storage.googleapis.com (storage.googleapis.com)... 74.125.141.128, 2607:f8b0:400c:c06::80\r\n",
            "Connecting to storage.googleapis.com (storage.googleapis.com)|74.125.141.128|:443... connected.\r\n",
            "HTTP request sent, awaiting response... 400 Bad Request\r\n",
            "2018-04-18 19:33:11 ERROR 400: Bad Request.\r\n",
            "\r\n"
          ],
          "name": "stdout"
        }
      ]
    },
    {
      "metadata": {
        "id": "GivcPBPVDbFX",
        "colab_type": "code",
        "colab": {
          "base_uri": "https://localhost:8080/",
          "height": 34
        },
        "outputId": "0f1c33c5-ab18-4019-c53b-e1d0dd10c52c"
      },
      "cell_type": "code",
      "source": [
        "import zipfile\n",
        "def unzipfile(filename,unzippath):\n",
        "  with zipfile.ZipFile(filename,\"r\") as zip_ref:\n",
        "    \n",
        "    zip_ref.extractall(unzippath)\n",
        "print(\"data extracted\")"
      ],
      "execution_count": 64,
      "outputs": [
        {
          "output_type": "stream",
          "text": [
            "data extracted\n"
          ],
          "name": "stdout"
        }
      ]
    },
    {
      "metadata": {
        "id": "63bGNAySDk-7",
        "colab_type": "code",
        "colab": {}
      },
      "cell_type": "code",
      "source": [
        "mkdir data"
      ],
      "execution_count": 0,
      "outputs": []
    },
    {
      "metadata": {
        "id": "QZ1jBtg4Dqax",
        "colab_type": "code",
        "colab": {
          "base_uri": "https://localhost:8080/",
          "height": 34
        },
        "outputId": "b8d46574-ab20-41dc-bcd8-72e70e5233b0"
      },
      "cell_type": "code",
      "source": [
        "!ls"
      ],
      "execution_count": 8,
      "outputs": [
        {
          "output_type": "stream",
          "text": [
            "data  datalab  glove.6B.zip  test.csv.zip  train.csv.zip\r\n"
          ],
          "name": "stdout"
        }
      ]
    },
    {
      "metadata": {
        "id": "cPYQCtbXDsp8",
        "colab_type": "code",
        "colab": {}
      },
      "cell_type": "code",
      "source": [
        "unzipfile(\"test.csv.zip\",\"data\")\n",
        "unzipfile(\"train.csv.zip\",\"data\")"
      ],
      "execution_count": 0,
      "outputs": []
    },
    {
      "metadata": {
        "id": "yvGVdeHenS4S",
        "colab_type": "code",
        "colab": {}
      },
      "cell_type": "code",
      "source": [
        "unzipfile(\"glove.6B.zip\",\"wordvec\")"
      ],
      "execution_count": 0,
      "outputs": []
    },
    {
      "metadata": {
        "id": "O_gQ4rj5ni1Y",
        "colab_type": "code",
        "colab": {
          "base_uri": "https://localhost:8080/",
          "height": 34
        },
        "outputId": "93e04d46-88d9-4d08-b3ac-e51f4e5fa312"
      },
      "cell_type": "code",
      "source": [
        "ls wordvec"
      ],
      "execution_count": 15,
      "outputs": [
        {
          "output_type": "stream",
          "text": [
            "glove.6B.100d.txt  glove.6B.200d.txt  glove.6B.300d.txt  glove.6B.50d.txt\r\n"
          ],
          "name": "stdout"
        }
      ]
    },
    {
      "metadata": {
        "id": "3DhAqjCjoN-C",
        "colab_type": "code",
        "colab": {}
      },
      "cell_type": "code",
      "source": [
        "import pandas as pd\n",
        "import numpy as np"
      ],
      "execution_count": 0,
      "outputs": []
    },
    {
      "metadata": {
        "id": "majqeUb_oFJp",
        "colab_type": "code",
        "colab": {}
      },
      "cell_type": "code",
      "source": [
        "def read_glove_vecs(glove_file):\n",
        "    with open(glove_file, 'r') as f:\n",
        "        words = set()\n",
        "        word_to_vec_map = {}\n",
        "        for line in f:\n",
        "            line = line.strip().split()\n",
        "            curr_word = line[0]\n",
        "            words.add(curr_word)\n",
        "            word_to_vec_map[curr_word] = np.array(line[1:], dtype=np.float64)\n",
        "        \n",
        "        i = 1\n",
        "        words_to_index = {}\n",
        "        index_to_words = {}\n",
        "        for w in sorted(words):\n",
        "            words_to_index[w] = i\n",
        "            index_to_words[i] = w\n",
        "            i = i + 1\n",
        "    return words_to_index, index_to_words, word_to_vec_map"
      ],
      "execution_count": 0,
      "outputs": []
    },
    {
      "metadata": {
        "id": "1xNyyCyAnt44",
        "colab_type": "code",
        "colab": {}
      },
      "cell_type": "code",
      "source": [
        "word_to_index, index_to_word, word_to_vec_map = read_glove_vecs('wordvec/glove.6B.300d.txt')"
      ],
      "execution_count": 0,
      "outputs": []
    },
    {
      "metadata": {
        "id": "QN2zPyWP1W5E",
        "colab_type": "code",
        "colab": {
          "base_uri": "https://localhost:8080/",
          "height": 163
        },
        "outputId": "c2396dce-60a0-4fa7-86de-82718705af02"
      },
      "cell_type": "code",
      "source": [
        "word_to_vec_map[\"it's\"]"
      ],
      "execution_count": 5,
      "outputs": [
        {
          "output_type": "error",
          "ename": "KeyError",
          "evalue": "ignored",
          "traceback": [
            "\u001b[0;31m---------------------------------------------------------------------------\u001b[0m",
            "\u001b[0;31mKeyError\u001b[0m                                  Traceback (most recent call last)",
            "\u001b[0;32m<ipython-input-5-de5b78720726>\u001b[0m in \u001b[0;36m<module>\u001b[0;34m()\u001b[0m\n\u001b[0;32m----> 1\u001b[0;31m \u001b[0mword_to_vec_map\u001b[0m\u001b[0;34m[\u001b[0m\u001b[0;34m\"it's\"\u001b[0m\u001b[0;34m]\u001b[0m\u001b[0;34m\u001b[0m\u001b[0m\n\u001b[0m",
            "\u001b[0;31mKeyError\u001b[0m: \"it's\""
          ]
        }
      ]
    },
    {
      "metadata": {
        "id": "B7uboSHpoii8",
        "colab_type": "code",
        "colab": {}
      },
      "cell_type": "code",
      "source": [
        "def convert_to_one_hot(Y, C):\n",
        "    Y = np.eye(C)[Y.reshape(-1)]\n",
        "    return Y"
      ],
      "execution_count": 0,
      "outputs": []
    },
    {
      "metadata": {
        "id": "R9VdGKA9D5Sh",
        "colab_type": "code",
        "colab": {}
      },
      "cell_type": "code",
      "source": [
        "Path=f'data/'\n",
        "train_path=Path+\"train.csv\"\n"
      ],
      "execution_count": 0,
      "outputs": []
    },
    {
      "metadata": {
        "id": "7Y0nEa-bD8Mu",
        "colab_type": "code",
        "colab": {}
      },
      "cell_type": "code",
      "source": [
        "dataset=pd.read_csv(train_path)\n"
      ],
      "execution_count": 0,
      "outputs": []
    },
    {
      "metadata": {
        "id": "JJXx6cb9EPeR",
        "colab_type": "code",
        "colab": {
          "base_uri": "https://localhost:8080/",
          "height": 481
        },
        "outputId": "d76a5612-aa2a-45a0-e64e-4e17a4cc7833"
      },
      "cell_type": "code",
      "source": [
        "dataset.hist()"
      ],
      "execution_count": 7,
      "outputs": [
        {
          "output_type": "execute_result",
          "data": {
            "text/plain": [
              "array([[<matplotlib.axes._subplots.AxesSubplot object at 0x7f1766dba080>,\n",
              "        <matplotlib.axes._subplots.AxesSubplot object at 0x7f1764d7dd68>],\n",
              "       [<matplotlib.axes._subplots.AxesSubplot object at 0x7f1764d3f898>,\n",
              "        <matplotlib.axes._subplots.AxesSubplot object at 0x7f1764ce3cf8>],\n",
              "       [<matplotlib.axes._subplots.AxesSubplot object at 0x7f1764ca5ac8>,\n",
              "        <matplotlib.axes._subplots.AxesSubplot object at 0x7f1764ca5b00>]],\n",
              "      dtype=object)"
            ]
          },
          "metadata": {
            "tags": []
          },
          "execution_count": 7
        },
        {
          "output_type": "display_data",
          "data": {
            "image/png": "[encoded data removed]",
            "text/plain": [
              "<matplotlib.figure.Figure at 0x7f176a075b00>"
            ]
          },
          "metadata": {
            "tags": []
          }
        }
      ]
    },
    {
      "metadata": {
        "id": "HniM7WpVER4H",
        "colab_type": "code",
        "colab": {
          "base_uri": "https://localhost:8080/",
          "height": 669
        },
        "outputId": "078e4597-afba-418f-c64c-590fd5cc8e80"
      },
      "cell_type": "code",
      "source": [
        "dataset.head(20)"
      ],
      "execution_count": 8,
      "outputs": [
        {
          "output_type": "execute_result",
          "data": {
            "text/html": [
              "<div>\n",
              "<style scoped>\n",
              "    .dataframe tbody tr th:only-of-type {\n",
              "        vertical-align: middle;\n",
              "    }\n",
              "\n",
              "    .dataframe tbody tr th {\n",
              "        vertical-align: top;\n",
              "    }\n",
              "\n",
              "    .dataframe thead th {\n",
              "        text-align: right;\n",
              "    }\n",
              "</style>\n",
              "<table border=\"1\" class=\"dataframe\">\n",
              "  <thead>\n",
              "    <tr style=\"text-align: right;\">\n",
              "      <th></th>\n",
              "      <th>id</th>\n",
              "      <th>comment_text</th>\n",
              "      <th>toxic</th>\n",
              "      <th>severe_toxic</th>\n",
              "      <th>obscene</th>\n",
              "      <th>threat</th>\n",
              "      <th>insult</th>\n",
              "      <th>identity_hate</th>\n",
              "    </tr>\n",
              "  </thead>\n",
              "  <tbody>\n",
              "    <tr>\n",
              "      <th>0</th>\n",
              "      <td>0000997932d777bf</td>\n",
              "      <td>Explanation\\nWhy the edits made under my usern...</td>\n",
              "      <td>0</td>\n",
              "      <td>0</td>\n",
              "      <td>0</td>\n",
              "      <td>0</td>\n",
              "      <td>0</td>\n",
              "      <td>0</td>\n",
              "    </tr>\n",
              "    <tr>\n",
              "      <th>1</th>\n",
              "      <td>000103f0d9cfb60f</td>\n",
              "      <td>D'aww! He matches this background colour I'm s...</td>\n",
              "      <td>0</td>\n",
              "      <td>0</td>\n",
              "      <td>0</td>\n",
              "      <td>0</td>\n",
              "      <td>0</td>\n",
              "      <td>0</td>\n",
              "    </tr>\n",
              "    <tr>\n",
              "      <th>2</th>\n",
              "      <td>000113f07ec002fd</td>\n",
              "      <td>Hey man, I'm really not trying to edit war. It...</td>\n",
              "      <td>0</td>\n",
              "      <td>0</td>\n",
              "      <td>0</td>\n",
              "      <td>0</td>\n",
              "      <td>0</td>\n",
              "      <td>0</td>\n",
              "    </tr>\n",
              "    <tr>\n",
              "      <th>3</th>\n",
              "      <td>0001b41b1c6bb37e</td>\n",
              "      <td>\"\\nMore\\nI can't make any real suggestions on ...</td>\n",
              "      <td>0</td>\n",
              "      <td>0</td>\n",
              "      <td>0</td>\n",
              "      <td>0</td>\n",
              "      <td>0</td>\n",
              "      <td>0</td>\n",
              "    </tr>\n",
              "    <tr>\n",
              "      <th>4</th>\n",
              "      <td>0001d958c54c6e35</td>\n",
              "      <td>You, sir, are my hero. Any chance you remember...</td>\n",
              "      <td>0</td>\n",
              "      <td>0</td>\n",
              "      <td>0</td>\n",
              "      <td>0</td>\n",
              "      <td>0</td>\n",
              "      <td>0</td>\n",
              "    </tr>\n",
              "    <tr>\n",
              "      <th>5</th>\n",
              "      <td>00025465d4725e87</td>\n",
              "      <td>\"\\n\\nCongratulations from me as well, use the ...</td>\n",
              "      <td>0</td>\n",
              "      <td>0</td>\n",
              "      <td>0</td>\n",
              "      <td>0</td>\n",
              "      <td>0</td>\n",
              "      <td>0</td>\n",
              "    </tr>\n",
              "    <tr>\n",
              "      <th>6</th>\n",
              "      <td>0002bcb3da6cb337</td>\n",
              "      <td>COCKSUCKER BEFORE YOU PISS AROUND ON MY WORK</td>\n",
              "      <td>1</td>\n",
              "      <td>1</td>\n",
              "      <td>1</td>\n",
              "      <td>0</td>\n",
              "      <td>1</td>\n",
              "      <td>0</td>\n",
              "    </tr>\n",
              "    <tr>\n",
              "      <th>7</th>\n",
              "      <td>00031b1e95af7921</td>\n",
              "      <td>Your vandalism to the Matt Shirvington article...</td>\n",
              "      <td>0</td>\n",
              "      <td>0</td>\n",
              "      <td>0</td>\n",
              "      <td>0</td>\n",
              "      <td>0</td>\n",
              "      <td>0</td>\n",
              "    </tr>\n",
              "    <tr>\n",
              "      <th>8</th>\n",
              "      <td>00037261f536c51d</td>\n",
              "      <td>Sorry if the word 'nonsense' was offensive to ...</td>\n",
              "      <td>0</td>\n",
              "      <td>0</td>\n",
              "      <td>0</td>\n",
              "      <td>0</td>\n",
              "      <td>0</td>\n",
              "      <td>0</td>\n",
              "    </tr>\n",
              "    <tr>\n",
              "      <th>9</th>\n",
              "      <td>00040093b2687caa</td>\n",
              "      <td>alignment on this subject and which are contra...</td>\n",
              "      <td>0</td>\n",
              "      <td>0</td>\n",
              "      <td>0</td>\n",
              "      <td>0</td>\n",
              "      <td>0</td>\n",
              "      <td>0</td>\n",
              "    </tr>\n",
              "    <tr>\n",
              "      <th>10</th>\n",
              "      <td>0005300084f90edc</td>\n",
              "      <td>\"\\nFair use rationale for Image:Wonju.jpg\\n\\nT...</td>\n",
              "      <td>0</td>\n",
              "      <td>0</td>\n",
              "      <td>0</td>\n",
              "      <td>0</td>\n",
              "      <td>0</td>\n",
              "      <td>0</td>\n",
              "    </tr>\n",
              "    <tr>\n",
              "      <th>11</th>\n",
              "      <td>00054a5e18b50dd4</td>\n",
              "      <td>bbq \\n\\nbe a man and lets discuss it-maybe ove...</td>\n",
              "      <td>0</td>\n",
              "      <td>0</td>\n",
              "      <td>0</td>\n",
              "      <td>0</td>\n",
              "      <td>0</td>\n",
              "      <td>0</td>\n",
              "    </tr>\n",
              "    <tr>\n",
              "      <th>12</th>\n",
              "      <td>0005c987bdfc9d4b</td>\n",
              "      <td>Hey... what is it..\\n@ | talk .\\nWhat is it......</td>\n",
              "      <td>1</td>\n",
              "      <td>0</td>\n",
              "      <td>0</td>\n",
              "      <td>0</td>\n",
              "      <td>0</td>\n",
              "      <td>0</td>\n",
              "    </tr>\n",
              "    <tr>\n",
              "      <th>13</th>\n",
              "      <td>0006f16e4e9f292e</td>\n",
              "      <td>Before you start throwing accusations and warn...</td>\n",
              "      <td>0</td>\n",
              "      <td>0</td>\n",
              "      <td>0</td>\n",
              "      <td>0</td>\n",
              "      <td>0</td>\n",
              "      <td>0</td>\n",
              "    </tr>\n",
              "    <tr>\n",
              "      <th>14</th>\n",
              "      <td>00070ef96486d6f9</td>\n",
              "      <td>Oh, and the girl above started her arguments w...</td>\n",
              "      <td>0</td>\n",
              "      <td>0</td>\n",
              "      <td>0</td>\n",
              "      <td>0</td>\n",
              "      <td>0</td>\n",
              "      <td>0</td>\n",
              "    </tr>\n",
              "    <tr>\n",
              "      <th>15</th>\n",
              "      <td>00078f8ce7eb276d</td>\n",
              "      <td>\"\\n\\nJuelz Santanas Age\\n\\nIn 2002, Juelz Sant...</td>\n",
              "      <td>0</td>\n",
              "      <td>0</td>\n",
              "      <td>0</td>\n",
              "      <td>0</td>\n",
              "      <td>0</td>\n",
              "      <td>0</td>\n",
              "    </tr>\n",
              "    <tr>\n",
              "      <th>16</th>\n",
              "      <td>0007e25b2121310b</td>\n",
              "      <td>Bye! \\n\\nDon't look, come or think of comming ...</td>\n",
              "      <td>1</td>\n",
              "      <td>0</td>\n",
              "      <td>0</td>\n",
              "      <td>0</td>\n",
              "      <td>0</td>\n",
              "      <td>0</td>\n",
              "    </tr>\n",
              "    <tr>\n",
              "      <th>17</th>\n",
              "      <td>000897889268bc93</td>\n",
              "      <td>REDIRECT Talk:Voydan Pop Georgiev- Chernodrinski</td>\n",
              "      <td>0</td>\n",
              "      <td>0</td>\n",
              "      <td>0</td>\n",
              "      <td>0</td>\n",
              "      <td>0</td>\n",
              "      <td>0</td>\n",
              "    </tr>\n",
              "    <tr>\n",
              "      <th>18</th>\n",
              "      <td>0009801bd85e5806</td>\n",
              "      <td>The Mitsurugi point made no sense - why not ar...</td>\n",
              "      <td>0</td>\n",
              "      <td>0</td>\n",
              "      <td>0</td>\n",
              "      <td>0</td>\n",
              "      <td>0</td>\n",
              "      <td>0</td>\n",
              "    </tr>\n",
              "    <tr>\n",
              "      <th>19</th>\n",
              "      <td>0009eaea3325de8c</td>\n",
              "      <td>Don't mean to bother you \\n\\nI see that you're...</td>\n",
              "      <td>0</td>\n",
              "      <td>0</td>\n",
              "      <td>0</td>\n",
              "      <td>0</td>\n",
              "      <td>0</td>\n",
              "      <td>0</td>\n",
              "    </tr>\n",
              "  </tbody>\n",
              "</table>\n",
              "</div>"
            ],
            "text/plain": [
              "                  id                                       comment_text  \\\n",
              "0   0000997932d777bf  Explanation\\nWhy the edits made under my usern...   \n",
              "1   000103f0d9cfb60f  D'aww! He matches this background colour I'm s...   \n",
              "2   000113f07ec002fd  Hey man, I'm really not trying to edit war. It...   \n",
              "3   0001b41b1c6bb37e  \"\\nMore\\nI can't make any real suggestions on ...   \n",
              "4   0001d958c54c6e35  You, sir, are my hero. Any chance you remember...   \n",
              "5   00025465d4725e87  \"\\n\\nCongratulations from me as well, use the ...   \n",
              "6   0002bcb3da6cb337       COCKSUCKER BEFORE YOU PISS AROUND ON MY WORK   \n",
              "7   00031b1e95af7921  Your vandalism to the Matt Shirvington article...   \n",
              "8   00037261f536c51d  Sorry if the word 'nonsense' was offensive to ...   \n",
              "9   00040093b2687caa  alignment on this subject and which are contra...   \n",
              "10  0005300084f90edc  \"\\nFair use rationale for Image:Wonju.jpg\\n\\nT...   \n",
              "11  00054a5e18b50dd4  bbq \\n\\nbe a man and lets discuss it-maybe ove...   \n",
              "12  0005c987bdfc9d4b  Hey... what is it..\\n@ | talk .\\nWhat is it......   \n",
              "13  0006f16e4e9f292e  Before you start throwing accusations and warn...   \n",
              "14  00070ef96486d6f9  Oh, and the girl above started her arguments w...   \n",
              "15  00078f8ce7eb276d  \"\\n\\nJuelz Santanas Age\\n\\nIn 2002, Juelz Sant...   \n",
              "16  0007e25b2121310b  Bye! \\n\\nDon't look, come or think of comming ...   \n",
              "17  000897889268bc93   REDIRECT Talk:Voydan Pop Georgiev- Chernodrinski   \n",
              "18  0009801bd85e5806  The Mitsurugi point made no sense - why not ar...   \n",
              "19  0009eaea3325de8c  Don't mean to bother you \\n\\nI see that you're...   \n",
              "\n",
              "    toxic  severe_toxic  obscene  threat  insult  identity_hate  \n",
              "0       0             0        0       0       0              0  \n",
              "1       0             0        0       0       0              0  \n",
              "2       0             0        0       0       0              0  \n",
              "3       0             0        0       0       0              0  \n",
              "4       0             0        0       0       0              0  \n",
              "5       0             0        0       0       0              0  \n",
              "6       1             1        1       0       1              0  \n",
              "7       0             0        0       0       0              0  \n",
              "8       0             0        0       0       0              0  \n",
              "9       0             0        0       0       0              0  \n",
              "10      0             0        0       0       0              0  \n",
              "11      0             0        0       0       0              0  \n",
              "12      1             0        0       0       0              0  \n",
              "13      0             0        0       0       0              0  \n",
              "14      0             0        0       0       0              0  \n",
              "15      0             0        0       0       0              0  \n",
              "16      1             0        0       0       0              0  \n",
              "17      0             0        0       0       0              0  \n",
              "18      0             0        0       0       0              0  \n",
              "19      0             0        0       0       0              0  "
            ]
          },
          "metadata": {
            "tags": []
          },
          "execution_count": 8
        }
      ]
    },
    {
      "metadata": {
        "id": "nXbtkdtpEdb_",
        "colab_type": "code",
        "colab": {}
      },
      "cell_type": "code",
      "source": [
        "X=dataset.iloc[:,1].values"
      ],
      "execution_count": 0,
      "outputs": []
    },
    {
      "metadata": {
        "id": "ifdTnacSo_hx",
        "colab_type": "code",
        "colab": {
          "base_uri": "https://localhost:8080/",
          "height": 34
        },
        "outputId": "307966bb-2a66-4e7a-a05d-baf6c491a24f"
      },
      "cell_type": "code",
      "source": [
        "X.shape"
      ],
      "execution_count": 10,
      "outputs": [
        {
          "output_type": "execute_result",
          "data": {
            "text/plain": [
              "(159571,)"
            ]
          },
          "metadata": {
            "tags": []
          },
          "execution_count": 10
        }
      ]
    },
    {
      "metadata": {
        "id": "ZwLvzMSP0Dv_",
        "colab_type": "code",
        "colab": {}
      },
      "cell_type": "code",
      "source": [
        ""
      ],
      "execution_count": 0,
      "outputs": []
    },
    {
      "metadata": {
        "id": "6pVPpHgqpDRq",
        "colab_type": "code",
        "colab": {}
      },
      "cell_type": "code",
      "source": [
        "Y=dataset.iloc[:,2:].values"
      ],
      "execution_count": 0,
      "outputs": []
    },
    {
      "metadata": {
        "id": "ten_OM1JpNm3",
        "colab_type": "code",
        "colab": {
          "base_uri": "https://localhost:8080/",
          "height": 34
        },
        "outputId": "751e069a-a68b-4177-ac62-77e6b18eabf3"
      },
      "cell_type": "code",
      "source": [
        "Y.shape"
      ],
      "execution_count": 12,
      "outputs": [
        {
          "output_type": "execute_result",
          "data": {
            "text/plain": [
              "(159571, 6)"
            ]
          },
          "metadata": {
            "tags": []
          },
          "execution_count": 12
        }
      ]
    },
    {
      "metadata": {
        "id": "0Cg1m6q4pOwZ",
        "colab_type": "code",
        "colab": {
          "base_uri": "https://localhost:8080/",
          "height": 292
        },
        "outputId": "ef613fff-96ef-42e9-d8bf-f731a1cb4166"
      },
      "cell_type": "code",
      "source": [
        "index = 10\n",
        "print(X[index])"
      ],
      "execution_count": 13,
      "outputs": [
        {
          "output_type": "stream",
          "text": [
            "\"\n",
            "Fair use rationale for Image:Wonju.jpg\n",
            "\n",
            "Thanks for uploading Image:Wonju.jpg. I notice the image page specifies that the image is being used under fair use but there is no explanation or rationale as to why its use in Wikipedia articles constitutes fair use. In addition to the boilerplate fair use template, you must also write out on the image description page a specific explanation or rationale for why using this image in each article is consistent with fair use.\n",
            "\n",
            "Please go to the image description page and edit it to include a fair use rationale.\n",
            "\n",
            "If you have uploaded other fair use media, consider checking that you have specified the fair use rationale on those pages too. You can find a list of 'image' pages you have edited by clicking on the \"\"my contributions\"\" link (it is located at the very top of any Wikipedia page when you are logged in), and then selecting \"\"Image\"\" from the dropdown box. Note that any fair use images uploaded after 4 May, 2006, and lacking such an explanation will be deleted one week after they have been uploaded, as described on criteria for speedy deletion. If you have any questions please ask them at the Media copyright questions page. Thank you. (talk • contribs • ) \n",
            "Unspecified source for Image:Wonju.jpg\n",
            "\n",
            "Thanks for uploading Image:Wonju.jpg. I noticed that the file's description page currently doesn't specify who created the content, so the copyright status is unclear. If you did not create this file yourself, then you will need to specify the owner of the copyright. If you obtained it from a website, then a link to the website from which it was taken, together with a restatement of that website's terms of use of its content, is usually sufficient information. However, if the copyright holder is different from the website's publisher, then their copyright should also be acknowledged.\n",
            "\n",
            "As well as adding the source, please add a proper copyright licensing tag if the file doesn't have one already. If you created/took the picture, audio, or video then the  tag can be used to release it under the GFDL. If you believe the media meets the criteria at Wikipedia:Fair use, use a tag such as  or one of the other tags listed at Wikipedia:Image copyright tags#Fair use. See Wikipedia:Image copyright tags for the full list of copyright tags that you can use.\n",
            "\n",
            "If you have uploaded other files, consider checking that you have specified their source and tagged them, too. You can find a list of files you have uploaded by following [ this link]. Unsourced and untagged images may be deleted one week after they have been tagged, as described on criteria for speedy deletion. If the image is copyrighted under a non-free license (per Wikipedia:Fair use) then the image will be deleted 48 hours after . If you have any questions please ask them at the Media copyright questions page. Thank you. (talk • contribs • ) \"\n"
          ],
          "name": "stdout"
        }
      ]
    },
    {
      "metadata": {
        "id": "a16FVH273ayZ",
        "colab_type": "code",
        "colab": {}
      },
      "cell_type": "code",
      "source": [
        "def predict(X, Y, W, b, word_to_vec_map):\n",
        "    \"\"\"\n",
        "    Given X (sentences) and Y (emoji indices), predict emojis and compute the accuracy of your model over the given set.\n",
        "    \n",
        "    Arguments:\n",
        "    X -- input data containing sentences, numpy array of shape (m, None)\n",
        "    Y -- labels, containing index of the label emoji, numpy array of shape (m, 1)\n",
        "    \n",
        "    Returns:\n",
        "    pred -- numpy array of shape (m, 1) with your predictions\n",
        "    \"\"\"\n",
        "    m = X.shape[0]\n",
        "    pred = np.zeros((m, 1))\n",
        "    \n",
        "    for j in range(m):                       # Loop over training examples\n",
        "        \n",
        "        # Split jth test example (sentence) into list of lower case words\n",
        "        words = X[j].lower().split()\n",
        "        \n",
        "        # Average words' vectors\n",
        "        avg = np.zeros((300,))\n",
        "        for w in words:\n",
        "          try:\n",
        "            avg += word_to_vec_map[w]\n",
        "          except:\n",
        "            avg=avg\n",
        "            continue\n",
        "        avg = avg/len(words)\n",
        "        #print(avg)\n",
        "\n",
        "        # Forward propagation\n",
        "        Z = np.dot(W, avg) + b\n",
        "        A = softmax(Z)\n",
        "        pred[j] = np.argmax(A)\n",
        "        #print(\"pred\",pred[j] )\n",
        "        \n",
        "    print(\"Accuracy: \"  + str(np.mean((pred[:] ))))\n",
        "    \n",
        "    return pred"
      ],
      "execution_count": 0,
      "outputs": []
    },
    {
      "metadata": {
        "id": "OnbAs4jXzkIG",
        "colab_type": "code",
        "colab": {}
      },
      "cell_type": "code",
      "source": [
        "from sklearn.model_selection import train_test_split\n",
        "X_train,X_test,Y_train,Y_test=train_test_split(X,Y,test_size=0.2)"
      ],
      "execution_count": 0,
      "outputs": []
    },
    {
      "metadata": {
        "id": "Oy8lg8Es2Kmn",
        "colab_type": "code",
        "colab": {}
      },
      "cell_type": "code",
      "source": [
        "def softmax(x):\n",
        "    \"\"\"Compute softmax values for each sets of scores in x.\"\"\"\n",
        "    e_x = np.exp(x - np.max(x))\n",
        "    return e_x / e_x.sum()"
      ],
      "execution_count": 0,
      "outputs": []
    },
    {
      "metadata": {
        "id": "Yb6I0SQTpvHO",
        "colab_type": "code",
        "colab": {}
      },
      "cell_type": "code",
      "source": [
        "def sentence_to_avg(sentence, word_to_vec_map):\n",
        "    \"\"\"\n",
        "    Converts a sentence (string) into a list of words (strings). Extracts the GloVe representation of each word\n",
        "    and averages its value into a single vector encoding the meaning of the sentence.\n",
        "    \n",
        "    Arguments:\n",
        "    sentence -- string, one training example from X\n",
        "    word_to_vec_map -- dictionary mapping every word in a vocabulary into its 50-dimensional vector representation\n",
        "    \n",
        "    Returns:\n",
        "    avg -- average vector encoding information about the sentence, numpy-array of shape (50,)\n",
        "    \"\"\"\n",
        "    \n",
        "    ### START CODE HERE ###\n",
        "    # Step 1: Split sentence into list of lower case words (≈ 1 line)\n",
        "    #print(sentence)\n",
        "    words = sentence.lower().split()\n",
        "\n",
        "    # Initialize the average word vector, should have the same shape as your word vectors.\n",
        "    avg = np.zeros(shape=(300,))\n",
        "    \n",
        "    # Step 2: average the word vectors. You can loop over the words in the list \"words\".\n",
        "    for w in words:\n",
        "      try:\n",
        "        \n",
        "        avg += word_to_vec_map[w]\n",
        "      except:\n",
        "        avg=avg\n",
        "        continue;\n",
        "    avg = avg/len(words)\n",
        "    \n",
        "    ### END CODE HERE ###\n",
        "    \n",
        "    return avg"
      ],
      "execution_count": 0,
      "outputs": []
    },
    {
      "metadata": {
        "id": "oyHUBeXix5Yy",
        "colab_type": "code",
        "colab": {}
      },
      "cell_type": "code",
      "source": [
        "def model(X, Y, word_to_vec_map, learning_rate = 0.01, num_iterations = 400):\n",
        "    \"\"\"\n",
        "    Model to train word vector representations in numpy.\n",
        "    \n",
        "    Arguments:\n",
        "    X -- input data, numpy array of sentences as strings, of shape (m, 1)\n",
        "    Y -- labels, numpy array of integers between 0 and 7, numpy-array of shape (m, 1)\n",
        "    word_to_vec_map -- dictionary mapping every word in a vocabulary into its 50-dimensional vector representation\n",
        "    learning_rate -- learning_rate for the stochastic gradient descent algorithm\n",
        "    num_iterations -- number of iterations\n",
        "    \n",
        "    Returns:\n",
        "    pred -- vector of predictions, numpy-array of shape (m, 1)\n",
        "    W -- weight matrix of the softmax layer, of shape (n_y, n_h)\n",
        "    b -- bias of the softmax layer, of shape (n_y,)\n",
        "    \"\"\"\n",
        "    \n",
        "    np.random.seed(1)\n",
        "\n",
        "    # Define number of training examples\n",
        "    m = Y.shape[0]                          # number of training examples\n",
        "    n_y = 6                                # number of classes  \n",
        "    n_h = 300                                # dimensions of the GloVe vectors \n",
        "    \n",
        "    # Initialize parameters using Xavier initialization\n",
        "    W = np.random.randn(n_y, n_h) / np.sqrt(n_h)\n",
        "    b = np.zeros((n_y,))\n",
        "    \n",
        "    # Convert Y to Y_onehot with n_y classes\n",
        "    Y_oh = Y \n",
        "    \n",
        "    # Optimization loop\n",
        "    for t in range(num_iterations):                       # Loop over the number of iterations\n",
        "        for i in range(m):                                # Loop over the training examples\n",
        "            \n",
        "            ### START CODE HERE ### (≈ 4 lines of code)\n",
        "            # Average the word vectors of the words from the i'th training example\n",
        "            avg = sentence_to_avg(X[i],word_to_vec_map)\n",
        "\n",
        "            # Forward propagate the avg through the softmax layer\n",
        "            z = np.add(np.dot(W,avg),b)\n",
        "            a = softmax(z)\n",
        "\n",
        "            # Compute cost using the i'th training label's one hot representation and \"A\" (the output of the softmax)\n",
        "            cost = a\n",
        "            #print(\"cost---\",cost)\n",
        "            ### END CODE HERE ###\n",
        "            \n",
        "            # Compute gradients \n",
        "            dz = a - Y_oh[i]\n",
        "            dW = np.dot(dz.reshape(n_y,1), avg.reshape(1, n_h))\n",
        "            db = dz\n",
        "\n",
        "            # Update parameters with Stochastic Gradient Descent\n",
        "            W = W - learning_rate * dW\n",
        "            b = b - learning_rate * db\n",
        "            #print(\"wwwww\",W)\n",
        "            #print(\"bbbbb\",b)\n",
        "\n",
        "        print(\"Epoch: \" + str(t) + \" --- cost = \" + str(cost))\n",
        "        pred = predict(X, Y, W, b, word_to_vec_map)\n",
        "\n",
        "        #if t % 10 == 0:\n",
        "#            print(\"Epoch: \" + str(t) + \" --- cost = \" + str(cost))\n",
        " #           pred = predict(X, Y, W, b, word_to_vec_map)\n",
        "\n",
        "    return pred, W, b"
      ],
      "execution_count": 0,
      "outputs": []
    },
    {
      "metadata": {
        "id": "PSUebWaix-Bp",
        "colab_type": "code",
        "colab": {
          "base_uri": "https://localhost:8080/",
          "height": 2142
        },
        "outputId": "33484451-111e-4e0e-b555-7860e73ab0a0"
      },
      "cell_type": "code",
      "source": [
        "X[0]\n",
        "pred, W, b = model(X_train, Y_train, word_to_vec_map)\n",
        "print(pred)"
      ],
      "execution_count": 0,
      "outputs": [
        {
          "output_type": "stream",
          "text": [
            "Epoch: 0 --- cost = [0.24391175 0.13169938 0.19390203 0.09988222 0.21363373 0.11697089]\n",
            "Accuracy: 1.3704487058970984\n",
            "Epoch: 1 --- cost = [0.26164706 0.11673671 0.20193249 0.07284187 0.24326442 0.10357745]\n",
            "Accuracy: 1.482311838064799\n",
            "Epoch: 2 --- cost = [0.27015573 0.10799972 0.2103837  0.0550597  0.26256574 0.0938354 ]\n",
            "Accuracy: 1.5332299304380523\n",
            "Epoch: 3 --- cost = [0.27554856 0.10177049 0.21755183 0.04294446 0.27657945 0.08560522]\n",
            "Accuracy: 1.5645328069185938\n",
            "Epoch: 4 --- cost = [0.27949531 0.09692133 0.22332054 0.03457964 0.28714677 0.07853642]\n",
            "Accuracy: 1.5826596478034718\n",
            "Epoch: 5 --- cost = [0.28265928 0.09296812 0.22793674 0.02865424 0.2953128  0.07246882]\n",
            "Accuracy: 1.593720624177477\n",
            "Epoch: 6 --- cost = [0.28533688 0.08965493 0.23166863 0.02432793 0.3017527  0.06725892]\n",
            "Accuracy: 1.6037005702826346\n",
            "Epoch: 7 --- cost = [0.28766443 0.08682861 0.23473343 0.02107714 0.30692253 0.06277387]\n",
            "Accuracy: 1.610547095318669\n",
            "Epoch: 8 --- cost = [0.28971266 0.08438802 0.23729307 0.01857159 0.31113769 0.05889697]\n",
            "Accuracy: 1.616383092059911\n",
            "Epoch: 9 --- cost = [0.29152537 0.08226118 0.23946542 0.01659731 0.31462129 0.05552943]\n",
            "Accuracy: 1.6205270414238266\n",
            "Epoch: 10 --- cost = [0.29313429 0.08039409 0.24133617 0.01501155 0.31753476 0.05258915]\n",
            "Accuracy: 1.6246709907877421\n",
            "Epoch: 11 --- cost = [0.29456486 0.07874477 0.24296815 0.01371649 0.31999733 0.0500084 ]\n",
            "Accuracy: 1.6272325625117503\n",
            "Epoch: 12 --- cost = [0.29583871 0.07727985 0.24440802 0.01264338 0.32209862 0.04773142]\n",
            "Accuracy: 1.6290577802845145\n",
            "Epoch: 13 --- cost = [0.29697473 0.07597228 0.24569091 0.01174277 0.32390705 0.04571226]\n",
            "Accuracy: 1.6319483612207808\n",
            "Epoch: 14 --- cost = [0.29798955 0.07479992 0.24684368 0.01097835 0.32547553 0.04391297]\n",
            "Accuracy: 1.6340869211004574\n",
            "Epoch: 15 --- cost = [0.29889786 0.07374443 0.24788715 0.01032299 0.32684549 0.04230209]\n",
            "Accuracy: 1.6347919408410103\n",
            "Epoch: 16 --- cost = [0.29971258 0.0727905  0.24883772 0.00975606 0.32804968 0.04085346]\n",
            "Accuracy: 1.6363743184809174\n",
            "Epoch: 17 --- cost = [0.3004451  0.07192528 0.24970849 0.00926163 0.32911429 0.03954521]\n",
            "Accuracy: 1.6381368678322994\n",
            "Epoch: 18 --- cost = [0.30110536 0.07113789 0.25051001 0.00882727 0.33006044 0.03835902]\n",
            "Accuracy: 1.6389437237575986\n",
            "Epoch: 19 --- cost = [0.30170208 0.07041909 0.25125096 0.00844313 0.3309053  0.03727944]\n",
            "Accuracy: 1.640400764554741\n",
            "Epoch: 20 --- cost = [0.30224286 0.06976096 0.25193851 0.00810132 0.33166296 0.03629338]\n",
            "Accuracy: 1.6417324685091184\n",
            "Epoch: 21 --- cost = [0.30273431 0.06915673 0.25257865 0.00779548 0.33234508 0.03538974]\n",
            "Accuracy: 1.6424139875916526\n",
            "Epoch: 22 --- cost = [0.30318222 0.06860053 0.25317646 0.00752042 0.33296136 0.03455901]\n",
            "Accuracy: 1.6437143573353388\n",
            "Epoch: 23 --- cost = [0.3035916  0.0680873  0.25373625 0.00727186 0.33351994 0.03379305]\n",
            "Accuracy: 1.645132230369117\n",
            "Epoch: 24 --- cost = [0.30396682 0.06761262 0.25426173 0.00704626 0.33402772 0.03308485]\n",
            "Accuracy: 1.646761609325061\n",
            "Epoch: 25 --- cost = [0.3043117  0.06717263 0.25475612 0.00684068 0.33449054 0.03242833]\n",
            "Accuracy: 1.6480149777527104\n",
            "Epoch: 26 --- cost = [0.30462956 0.06676396 0.25522221 0.00665262 0.33491342 0.03181823]\n",
            "Accuracy: 1.6492761797330324\n",
            "Epoch: 27 --- cost = [0.30492329 0.06638364 0.25566246 0.00648    0.33530066 0.03124995]\n",
            "Accuracy: 1.6503337093438617\n",
            "Epoch: 28 --- cost = [0.30519544 0.06602904 0.25607903 0.00632103 0.335656   0.03071946]\n"
          ],
          "name": "stdout"
        },
        {
          "output_type": "stream",
          "text": [
            "Accuracy: 1.6511013975057969\n",
            "Epoch: 29 --- cost = [0.30544823 0.06569785 0.25647382 0.00617418 0.33598267 0.03022325]\n",
            "Accuracy: 1.6519630882998058\n",
            "Epoch: 30 --- cost = [0.30568359 0.06538801 0.25684855 0.00603814 0.33628352 0.0297582 ]\n",
            "Accuracy: 1.652691608698377\n",
            "Epoch: 31 --- cost = [0.30590324 0.06509768 0.25720473 0.00591178 0.33656102 0.02932155]\n",
            "Accuracy: 1.6534436297549664\n",
            "Epoch: 32 --- cost = [0.30610869 0.06482522 0.25754372 0.00579413 0.33681738 0.02891088]\n",
            "Accuracy: 1.6539919784420631\n",
            "Epoch: 33 --- cost = [0.30630126 0.06456916 0.25786676 0.00568432 0.33705451 0.02852399]\n",
            "Accuracy: 1.6543758225230307\n",
            "Epoch: 34 --- cost = [0.30648214 0.06432819 0.25817495 0.0055816  0.33727415 0.02815897]\n",
            "Accuracy: 1.6552766810804036\n",
            "Epoch: 35 --- cost = [0.30665236 0.06410113 0.25846929 0.00548533 0.33747783 0.02781407]\n",
            "Accuracy: 1.6557310271354264\n",
            "Epoch: 36 --- cost = [0.30681286 0.0638869  0.25875069 0.00539492 0.3376669  0.02748773]\n",
            "Accuracy: 1.6566162185874538\n",
            "Epoch: 37 --- cost = [0.30696446 0.06368453 0.25902    0.00530986 0.3378426  0.02717856]\n",
            "Accuracy: 1.6578069185937205\n",
            "Epoch: 38 --- cost = [0.30710789 0.06349315 0.25927795 0.0052297  0.33800602 0.0268853 ]\n",
            "Accuracy: 1.6578930876731215\n",
            "Epoch: 39 --- cost = [0.30724382 0.06331196 0.25952524 0.00515403 0.33815815 0.0266068 ]\n",
            "Accuracy: 1.6583317666227988\n",
            "Epoch: 40 --- cost = [0.30737284 0.06314025 0.25976251 0.0050825  0.33829988 0.02634202]\n",
            "Accuracy: 1.6592482922855174\n",
            "Epoch: 41 --- cost = [0.30749548 0.06297735 0.25999034 0.00501478 0.33843202 0.02609004]\n",
            "Accuracy: 1.6594127968916463\n",
            "Epoch: 42 --- cost = [0.30761222 0.06282266 0.26020927 0.00495058 0.33855529 0.02584999]\n",
            "Accuracy: 1.6600551482108166\n",
            "Epoch: 43 --- cost = [0.3077235  0.06267562 0.26041979 0.00488964 0.33867036 0.02562109]\n",
            "Accuracy: 1.6605329949238579\n",
            "Epoch: 44 --- cost = [0.3078297  0.06253575 0.26062235 0.00483172 0.33877783 0.02540263]\n",
            "Accuracy: 1.6616688600614151\n",
            "Epoch: 45 --- cost = [0.30793119 0.06240258 0.26081739 0.00477662 0.33887825 0.02519397]\n",
            "Accuracy: 1.6622798771698941\n",
            "Epoch: 46 --- cost = [0.30802829 0.06227567 0.26100528 0.00472415 0.33897211 0.0249945 ]\n",
            "Accuracy: 1.6630318982264838\n",
            "Epoch: 47 --- cost = [0.30812129 0.06215466 0.2611864  0.00467411 0.33905986 0.02480368]\n",
            "Accuracy: 1.6635567462555618\n",
            "Epoch: 48 --- cost = [0.30821046 0.06203916 0.26136108 0.00462637 0.33914193 0.024621  ]\n",
            "Accuracy: 1.6641442627060223\n",
            "Epoch: 49 --- cost = [0.30829605 0.06192887 0.26152963 0.00458076 0.33921869 0.024446  ]\n",
            "Accuracy: 1.6641520962586953\n",
            "Epoch: 50 --- cost = [0.30837827 0.06182346 0.26169236 0.00453716 0.3392905  0.02427824]\n",
            "Accuracy: 1.6644341041549164\n",
            "Epoch: 51 --- cost = [0.30845735 0.06172267 0.26184952 0.00449545 0.33935767 0.02411734]\n",
            "Accuracy: 1.6645046061289717\n",
            "Epoch: 52 --- cost = [0.30853346 0.06162622 0.26200139 0.00445552 0.33942049 0.02396292]\n",
            "Accuracy: 1.6653271291596166\n",
            "Epoch: 53 --- cost = [0.30860679 0.06153389 0.26214819 0.00441725 0.33947924 0.02381465]\n",
            "Accuracy: 1.6654446324497085\n",
            "Epoch: 54 --- cost = [0.30867749 0.06144543 0.26229015 0.00438056 0.33953416 0.02367221]\n",
            "Accuracy: 1.665757974556621\n",
            "Epoch: 55 --- cost = [0.3087457  0.06136066 0.26242748 0.00434536 0.33958548 0.02353531]\n",
            "Accuracy: 1.6664708278498466\n",
            "Epoch: 56 --- cost = [0.30881158 0.06127937 0.26256038 0.00431157 0.33963342 0.02340368]\n",
            "Accuracy: 1.666980008773579\n"
          ],
          "name": "stdout"
        },
        {
          "output_type": "stream",
          "text": [
            "Epoch: 57 --- cost = [0.30887524 0.06120139 0.26268903 0.00427912 0.33967817 0.02327705]\n",
            "Accuracy: 1.667880867330952\n",
            "Epoch: 58 --- cost = [0.30893681 0.06112654 0.26281362 0.00424793 0.3397199  0.0231552 ]\n",
            "Accuracy: 1.6683743811493388\n",
            "Epoch: 59 --- cost = [0.30899638 0.06105468 0.26293429 0.00421793 0.3397588  0.02303791]\n",
            "Accuracy: 1.668813060099016\n",
            "Epoch: 60 --- cost = [0.30905408 0.06098566 0.26305122 0.00418908 0.339795   0.02292496]\n",
            "Accuracy: 1.6699880929999373\n",
            "Epoch: 61 --- cost = [0.30910998 0.06091934 0.26316454 0.00416132 0.33982867 0.02281616]\n",
            "Accuracy: 1.6701055962900295\n",
            "Epoch: 62 --- cost = [0.30916418 0.06085559 0.26327439 0.00413458 0.33985992 0.02271134]\n"
          ],
          "name": "stdout"
        }
      ]
    },
    {
      "metadata": {
        "id": "QNG-Lemvp4bZ",
        "colab_type": "code",
        "colab": {
          "base_uri": "https://localhost:8080/",
          "height": 34
        },
        "outputId": "b3b1258f-b7bf-4275-bcd7-88e6c05fa7e3"
      },
      "cell_type": "code",
      "source": [
        "Y_train.shape"
      ],
      "execution_count": 37,
      "outputs": [
        {
          "output_type": "execute_result",
          "data": {
            "text/plain": [
              "(127656, 6)"
            ]
          },
          "metadata": {
            "tags": []
          },
          "execution_count": 37
        }
      ]
    },
    {
      "metadata": {
        "id": "UDU8GAY83fX_",
        "colab_type": "code",
        "colab": {}
      },
      "cell_type": "code",
      "source": [
        ""
      ],
      "execution_count": 0,
      "outputs": []
    }
  ]
}