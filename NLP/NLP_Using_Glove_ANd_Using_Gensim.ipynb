{
  "nbformat": 4,
  "nbformat_minor": 0,
  "metadata": {
    "colab": {
      "name": "NLP Using Glove ANd Using Gensim.ipynb",
      "version": "0.3.2",
      "provenance": [],
      "include_colab_link": true
    },
    "kernelspec": {
      "name": "python3",
      "display_name": "Python 3"
    }
  },
  "cells": [
    {
      "cell_type": "markdown",
      "metadata": {
        "id": "view-in-github",
        "colab_type": "text"
      },
      "source": [
        "[View in Colaboratory](https://colab.research.google.com/github/adityasingh1993/100DayMLChallenge/blob/master/NLP_Using_Glove_ANd_Using_Gensim.ipynb)"
      ]
    },
    {
      "metadata": {
        "id": "-8ZqWjeEvsjj",
        "colab_type": "code",
        "colab": {
          "base_uri": "https://localhost:8080/",
          "height": 272
        },
        "outputId": "b56e96cc-6ca1-4fa3-893d-9e5f532bae6f"
      },
      "cell_type": "code",
      "source": [
        "!wget http://nlp.stanford.edu/data/glove.42B.300d.zip"
      ],
      "execution_count": 1,
      "outputs": [
        {
          "output_type": "stream",
          "text": [
            "--2018-10-23 16:49:36--  http://nlp.stanford.edu/data/glove.42B.300d.zip\n",
            "Resolving nlp.stanford.edu (nlp.stanford.edu)... 171.64.67.140\n",
            "Connecting to nlp.stanford.edu (nlp.stanford.edu)|171.64.67.140|:80... connected.\n",
            "HTTP request sent, awaiting response... 302 Found\n",
            "Location: https://nlp.stanford.edu/data/glove.42B.300d.zip [following]\n",
            "--2018-10-23 16:49:36--  https://nlp.stanford.edu/data/glove.42B.300d.zip\n",
            "Connecting to nlp.stanford.edu (nlp.stanford.edu)|171.64.67.140|:443... connected.\n",
            "HTTP request sent, awaiting response... 200 OK\n",
            "Length: 1877800501 (1.7G) [application/zip]\n",
            "Saving to: ‘glove.42B.300d.zip’\n",
            "\n",
            "glove.42B.300d.zip  100%[===================>]   1.75G  5.18MB/s    in 6m 21s  \n",
            "\n",
            "2018-10-23 16:55:57 (4.70 MB/s) - ‘glove.42B.300d.zip’ saved [1877800501/1877800501]\n",
            "\n"
          ],
          "name": "stdout"
        }
      ]
    },
    {
      "metadata": {
        "id": "2m3puVfVMrcU",
        "colab_type": "code",
        "colab": {
          "base_uri": "https://localhost:8080/",
          "height": 224
        },
        "outputId": "78e4abb0-0581-4dad-d38f-9ac9f0f8c0b9"
      },
      "cell_type": "code",
      "source": [
        "!wget --header=\"Host: doc-04-44-docs.googleusercontent.com\" --header=\"User-Agent: Mozilla/5.0 (Windows NT 10.0; Win64; x64) AppleWebKit/537.36 (KHTML, like Gecko) Chrome/70.0.3538.67 Safari/537.36\" --header=\"Accept: text/html,application/xhtml+xml,application/xml;q=0.9,image/webp,image/apng,*/*;q=0.8\" --header=\"Accept-Language: en-IN,en;q=0.9,en-GB;q=0.8,en-US;q=0.7,hi;q=0.6\" --header=\"Cookie: AUTH_0j7suk3os3tnd7k04ea7fsa2dhkbugkl=04740577021374635305|1540317600000|ojt5feqpsrov69lv4jplid8ht3ef7guu\" --header=\"Connection: keep-alive\" \"https://doc-04-44-docs.googleusercontent.com/docs/securesc/qtio6u8ahbsm8quci9kj78ltoa07klo4/3u5k1p03feepver4e5kninovccrboore/1540317600000/06848720943842814915/04740577021374635305/0B7XkCwpI5KDYNlNUTTlSS21pQmM?e=download\" -O \"GoogleNews-vectors-negative300.bin.gz\" -c"
      ],
      "execution_count": 71,
      "outputs": [
        {
          "output_type": "stream",
          "text": [
            "--2018-10-23 18:36:27--  https://doc-04-44-docs.googleusercontent.com/docs/securesc/qtio6u8ahbsm8quci9kj78ltoa07klo4/3u5k1p03feepver4e5kninovccrboore/1540317600000/06848720943842814915/04740577021374635305/0B7XkCwpI5KDYNlNUTTlSS21pQmM?e=download\n",
            "Resolving doc-04-44-docs.googleusercontent.com (doc-04-44-docs.googleusercontent.com)... 74.125.195.132, 2607:f8b0:400e:c09::84\n",
            "Connecting to doc-04-44-docs.googleusercontent.com (doc-04-44-docs.googleusercontent.com)|74.125.195.132|:443... connected.\n",
            "HTTP request sent, awaiting response... 200 OK\n",
            "Length: unspecified [application/x-gzip]\n",
            "Saving to: ‘GoogleNews-vectors-negative300.bin.gz’\n",
            "\n",
            "GoogleNews-vectors-     [          <=>       ]   1.53G  29.0MB/s    in 17s     \n",
            "\n",
            "2018-10-23 18:36:45 (90.9 MB/s) - ‘GoogleNews-vectors-negative300.bin.gz’ saved [1647046227]\n",
            "\n"
          ],
          "name": "stdout"
        }
      ]
    },
    {
      "metadata": {
        "id": "aI7wQW_wOQ8t",
        "colab_type": "code",
        "colab": {}
      },
      "cell_type": "code",
      "source": [
        "!gunzip GoogleNews-vectors-negative300.bin.gz"
      ],
      "execution_count": 0,
      "outputs": []
    },
    {
      "metadata": {
        "id": "rniz-j8RB9um",
        "colab_type": "code",
        "colab": {
          "base_uri": "https://localhost:8080/",
          "height": 51
        },
        "outputId": "4610f3c3-c993-4b90-86bc-7205d8b8fe8c"
      },
      "cell_type": "code",
      "source": [
        "!unzip glove.42B.300d.zip"
      ],
      "execution_count": 18,
      "outputs": [
        {
          "output_type": "stream",
          "text": [
            "Archive:  glove.42B.300d.zip\n",
            "  inflating: glove.42B.300d.txt      \n"
          ],
          "name": "stdout"
        }
      ]
    },
    {
      "metadata": {
        "id": "K_w683aXCB8Y",
        "colab_type": "code",
        "colab": {}
      },
      "cell_type": "code",
      "source": [
        ""
      ],
      "execution_count": 0,
      "outputs": []
    },
    {
      "metadata": {
        "id": "ReRPerLJ1JZU",
        "colab_type": "code",
        "colab": {}
      },
      "cell_type": "code",
      "source": [
        "from __future__ import print_function, division\n",
        "from future.utils import iteritems\n",
        "from builtins import range\n",
        "import numpy as np\n",
        "from sklearn.metrics.pairwise import pairwise_distances"
      ],
      "execution_count": 0,
      "outputs": []
    },
    {
      "metadata": {
        "id": "PEpbUUdg66Og",
        "colab_type": "code",
        "colab": {}
      },
      "cell_type": "code",
      "source": [
        "def distance1(a,b):\n",
        "  return np.linalg.norm(a-b)\n",
        "\n",
        "def distance2(a,b):\n",
        "  return 1-(np.dot(a,b)/(np.linalg.norm(a)*(np.linalg.norm(b))))"
      ],
      "execution_count": 0,
      "outputs": []
    },
    {
      "metadata": {
        "id": "SUnsIjeO_Acr",
        "colab_type": "code",
        "colab": {}
      },
      "cell_type": "code",
      "source": [
        "dist,metrics=distance2,'cosine'"
      ],
      "execution_count": 0,
      "outputs": []
    },
    {
      "metadata": {
        "id": "Db0Mkzpi7qku",
        "colab_type": "code",
        "colab": {}
      },
      "cell_type": "code",
      "source": [
        "def find_analogies(w1,w2,w3):\n",
        "  for w in (w1,w2,w3):\n",
        "    if w not in word2vec:\n",
        "      print(\"{} not in word2vec\".format(w))\n",
        "      return\n",
        "    \n",
        "  king=word2vec[w1]\n",
        "  man=word2vec[w2]\n",
        "  women=word2vec[w3]\n",
        "  Vo=king-man+women\n",
        "\n",
        "  min_dist=float('inf')\n",
        "  best_word=''\n",
        "  for word,v1 in iteritems(word2vec):\n",
        "    if word not in(w1,w2,w3):\n",
        "      d=dist(Vo,v1)\n",
        "      if d<min_dist:\n",
        "        min_dist=d\n",
        "        best_word=word\n",
        "        \n",
        "  print(\"{} + {} - {} is {} and distance is {}\",(w1,w2,w3,best_word,min_dist))\n",
        "  \n",
        "      \n",
        "  "
      ],
      "execution_count": 0,
      "outputs": []
    },
    {
      "metadata": {
        "id": "lOX9Hve5AGIU",
        "colab_type": "text"
      },
      "cell_type": "markdown",
      "source": [
        "PairWise_DIstance\n",
        "\n",
        "A=N1xD\n",
        "B=N2xD\n",
        "result.shape=N1xN2\n",
        "result[i,j]=dist(A[i],B[j])"
      ]
    },
    {
      "metadata": {
        "id": "8qAD21A5-oj3",
        "colab_type": "code",
        "colab": {}
      },
      "cell_type": "code",
      "source": [
        "def find_analogies1(w1,w2,w3):\n",
        "  for w in (w1,w2,w3):\n",
        "    if w not in word2vec:\n",
        "      print(\"{} not in word2vec\".format(w))\n",
        "      return\n",
        "    \n",
        "  king=word2vec[w1]\n",
        "  man=word2vec[w2]\n",
        "  women=word2vec[w3]\n",
        "  Vo=king-man+women\n",
        "  #print(Vo)\n",
        "  distances=pairwise_distances(Vo.reshape(1,D),embedding,metric=metrics).reshape(V)\n",
        "  idx=distances.argmin()\n",
        "  print(idx)\n",
        "  best_word=idx2word[idx]\n",
        "  print(\"{} + {} - {} is {} and distance is {}\",(w1,w2,w3,best_word,idx))"
      ],
      "execution_count": 0,
      "outputs": []
    },
    {
      "metadata": {
        "id": "S6xkX5dR_272",
        "colab_type": "code",
        "colab": {}
      },
      "cell_type": "code",
      "source": [
        "def nearest_neighbour(w,n=10):\n",
        "  if w not in word2vec:\n",
        "    print(\"{} not present in word2vec\".format(w))\n",
        "    return\n",
        "  Vo=word2vec[w]\n",
        "  distances=pairwise_distances(Vo.reshape(1,D),embedding,metric=metrics).reshape(V)\n",
        "  idx=distances.argsort()[1:n+1]\n",
        "  for i in idx:\n",
        "    print(\"{} nearest neighbour is {}\".format(w,idx2word[i]))\n",
        "  "
      ],
      "execution_count": 0,
      "outputs": []
    },
    {
      "metadata": {
        "id": "sFmEDzAlBCdI",
        "colab_type": "code",
        "colab": {
          "base_uri": "https://localhost:8080/",
          "height": 51
        },
        "outputId": "ddbef930-156e-4d37-c7a3-1d47211f9c7d"
      },
      "cell_type": "code",
      "source": [
        "print(\"Loading Word Vector\")\n",
        "word2vec={}\n",
        "idx2word=[]\n",
        "embedding=[]\n",
        "\n",
        "with open('glove.42B.300d.txt') as f:\n",
        "  for line in f:\n",
        "    values=line.split()\n",
        "    word=values[0]\n",
        "    vec=np.asarray(values[1:],dtype='float32')\n",
        "    word2vec[word]=vec\n",
        "    embedding.append(vec)\n",
        "    idx2word.append(word)\n",
        "    \n",
        "  print(\"found {} number of words\".format(len(word2vec)))\n",
        "  embedding=np.asarray(embedding)\n",
        "  V,D=embedding.shape"
      ],
      "execution_count": 55,
      "outputs": [
        {
          "output_type": "stream",
          "text": [
            "Loading Word Vector\n",
            "found 1917494 number of words\n"
          ],
          "name": "stdout"
        }
      ]
    },
    {
      "metadata": {
        "id": "5wGKnhf7C9AE",
        "colab_type": "code",
        "colab": {
          "base_uri": "https://localhost:8080/",
          "height": 34
        },
        "outputId": "3d6dc708-2250-4350-f44f-a1084f803ca7"
      },
      "cell_type": "code",
      "source": [
        "find_analogies(\"us\",\"india\",\"delhi\")"
      ],
      "execution_count": 67,
      "outputs": [
        {
          "output_type": "stream",
          "text": [
            "{} + {} - {} is {} and distance is {} ('us', 'india', 'delhi', 'me', 0.404060423374176)\n"
          ],
          "name": "stdout"
        }
      ]
    },
    {
      "metadata": {
        "id": "jklJnu6KD5ud",
        "colab_type": "code",
        "colab": {
          "base_uri": "https://localhost:8080/",
          "height": 187
        },
        "outputId": "e70037eb-08f2-4035-b8f1-bb03e666a9a8"
      },
      "cell_type": "code",
      "source": [
        "nearest_neighbour(\"india\")"
      ],
      "execution_count": 68,
      "outputs": [
        {
          "output_type": "stream",
          "text": [
            "india nearest neighbour is delhi\n",
            "india nearest neighbour is pakistan\n",
            "india nearest neighbour is indian\n",
            "india nearest neighbour is mumbai\n",
            "india nearest neighbour is bangalore\n",
            "india nearest neighbour is chennai\n",
            "india nearest neighbour is lanka\n",
            "india nearest neighbour is asia\n",
            "india nearest neighbour is bangladesh\n",
            "india nearest neighbour is hyderabad\n"
          ],
          "name": "stdout"
        }
      ]
    },
    {
      "metadata": {
        "id": "cJqAh_WoHyzN",
        "colab_type": "code",
        "colab": {
          "base_uri": "https://localhost:8080/",
          "height": 714
        },
        "outputId": "601b797e-435a-4536-c236-33e81bb4bada"
      },
      "cell_type": "code",
      "source": [
        "!pip install gensim"
      ],
      "execution_count": 73,
      "outputs": [
        {
          "output_type": "stream",
          "text": [
            "Collecting gensim\n",
            "\u001b[?25l  Downloading https://files.pythonhosted.org/packages/27/a4/d10c0acc8528d838cda5eede0ee9c784caa598dbf40bd0911ff8d067a7eb/gensim-3.6.0-cp36-cp36m-manylinux1_x86_64.whl (23.6MB)\n",
            "\u001b[K    100% |████████████████████████████████| 23.6MB 1.7MB/s \n",
            "\u001b[?25hRequirement already satisfied: scipy>=0.18.1 in /usr/local/lib/python3.6/dist-packages (from gensim) (0.19.1)\n",
            "Requirement already satisfied: six>=1.5.0 in /usr/local/lib/python3.6/dist-packages (from gensim) (1.11.0)\n",
            "Collecting smart-open>=1.2.1 (from gensim)\n",
            "  Downloading https://files.pythonhosted.org/packages/4b/1f/6f27e3682124de63ac97a0a5876da6186de6c19410feab66c1543afab055/smart_open-1.7.1.tar.gz\n",
            "Requirement already satisfied: numpy>=1.11.3 in /usr/local/lib/python3.6/dist-packages (from gensim) (1.14.6)\n",
            "Collecting boto>=2.32 (from smart-open>=1.2.1->gensim)\n",
            "\u001b[?25l  Downloading https://files.pythonhosted.org/packages/23/10/c0b78c27298029e4454a472a1919bde20cb182dab1662cec7f2ca1dcc523/boto-2.49.0-py2.py3-none-any.whl (1.4MB)\n",
            "\u001b[K    100% |████████████████████████████████| 1.4MB 12.6MB/s \n",
            "\u001b[?25hCollecting bz2file (from smart-open>=1.2.1->gensim)\n",
            "  Downloading https://files.pythonhosted.org/packages/61/39/122222b5e85cd41c391b68a99ee296584b2a2d1d233e7ee32b4532384f2d/bz2file-0.98.tar.gz\n",
            "Requirement already satisfied: requests in /usr/local/lib/python3.6/dist-packages (from smart-open>=1.2.1->gensim) (2.18.4)\n",
            "Collecting boto3 (from smart-open>=1.2.1->gensim)\n",
            "\u001b[?25l  Downloading https://files.pythonhosted.org/packages/f6/57/44f6327643c32b47560e33e693dac146e0442c0dbf343573c6c9b600c4d8/boto3-1.9.29-py2.py3-none-any.whl (128kB)\n",
            "\u001b[K    100% |████████████████████████████████| 133kB 27.9MB/s \n",
            "\u001b[?25hRequirement already satisfied: chardet<3.1.0,>=3.0.2 in /usr/local/lib/python3.6/dist-packages (from requests->smart-open>=1.2.1->gensim) (3.0.4)\n",
            "Requirement already satisfied: idna<2.7,>=2.5 in /usr/local/lib/python3.6/dist-packages (from requests->smart-open>=1.2.1->gensim) (2.6)\n",
            "Requirement already satisfied: urllib3<1.23,>=1.21.1 in /usr/local/lib/python3.6/dist-packages (from requests->smart-open>=1.2.1->gensim) (1.22)\n",
            "Requirement already satisfied: certifi>=2017.4.17 in /usr/local/lib/python3.6/dist-packages (from requests->smart-open>=1.2.1->gensim) (2018.10.15)\n",
            "Collecting jmespath<1.0.0,>=0.7.1 (from boto3->smart-open>=1.2.1->gensim)\n",
            "  Downloading https://files.pythonhosted.org/packages/b7/31/05c8d001f7f87f0f07289a5fc0fc3832e9a57f2dbd4d3b0fee70e0d51365/jmespath-0.9.3-py2.py3-none-any.whl\n",
            "Collecting botocore<1.13.0,>=1.12.29 (from boto3->smart-open>=1.2.1->gensim)\n",
            "\u001b[?25l  Downloading https://files.pythonhosted.org/packages/80/46/acc73473250b70bc5f9c2268865a7f6e84b08f8824726eb7badd8665ca91/botocore-1.12.29-py2.py3-none-any.whl (4.7MB)\n",
            "\u001b[K    100% |████████████████████████████████| 4.7MB 6.2MB/s \n",
            "\u001b[?25hCollecting s3transfer<0.2.0,>=0.1.10 (from boto3->smart-open>=1.2.1->gensim)\n",
            "\u001b[?25l  Downloading https://files.pythonhosted.org/packages/d7/14/2a0004d487464d120c9fb85313a75cd3d71a7506955be458eebfe19a6b1d/s3transfer-0.1.13-py2.py3-none-any.whl (59kB)\n",
            "\u001b[K    100% |████████████████████████████████| 61kB 21.5MB/s \n",
            "\u001b[?25hCollecting docutils>=0.10 (from botocore<1.13.0,>=1.12.29->boto3->smart-open>=1.2.1->gensim)\n",
            "\u001b[?25l  Downloading https://files.pythonhosted.org/packages/36/fa/08e9e6e0e3cbd1d362c3bbee8d01d0aedb2155c4ac112b19ef3cae8eed8d/docutils-0.14-py3-none-any.whl (543kB)\n",
            "\u001b[K    100% |████████████████████████████████| 552kB 20.8MB/s \n",
            "\u001b[?25hRequirement already satisfied: python-dateutil<3.0.0,>=2.1; python_version >= \"2.7\" in /usr/local/lib/python3.6/dist-packages (from botocore<1.13.0,>=1.12.29->boto3->smart-open>=1.2.1->gensim) (2.5.3)\n",
            "Building wheels for collected packages: smart-open, bz2file\n",
            "  Running setup.py bdist_wheel for smart-open ... \u001b[?25l-\b \bdone\n",
            "\u001b[?25h  Stored in directory: /root/.cache/pip/wheels/23/00/44/e5b939f7a80c04e32297dbd6d96fa3065af89ecf57e2b5f89f\n",
            "  Running setup.py bdist_wheel for bz2file ... \u001b[?25l-\b \bdone\n",
            "\u001b[?25h  Stored in directory: /root/.cache/pip/wheels/81/75/d6/e1317bf09bf1af5a30befc2a007869fa6e1f516b8f7c591cb9\n",
            "Successfully built smart-open bz2file\n",
            "Installing collected packages: boto, bz2file, jmespath, docutils, botocore, s3transfer, boto3, smart-open, gensim\n",
            "Successfully installed boto-2.49.0 boto3-1.9.29 botocore-1.12.29 bz2file-0.98 docutils-0.14 gensim-3.6.0 jmespath-0.9.3 s3transfer-0.1.13 smart-open-1.7.1\n"
          ],
          "name": "stdout"
        }
      ]
    },
    {
      "metadata": {
        "id": "1hkY20dgN2tV",
        "colab_type": "text"
      },
      "cell_type": "markdown",
      "source": [
        "Using Word2Vec"
      ]
    },
    {
      "metadata": {
        "id": "RUIj59V0N-Rq",
        "colab_type": "code",
        "colab": {}
      },
      "cell_type": "code",
      "source": [
        "from gensim.models import KeyedVectors"
      ],
      "execution_count": 0,
      "outputs": []
    },
    {
      "metadata": {
        "id": "eGPpxxlnOE42",
        "colab_type": "code",
        "colab": {}
      },
      "cell_type": "code",
      "source": [
        "word_vectors=KeyedVectors.load_word2vec_format('GoogleNews-vectors-negative300.bin',binary=True)"
      ],
      "execution_count": 0,
      "outputs": []
    },
    {
      "metadata": {
        "id": "V1ROtjlmPF4M",
        "colab_type": "code",
        "colab": {}
      },
      "cell_type": "code",
      "source": [
        "def find_Analogies_gensim(w1,w2,w3):\n",
        "  r=word_vectors(positive[w1,w2],negative=[w3])\n",
        "  return r[0][0]"
      ],
      "execution_count": 0,
      "outputs": []
    },
    {
      "metadata": {
        "id": "SW0-1TiZPahl",
        "colab_type": "code",
        "colab": {}
      },
      "cell_type": "code",
      "source": [
        "def nearest_negbours_gensim(w):\n",
        "  return word_vectors.most_similar(positive=[w])"
      ],
      "execution_count": 0,
      "outputs": []
    },
    {
      "metadata": {
        "id": "8Sk_KHDHPwAm",
        "colab_type": "code",
        "colab": {}
      },
      "cell_type": "code",
      "source": [
        "nearest_negbours_gensim(\"king\")"
      ],
      "execution_count": 0,
      "outputs": []
    },
    {
      "metadata": {
        "id": "MvEWQECpPzER",
        "colab_type": "code",
        "colab": {}
      },
      "cell_type": "code",
      "source": [
        ""
      ],
      "execution_count": 0,
      "outputs": []
    }
  ]
}